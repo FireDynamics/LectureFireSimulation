{
 "cells": [
  {
   "cell_type": "code",
   "execution_count": 1,
   "id": "62f659bf-dc26-435e-8742-2e4f88a490a3",
   "metadata": {
    "tags": [
     "hide_cell"
    ]
   },
   "outputs": [],
   "source": [
    "import matplotlib\n",
    "import matplotlib.pyplot as plt\n",
    "import numpy as np\n",
    "\n",
    "from IPython.display import display\n",
    "from PIL import Image\n",
    "\n",
    "import os\n",
    "# check for set environment variable JB_NOSHOW\n",
    "show = True\n",
    "if 'JB_NOSHOW' in os.environ:\n",
    "    show = False"
   ]
  },
  {
   "cell_type": "markdown",
   "id": "ee677808",
   "metadata": {},
   "source": [
    "# Basic FDS Example I\n",
    "\n",
    "As a basic example we create a FDS simulation setup with a simple gas burner. The gas burner shall have an edge length of $\\mf 0.4~m$ and should be raised $\\mf 0.2~m$ above the ground. It shall provide $\\mf 63~kW$ in a steady-state. The computational domain shall be $\\mf 2.0~m$ tall and have an extent of $\\mf 2.0~m$ in the x and y axis respectively. The fluid cells shall be cube-shaped with an edge length of $\\mf 0.2~m$. The overall simulation time should be $\\mf 60~s$.\n",
    "\n",
    "For details on the pool fires and gas burners look at section Pool Fires.\n"
   ]
  },
  {
   "cell_type": "markdown",
   "id": "66621857-997e-47c8-8589-f915d8c0d6f7",
   "metadata": {},
   "source": [
    "First you should create a new folder. In this directory the input file is to be saved later. All the generated output files will also be located here. It is useful to create individual directories for each simulation to not accidentially overwrite or mix up files. Create an empty plain text file. You could use any text editor (not a word processor) to create your text file. Although the file extenison does not matter, a common practice is to use the `.fds` extension.\n",
    "\n",
    "The syntax of FDS input files is given by FORTRAN name lists. These name lists start with an ampersand character and are followed by four capital letters. They end with a slash `/` character. Between these two, parameters of the respective name list can be provided, for example: \n",
    "\n",
    "`&NAME P1=value P2=value /`\n",
    "\n",
    "The first entry in an FDS input file is `&HEAD /` and it ends with `&TAIL /`. In between head and tail of the file the definition of the simulation setup is provided by the user. \n"
   ]
  },
  {
   "cell_type": "markdown",
   "id": "b0e62d6d-b708-40aa-bcbd-5c5fa09b1e89",
   "metadata": {},
   "source": [
    "## Meta Data of Simulation Setup (HEAD, TAIL)\n",
    "\n",
    "Now you will start defining the simulation setup. Two parameters that can be provided to `HEAD` name list are the character ID (`CHID`) and a title (`TITLE`). Both values are strings. The character ID is used to label all the files that are created during the simulation. It can be different from the file name of the FDS input file. The title is a human-readable short description of the setup. The file is closed out with `TAIL`. \n",
    "\n",
    "```{tip} \n",
    "* `CHID`: is the character ID. This is the string used to tag the output files. \n",
    "* `TITLE`: is a descriptive text of your simulation.\n",
    "```\n",
    "\n",
    "Following the above, your input file should now contain the following lines:\n",
    "\n",
    "\n",
    "```\n",
    "&HEAD CHID  = 'Job_1', \n",
    "      TITLE = 'Our first FDS simulation' /\n",
    "\n",
    "&TAIL /\n",
    "```"
   ]
  },
  {
   "cell_type": "markdown",
   "id": "c85937c8-467b-44ef-a839-ddaccd08ecca",
   "metadata": {},
   "source": [
    "## Bounds of Time and Space (MESH, TIME)\n",
    "\n",
    "### Time (TIME)\n",
    "\n",
    "The simulation time is specified in seconds, using the `TIME` name list. The parameter `T_END` determines when the simulation ought to stop. Obviously, this is the time *inside* the simulation and not the time the computer takes to conduct the simulation, which would be referred to as \"wall clock time\". The start time (`T_BEGIN`) could be adjusted as well, but this is seldom necessary, it is $\\mf 0~s$ by default. The input line should now look like this:\n",
    "\n",
    "`&TIME T_END = 60. /`\n",
    "\n",
    "Aditionally, the rate at which data is saved can be controlled, from the `DUMP` name list. The parameter `NFRAMES` is used to divide the simulation time, i.e. `T_END` - `T_BEGIN`, into n frames. This is a global control, but different recording functions (`DEVC`, `SLCF`, etc.) can be controlled individually. Please refer to the users guide for detailed information how this can be achieved. To safe a single frame per second we use:\n",
    "\n",
    "`&DUMP NFRAMES=60 /`\n",
    "\n",
    "```{tip} \n",
    "The grid and geometry can be checked in the following way:\n",
    "* Add `&TIME T_END = 0/` to your script, this will only build the geometry without actually running a simulation\n",
    "* Save the FDS input file\n",
    "* Run the fds input file\n",
    "* Open the smokeview output file and check the geometry\n",
    "* To display the grid, press `g`\n",
    "```\n",
    "\n",
    "\n",
    "### Space (MESH)\n",
    "To conduct a simulation we need to  define a computational domain and a time frame. \n",
    "\n",
    "The domain is a cuboid shape that is divided in smaller volumes (cells), using the `MESH` name list. It can be given a label (`ID`) to organise larger files with many `MESH`es. The domain volume is defined by providing coordinates of two points of opposing corners, see {numref}`fig-fdstutorial-coordinates`. They define the bounding box (`XB`) of the volume. Their values are to be provided in meters. \n",
    "\n",
    ":::{figure-md} fig-fdstutorial-coordinates\n",
    "<img src=\"./figs/coordinates.png\" width=\"60%\">\n",
    "\n",
    "XB coordinate definition in fds.\n",
    ":::\n",
    "\n",
    "The coordinates of the points are provided as a list of six values. At first the two x-coordinates, followed by the two y- and then the two z-coordinates, like this: `XB = x1,x2, y1,y2, z1,z2,`. In our example case the domain is supposed to be a cube with an edge length of $\\mf 2.0~m$. Let's position it around the origin point in the x- and y-directions and start the z-axis at 0. This will lead to: `XB = -1.00,1.00, -1.00,1.00, 0.00,2.00,`.\n",
    "\n",
    "The size of the fluid cells is indirectly defined, by dividing the domain along each axis. Thus, we need to provide integer values for each axis as the divisor. The parameter is `IJK`, where the \"I\" denotes the dividion along the x-axis, respectively \"J\" and \"K\" denote the y- and z-axis. Thus, getting to fluid cells of an edge length of $\\mf 0.2~m$, each domain edge needs to be divided by 10.\n",
    "\n",
    "Combining all the above, the `MESH` definition should look like this:\n",
    "\n",
    "```\n",
    "&MESH ID  = 'Domain',\n",
    "      IJK = 10,10,10,\n",
    "      XB  = -1.00,1.00,-1.00,1.00,0.00,2.00 /\n",
    "```"
   ]
  },
  {
   "cell_type": "code",
   "execution_count": null,
   "id": "35e6634c-97b8-4ab6-a901-45d999b85d77",
   "metadata": {},
   "outputs": [],
   "source": []
  },
  {
   "cell_type": "code",
   "execution_count": null,
   "id": "a49423f8-eb81-4944-b8ec-7dd62e6dc5e4",
   "metadata": {},
   "outputs": [],
   "source": []
  },
  {
   "cell_type": "markdown",
   "id": "68274121-c3fb-4f6a-9f7c-1a0000a4deb0",
   "metadata": {},
   "source": [
    "## Questions\n",
    "\n",
    "How do you adjust the domain that the cells are cubes with an edge length of $\\mf 0.1~m$?"
   ]
  },
  {
   "cell_type": "code",
   "execution_count": null,
   "id": "c2332377-446f-4473-8ea9-cbed12516514",
   "metadata": {},
   "outputs": [],
   "source": []
  }
 ],
 "metadata": {
  "kernelspec": {
   "display_name": "Python 3 (ipykernel)",
   "language": "python",
   "name": "python3"
  },
  "language_info": {
   "codemirror_mode": {
    "name": "ipython",
    "version": 3
   },
   "file_extension": ".py",
   "mimetype": "text/x-python",
   "name": "python",
   "nbconvert_exporter": "python",
   "pygments_lexer": "ipython3",
   "version": "3.10.4"
  }
 },
 "nbformat": 4,
 "nbformat_minor": 5
}
