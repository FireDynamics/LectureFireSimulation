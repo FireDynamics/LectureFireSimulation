{
 "cells": [
  {
   "cell_type": "code",
   "execution_count": 1,
   "id": "a60351ca-645f-45d3-8784-1d3cbe6e8503",
   "metadata": {
    "tags": [
     "hide_cell"
    ]
   },
   "outputs": [],
   "source": [
    "import matplotlib\n",
    "import matplotlib.pyplot as plt\n",
    "import numpy as np\n",
    "\n",
    "from IPython.display import display\n",
    "from PIL import Image\n",
    "\n",
    "import os\n",
    "# check for set environment variable JB_NOSHOW\n",
    "show = True\n",
    "if 'JB_NOSHOW' in os.environ:\n",
    "    show = False"
   ]
  },
  {
   "cell_type": "markdown",
   "id": "ee677808",
   "metadata": {},
   "source": [
    "# Basic FDS Example II\n",
    "\n",
    "In this example we build on Basic Example I and construct a small room with a fire inside. This setup is based on the [\"Steckler compartments\"](https://www.nist.gov/publications/flow-induced-fire-compartment) {cite}`Steckler.1982`. An introduction is also provided in [Compartment Fires section](../../modelling/03_compartments/01_fundamentals).\n",
    "\n",
    "Note: The individual file paths are likely different on your system, depending on your file structure.\n",
    "\n",
    "\n",
    "`TIME_HISTORY = T`\n",
    "\n",
    "\n",
    "StecklerExample_devc.csv\n",
    "\n",
    "\n",
    "Point out the DEVC labels, which are used later for sorting the data sets."
   ]
  },
  {
   "cell_type": "code",
   "execution_count": null,
   "id": "3b81f97b-728c-4d2d-8519-ea3127bde00b",
   "metadata": {},
   "outputs": [],
   "source": []
  },
  {
   "cell_type": "code",
   "execution_count": null,
   "id": "c5931f6a-97f4-42bb-9dc3-0d2b8c9bb561",
   "metadata": {},
   "outputs": [],
   "source": []
  },
  {
   "cell_type": "markdown",
   "id": "6c8d8c3b-4432-48b9-a839-20d7640dc1a8",
   "metadata": {},
   "source": [
    "## File\n",
    "\n",
    "```{literalinclude} ./data/BasicExample2.fds\n",
    "```"
   ]
  },
  {
   "cell_type": "code",
   "execution_count": null,
   "id": "add2cfd6-1a09-4797-967b-f419b80490c8",
   "metadata": {},
   "outputs": [],
   "source": []
  }
 ],
 "metadata": {
  "kernelspec": {
   "display_name": "Python 3 (ipykernel)",
   "language": "python",
   "name": "python3"
  },
  "language_info": {
   "codemirror_mode": {
    "name": "ipython",
    "version": 3
   },
   "file_extension": ".py",
   "mimetype": "text/x-python",
   "name": "python",
   "nbconvert_exporter": "python",
   "pygments_lexer": "ipython3",
   "version": "3.10.4"
  }
 },
 "nbformat": 4,
 "nbformat_minor": 5
}
