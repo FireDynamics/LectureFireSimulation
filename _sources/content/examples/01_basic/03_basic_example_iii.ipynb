{
 "cells": [
  {
   "cell_type": "code",
   "execution_count": 1,
   "id": "6b1cc026-ded2-4a36-bc05-68c0072f2d93",
   "metadata": {
    "tags": [
     "hide_cell"
    ]
   },
   "outputs": [],
   "source": [
    "import matplotlib\n",
    "import matplotlib.pyplot as plt\n",
    "import numpy as np\n",
    "import pandas as pd\n",
    "\n",
    "from IPython.display import display\n",
    "from PIL import Image\n",
    "\n",
    "import os\n",
    "# check for set environment variable JB_NOSHOW\n",
    "show = True\n",
    "if 'JB_NOSHOW' in os.environ:\n",
    "    show = False"
   ]
  },
  {
   "cell_type": "markdown",
   "id": "8dd2d14f-de2b-47ba-b749-1d90e2595261",
   "metadata": {},
   "source": [
    "# Basic Example III\n",
    "\n",
    "## Setup Description\n",
    "\n",
    "We start out with the simulation setup from [Basic Example I](01_basic_example_i). The goal is to ensure that the desired heat release of the burner was set up in the simulation. We are going to use Python to compare the simulation response with the target, using [JupyterLab](https://jupyter.org/).\n",
    "\n",
    "FDS creates a couple of files, a very basic one is the `CHID_hrr.csv`. It contains general information of the simulation, for example the released heat, mass and energy losses. This file is a good first stop, to asses if the simulation is setup correctly. "
   ]
  },
  {
   "cell_type": "markdown",
   "id": "31bee92b-d716-4876-8d24-c1efd7481864",
   "metadata": {},
   "source": [
    "## Determine the Desired HRR\n",
    "\n",
    "As mentioned in [Basic Example I](01_basic_example_i), we can use the `HRRPUA` parameter to set up a simple gas burner. In the simulation description it is stated that the burner is to be delivering a heat release rate (HRR) of $\\mf 63~kW$. To set up the appropriate `HRRPUA` value we need to divide the HRR by the burning area, i.e. the area that is to be introducing the combustible gas into the domain. According to the description, the burner is a square with an edge length of $\\mf 0.4~m$. Thus, we compute the `HRRPUA` value $\\mf 63~kW / (0.4~m \\times 0.4~m)$ to be about $\\mf 393.75~kW/m^2$. \n",
    "\n",
    "This seems to be quite straight foward, so what is the need to check it again? The first and obvious part of the answer is: to make sure we didn't make an error in the calculation. Secondly, in FDS all `OBST` and `VENT` need to align with the fluid cell sizes defined in the `MESH`. In cases where the `VENT` would not fit, FDS automatically adjusts their position. Thus, the `VENT` area can change and therefore the amount of combustible gas introduced into the domain."
   ]
  },
  {
   "cell_type": "markdown",
   "id": "a3671bb2-b0e9-41fa-a8e0-85259e059cf7",
   "metadata": {},
   "source": [
    "## Read Simulation Response\n",
    "\n",
    "From the `CHID_hrr.csv` we are interested in the column with the header label \"HRR\". Note the structure of the `CHID_hrr.csv` file: the first line contains the units of the data in the respective column, the second line contains the column headers then comes the data. \n",
    "\n",
    "There are many different way to read comma separated value (CSV) files in Python. Here the focus is on the Pandas package. \n",
    "\n",
    "First, the path to the file needs to be set up. Python provides many different ways to accomplish this. Here we are using the `os` package. With `os.path.join(\"your\", \"path\", \"here\")` the labels of files as directories are provided, separated by commas. This builds a path specifically for the operating this script is executed on. This is helpful when sharing scripts between different machines, for example when using Windows on your local workstation but Linux on a remote compute cluster.\n",
    "\n",
    "Then, the file is read as a `DataFrame`, using Pandas. The package is imported in the beginning of the file: `import pandas as pd`. It provides the method `read_csv()`. This method needs to get the location of the file, here from the variable `hrr_path`. Furthermore, it needs to know which line is to be used as column headers. Since the first line contains the units and the holumn headers are in the second line, we set `header=1` (numbering in Python starts from 0). DataFrames provide some convenience functionalities, for example `head()` and `tail()`. They show the column headers and the first, or last, five lines.\n",
    "\n",
    "Note: The individual file paths are likely different on your system, depending on your file structure.\n",
    "\n",
    "Let's read the `CHID_hrr.csv`:"
   ]
  },
  {
   "cell_type": "code",
   "execution_count": 12,
   "id": "a956f544-48b6-4fcf-aa22-33e77e24920c",
   "metadata": {},
   "outputs": [
    {
     "data": {
      "text/html": [
       "<div>\n",
       "<style scoped>\n",
       "    .dataframe tbody tr th:only-of-type {\n",
       "        vertical-align: middle;\n",
       "    }\n",
       "\n",
       "    .dataframe tbody tr th {\n",
       "        vertical-align: top;\n",
       "    }\n",
       "\n",
       "    .dataframe thead th {\n",
       "        text-align: right;\n",
       "    }\n",
       "</style>\n",
       "<table border=\"1\" class=\"dataframe\">\n",
       "  <thead>\n",
       "    <tr style=\"text-align: right;\">\n",
       "      <th></th>\n",
       "      <th>Time</th>\n",
       "      <th>HRR</th>\n",
       "      <th>Q_RADI</th>\n",
       "      <th>Q_CONV</th>\n",
       "      <th>Q_COND</th>\n",
       "      <th>Q_DIFF</th>\n",
       "      <th>Q_PRES</th>\n",
       "      <th>Q_PART</th>\n",
       "      <th>Q_ENTH</th>\n",
       "      <th>Q_TOTAL</th>\n",
       "      <th>MLR_AIR</th>\n",
       "      <th>MLR_PROPANE</th>\n",
       "      <th>MLR_PRODUCTS</th>\n",
       "    </tr>\n",
       "  </thead>\n",
       "  <tbody>\n",
       "    <tr>\n",
       "      <th>0</th>\n",
       "      <td>0.000000</td>\n",
       "      <td>0.000000</td>\n",
       "      <td>-6.802389e-08</td>\n",
       "      <td>4.440892e-19</td>\n",
       "      <td>0.000000</td>\n",
       "      <td>0.000000</td>\n",
       "      <td>0.0</td>\n",
       "      <td>0.0</td>\n",
       "      <td>0.000000</td>\n",
       "      <td>-6.802389e-08</td>\n",
       "      <td>0.0</td>\n",
       "      <td>0.000000</td>\n",
       "      <td>0.0</td>\n",
       "    </tr>\n",
       "    <tr>\n",
       "      <th>1</th>\n",
       "      <td>1.033925</td>\n",
       "      <td>83.281562</td>\n",
       "      <td>-1.648879e+01</td>\n",
       "      <td>1.097219e+00</td>\n",
       "      <td>-0.134247</td>\n",
       "      <td>-0.001532</td>\n",
       "      <td>0.0</td>\n",
       "      <td>0.0</td>\n",
       "      <td>22.367290</td>\n",
       "      <td>6.775421e+01</td>\n",
       "      <td>0.0</td>\n",
       "      <td>0.000720</td>\n",
       "      <td>0.0</td>\n",
       "    </tr>\n",
       "    <tr>\n",
       "      <th>2</th>\n",
       "      <td>2.013308</td>\n",
       "      <td>78.585038</td>\n",
       "      <td>-2.733659e+01</td>\n",
       "      <td>-6.555959e+00</td>\n",
       "      <td>-0.344925</td>\n",
       "      <td>-0.003698</td>\n",
       "      <td>0.0</td>\n",
       "      <td>0.0</td>\n",
       "      <td>52.008916</td>\n",
       "      <td>4.434387e+01</td>\n",
       "      <td>0.0</td>\n",
       "      <td>0.001246</td>\n",
       "      <td>0.0</td>\n",
       "    </tr>\n",
       "    <tr>\n",
       "      <th>3</th>\n",
       "      <td>3.006514</td>\n",
       "      <td>60.888075</td>\n",
       "      <td>-1.466148e+01</td>\n",
       "      <td>-6.623389e+01</td>\n",
       "      <td>-0.335589</td>\n",
       "      <td>-0.004035</td>\n",
       "      <td>0.0</td>\n",
       "      <td>0.0</td>\n",
       "      <td>-21.164841</td>\n",
       "      <td>-2.034691e+01</td>\n",
       "      <td>0.0</td>\n",
       "      <td>0.001361</td>\n",
       "      <td>0.0</td>\n",
       "    </tr>\n",
       "    <tr>\n",
       "      <th>4</th>\n",
       "      <td>4.011369</td>\n",
       "      <td>62.306540</td>\n",
       "      <td>-1.485718e+01</td>\n",
       "      <td>-4.732209e+01</td>\n",
       "      <td>-0.362806</td>\n",
       "      <td>-0.004093</td>\n",
       "      <td>0.0</td>\n",
       "      <td>0.0</td>\n",
       "      <td>-0.429241</td>\n",
       "      <td>-2.396315e-01</td>\n",
       "      <td>0.0</td>\n",
       "      <td>0.001379</td>\n",
       "      <td>0.0</td>\n",
       "    </tr>\n",
       "  </tbody>\n",
       "</table>\n",
       "</div>"
      ],
      "text/plain": [
       "       Time        HRR        Q_RADI        Q_CONV    Q_COND    Q_DIFF  \\\n",
       "0  0.000000   0.000000 -6.802389e-08  4.440892e-19  0.000000  0.000000   \n",
       "1  1.033925  83.281562 -1.648879e+01  1.097219e+00 -0.134247 -0.001532   \n",
       "2  2.013308  78.585038 -2.733659e+01 -6.555959e+00 -0.344925 -0.003698   \n",
       "3  3.006514  60.888075 -1.466148e+01 -6.623389e+01 -0.335589 -0.004035   \n",
       "4  4.011369  62.306540 -1.485718e+01 -4.732209e+01 -0.362806 -0.004093   \n",
       "\n",
       "   Q_PRES  Q_PART     Q_ENTH       Q_TOTAL  MLR_AIR  MLR_PROPANE  MLR_PRODUCTS  \n",
       "0     0.0     0.0   0.000000 -6.802389e-08      0.0     0.000000           0.0  \n",
       "1     0.0     0.0  22.367290  6.775421e+01      0.0     0.000720           0.0  \n",
       "2     0.0     0.0  52.008916  4.434387e+01      0.0     0.001246           0.0  \n",
       "3     0.0     0.0 -21.164841 -2.034691e+01      0.0     0.001361           0.0  \n",
       "4     0.0     0.0  -0.429241 -2.396315e-01      0.0     0.001379           0.0  "
      ]
     },
     "execution_count": 12,
     "metadata": {},
     "output_type": "execute_result"
    }
   ],
   "source": [
    "# Set path to file.\n",
    "hrr_path = os.path.join(\"data\", \"Ex1_hrr.csv\")\n",
    "# Read CSV file as Pandas DataFrame.\n",
    "hrr_df = pd.read_csv(hrr_path, header=1)\n",
    "\n",
    "# Check result.\n",
    "hrr_df.head()"
   ]
  },
  {
   "cell_type": "markdown",
   "id": "a2dd587c-fbf5-45f3-a75c-e2bd5930ef5c",
   "metadata": {},
   "source": [
    "With the DataFrames one can access the individual columns by their labels, using for example `hrr_df[\"Time\"]`. If the header of a column is a continous string, i.e. no spaces, one can also access the column directly using the dot-notation: `hrr_df.HRR`. Both are demonstrated in the plot below.\n",
    "\n",
    "Using `list(DataFrame)`, one gets a list with the column headers in order from left to right:"
   ]
  },
  {
   "cell_type": "code",
   "execution_count": 13,
   "id": "e0bae311-db74-41f3-949e-d59bb576e209",
   "metadata": {},
   "outputs": [
    {
     "data": {
      "text/plain": [
       "['Time',\n",
       " 'HRR',\n",
       " 'Q_RADI',\n",
       " 'Q_CONV',\n",
       " 'Q_COND',\n",
       " 'Q_DIFF',\n",
       " 'Q_PRES',\n",
       " 'Q_PART',\n",
       " 'Q_ENTH',\n",
       " 'Q_TOTAL',\n",
       " 'MLR_AIR',\n",
       " 'MLR_PROPANE',\n",
       " 'MLR_PRODUCTS']"
      ]
     },
     "execution_count": 13,
     "metadata": {},
     "output_type": "execute_result"
    }
   ],
   "source": [
    "# Overview of the header labels.\n",
    "list(hrr_df)"
   ]
  },
  {
   "cell_type": "markdown",
   "id": "d09a45af-3660-45af-92ac-3b0e07e65c37",
   "metadata": {},
   "source": [
    "## Compare Response to Target\n",
    "\n",
    "To compare if the target value was reached, we simply plot the HRR development over time. As a visual aid, we also plot a dashed line representing the target values."
   ]
  },
  {
   "cell_type": "code",
   "execution_count": 11,
   "id": "c9e7d54b-24f1-436a-9acf-8a53dbffa128",
   "metadata": {},
   "outputs": [
    {
     "data": {
      "image/png": "[encoded data removed]",
      "text/plain": [
       "<Figure size 640x480 with 1 Axes>"
      ]
     },
     "metadata": {},
     "output_type": "display_data"
    }
   ],
   "source": [
    "# Plot target.\n",
    "plt.plot([-5, 65],\n",
    "         [63, 63],\n",
    "         color=\"k\", alpha=0.4,\n",
    "         linestyle=\"--\",\n",
    "         label=\"Target\")\n",
    "\n",
    "# Plot sim response.\n",
    "plt.plot(hrr_df[\"Time\"], \n",
    "         hrr_df.HRR,\n",
    "         label=\"Simulation\")\n",
    "\n",
    "\n",
    "# Plot meta data.\n",
    "plt.xlabel(\"Time / s\")\n",
    "plt.ylabel(\"HRR / kW\")\n",
    "plt.legend()\n",
    "plt.grid()"
   ]
  },
  {
   "cell_type": "markdown",
   "id": "026d406a-b0d7-4b2b-b895-fe97481b672d",
   "metadata": {},
   "source": [
    "## Notes on fdsreader\n",
    "\n",
    "The fdsreader Pyhton module also reads the `CHID_hrr.csv` and `CHID_devc.csv` files. Thus, all the simulation data is conveniently accessible from the same loaction. However, it is worth it to look into how one could read CSV files in general. For example, when simulation results are to be compared against some experiment data. This external data is not available from the within the fdsreader, obviously. Please refer to the [fdsreader section](../../tools/03_analysis/02_fdsreader) for more information."
   ]
  },
  {
   "cell_type": "code",
   "execution_count": null,
   "id": "5f39133e-9d26-437c-b1e7-fecf9e245662",
   "metadata": {},
   "outputs": [],
   "source": []
  }
 ],
 "metadata": {
  "kernelspec": {
   "display_name": "Python 3 (ipykernel)",
   "language": "python",
   "name": "python3"
  },
  "language_info": {
   "codemirror_mode": {
    "name": "ipython",
    "version": 3
   },
   "file_extension": ".py",
   "mimetype": "text/x-python",
   "name": "python",
   "nbconvert_exporter": "python",
   "pygments_lexer": "ipython3",
   "version": "3.10.4"
  }
 },
 "nbformat": 4,
 "nbformat_minor": 5
}
