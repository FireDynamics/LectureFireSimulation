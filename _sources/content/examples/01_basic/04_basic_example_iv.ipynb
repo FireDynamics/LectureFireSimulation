{
 "cells": [
  {
   "cell_type": "code",
   "execution_count": 1,
   "id": "d2025fc8-e1f3-4d68-9206-8d1b3a0aeab3",
   "metadata": {
    "tags": [
     "hide_cell"
    ]
   },
   "outputs": [],
   "source": [
    "import matplotlib\n",
    "import matplotlib.pyplot as plt\n",
    "import numpy as np\n",
    "import pandas as pd\n",
    "\n",
    "from IPython.display import display\n",
    "from PIL import Image\n",
    "\n",
    "import os\n",
    "# check for set environment variable JB_NOSHOW\n",
    "show = True\n",
    "if 'JB_NOSHOW' in os.environ:\n",
    "    show = False"
   ]
  },
  {
   "cell_type": "markdown",
   "id": "f7d99b3a-1f0f-4271-83ea-c95f4a1a213c",
   "metadata": {},
   "source": [
    "# Basic Example IV\n",
    "\n",
    "## Setup Description\n",
    "\n",
    "We give an introduction to the [WebPlotDigitizer](https://automeris.io/WebPlotDigitizer/). This tool enables the user to extract data points from plots that are images. For example, when reading old scientific articles the document might only be able as a scan. One might also not be able to contact the author anymore or even if it is possible the data might be lost. \n",
    "\n",
    "Example McCaffrey figure 1 or figure 2 (or both). Iso-lines of figure 10?"
   ]
  },
  {
   "cell_type": "code",
   "execution_count": null,
   "id": "d66ff265-3602-4a9e-9083-b20bec42b3bd",
   "metadata": {},
   "outputs": [],
   "source": []
  }
 ],
 "metadata": {
  "kernelspec": {
   "display_name": "Python 3 (ipykernel)",
   "language": "python",
   "name": "python3"
  },
  "language_info": {
   "codemirror_mode": {
    "name": "ipython",
    "version": 3
   },
   "file_extension": ".py",
   "mimetype": "text/x-python",
   "name": "python",
   "nbconvert_exporter": "python",
   "pygments_lexer": "ipython3",
   "version": "3.10.4"
  }
 },
 "nbformat": 4,
 "nbformat_minor": 5
}
