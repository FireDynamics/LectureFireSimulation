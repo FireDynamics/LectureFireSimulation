{
 "cells": [
  {
   "cell_type": "code",
   "execution_count": 1,
   "id": "403ff21a-eed6-4afe-b517-7c4d8aa07925",
   "metadata": {
    "tags": [
     "hide_cell"
    ]
   },
   "outputs": [],
   "source": [
    "import matplotlib\n",
    "import matplotlib.pyplot as plt\n",
    "import numpy as np\n",
    "import pandas as pd\n",
    "\n",
    "from IPython.display import display\n",
    "from PIL import Image\n",
    "\n",
    "import os\n",
    "# check for set environment variable JB_NOSHOW\n",
    "show = True\n",
    "if 'JB_NOSHOW' in os.environ:\n",
    "    show = False"
   ]
  },
  {
   "cell_type": "markdown",
   "id": "01533c6d-ba6a-4093-a074-287e03b3ae74",
   "metadata": {},
   "source": [
    "# Steckler Compartments\n",
    "\n",
    "## Setup Description\n",
    "\n",
    "We start out with the simulation setup from [Basic Example I](01_basic_example_i). The goal is to ensure that the desired heat release of the burner was set up in the simulation. We are going to use Python to compare the simulation response with the target, using [JupyterLab](https://jupyter.org/).\n",
    "\n",
    " and [Flame Induced Flows Through Room\n",
    "Openings - Flow Coefficients](https://nvlpubs.nist.gov/nistpubs/Legacy/IR/nbsir83-2801.pdf)\n",
    "\n",
    "In this example, the directory for our project is called `Compartments`. Inside the project directory, three other directories are created: one to store the jupyter notebooks `RunReports`, one for the simulations `Steckler`, and one for general information `GeneralInformation`. To follow this example, save the notebooks in the `RunReports` directory and use the `Steckler` directory as storage for the simulations. \n",
    "\n",
    "\n",
    "The simulations contain different versions of the Steckler setup. This comprises different resolutions and different firesources with a larger room size. A couple of devices are located vertically in the centre of the doorway and in the corners of the smaller room. Furthermore, multiple slices are located at various positions. Two slices cut in the x and y direction through the burner and one slice covers the cross section of the doorway. Quantities recorded are `TEMPERATURE`, `VELOCITY`, `DENSITY` and `soot`. Furthermore, wall temperatures are recoreded using `BNDF` for te ceiling and the side wall.\n",
    "\n",
    "With the given information, the goal is to determine the height of the gas layers, mass flows in and out of the room and surface temperatures of the side wall. Furthermore, develop a criterion to determine if the hot gas layer is stable.\n",
    "\n"
   ]
  },
  {
   "cell_type": "code",
   "execution_count": null,
   "id": "071e5142-03b3-428c-8a25-ac3c5e9934b5",
   "metadata": {},
   "outputs": [],
   "source": []
  },
  {
   "cell_type": "code",
   "execution_count": null,
   "id": "25556e0b-a97f-4870-80e8-363f91fb8d75",
   "metadata": {},
   "outputs": [],
   "source": [
    "# General information\n",
    "\n",
    "\n",
    "# # Directory used to collect the output produced by this notebook.\n",
    "# output_dir = \"OutputMcCaffrey\"\n",
    "# if not os.path.isdir(output_dir):\n",
    "#     os.mkdir(output_dir)\n",
    "#     print(\"* Output directory created.\")\n",
    "# else:\n",
    "#     print(\"* Output directory already exists.\")"
   ]
  },
  {
   "cell_type": "code",
   "execution_count": null,
   "id": "dacbdfd6-7e06-4c67-b214-b7ca67aefc52",
   "metadata": {},
   "outputs": [],
   "source": []
  },
  {
   "cell_type": "code",
   "execution_count": null,
   "id": "bf99a7cd-2cef-4e22-a6be-16113789e16c",
   "metadata": {},
   "outputs": [],
   "source": []
  },
  {
   "cell_type": "code",
   "execution_count": null,
   "id": "3fea2507-a05b-46c3-adab-fbbc538debc4",
   "metadata": {},
   "outputs": [],
   "source": []
  },
  {
   "cell_type": "code",
   "execution_count": null,
   "id": "943bf380-022c-4adc-b4e1-4a64366a88b8",
   "metadata": {},
   "outputs": [],
   "source": []
  },
  {
   "cell_type": "code",
   "execution_count": null,
   "id": "ab558041-400a-4575-b1fa-764c844f6a0f",
   "metadata": {},
   "outputs": [],
   "source": []
  },
  {
   "cell_type": "code",
   "execution_count": null,
   "id": "151bc630-a838-4ac9-b452-59db678d2739",
   "metadata": {},
   "outputs": [],
   "source": []
  }
 ],
 "metadata": {
  "kernelspec": {
   "display_name": "Python 3 (ipykernel)",
   "language": "python",
   "name": "python3"
  },
  "language_info": {
   "codemirror_mode": {
    "name": "ipython",
    "version": 3
   },
   "file_extension": ".py",
   "mimetype": "text/x-python",
   "name": "python",
   "nbconvert_exporter": "python",
   "pygments_lexer": "ipython3",
   "version": "3.10.4"
  }
 },
 "nbformat": 4,
 "nbformat_minor": 5
}
