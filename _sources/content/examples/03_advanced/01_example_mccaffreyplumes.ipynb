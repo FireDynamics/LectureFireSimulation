{
 "cells": [
  {
   "cell_type": "markdown",
   "metadata": {},
   "source": [
    "(example-mccaffrey)=\n",
    "# Example: McCaffrey plume experiments\n",
    "\n",
    "## Introduction\n",
    "\n",
    "Here, we provide a proposal as to how one could organise their simulation projects. Projects can be anything, from work for a thesis or in context of a simulation campaign in the industry. \n",
    "\n",
    "In this example, the directory for our project is called `FirePlumes`. Inside the project directory, three other directories are created: one to store the jupyter notebooks `RunReports`, one for the simulations `McCaffrey`, and one for general information `GeneralInformation`. The simulations are based on the different setups of the [McCaffrey plume experiments](https://nvlpubs.nist.gov/nistpubs/Legacy/IR/nbsir79-1910.pdf), which are proposed and discussed in the [Extra Task: Simulation of a purely buoyant diffusion flame](extra-task).\n",
    "\n",
    "In general, it could be useful to distribute different aspects of the project over different jupyter notebooks. Consider, for example, one were to compare experiment data to simulation results. One notebook could be used to pre-process the data from the experiment, one could be used to prepare the simulation input and one could be used to compare the results.\n",
    "\n",
    "In `RunReports`, sub-directories are created by the notebooks to store their respective results. File and directory labels are used to control the flow of reading the data. The data is organised in Python dictionaries. An external Python script is provided to store functions used in the notebook in an effort to keep it relatively clean. The `reload` module from the `importlib` package is used to reload the `Processing.py` script during runtime of the notebook. This allows to add functions to `Processing.py`, while designing the content of the `RunReport` notebook and load them without need to restart the respective kernel. "
   ]
  },
  {
   "cell_type": "code",
   "execution_count": 2,
   "metadata": {},
   "outputs": [],
   "source": [
    "import os\n",
    "import matplotlib\n",
    "import Processing as pro\n",
    "\n",
    "import matplotlib.pyplot as plt\n",
    "import numpy as np\n",
    "import pandas as pd\n",
    "\n",
    "from importlib import reload\n",
    "\n",
    "\n",
    "# Reload Python modules for changes that occured during runtime.\n",
    "reload(pro);"
   ]
  },
  {
   "cell_type": "markdown",
   "metadata": {},
   "source": [
    "Sometimes it is helpful to keep track of the versions of the used packages. This can be accomplished with the following input."
   ]
  },
  {
   "cell_type": "code",
   "execution_count": 3,
   "metadata": {},
   "outputs": [
    {
     "name": "stdout",
     "output_type": "stream",
     "text": [
      "Package Versions\n",
      "----------------\n",
      "Pandas version: 1.4.2\n",
      "Numpy version: 1.22.3\n",
      "Matplotlib version: 3.5.2\n"
     ]
    }
   ],
   "source": [
    "print('Package Versions')\n",
    "print('----------------')\n",
    "print('Pandas version: {}'.format(pd.__version__))\n",
    "print('Numpy version: {}'.format(np.__version__))\n",
    "print('Matplotlib version: {}'.format(matplotlib.__version__))"
   ]
  },
  {
   "cell_type": "markdown",
   "metadata": {},
   "source": [
    "It is also helpful to have the current working directory stored in a variable for easy access."
   ]
  },
  {
   "cell_type": "code",
   "execution_count": 4,
   "metadata": {},
   "outputs": [],
   "source": [
    "# Get current working directory.\n",
    "cwd = os.getcwd()\n",
    "#print(cwd)"
   ]
  },
  {
   "cell_type": "markdown",
   "metadata": {},
   "source": [
    "In the following code block general information necessary for this notebook is stored. For example, path to different directories that contain static information, such as directories containing experiment data or path fragments to different sub-sets of simulations. \n",
    "\n",
    "Furthermore, functionality is provided that creates an output directory, if it does not exist. The path to this output directory is stored in a variable for easy access during this norebook. When keeping the same strategy across similar notebooks for different projects, one only needs to adjust the directory lable in this cell and can always call the respective variable. "
   ]
  },
  {
   "cell_type": "code",
   "execution_count": 5,
   "metadata": {},
   "outputs": [
    {
     "name": "stdout",
     "output_type": "stream",
     "text": [
      "* Output directory already exists.\n"
     ]
    }
   ],
   "source": [
    "# General information used in this notebook.\n",
    "\n",
    "\n",
    "# Define path to McCaffrey simulations.\n",
    "mcc_sim_path = os.path.join(\"..\", \"McCaffrey\")\n",
    "\n",
    "\n",
    "# Path do experiment data.\n",
    "exp_dir = os.path.join(\"..\", \"GeneralInformation\")\n",
    "# Idealised temperature.\n",
    "mcc_ideal_temp_path = os.path.join(exp_dir, \"McCaffreyIdealiesdTemp.csv\")\n",
    "mcc_idealised_temp = pd.read_csv(mcc_ideal_temp_path, header=0)\n",
    "\n",
    "# HRR in the experiments.\n",
    "exp_hrrs = {\n",
    "    \"14kW\": 14.4, \n",
    "    \"22kW\": 21.7, \n",
    "    \"33kW\": 33.0, \n",
    "    \"45kW\": 44.9, \n",
    "    \"57kW\": 57.5}\n",
    "\n",
    "\n",
    "# Initialise data collection.\n",
    "plume_sims = dict()\n",
    "plume_sims[\"McCaffrey\"] = dict()\n",
    "\n",
    "\n",
    "# Directory used to collect the output produced by this notebook.\n",
    "output_dir = \"RunReportMcCaffreyOutput\"\n",
    "if not os.path.isdir(output_dir):\n",
    "    os.mkdir(output_dir)\n",
    "    print(\"* Output directory created.\")\n",
    "else:\n",
    "    print(\"* Output directory already exists.\")"
   ]
  },
  {
   "cell_type": "markdown",
   "metadata": {},
   "source": [
    "Some basic computation to determine the `DEVC` locations that are used throughout this notebook."
   ]
  },
  {
   "cell_type": "code",
   "execution_count": 6,
   "metadata": {},
   "outputs": [],
   "source": [
    "# DEVC heights.\n",
    "# Parameters for the collection.\n",
    "start = 30  # in millimeter\n",
    "distance = 60  # in millimeter\n",
    "n_devc = 58\n",
    "\n",
    "# Initialise result collection.\n",
    "devc_heights = list()\n",
    "\n",
    "# Calculate DEVC heights.\n",
    "for n_devc in range(n_devc):\n",
    "    height = (start + n_devc * distance) / 1000  # transform to meter\n",
    "    devc_heights.append(height)"
   ]
  },
  {
   "cell_type": "code",
   "execution_count": null,
   "metadata": {},
   "outputs": [],
   "source": []
  },
  {
   "cell_type": "code",
   "execution_count": null,
   "metadata": {},
   "outputs": [],
   "source": []
  },
  {
   "cell_type": "markdown",
   "metadata": {},
   "source": [
    "# Read Simulation Data\n",
    "\n",
    "Here, we read the simulation results and store them in a Python dictionary. The basic dictionary was initialised in the General section above. We add dictionaries to the \"McCaffrey\" section, where we use the directory labels as keys. Also the directory labels match the keys in the `exp_hrrs` notebook. Thus, we can easily pull in the reported HRRs from the experiments, provided they are in the General section. "
   ]
  },
  {
   "cell_type": "code",
   "execution_count": 7,
   "metadata": {},
   "outputs": [],
   "source": [
    "# Get the resolution directory labels.\n",
    "dir_res_labels = os.listdir(mcc_sim_path)\n",
    "\n",
    "# \n",
    "for dir_res_label in dir_res_labels:\n",
    "    # Build path for the HRR simulations.\n",
    "    res_path = os.path.join(mcc_sim_path, dir_res_label)\n",
    "    \n",
    "    # Get the HRR subdirectory labels.\n",
    "    dir_hrr_labels = os.listdir(res_path)\n",
    "    \n",
    "    # Add dictionaries for the resolutions.\n",
    "    plume_sims[\"McCaffrey\"][dir_res_label] = dict()\n",
    "    \n",
    "    # For better readability (shorter lines).\n",
    "    data_collection = plume_sims[\"McCaffrey\"][dir_res_label]\n",
    "    \n",
    "    # Prepare the dictionary for result collection.\n",
    "    for dir_hrr_label in dir_hrr_labels:\n",
    "        data_collection[dir_hrr_label] = dict()\n",
    "        data_collection[dir_hrr_label][\"Exp. HRR\"] = exp_hrrs[dir_hrr_label]"
   ]
  },
  {
   "cell_type": "code",
   "execution_count": 8,
   "metadata": {},
   "outputs": [
    {
     "data": {
      "text/plain": [
       "{'6cm': {'14kW': {'Exp. HRR': 14.4},\n",
       "  '22kW': {'Exp. HRR': 21.7},\n",
       "  '57kW': {'Exp. HRR': 57.5},\n",
       "  '33kW': {'Exp. HRR': 33.0},\n",
       "  '45kW': {'Exp. HRR': 44.9}}}"
      ]
     },
     "execution_count": 8,
     "metadata": {},
     "output_type": "execute_result"
    }
   ],
   "source": [
    "# Check result.\n",
    "plume_sims[\"McCaffrey\"]"
   ]
  },
  {
   "cell_type": "markdown",
   "metadata": {},
   "source": [
    "Now, the `*_hrr.csv` and `*_devc.csv` files for each simulation can be read as Pandas DataFrames. Since the dictionary and directory labels match, they can be used to control the loop to crawl through the different directories. \n",
    "\n",
    "This code block is set up such that it checks if the respective files exist and handles cases where they are not. This is specifically helpful when one would like to intermittently look into the results, while setting up the notebook to process them."
   ]
  },
  {
   "cell_type": "code",
   "execution_count": 9,
   "metadata": {},
   "outputs": [],
   "source": [
    "# Get resolution directory labels from dict keys.\n",
    "dir_res_labels = list(plume_sims[\"McCaffrey\"])\n",
    "\n",
    "\n",
    "for res_label in dir_res_labels:\n",
    "    # Get simulation directory labels from dict keys.\n",
    "    dir_labels = list(plume_sims[\"McCaffrey\"][res_label])\n",
    "\n",
    "    # Crawl through the different simulation directories.\n",
    "    for dir_label in dir_labels:\n",
    "        # Read DEVC data as Pandas DataFrame.\n",
    "        # Build path.\n",
    "        devc_path = os.path.join(mcc_sim_path, \n",
    "                                 res_label, \n",
    "                                 dir_label, \n",
    "                                 f\"mcc_{dir_label}_devc.csv\")\n",
    "        # Check if file exists.\n",
    "        if os.path.isfile(devc_path):\n",
    "            # Read file.\n",
    "            devc_df = pd.read_csv(devc_path, header=1)\n",
    "        else:\n",
    "            devc_df = None\n",
    "\n",
    "        # Read HRR data as Pandas DataFrame.\n",
    "        # Build path.\n",
    "        hrr_path = os.path.join(mcc_sim_path, \n",
    "                                res_label, \n",
    "                                dir_label, \n",
    "                                f\"mcc_{dir_label}_hrr.csv\")\n",
    "        # Check if file exists.\n",
    "        if os.path.isfile(hrr_path):\n",
    "            # Read file.\n",
    "            hrr_df = pd.read_csv(hrr_path, header=1)\n",
    "        else:\n",
    "            hrr_df = None\n",
    "\n",
    "\n",
    "        # Collect results.\n",
    "        plume_sims[\"McCaffrey\"][res_label][dir_label][\"DEVC\"] = devc_df\n",
    "        plume_sims[\"McCaffrey\"][res_label][dir_label][\"HRR\"] = hrr_df"
   ]
  },
  {
   "cell_type": "markdown",
   "metadata": {},
   "source": [
    "A benefit of storing the results in a dictionary is the way individual pieces of information are accessed, see below. The keys of a dictionary are strings, thus when choosen wisely it is obvious for humans which data set is requested. This is very helpful when looking for errors. Of course one could read the results as multi-dimensional arrays. However, there you would need to access the information by position, which is much less intuitive and can be error prone. \n",
    "\n",
    "Consider:\n",
    "\n",
    "`plume_sims[\"McCaffrey\"][\"14kW\"][\"HRR\"]`\n",
    "\n",
    "in comparison to:\n",
    "\n",
    "`plume_sims[23][5][42]`\n",
    "\n",
    "Surely, if one is to work with gigantic data sets, arrays may be better for computational efficiency. However, the data sets we use regularily are small enough that slightly negative effects on computing time are outweight by more explicit inputs (writing words to get specific data sets) and easier debugging. "
   ]
  },
  {
   "cell_type": "code",
   "execution_count": 10,
   "metadata": {},
   "outputs": [
    {
     "data": {
      "text/html": [
       "<div>\n",
       "<style scoped>\n",
       "    .dataframe tbody tr th:only-of-type {\n",
       "        vertical-align: middle;\n",
       "    }\n",
       "\n",
       "    .dataframe tbody tr th {\n",
       "        vertical-align: top;\n",
       "    }\n",
       "\n",
       "    .dataframe thead th {\n",
       "        text-align: right;\n",
       "    }\n",
       "</style>\n",
       "<table border=\"1\" class=\"dataframe\">\n",
       "  <thead>\n",
       "    <tr style=\"text-align: right;\">\n",
       "      <th></th>\n",
       "      <th>Time</th>\n",
       "      <th>HRR</th>\n",
       "      <th>Q_RADI</th>\n",
       "      <th>Q_CONV</th>\n",
       "      <th>Q_COND</th>\n",
       "      <th>Q_DIFF</th>\n",
       "      <th>Q_PRES</th>\n",
       "      <th>Q_PART</th>\n",
       "      <th>Q_ENTH</th>\n",
       "      <th>Q_TOTAL</th>\n",
       "      <th>MLR_AIR</th>\n",
       "      <th>MLR_METHANE</th>\n",
       "      <th>MLR_PRODUCTS</th>\n",
       "    </tr>\n",
       "  </thead>\n",
       "  <tbody>\n",
       "    <tr>\n",
       "      <th>0</th>\n",
       "      <td>0.000000</td>\n",
       "      <td>0.000000</td>\n",
       "      <td>-1.067943e-07</td>\n",
       "      <td>-2.568131e-10</td>\n",
       "      <td>0.000000</td>\n",
       "      <td>0.000000</td>\n",
       "      <td>0.0</td>\n",
       "      <td>0.0</td>\n",
       "      <td>0.000000</td>\n",
       "      <td>-1.070511e-07</td>\n",
       "      <td>0.0</td>\n",
       "      <td>0.000000</td>\n",
       "      <td>0.0</td>\n",
       "    </tr>\n",
       "    <tr>\n",
       "      <th>1</th>\n",
       "      <td>0.370328</td>\n",
       "      <td>2.128356</td>\n",
       "      <td>-1.393241e-01</td>\n",
       "      <td>3.394389e-02</td>\n",
       "      <td>-0.011482</td>\n",
       "      <td>-0.000290</td>\n",
       "      <td>0.0</td>\n",
       "      <td>0.0</td>\n",
       "      <td>1.250592</td>\n",
       "      <td>2.011203e+00</td>\n",
       "      <td>0.0</td>\n",
       "      <td>0.000059</td>\n",
       "      <td>0.0</td>\n",
       "    </tr>\n",
       "    <tr>\n",
       "      <th>2</th>\n",
       "      <td>0.694365</td>\n",
       "      <td>8.307317</td>\n",
       "      <td>-2.535417e+00</td>\n",
       "      <td>9.398008e-02</td>\n",
       "      <td>-0.179315</td>\n",
       "      <td>-0.000784</td>\n",
       "      <td>0.0</td>\n",
       "      <td>0.0</td>\n",
       "      <td>5.668750</td>\n",
       "      <td>5.685782e+00</td>\n",
       "      <td>0.0</td>\n",
       "      <td>0.000145</td>\n",
       "      <td>0.0</td>\n",
       "    </tr>\n",
       "    <tr>\n",
       "      <th>3</th>\n",
       "      <td>1.008729</td>\n",
       "      <td>9.753047</td>\n",
       "      <td>-1.932712e+00</td>\n",
       "      <td>1.311288e-01</td>\n",
       "      <td>-0.118915</td>\n",
       "      <td>-0.001158</td>\n",
       "      <td>0.0</td>\n",
       "      <td>0.0</td>\n",
       "      <td>7.538772</td>\n",
       "      <td>7.831391e+00</td>\n",
       "      <td>0.0</td>\n",
       "      <td>0.000202</td>\n",
       "      <td>0.0</td>\n",
       "    </tr>\n",
       "    <tr>\n",
       "      <th>4</th>\n",
       "      <td>1.340284</td>\n",
       "      <td>11.468659</td>\n",
       "      <td>-1.952889e+00</td>\n",
       "      <td>1.596306e-01</td>\n",
       "      <td>-0.120110</td>\n",
       "      <td>-0.001324</td>\n",
       "      <td>0.0</td>\n",
       "      <td>0.0</td>\n",
       "      <td>9.512996</td>\n",
       "      <td>9.553967e+00</td>\n",
       "      <td>0.0</td>\n",
       "      <td>0.000239</td>\n",
       "      <td>0.0</td>\n",
       "    </tr>\n",
       "  </tbody>\n",
       "</table>\n",
       "</div>"
      ],
      "text/plain": [
       "       Time        HRR        Q_RADI        Q_CONV    Q_COND    Q_DIFF  \\\n",
       "0  0.000000   0.000000 -1.067943e-07 -2.568131e-10  0.000000  0.000000   \n",
       "1  0.370328   2.128356 -1.393241e-01  3.394389e-02 -0.011482 -0.000290   \n",
       "2  0.694365   8.307317 -2.535417e+00  9.398008e-02 -0.179315 -0.000784   \n",
       "3  1.008729   9.753047 -1.932712e+00  1.311288e-01 -0.118915 -0.001158   \n",
       "4  1.340284  11.468659 -1.952889e+00  1.596306e-01 -0.120110 -0.001324   \n",
       "\n",
       "   Q_PRES  Q_PART    Q_ENTH       Q_TOTAL  MLR_AIR  MLR_METHANE  MLR_PRODUCTS  \n",
       "0     0.0     0.0  0.000000 -1.070511e-07      0.0     0.000000           0.0  \n",
       "1     0.0     0.0  1.250592  2.011203e+00      0.0     0.000059           0.0  \n",
       "2     0.0     0.0  5.668750  5.685782e+00      0.0     0.000145           0.0  \n",
       "3     0.0     0.0  7.538772  7.831391e+00      0.0     0.000202           0.0  \n",
       "4     0.0     0.0  9.512996  9.553967e+00      0.0     0.000239           0.0  "
      ]
     },
     "execution_count": 10,
     "metadata": {},
     "output_type": "execute_result"
    }
   ],
   "source": [
    "# Check result:\n",
    "plume_sims[\"McCaffrey\"][\"6cm\"][\"14kW\"][\"HRR\"].head()"
   ]
  },
  {
   "cell_type": "code",
   "execution_count": null,
   "metadata": {},
   "outputs": [],
   "source": []
  },
  {
   "cell_type": "code",
   "execution_count": null,
   "metadata": {},
   "outputs": [],
   "source": []
  },
  {
   "cell_type": "markdown",
   "metadata": {},
   "source": [
    "# Plot results\n",
    "\n",
    "Having read all the data, we can now create some plots. \n",
    "\n",
    "At first we check if we set up the HRR correctly. For that access the HRR data for the individual simulations and plot it over time. We can also use the experiment HRR data in the dictionary to plot a visual aid on the fly. This aid is called \"Target\". Furthermore, the directory labels can be used to build the data series labels.\n",
    "\n",
    "Note: we introduced another variable, `data_series_label`, with which we could easily control to read different simulation sets. For example if we were to simulate an experiment series, maybe for larger energy release rates."
   ]
  },
  {
   "cell_type": "markdown",
   "metadata": {},
   "source": [
    "## Cell Resolution: 6 cm"
   ]
  },
  {
   "cell_type": "code",
   "execution_count": 11,
   "metadata": {},
   "outputs": [
    {
     "data": {
      "image/png": "[encoded data removed]",
      "text/plain": [
       "<Figure size 432x288 with 1 Axes>"
      ]
     },
     "metadata": {
      "needs_background": "light"
     },
     "output_type": "display_data"
    }
   ],
   "source": [
    "# Get simulation directory labels.\n",
    "data_series_label = \"McCaffrey\"\n",
    "resolution_label = \"6cm\"\n",
    "\n",
    "data_sets = plume_sims[data_series_label][resolution_label]\n",
    "dir_labels = list(data_sets)\n",
    "\n",
    "\n",
    "for dir_label in dir_labels:\n",
    "    # Get data set.\n",
    "    data_set = data_sets[dir_label]\n",
    "    \n",
    "    \n",
    "    target_hrr = data_set[\"Exp. HRR\"]\n",
    "    unit = dir_label[2:]\n",
    "    # Get DataFrame.\n",
    "    hrr_data = data_set[\"HRR\"]\n",
    "    \n",
    "    if hrr_data is not None:\n",
    "        # Plot HRR data.\n",
    "        plt.plot(hrr_data.Time,\n",
    "                 hrr_data.HRR,\n",
    "                 label=f\"{target_hrr} {unit}\")\n",
    "        \n",
    "        # Plot target.\n",
    "        plt.plot([0,40], \n",
    "                 [target_hrr, target_hrr],\n",
    "                 color='k', alpha=0.7,\n",
    "                 linestyle=\"--\")\n",
    "    else:\n",
    "        # Skip, because no data exists yet.\n",
    "        continue\n",
    "    \n",
    "    \n",
    "# Plot meta data.\n",
    "plt.xlabel(\"Time / s\")\n",
    "plt.ylabel(\"Energy Release Rate / kW\")\n",
    "\n",
    "plt.legend()\n",
    "plt.grid()\n",
    "plt.tight_layout()\n",
    "\n",
    "\n",
    "# Save image.\n",
    "file_label = f\"PlumeSim_{resolution_label}_{data_series_label}_HRR.png\"\n",
    "plot_path = os.path.join(output_dir, \n",
    "                         file_label)\n",
    "plt.savefig(plot_path, dpi=320)"
   ]
  },
  {
   "cell_type": "code",
   "execution_count": null,
   "metadata": {},
   "outputs": [],
   "source": []
  },
  {
   "cell_type": "markdown",
   "metadata": {},
   "source": [
    "Here we plot the `DEVC` that are highest above the burner surface to assess if they have reached a steady state. With this we could assess the simulation duration `T_END`."
   ]
  },
  {
   "cell_type": "code",
   "execution_count": 12,
   "metadata": {},
   "outputs": [
    {
     "data": {
      "image/png": "[encoded data removed]",
      "text/plain": [
       "<Figure size 432x288 with 1 Axes>"
      ]
     },
     "metadata": {
      "needs_background": "light"
     },
     "output_type": "display_data"
    }
   ],
   "source": [
    "# Get simulation directory labels.\n",
    "data_series_label = \"McCaffrey\"\n",
    "resolution_label = \"6cm\"\n",
    "\n",
    "data_sets = plume_sims[data_series_label][resolution_label]\n",
    "dir_labels = list(data_sets)\n",
    "\n",
    "\n",
    "for dir_label in dir_labels:\n",
    "    # Get data set.\n",
    "    data_set = data_sets[dir_label]\n",
    "    \n",
    "    \n",
    "    target_hrr = data_set[\"Exp. HRR\"]\n",
    "    unit = dir_label[2:]\n",
    "    # Get DataFrame.\n",
    "    devc_data = data_set[\"DEVC\"]\n",
    "    \n",
    "    if devc_data is not None:\n",
    "        # Plot HRR data.\n",
    "        plt.plot(devc_data.Time,\n",
    "                 devc_data[\"TC.057\"],\n",
    "                 label=f\"{target_hrr} {unit}\")\n",
    "    else:\n",
    "        # Skip, because no data exists yet.\n",
    "        continue\n",
    "    \n",
    "    \n",
    "# Plot meta data.\n",
    "plt.xlabel(\"Time / s\")\n",
    "plt.ylabel(\"Temperature / °C\")\n",
    "\n",
    "plt.legend()\n",
    "plt.grid()\n",
    "plt.tight_layout()\n",
    "\n",
    "\n",
    "# Save image.\n",
    "file_label = f\"PlumeSim_{resolution_label}_{data_series_label}_TempDEVC.png\"\n",
    "plot_path = os.path.join(output_dir, \n",
    "                         file_label)\n",
    "plt.savefig(plot_path, dpi=320)"
   ]
  },
  {
   "cell_type": "code",
   "execution_count": null,
   "metadata": {},
   "outputs": [],
   "source": []
  },
  {
   "cell_type": "markdown",
   "metadata": {},
   "source": [
    "Finally we process the data series from the individual devices and plot the results. The temperature device locations are normalised with the HRR to make them comparable. The general behaviour can apparently be reproduced. Higher fluid cell resolutions should lead to better results."
   ]
  },
  {
   "cell_type": "code",
   "execution_count": 13,
   "metadata": {},
   "outputs": [
    {
     "data": {
      "image/png": "[encoded data removed]",
      "text/plain": [
       "<Figure size 432x288 with 1 Axes>"
      ]
     },
     "metadata": {
      "needs_background": "light"
     },
     "output_type": "display_data"
    }
   ],
   "source": [
    "# Get simulation directory labels.\n",
    "data_series_label = \"McCaffrey\"\n",
    "resolution_label = \"6cm\"\n",
    "\n",
    "data_sets = plume_sims[data_series_label][resolution_label]\n",
    "dir_labels = list(data_sets)\n",
    "\n",
    "\n",
    "for dir_label in dir_labels:\n",
    "    # Get data set.\n",
    "    data_set = data_sets[dir_label]\n",
    "    target_hrr = data_set[\"Exp. HRR\"]\n",
    "    unit = dir_label[2:]\n",
    "    \n",
    "    # Initialise result collection.\n",
    "    temperatures = list()\n",
    "    norm_heights = list()\n",
    "    \n",
    "    # Check if data exists.\n",
    "    if data_set[\"DEVC\"] is not None:    \n",
    "        # Calculate temperature averages.\n",
    "        headers = list(data_set[\"DEVC\"])\n",
    "        for header in headers:\n",
    "            if \"TC.\" in header:\n",
    "                # Average over the last 5 seconds.\n",
    "                avrg_temp = np.average(data_set[\"DEVC\"][header][-15:])\n",
    "                temperatures.append(avrg_temp)\n",
    "\n",
    "        # Calculate normalised heights.\n",
    "        for devc_height in devc_heights:\n",
    "            norm_height = pro.McCaffreyHeight(devc_height, \n",
    "                                              target_hrr)\n",
    "            norm_heights.append(norm_height)\n",
    "\n",
    "\n",
    "        plt.plot(norm_heights, temperatures, '.',\n",
    "                     label=f\"{target_hrr} {unit}\")\n",
    "    else:\n",
    "        # Skip.\n",
    "        continue\n",
    "    \n",
    "    \n",
    "plt.plot(mcc_idealised_temp.Height,\n",
    "         mcc_idealised_temp.Temperature,\n",
    "         color='k',\n",
    "         label='McCaffrey')\n",
    "\n",
    "\n",
    "plt.xscale('log')\n",
    "plt.yscale('log')\n",
    "plt.xlim(0.008, 0.6)\n",
    "\n",
    "plt.ylabel('Temperature / °C')\n",
    "plt.xlabel('Normalised Height / m/(kW^(2/5)) ')\n",
    "\n",
    "plt.legend()\n",
    "plt.grid()\n",
    "plt.tight_layout()\n",
    "\n",
    "\n",
    "# Save image.\n",
    "file_label = f\"PlumeSim_{resolution_label}_{data_series_label}_Temp.png\"\n",
    "plot_path = os.path.join(output_dir, \n",
    "                         file_label)\n",
    "plt.savefig(plot_path, dpi=320)"
   ]
  },
  {
   "cell_type": "markdown",
   "metadata": {},
   "source": []
  }
 ],
 "metadata": {
  "kernelspec": {
   "display_name": "Python 3 (ipykernel)",
   "language": "python",
   "name": "python3"
  },
  "language_info": {
   "codemirror_mode": {
    "name": "ipython",
    "version": 3
   },
   "file_extension": ".py",
   "mimetype": "text/x-python",
   "name": "python",
   "nbconvert_exporter": "python",
   "pygments_lexer": "ipython3",
   "version": "3.9.9"
  }
 },
 "nbformat": 4,
 "nbformat_minor": 4
}
