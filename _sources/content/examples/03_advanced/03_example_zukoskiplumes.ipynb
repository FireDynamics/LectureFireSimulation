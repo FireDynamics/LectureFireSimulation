{
 "cells": [
  {
   "cell_type": "code",
   "execution_count": 1,
   "id": "403ff21a-eed6-4afe-b517-7c4d8aa07925",
   "metadata": {
    "tags": [
     "hide_cell"
    ]
   },
   "outputs": [],
   "source": [
    "import matplotlib\n",
    "import matplotlib.pyplot as plt\n",
    "import numpy as np\n",
    "import pandas as pd\n",
    "\n",
    "from IPython.display import display\n",
    "from PIL import Image\n",
    "\n",
    "import os\n",
    "# check for set environment variable JB_NOSHOW\n",
    "show = True\n",
    "if 'JB_NOSHOW' in os.environ:\n",
    "    show = False"
   ]
  },
  {
   "cell_type": "markdown",
   "id": "01533c6d-ba6a-4093-a074-287e03b3ae74",
   "metadata": {},
   "source": [
    "# Zukoski Plumes\n",
    "\n",
    "## Setup Description\n",
    "\n",
    "\n",
    "\n",
    " Zukoski et al. [Experimental Study of Environment and Heat Transfer in a Room Fire. Mixing in Doorway Flows and Entrainment in Fire Plumes.](https://www.nist.gov/publications/experimental-study-environment-and-heat-transfer-room-fire-mixing-doorway-flows-and)"
   ]
  },
  {
   "cell_type": "code",
   "execution_count": null,
   "id": "071e5142-03b3-428c-8a25-ac3c5e9934b5",
   "metadata": {},
   "outputs": [],
   "source": []
  }
 ],
 "metadata": {
  "kernelspec": {
   "display_name": "Python 3 (ipykernel)",
   "language": "python",
   "name": "python3"
  },
  "language_info": {
   "codemirror_mode": {
    "name": "ipython",
    "version": 3
   },
   "file_extension": ".py",
   "mimetype": "text/x-python",
   "name": "python",
   "nbconvert_exporter": "python",
   "pygments_lexer": "ipython3",
   "version": "3.10.4"
  }
 },
 "nbformat": 4,
 "nbformat_minor": 5
}
