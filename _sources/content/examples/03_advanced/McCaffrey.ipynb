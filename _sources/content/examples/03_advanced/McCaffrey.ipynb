{
 "cells": [
  {
   "cell_type": "code",
   "execution_count": 12,
   "metadata": {},
   "outputs": [],
   "source": [
    "import os\n",
    "import fdsreader\n",
    "import matplotlib\n",
    "\n",
    "import numpy as np\n",
    "import pandas as pd\n",
    "import Processing as proc\n",
    "import matplotlib.pyplot as plt\n",
    "\n",
    "from importlib import reload\n",
    "\n",
    "\n",
    "# Reload Python modules for changes that occurred during runtime.\n",
    "reload(proc);"
   ]
  },
  {
   "cell_type": "markdown",
   "metadata": {},
   "source": [
    "# McCaffrey Plumes\n",
    "\n",
    "## Setup Description\n",
    "\n",
    "The simulations are based on the different setups of the [McCaffrey plume experiments](https://nvlpubs.nist.gov/nistpubs/Legacy/IR/nbsir79-1910.pdf), which are proposed and discussed in the [Extra Task: Simulation of a purely buoyant diffusion flame](extra-task). The goal is to reproduce aspects of McCaffreys work, like determining the temperature and velocity changes on the plume centre axis over the height. \n",
    "\n",
    "In this example, the directory for our project is called `FirePlumes`. Inside the project directory, three other directories are created: one to store the jupyter notebooks `RunReports`, one for the simulations `McCaffrey`, and one for general information `GeneralInformation`. \n",
    "\n",
    "The `McCaffrey` directory contains different simulations of the McCaffrey setup. In `GeneralInformation` files containing the extracted experiment data are located. These data series were extracted using the [WebPlotDigitizer](../01_basic/04_basic_example_iv). The Jupyter notebooks are to be located in `RunReports`.\n",
    "\n",
    "As structure it is recommended that the user creates directories labeled based on the experiment setup, for example `14kW`. This way data can nicely be accessed when following this example here. Furthermore, simulations are performed with differernt resolutions, based on the reference cell. Simulations of these groups are referred to by the resolutin with respect to the reference cell and are stored in according directories. For example the \"C5\" directory contains simulations for which the reference cell was divided by 5 in each direction.\n",
    "\n"
   ]
  },
  {
   "cell_type": "markdown",
   "metadata": {},
   "source": [
    "````{admonition} Precomputed simulation data McCaffrey 14 kW\n",
    ":class: tip\n",
    "[Download link](https://uni-wuppertal.sciebo.de/s/p8nn60Kmtd3qoRt/download?path=%2F&files=fire_plumes_mccaffrey_14kw.zip)\n",
    "````"
   ]
  },
  {
   "cell_type": "markdown",
   "metadata": {},
   "source": [
    "````{admonition} Precomputed simulation data McCaffrey 22 kW\n",
    ":class: tip\n",
    "[Download link](https://uni-wuppertal.sciebo.de/s/p8nn60Kmtd3qoRt/download?path=%2F&files=fire_plumes_mccaffrey_22kw.zip)\n",
    "````"
   ]
  },
  {
   "cell_type": "markdown",
   "metadata": {},
   "source": [
    "````{admonition} Precomputed simulation data McCaffrey 33 kW\n",
    ":class: tip\n",
    "[Download link](https://uni-wuppertal.sciebo.de/s/p8nn60Kmtd3qoRt/download?path=%2F&files=fire_plumes_mccaffrey_33kw.zip)\n",
    "````"
   ]
  },
  {
   "cell_type": "markdown",
   "metadata": {},
   "source": [
    "````{admonition} Precomputed simulation data McCaffrey 45 kW\n",
    ":class: tip\n",
    "[Download link](https://uni-wuppertal.sciebo.de/s/p8nn60Kmtd3qoRt/download?path=%2F&files=fire_plumes_mccaffrey_45kw.zip)\n",
    "````"
   ]
  },
  {
   "cell_type": "markdown",
   "metadata": {},
   "source": [
    "````{admonition} Precomputed simulation data McCaffrey 57 kW\n",
    ":class: tip\n",
    "[Download link](https://uni-wuppertal.sciebo.de/s/p8nn60Kmtd3qoRt/download?path=%2F&files=fire_plumes_mccaffrey_57kw.zip)\n",
    "````"
   ]
  },
  {
   "cell_type": "markdown",
   "metadata": {},
   "source": [
    "````{admonition} McCaffrey Experiment Data\n",
    ":class: tip\n",
    "[Download link](https://uni-wuppertal.sciebo.de/s/p8nn60Kmtd3qoRt/download?path=%2F&files=fire_plumes_mccaffrey_experimental_data.zip)\n",
    "````"
   ]
  },
  {
   "cell_type": "markdown",
   "metadata": {},
   "source": [
    "## Some Basic Setup\n",
    "\n",
    "Sometimes it is helpful to keep track of the versions of the used packages. This can be accomplished with the following input."
   ]
  },
  {
   "cell_type": "code",
   "execution_count": 13,
   "metadata": {},
   "outputs": [
    {
     "name": "stdout",
     "output_type": "stream",
     "text": [
      "Package Versions\n",
      "---------------------\n",
      "Pandas version: 1.5.0\n",
      "Numpy version: 1.23.3\n",
      "Matplotlib version: 3.6.0\n",
      "fdsreader version: 1.8.4\n"
     ]
    }
   ],
   "source": [
    "print('Package Versions')\n",
    "print('---------------------')\n",
    "print('Pandas version: {}'.format(pd.__version__))\n",
    "print('Numpy version: {}'.format(np.__version__))\n",
    "print('Matplotlib version: {}'.format(matplotlib.__version__))\n",
    "print('fdsreader version: {}'.format(fdsreader.__version__))"
   ]
  },
  {
   "cell_type": "markdown",
   "metadata": {},
   "source": [
    "It is also helpful to have the current working directory stored in a variable for easy access."
   ]
  },
  {
   "cell_type": "code",
   "execution_count": 14,
   "metadata": {},
   "outputs": [
    {
     "data": {
      "text/plain": [
       "'/media/tristan/Extra Drive 1/git/LectureFireSimulation/book/content/examples/03_advanced'"
      ]
     },
     "execution_count": 14,
     "metadata": {},
     "output_type": "execute_result"
    }
   ],
   "source": [
    "# Get current working directory.\n",
    "cwd = os.getcwd()\n",
    "cwd"
   ]
  },
  {
   "cell_type": "markdown",
   "metadata": {},
   "source": [
    "In the following code block general information necessary for this notebook is stored. For example, path to different directories that contain static information, such as directories containing experiment data or path fragments to different sub-sets of simulations. \n",
    "\n",
    "Furthermore, functionality is provided that creates an output directory, if it does not exist. The path to this output directory is stored in a variable for easy access during this norebook. When keeping the same strategy across similar notebooks for different projects, one only needs to adjust the directory lable in this cell and can always call the respective variable. "
   ]
  },
  {
   "cell_type": "code",
   "execution_count": 23,
   "metadata": {},
   "outputs": [
    {
     "name": "stdout",
     "output_type": "stream",
     "text": [
      "* Output directory already exists.\n"
     ]
    }
   ],
   "source": [
    "# General information used in this notebook.\n",
    "\n",
    "# Define base path to McCaffrey simulations.\n",
    "# add \"..\" as first element in os.path.join()\n",
    "mcc_sim_base_path = os.path.join(\"McCaffreyPlumes\")\n",
    "\n",
    "\n",
    "# Path to experiment data.\n",
    "# add \"..\" as first element in os.path.join()\n",
    "exp_base_path = os.path.join(\"GeneralInformation\", \"ExperimentData\")\n",
    "\n",
    "\n",
    "# Initialise data collection.\n",
    "plume_sims = dict()\n",
    "plume_sims[\"McCaffrey\"] = dict()\n",
    "plume_sims[\"McCaffrey\"][\"Exp\"] = {\n",
    "    \"14kW\": {\n",
    "        \"Burner\": 14.4, \n",
    "        \"Marker\": 'o'},\n",
    "    \"22kW\": {\n",
    "        \"Burner\": 21.7,\n",
    "        \"Marker\": 'h'},\n",
    "    \"33kW\": {\n",
    "        \"Burner\": 33.0,\n",
    "        \"Marker\": '^'},\n",
    "    \"45kW\": {\n",
    "        \"Burner\": 44.9,\n",
    "        \"Marker\": 's'},\n",
    "    \"57kW\": {\n",
    "        \"Burner\": 57.5,\n",
    "        \"Marker\": 'D'}\n",
    "}\n",
    "\n",
    "\n",
    "# # Directory used to collect the output produced by this notebook.\n",
    "# output_dir = \"OutputMcCaffrey\"\n",
    "# if not os.path.isdir(output_dir):\n",
    "#     os.mkdir(output_dir)\n",
    "#     print(\"* Output directory created.\")\n",
    "# else:\n",
    "#     print(\"* Output directory already exists.\")"
   ]
  },
  {
   "cell_type": "code",
   "execution_count": 16,
   "metadata": {},
   "outputs": [
    {
     "data": {
      "text/plain": [
       "{'14kW': {'Burner': 14.4, 'Marker': 'o'},\n",
       " '22kW': {'Burner': 21.7, 'Marker': 'h'},\n",
       " '33kW': {'Burner': 33.0, 'Marker': '^'},\n",
       " '45kW': {'Burner': 44.9, 'Marker': 's'},\n",
       " '57kW': {'Burner': 57.5, 'Marker': 'D'}}"
      ]
     },
     "execution_count": 16,
     "metadata": {},
     "output_type": "execute_result"
    }
   ],
   "source": [
    "# Check dictionary for data collection.\n",
    "plume_sims[\"McCaffrey\"][\"Exp\"]"
   ]
  },
  {
   "cell_type": "markdown",
   "metadata": {},
   "source": [
    "## Read Experiment Data\n",
    "\n",
    "In the following block the experiment data is read. These data sets are also stored in the same dictionary with all the data series from the simulations. This keeps everthing nicely organised."
   ]
  },
  {
   "cell_type": "code",
   "execution_count": 17,
   "metadata": {},
   "outputs": [
    {
     "data": {
      "text/html": [
       "<div>\n",
       "<style scoped>\n",
       "    .dataframe tbody tr th:only-of-type {\n",
       "        vertical-align: middle;\n",
       "    }\n",
       "\n",
       "    .dataframe tbody tr th {\n",
       "        vertical-align: top;\n",
       "    }\n",
       "\n",
       "    .dataframe thead th {\n",
       "        text-align: right;\n",
       "    }\n",
       "</style>\n",
       "<table border=\"1\" class=\"dataframe\">\n",
       "  <thead>\n",
       "    <tr style=\"text-align: right;\">\n",
       "      <th></th>\n",
       "      <th>Height</th>\n",
       "      <th>Temperature</th>\n",
       "    </tr>\n",
       "  </thead>\n",
       "  <tbody>\n",
       "    <tr>\n",
       "      <th>0</th>\n",
       "      <td>0.015375</td>\n",
       "      <td>749.297459</td>\n",
       "    </tr>\n",
       "    <tr>\n",
       "      <th>1</th>\n",
       "      <td>0.017051</td>\n",
       "      <td>756.967266</td>\n",
       "    </tr>\n",
       "    <tr>\n",
       "      <th>2</th>\n",
       "      <td>0.020437</td>\n",
       "      <td>787.727232</td>\n",
       "    </tr>\n",
       "    <tr>\n",
       "      <th>3</th>\n",
       "      <td>0.023999</td>\n",
       "      <td>809.319913</td>\n",
       "    </tr>\n",
       "    <tr>\n",
       "      <th>4</th>\n",
       "      <td>0.027351</td>\n",
       "      <td>820.929903</td>\n",
       "    </tr>\n",
       "  </tbody>\n",
       "</table>\n",
       "</div>"
      ],
      "text/plain": [
       "     Height  Temperature\n",
       "0  0.015375   749.297459\n",
       "1  0.017051   756.967266\n",
       "2  0.020437   787.727232\n",
       "3  0.023999   809.319913\n",
       "4  0.027351   820.929903"
      ]
     },
     "execution_count": 17,
     "metadata": {},
     "output_type": "execute_result"
    }
   ],
   "source": [
    "# Read temperature expertiment data.\n",
    "\n",
    "# Temperature file name base.\n",
    "mcc_temp_label = \"McCaffrey_Temperature_{}.csv\"\n",
    "\n",
    "\n",
    "# Shortend for convenience.\n",
    "mcc_exp = plume_sims[\"McCaffrey\"][\"Exp\"]\n",
    "\n",
    "# Go over all experiment setups.\n",
    "for exp_label in list(mcc_exp):\n",
    "    #print(exp_label)\n",
    "    # Build file label from dictionary keys.\n",
    "    file_label = mcc_temp_label.format(exp_label)\n",
    "    # Build file path to experiment data.\n",
    "    exp_path = os.path.join(exp_base_path, file_label)\n",
    "    \n",
    "    # Read file as Pandas DataFrame.\n",
    "    exp_df = pd.read_csv(exp_path, header=1)\n",
    "    \n",
    "    # Collect DataFrame.\n",
    "    mcc_exp[exp_label][\"Temperature\"] = exp_df\n",
    "    \n",
    "    \n",
    "# Check result.\n",
    "plume_sims[\"McCaffrey\"][\"Exp\"][\"14kW\"][\"Temperature\"].head()"
   ]
  },
  {
   "cell_type": "code",
   "execution_count": 18,
   "metadata": {},
   "outputs": [
    {
     "data": {
      "text/html": [
       "<div>\n",
       "<style scoped>\n",
       "    .dataframe tbody tr th:only-of-type {\n",
       "        vertical-align: middle;\n",
       "    }\n",
       "\n",
       "    .dataframe tbody tr th {\n",
       "        vertical-align: top;\n",
       "    }\n",
       "\n",
       "    .dataframe thead th {\n",
       "        text-align: right;\n",
       "    }\n",
       "</style>\n",
       "<table border=\"1\" class=\"dataframe\">\n",
       "  <thead>\n",
       "    <tr style=\"text-align: right;\">\n",
       "      <th></th>\n",
       "      <th>Height</th>\n",
       "      <th>Velocity</th>\n",
       "    </tr>\n",
       "  </thead>\n",
       "  <tbody>\n",
       "    <tr>\n",
       "      <th>0</th>\n",
       "      <td>0.015426</td>\n",
       "      <td>0.748036</td>\n",
       "    </tr>\n",
       "    <tr>\n",
       "      <th>1</th>\n",
       "      <td>0.017185</td>\n",
       "      <td>0.839401</td>\n",
       "    </tr>\n",
       "    <tr>\n",
       "      <th>2</th>\n",
       "      <td>0.020562</td>\n",
       "      <td>0.936540</td>\n",
       "    </tr>\n",
       "    <tr>\n",
       "      <th>3</th>\n",
       "      <td>0.023999</td>\n",
       "      <td>1.052238</td>\n",
       "    </tr>\n",
       "    <tr>\n",
       "      <th>4</th>\n",
       "      <td>0.027461</td>\n",
       "      <td>1.145382</td>\n",
       "    </tr>\n",
       "  </tbody>\n",
       "</table>\n",
       "</div>"
      ],
      "text/plain": [
       "     Height  Velocity\n",
       "0  0.015426  0.748036\n",
       "1  0.017185  0.839401\n",
       "2  0.020562  0.936540\n",
       "3  0.023999  1.052238\n",
       "4  0.027461  1.145382"
      ]
     },
     "execution_count": 18,
     "metadata": {},
     "output_type": "execute_result"
    }
   ],
   "source": [
    "# Read velocity expertiment data.\n",
    "\n",
    "# Temperature file name base.\n",
    "mcc_temp_label = \"McCaffrey_Velocity_{}.csv\"\n",
    "\n",
    "\n",
    "# Shortend for convenience.\n",
    "mcc_exp = plume_sims[\"McCaffrey\"][\"Exp\"]\n",
    "\n",
    "# Go over all experiment setups.\n",
    "for exp_label in list(mcc_exp):\n",
    "    #print(exp_label)\n",
    "    # Build file label from dictionary keys.\n",
    "    file_label = mcc_temp_label.format(exp_label)\n",
    "    # Build file path to experiment data.\n",
    "    exp_path = os.path.join(exp_base_path, file_label)\n",
    "    \n",
    "    # Read file as Pandas DataFrame.\n",
    "    exp_df = pd.read_csv(exp_path, header=1)\n",
    "    \n",
    "    # Collect DataFrame.\n",
    "    mcc_exp[exp_label][\"Velocity\"] = exp_df\n",
    "    \n",
    "    \n",
    "# Check result.\n",
    "plume_sims[\"McCaffrey\"][\"Exp\"][\"14kW\"][\"Velocity\"].head()"
   ]
  },
  {
   "cell_type": "code",
   "execution_count": 19,
   "metadata": {},
   "outputs": [
    {
     "data": {
      "text/html": [
       "<div>\n",
       "<style scoped>\n",
       "    .dataframe tbody tr th:only-of-type {\n",
       "        vertical-align: middle;\n",
       "    }\n",
       "\n",
       "    .dataframe tbody tr th {\n",
       "        vertical-align: top;\n",
       "    }\n",
       "\n",
       "    .dataframe thead th {\n",
       "        text-align: right;\n",
       "    }\n",
       "</style>\n",
       "<table border=\"1\" class=\"dataframe\">\n",
       "  <thead>\n",
       "    <tr style=\"text-align: right;\">\n",
       "      <th></th>\n",
       "      <th>Height</th>\n",
       "      <th>Velocity</th>\n",
       "    </tr>\n",
       "  </thead>\n",
       "  <tbody>\n",
       "    <tr>\n",
       "      <th>0</th>\n",
       "      <td>0.008</td>\n",
       "      <td>0.6</td>\n",
       "    </tr>\n",
       "    <tr>\n",
       "      <th>1</th>\n",
       "      <td>0.080</td>\n",
       "      <td>1.9</td>\n",
       "    </tr>\n",
       "    <tr>\n",
       "      <th>2</th>\n",
       "      <td>0.200</td>\n",
       "      <td>1.9</td>\n",
       "    </tr>\n",
       "    <tr>\n",
       "      <th>3</th>\n",
       "      <td>0.600</td>\n",
       "      <td>1.3</td>\n",
       "    </tr>\n",
       "  </tbody>\n",
       "</table>\n",
       "</div>"
      ],
      "text/plain": [
       "   Height  Velocity\n",
       "0   0.008       0.6\n",
       "1   0.080       1.9\n",
       "2   0.200       1.9\n",
       "3   0.600       1.3"
      ]
     },
     "execution_count": 19,
     "metadata": {},
     "output_type": "execute_result"
    }
   ],
   "source": [
    "# Read idealised data.\n",
    "\n",
    "# Idealised data file names.\n",
    "mcc_tempideal_label = \"McCaffrey_Temperature_Idealised.csv\"\n",
    "mcc_veloideal_label = \"McCaffrey_Velocity_Idealised.csv\"\n",
    "\n",
    "\n",
    "# Shortend for convenience.\n",
    "plume_sims[\"McCaffrey\"][\"Ideal\"] = dict()\n",
    "mcc_ideal = plume_sims[\"McCaffrey\"][\"Ideal\"]\n",
    "\n",
    "# Build file path to experiment data.\n",
    "exp_path = os.path.join(exp_base_path, mcc_tempideal_label)\n",
    "# Read file as Pandas DataFrame.\n",
    "exp_df = pd.read_csv(exp_path, header=1)\n",
    "# Collect DataFrame.\n",
    "mcc_ideal[\"Temperature\"] = exp_df\n",
    "\n",
    "# Build file path to experiment data.\n",
    "exp_path = os.path.join(exp_base_path, mcc_veloideal_label)\n",
    "# Read file as Pandas DataFrame.\n",
    "exp_df = pd.read_csv(exp_path, header=1)\n",
    "# Collect DataFrame.\n",
    "mcc_ideal[\"Velocity\"] = exp_df\n",
    "    \n",
    "    \n",
    "# Check result.\n",
    "plume_sims[\"McCaffrey\"][\"Ideal\"][\"Velocity\"].head()"
   ]
  },
  {
   "cell_type": "markdown",
   "metadata": {},
   "source": [
    "## Plot Experiment Data\n",
    "\n",
    "After the experiment data was read, now we create plots to get an overview on it."
   ]
  },
  {
   "cell_type": "code",
   "execution_count": null,
   "metadata": {},
   "outputs": [],
   "source": []
  },
  {
   "cell_type": "code",
   "execution_count": 20,
   "metadata": {},
   "outputs": [
    {
     "data": {
      "image/png": "[encoded data removed]",
      "text/plain": [
       "<Figure size 640x480 with 1 Axes>"
      ]
     },
     "metadata": {},
     "output_type": "display_data"
    }
   ],
   "source": [
    "# Plot the temperature experiment data.\n",
    "\n",
    "# Define ticks and tick labels.\n",
    "x_ticks = [0.008, 0.01, 0.02,0.03,0.04,0.05,0.06,0.08,0.1,0.2,0.3,0.4,0.5,0.6]\n",
    "x_ticklabels = [\"0.008\", \"0.01\", \"0.02\",\"0.03\",\"0.04\",\"0.05\",\"0.06\",\"0.08\",\"0.1\",\"0.2\",\"0.3\",\"0.4\",\"0.5\",\"0.6\"]\n",
    "y_ticks = [40,50,60,80,100,200,300,400,500,600,700,800,900]\n",
    "y_ticklabels = [\"40\",\"50\",\"60\",\"80\",\"100\",\"200\",\"300\",\"400\",\"500\",\"600\",\"700\",\"800\",\"900\"]\n",
    "\n",
    "\n",
    "# Set up plotting.\n",
    "fig, ax = plt.subplots()\n",
    "\n",
    "# Shortend for convenience.\n",
    "mcc_exp = plume_sims[\"McCaffrey\"][\"Exp\"]\n",
    "mcc_ideal = plume_sims[\"McCaffrey\"][\"Ideal\"]\n",
    "# Go over all experiment setups.\n",
    "for exp_label in list(mcc_exp):\n",
    "    \n",
    "    height = mcc_exp[exp_label][\"Temperature\"][\"Height\"]\n",
    "    temp = mcc_exp[exp_label][\"Temperature\"][\"Temperature\"]\n",
    "    plot_marker = mcc_exp[exp_label][\"Marker\"]\n",
    "    \n",
    "    plt.plot(height,\n",
    "             temp,\n",
    "             linestyle='None', marker=plot_marker,\n",
    "             fillstyle='none', color='k',\n",
    "             label=exp_label)\n",
    "    \n",
    "    \n",
    "plt.plot(mcc_ideal[\"Temperature\"][\"Height\"], \n",
    "         mcc_ideal[\"Temperature\"][\"Temperature\"], \n",
    "         color='k')\n",
    "\n",
    "\n",
    "# Plot meta data.\n",
    "plt.grid()\n",
    "plt.xlim(0.008, 0.6)\n",
    "plt.xscale('log')\n",
    "plt.yscale('log')\n",
    "\n",
    "plt.xlabel(\"Normalised Height / m * kW^(2/5)\")\n",
    "plt.ylabel(\"Temperature / °C\")\n",
    "\n",
    "ax.set_xticks(x_ticks)\n",
    "ax.set_xticklabels(x_ticklabels, rotation = 90, \n",
    "                   ha=\"center\")\n",
    "\n",
    "ax.set_yticks(y_ticks)\n",
    "ax.set_yticklabels(y_ticklabels, ha=\"right\")\n",
    "\n",
    "plt.legend()\n",
    "plt.tight_layout()\n",
    "\n",
    "\n",
    "# # Save image.\n",
    "# file_label = f\"McCaffrey_Experiment_Temp.png\"\n",
    "# plot_path = os.path.join(output_dir, \n",
    "#                          file_label)\n",
    "# plt.savefig(plot_path, dpi=320)"
   ]
  },
  {
   "cell_type": "code",
   "execution_count": 21,
   "metadata": {},
   "outputs": [
    {
     "data": {
      "image/png": "[encoded data removed]",
      "text/plain": [
       "<Figure size 640x480 with 1 Axes>"
      ]
     },
     "metadata": {},
     "output_type": "display_data"
    }
   ],
   "source": [
    "# Plot the velocity experiment data.\n",
    "\n",
    "# Define ticks and tick labels.\n",
    "x_ticks = [0.008, 0.01, 0.02,0.03,0.04,0.05,0.06,0.08,0.1,0.2,0.3,0.4,0.5,0.6]\n",
    "x_ticklabels = [\"0.008\", \"0.01\", \"0.02\",\"0.03\",\"0.04\",\"0.05\",\"0.06\",\"0.08\",\"0.1\",\"0.2\",\"0.3\",\"0.4\",\"0.5\",\"0.6\"]\n",
    "y_ticks = [0.2,0.3,0.4,0.5,0.6,0.8,1.0,2.0,3.0]\n",
    "y_ticklabels = [\"0.2\",\"0.3\",\"0.4\",\"0.5\",\"0.6\",\"0.8\",\"1.0\",\"2.0\",\"3.0\"]\n",
    "\n",
    "\n",
    "# Set up plotting.\n",
    "fig, ax = plt.subplots()\n",
    "\n",
    "# Shortend for convenience.\n",
    "mcc_exp = plume_sims[\"McCaffrey\"][\"Exp\"]\n",
    "mcc_ideal = plume_sims[\"McCaffrey\"][\"Ideal\"]\n",
    "# Go over all experiment setups.\n",
    "for exp_label in list(mcc_exp):\n",
    "    \n",
    "    height = mcc_exp[exp_label][\"Velocity\"][\"Height\"]\n",
    "    temp = mcc_exp[exp_label][\"Velocity\"][\"Velocity\"]\n",
    "    plot_marker = mcc_exp[exp_label][\"Marker\"]\n",
    "    \n",
    "    plt.plot(height,\n",
    "             temp,\n",
    "             linestyle='None', marker=plot_marker,\n",
    "             fillstyle='none', color='k',\n",
    "             label=exp_label)\n",
    "    \n",
    "    \n",
    "plt.plot(mcc_ideal[\"Velocity\"][\"Height\"], \n",
    "         mcc_ideal[\"Velocity\"][\"Velocity\"], \n",
    "         color='k')\n",
    "\n",
    "\n",
    "# Plot meta data.\n",
    "plt.grid()\n",
    "plt.xlim(0.008, 0.6)\n",
    "plt.xscale('log')\n",
    "plt.yscale('log')\n",
    "\n",
    "plt.xlabel(\"Normalised Height / m * kW^(2/5)\")\n",
    "plt.ylabel(\"Velocity / m/s\")\n",
    "\n",
    "ax.set_xticks(x_ticks)\n",
    "ax.set_xticklabels(x_ticklabels, rotation = 90, \n",
    "                   ha=\"center\")\n",
    "\n",
    "ax.set_yticks(y_ticks)\n",
    "ax.set_yticklabels(y_ticklabels, ha=\"right\")\n",
    "\n",
    "plt.legend()\n",
    "plt.tight_layout()\n",
    "\n",
    "\n",
    "# # Save image.\n",
    "# file_label = f\"McCaffrey_Experiment_Velo.png\"\n",
    "# plot_path = os.path.join(output_dir, \n",
    "#                          file_label)\n",
    "# plt.savefig(plot_path, dpi=320)"
   ]
  },
  {
   "cell_type": "code",
   "execution_count": null,
   "metadata": {},
   "outputs": [],
   "source": []
  },
  {
   "cell_type": "markdown",
   "metadata": {},
   "source": [
    "## Read Simulation Response\n",
    "\n",
    "Let's read the simulation responses. We make use of the [fdsreader](../../tools/03_analysis/02_fdsreader) and store the simulation objects in the data collection dictionary."
   ]
  },
  {
   "cell_type": "code",
   "execution_count": 25,
   "metadata": {},
   "outputs": [
    {
     "name": "stdout",
     "output_type": "stream",
     "text": [
      "* None (C5, 14kW)\n",
      "* None (C5, 22kW)\n",
      "* None (C5, 33kW)\n",
      "* None (C5, 45kW)\n",
      "* None (C5, 57kW)\n"
     ]
    }
   ],
   "source": [
    "# Initialise data collection.\n",
    "plume_sims[\"McCaffrey\"][\"Sim\"] = dict()\n",
    "mcc_sims = plume_sims[\"McCaffrey\"][\"Sim\"]\n",
    "mcc_labels = list(plume_sims[\"McCaffrey\"][\"Exp\"])\n",
    "\n",
    "# Which sets to read?\n",
    "resolutions = [\"C5\"]\n",
    "\n",
    "# Read data sets.\n",
    "for resolution in resolutions:\n",
    "    # Add new dictionary per set.\n",
    "    mcc_sims[resolution] = dict()\n",
    "    \n",
    "    # Go over the experiment labels.\n",
    "    for mcc_label in mcc_labels:\n",
    "        # Build path to simulation.\n",
    "        sim_path = os.path.join(mcc_sim_base_path, \n",
    "                                resolution, mcc_label)\n",
    "        \n",
    "        # Check if FDS simulation exists.\n",
    "        out_path = os.path.join(sim_path, \"McCaffrey.out\")\n",
    "        if os.path.exists(out_path):\n",
    "            # Read simulation data.\n",
    "            fdssim = fdsreader.Simulation(sim_path)\n",
    "            print(f\"- FDS sim. read: {resolution}, {mcc_label}\")\n",
    "        else:\n",
    "            # Handle exception.\n",
    "            fdssim = None\n",
    "            print(f\"* None ({resolution}, {mcc_label})\")\n",
    "\n",
    "        # Collect FDS simulation result.\n",
    "        mcc_sims[resolution][mcc_label] = fdssim\n",
    "    \n",
    "\n",
    "# Check result.\n",
    "plume_sims[\"McCaffrey\"][\"Sim\"][\"C5\"][\"14kW\"]"
   ]
  },
  {
   "cell_type": "code",
   "execution_count": null,
   "metadata": {},
   "outputs": [],
   "source": [
    "plume_sims[\"McCaffrey\"][\"Sim\"][\"C5\"][\"14kW\"]"
   ]
  },
  {
   "cell_type": "markdown",
   "metadata": {},
   "source": [
    "To make life a bit easier further down the line, the column headers are grouped in lists based on their quantity. Since all simulation setups are essentially the same, except for the ehergy release."
   ]
  },
  {
   "cell_type": "code",
   "execution_count": null,
   "metadata": {},
   "outputs": [],
   "source": [
    "# Sort the DEVC data series.\n",
    "headers_temp = list()\n",
    "headers_tc = list()\n",
    "\n",
    "# Get DEVC info, for convenience.\n",
    "devcs = plume_sims[\"McCaffrey\"][\"Sim\"][\"C5\"][\"14kW\"].devices\n",
    "\n",
    "# Go over all DEVC and get their ID.\n",
    "for devc in devcs:\n",
    "    if \"Temp_\" in devc.id:\n",
    "        headers_temp.append(devc.id)\n",
    "    elif \"TC_\" in devc.id:\n",
    "        headers_tc.append(devc.id)"
   ]
  },
  {
   "cell_type": "code",
   "execution_count": null,
   "metadata": {},
   "outputs": [],
   "source": []
  },
  {
   "cell_type": "code",
   "execution_count": null,
   "metadata": {},
   "outputs": [],
   "source": []
  },
  {
   "cell_type": "markdown",
   "metadata": {},
   "source": [
    "# Assess the Simulation Response\n",
    "\n",
    "Two types of devices are present in the simulation: thermocouples and temperature. We llok at these first. Afterwards we look into information from the slice files."
   ]
  },
  {
   "cell_type": "markdown",
   "metadata": {},
   "source": [
    "## Plot Temperature Data\n",
    "\n",
    "To compare the simulation results we utilise the plot created above. They are already prepared here. Now, for each simulation setup the height of the devices needs to be scaled by the energy release of the burner.\n",
    "\n",
    "First, lets plot a single data series, the \"14kW\" case of the \"C5\" resolution. Note, the parameters are provided as variables, such that they can easily be transformed into a loop in a further step."
   ]
  },
  {
   "cell_type": "code",
   "execution_count": null,
   "metadata": {},
   "outputs": [],
   "source": [
    "# Plot the temperature data.\n",
    "\n",
    "# Define ticks and tick labels.\n",
    "x_ticks = [0.008, 0.01, 0.02,0.03,0.04,0.05,0.06,0.08,0.1,0.2,0.3,0.4,0.5,0.6]\n",
    "x_ticklabels = [\"0.008\", \"0.01\", \"0.02\",\"0.03\",\"0.04\",\"0.05\",\"0.06\",\"0.08\",\"0.1\",\"0.2\",\"0.3\",\"0.4\",\"0.5\",\"0.6\"]\n",
    "y_ticks = [40,50,60,80,100,200,300,400,500,600,700,800,900]\n",
    "y_ticklabels = [\"40\",\"50\",\"60\",\"80\",\"100\",\"200\",\"300\",\"400\",\"500\",\"600\",\"700\",\"800\",\"900\"]\n",
    "\n",
    "\n",
    "# Set up plotting.\n",
    "fig, ax = plt.subplots()\n",
    "\n",
    "# Experiment\n",
    "# ---------------\n",
    "# Shortend for convenience.\n",
    "mcc_exp = plume_sims[\"McCaffrey\"][\"Exp\"]\n",
    "mcc_ideal = plume_sims[\"McCaffrey\"][\"Ideal\"]\n",
    "# Go over all experiment setups.\n",
    "for exp_label in list(mcc_exp):\n",
    "    \n",
    "    height = mcc_exp[exp_label][\"Temperature\"][\"Height\"]\n",
    "    temp = mcc_exp[exp_label][\"Temperature\"][\"Temperature\"]\n",
    "    plot_marker = mcc_exp[exp_label][\"Marker\"]\n",
    "    \n",
    "    plt.plot(height,\n",
    "             temp,\n",
    "             linestyle='None', marker=plot_marker,\n",
    "             fillstyle='none', color='k',\n",
    "             label=exp_label)\n",
    "    \n",
    "    \n",
    "plt.plot(mcc_ideal[\"Temperature\"][\"Height\"], \n",
    "         mcc_ideal[\"Temperature\"][\"Temperature\"], \n",
    "         color='k')\n",
    "\n",
    "\n",
    "# Simulation\n",
    "# ---------------\n",
    "\n",
    "# \n",
    "resolution = \"C5\"\n",
    "mcc_label = \"14kW\"\n",
    "hrr = mcc_exp[mcc_label][\"Burner\"]\n",
    "plot_marker = mcc_exp[mcc_label][\"Marker\"]\n",
    "\n",
    "# Determine normalised heights.\n",
    "norm_height = np.linspace(0.03,6.57,110) / (hrr**(2/5))\n",
    "\n",
    "# Shortend for convenience.\n",
    "mcc_sim_data = plume_sims[\"McCaffrey\"][\"Sim\"][resolution][mcc_label]\n",
    "norm_height = np.linspace(0.03,6.57,110) / (hrr**(2/5))\n",
    "devcs = mcc_sim_data.devices\n",
    "for header_id, header in enumerate(headers_temp):\n",
    "    new_y = np.average(devcs[header].data[-35:])\n",
    "    plt.plot(norm_height[header_id],\n",
    "             new_y, color='r', fillstyle='none',\n",
    "             marker=plot_marker)\n",
    "\n",
    "# \n",
    "resolution = \"C5\"\n",
    "mcc_label = \"57kW\"\n",
    "hrr = mcc_exp[mcc_label][\"Burner\"]\n",
    "plot_marker = mcc_exp[mcc_label][\"Marker\"]\n",
    "\n",
    "# Determine normalised heights.\n",
    "norm_height = np.linspace(0.03,6.57,110) / (hrr**(2/5))\n",
    "\n",
    "# Shortend for convenience.\n",
    "mcc_sim_data = plume_sims[\"McCaffrey\"][\"Sim\"][resolution][mcc_label]\n",
    "norm_height = np.linspace(0.03,6.57,110) / (hrr**(2/5))\n",
    "devcs = mcc_sim_data.devices\n",
    "for header_id, header in enumerate(headers_temp):\n",
    "    new_y = np.average(devcs[header].data[-35:])\n",
    "    plt.plot(norm_height[header_id],\n",
    "             new_y, color='r', fillstyle='none',\n",
    "             marker=plot_marker)\n",
    "\n",
    "\n",
    "\n",
    "# Plot meta data.\n",
    "plt.grid()\n",
    "plt.xlim(0.008, 0.6)\n",
    "plt.xscale('log')\n",
    "plt.yscale('log')\n",
    "\n",
    "plt.xlabel(\"Normalised Height / m * kW^(2/5)\")\n",
    "plt.ylabel(\"Temperature / °C\")\n",
    "\n",
    "ax.set_xticks(x_ticks)\n",
    "ax.set_xticklabels(x_ticklabels, rotation = 90, \n",
    "                   ha=\"center\")\n",
    "\n",
    "ax.set_yticks(y_ticks)\n",
    "ax.set_yticklabels(y_ticklabels, ha=\"right\")\n",
    "\n",
    "plt.legend()\n",
    "plt.tight_layout()\n",
    "\n",
    "\n",
    "# # Save image.\n",
    "# file_label = f\"McCaffrey_Temp.png\"\n",
    "# plot_path = os.path.join(output_dir, \n",
    "#                          file_label)\n",
    "# plt.savefig(plot_path, dpi=320)"
   ]
  },
  {
   "cell_type": "markdown",
   "metadata": {},
   "source": [
    "Let's create a loop, since it is now working for a single data series. We can easily built on the variables set up earlier. "
   ]
  },
  {
   "cell_type": "code",
   "execution_count": null,
   "metadata": {},
   "outputs": [],
   "source": [
    "# Plot the temperature data.\n",
    "\n",
    "# Define ticks and tick labels.\n",
    "x_ticks = [0.008, 0.01, 0.02,0.03,0.04,0.05,0.06,0.08,0.1,0.2,0.3,0.4,0.5,0.6]\n",
    "x_ticklabels = [\"0.008\", \"0.01\", \"0.02\",\"0.03\",\"0.04\",\"0.05\",\"0.06\",\"0.08\",\"0.1\",\"0.2\",\"0.3\",\"0.4\",\"0.5\",\"0.6\"]\n",
    "y_ticks = [40,50,60,80,100,200,300,400,500,600,700,800,900]\n",
    "y_ticklabels = [\"40\",\"50\",\"60\",\"80\",\"100\",\"200\",\"300\",\"400\",\"500\",\"600\",\"700\",\"800\",\"900\"]\n",
    "\n",
    "\n",
    "# Set up plotting.\n",
    "fig, ax = plt.subplots()\n",
    "\n",
    "# Experiment\n",
    "# ---------------\n",
    "# Shortend for convenience.\n",
    "mcc_exp = plume_sims[\"McCaffrey\"][\"Exp\"]\n",
    "mcc_ideal = plume_sims[\"McCaffrey\"][\"Ideal\"]\n",
    "# Go over all experiment setups.\n",
    "for exp_label in list(mcc_exp):\n",
    "    \n",
    "    height = mcc_exp[exp_label][\"Temperature\"][\"Height\"]\n",
    "    temp = mcc_exp[exp_label][\"Temperature\"][\"Temperature\"]\n",
    "    plot_marker = mcc_exp[exp_label][\"Marker\"]\n",
    "    \n",
    "    plt.plot(height,\n",
    "             temp,\n",
    "             linestyle='None', marker=plot_marker,\n",
    "             fillstyle='none', color='k',\n",
    "             label=exp_label)\n",
    "    \n",
    "    \n",
    "plt.plot(mcc_ideal[\"Temperature\"][\"Height\"], \n",
    "         mcc_ideal[\"Temperature\"][\"Temperature\"], \n",
    "         color='k')\n",
    "\n",
    "\n",
    "# Simulation\n",
    "# ---------------\n",
    "\n",
    "for exp_label in list(mcc_exp):\n",
    "    resolution = \"C5\"\n",
    "#     exp_label = \"14kW\"\n",
    "    hrr = mcc_exp[exp_label][\"Burner\"]\n",
    "    plot_marker = mcc_exp[exp_label][\"Marker\"]\n",
    "\n",
    "    # Determine normalised heights.\n",
    "    norm_height = np.linspace(0.03,6.57,110) / (hrr**(2/5))\n",
    "\n",
    "    # Shortend for convenience.\n",
    "    mcc_sim_data = plume_sims[\"McCaffrey\"][\"Sim\"][resolution][exp_label]\n",
    "    \n",
    "    # Get DEVC data.\n",
    "    devcs = mcc_sim_data.devices\n",
    "    for header_id, header in enumerate(headers_temp):\n",
    "        new_y = np.average(devcs[header].data[-35:])\n",
    "        plt.plot(norm_height[header_id],\n",
    "                 new_y, color='r', fillstyle='none',\n",
    "                 marker=plot_marker)\n",
    "\n",
    "\n",
    "# Plot meta data.\n",
    "plt.grid()\n",
    "plt.xlim(0.008, 0.6)\n",
    "plt.xscale('log')\n",
    "plt.yscale('log')\n",
    "\n",
    "plt.xlabel(\"Normalised Height / m * kW^(2/5)\")\n",
    "plt.ylabel(\"Temperature / °C\")\n",
    "\n",
    "ax.set_xticks(x_ticks)\n",
    "ax.set_xticklabels(x_ticklabels, rotation = 90, \n",
    "                   ha=\"center\")\n",
    "\n",
    "ax.set_yticks(y_ticks)\n",
    "ax.set_yticklabels(y_ticklabels, ha=\"right\")\n",
    "\n",
    "plt.legend()\n",
    "plt.tight_layout()\n",
    "\n",
    "\n",
    "# # Save image.\n",
    "# file_label = f\"McCaffrey_Temp.png\"\n",
    "# plot_path = os.path.join(output_dir, \n",
    "#                          file_label)\n",
    "# plt.savefig(plot_path, dpi=320)"
   ]
  },
  {
   "cell_type": "code",
   "execution_count": null,
   "metadata": {},
   "outputs": [],
   "source": []
  },
  {
   "cell_type": "code",
   "execution_count": null,
   "metadata": {},
   "outputs": [],
   "source": []
  },
  {
   "cell_type": "markdown",
   "metadata": {},
   "source": [
    "## SLCF\n",
    "\n",
    "Next we take a look at the `SLCF` data. The simulations contain vertical slices at a single location and multiple horizontal at different heights above the burner. Quantities provided are `TEMPAERTURE`, `DENSITY` and velocities by component, for example `W-VELOCITY`. Given this information, how could the mass flow be determined?\n",
    "\n",
    "First lets have a look at the content of fdsreader simulation object, with respect to the slices."
   ]
  },
  {
   "cell_type": "code",
   "execution_count": null,
   "metadata": {},
   "outputs": [],
   "source": [
    "resolution = \"C5\"\n",
    "mcc_label = \"57kW\"\n",
    "mcc_sim_data = plume_sims[\"McCaffrey\"][\"Sim\"][resolution][mcc_label]\n",
    "\n",
    "# Check content.\n",
    "mcc_sim_data.slices[:3]"
   ]
  },
  {
   "cell_type": "markdown",
   "metadata": {},
   "source": [
    "We can pick a horizontal slice and a time step. Again think about setting up variables for easier access later on."
   ]
  },
  {
   "cell_type": "code",
   "execution_count": null,
   "metadata": {},
   "outputs": [],
   "source": [
    "# Choose parameters to get desired slice and time step.\n",
    "resolution = \"C5\"\n",
    "mcc_label = \"57kW\"\n",
    "n_slcf = 2\n",
    "sim_time = 30  # s\n",
    "\n",
    "\n",
    "# Finally, also the extend is specified to move from index to physical space.\n",
    "mcc_slcf_data = plume_sims[\"McCaffrey\"][\"Sim\"][resolution][mcc_label].slices\n",
    "time_step = mcc_slcf_data[n_slcf].get_nearest_timestep(sim_time)\n",
    "sim_time_actual = mcc_slcf_data[0].times[time_step]\n",
    "# \n",
    "print(f\"Time step: {time_step}\")\n",
    "print(f\"Simulation time: {sim_time_actual}\")\n",
    "\n",
    "\n",
    "# Plot the slice information as image.\n",
    "plt.imshow(mcc_slcf_data[n_slcf][0].data[time_step].T, \n",
    "           origin='lower',\n",
    "           vmax=400,\n",
    "           extent=mcc_slcf_data[n_slcf].extent.as_list())\n",
    "\n",
    "\n",
    "# Plot meta data.\n",
    "plt.colorbar(label='Temperature / °C')\n",
    "plt.xlabel('x coordinate / m')\n",
    "plt.ylabel('z coordinate / m')\n",
    "\n",
    "plt.tight_layout()"
   ]
  },
  {
   "cell_type": "markdown",
   "metadata": {},
   "source": [
    "It might be useful to limit the area of slice to an area closer around the plume. For this we can set up some frame. First the number of cells is extracted. We know from the setup the number of cells is uneven and also there is an equal amount of cells in x and y directions. Thus we define the frame from a single number, here labelled `cut_start`, and use it to compute `cut_end`. "
   ]
  },
  {
   "cell_type": "code",
   "execution_count": null,
   "metadata": {},
   "outputs": [],
   "source": [
    "# Choose parameters to get desired slice and time step.\n",
    "resolution = \"C5\"\n",
    "mcc_label = \"57kW\"\n",
    "n_slcf = 2\n",
    "sim_time = 30  # s\n",
    "\n",
    "# Define window to cut SLCF data.\n",
    "cut_start_x = 10\n",
    "\n",
    "cut_end_x = (45 - cut_start_x)\n",
    "print(cut_start_x, cut_end_x, cut_end_x - cut_start_x)\n",
    "\n",
    "# Finally, also the extend is specified to move from index to physical space.\n",
    "mcc_slcf_data = plume_sims[\"McCaffrey\"][\"Sim\"][resolution][mcc_label].slices\n",
    "time_step = mcc_slcf_data[n_slcf].get_nearest_timestep(sim_time)\n",
    "sim_time_actual = mcc_slcf_data[0].times[time_step]\n",
    "# \n",
    "print(f\"Time step: {time_step}\")\n",
    "print(f\"Simulation time: {sim_time_actual}\")\n",
    "\n",
    "plt.imshow(mcc_slcf_data[n_slcf][0].data[time_step,\n",
    "                                         cut_start_x:cut_end_x,\n",
    "                                         cut_start_x:cut_end_x], \n",
    "           origin='lower',\n",
    "           vmax=400,\n",
    "           extent=mcc_slcf_data[n_slcf].extent.as_list())\n",
    "\n",
    "\n",
    "# Plot meta data.\n",
    "plt.colorbar(label='Temperature / °C')\n",
    "plt.xlabel('x coordinate / m')\n",
    "plt.ylabel('z coordinate / m')\n",
    "\n",
    "plt.tight_layout()"
   ]
  },
  {
   "cell_type": "markdown",
   "metadata": {},
   "source": [
    "In the McCaffrey experiments the recorded data was averaged over time. We can make use of `np.average()` to average the over a couple of frames for each cell."
   ]
  },
  {
   "cell_type": "code",
   "execution_count": null,
   "metadata": {},
   "outputs": [],
   "source": [
    "n_slcf = 4\n",
    "cut_start_x = 10\n",
    "n_frames = -30\n",
    "\n",
    "n_x_cells = sim.slices[n_slcf][0].data[-1:, 0].size\n",
    "cut_end_x = (45 - cut_start_x)\n",
    "print(cut_start_x, cut_end_x, cut_end_x - cut_start_x)\n",
    "\n",
    "plt.imshow(np.average(sim.slices[n_slcf][0].data[n_frames:,\n",
    "                                                 cut_start_x:cut_end_x,\n",
    "                                                 cut_start_x:cut_end_x], axis=0).T, \n",
    "           origin='lower',\n",
    "           vmax=200,\n",
    "           extent=sim.slices[0].extent.as_list())"
   ]
  },
  {
   "cell_type": "code",
   "execution_count": null,
   "metadata": {},
   "outputs": [],
   "source": []
  },
  {
   "cell_type": "markdown",
   "metadata": {},
   "source": [
    "With setting an unequal window, we can extract rows  of cells and plot their data. Use this functionality to determine the averaged temperature and velocity profiles at different heights across the plume centre. "
   ]
  },
  {
   "cell_type": "code",
   "execution_count": null,
   "metadata": {},
   "outputs": [],
   "source": [
    "# n_slcf = 5\n",
    "# cut_start_x = 15\n",
    "n_frames = -35\n",
    "\n",
    "cut_end_x = (45 - cut_start_x)\n",
    "print(cut_start_x, cut_end_x, cut_end_x - cut_start_x)\n",
    "\n",
    "cut_start_y = 22\n",
    "cut_end_y = (45 - cut_start_y)\n",
    "print(cut_start_y, cut_end_y, cut_end_y - cut_start_y)\n",
    "\n",
    "cross_section = np.average(sim.slices[slcf_id+16][0].data[n_frames:,\n",
    "                                                 cut_start_x:cut_end_x,\n",
    "                                                 cut_start_y:cut_end_y], axis=0)\n",
    "\n",
    "\n",
    "plt.plot(cross_section)"
   ]
  },
  {
   "cell_type": "code",
   "execution_count": null,
   "metadata": {},
   "outputs": [],
   "source": []
  }
 ],
 "metadata": {
  "kernelspec": {
   "display_name": "Python 3 (ipykernel)",
   "language": "python",
   "name": "python3"
  },
  "language_info": {
   "codemirror_mode": {
    "name": "ipython",
    "version": 3
   },
   "file_extension": ".py",
   "mimetype": "text/x-python",
   "name": "python",
   "nbconvert_exporter": "python",
   "pygments_lexer": "ipython3",
   "version": "3.10.4"
  }
 },
 "nbformat": 4,
 "nbformat_minor": 4
}
