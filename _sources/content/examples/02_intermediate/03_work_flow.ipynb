{
 "cells": [
  {
   "cell_type": "code",
   "execution_count": 1,
   "id": "eede844a-953c-4613-b55e-7793a73976c0",
   "metadata": {
    "tags": [
     "hide_cell"
    ]
   },
   "outputs": [],
   "source": [
    "import matplotlib\n",
    "import matplotlib.pyplot as plt\n",
    "import numpy as np\n",
    "import pandas as pd\n",
    "\n",
    "from IPython.display import display\n",
    "from PIL import Image\n",
    "\n",
    "import os\n",
    "# check for set environment variable JB_NOSHOW\n",
    "show = True\n",
    "if 'JB_NOSHOW' in os.environ:\n",
    "    show = False"
   ]
  },
  {
   "cell_type": "markdown",
   "id": "6efe351a-e186-45e6-a227-0e52acf51633",
   "metadata": {},
   "source": [
    "# Work Flow Proposal\n",
    "\n",
    "## Setup Description\n",
    "\n",
    "The principle idea here is to highlight options of managing ones workflow. Functions that are designed by the user can be stored in a Pyhton script, here called `Processing.py`, which is imported to the notebook. This workflow helps to keep the active notebook clean from definitions of functions. "
   ]
  },
  {
   "cell_type": "code",
   "execution_count": null,
   "id": "a03302e0-9dcc-4246-8da2-dc1990c5adca",
   "metadata": {},
   "outputs": [],
   "source": []
  }
 ],
 "metadata": {
  "kernelspec": {
   "display_name": "Python 3 (ipykernel)",
   "language": "python",
   "name": "python3"
  },
  "language_info": {
   "codemirror_mode": {
    "name": "ipython",
    "version": 3
   },
   "file_extension": ".py",
   "mimetype": "text/x-python",
   "name": "python",
   "nbconvert_exporter": "python",
   "pygments_lexer": "ipython3",
   "version": "3.10.4"
  }
 },
 "nbformat": 4,
 "nbformat_minor": 5
}
