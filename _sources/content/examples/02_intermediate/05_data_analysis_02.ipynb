{
 "cells": [
  {
   "cell_type": "code",
   "execution_count": 1,
   "id": "6e9d3b96-a08b-4c53-b2d1-25e33849366d",
   "metadata": {
    "tags": [
     "hide_cell"
    ]
   },
   "outputs": [],
   "source": [
    "# import matplotlib\n",
    "import matplotlib.pyplot as plt\n",
    "plt.rcParams['figure.figsize'] = (6, 4)\n",
    "\n",
    "import numpy as np\n",
    "import pandas as pd\n",
    "import fdsreader\n",
    "\n",
    "from IPython.display import display\n",
    "from PIL import Image"
   ]
  },
  {
   "cell_type": "markdown",
   "id": "ebbe3aa3-86e7-4147-92f5-116bb54969be",
   "metadata": {},
   "source": [
    "# Data Analysis II\n",
    "\n",
    "This example demonstrates an analysis of slice data, here to determine the map of available safe egress time (ASET) and the temporal evolution of the smoke layer height. The used scenario is a multi-room appartment."
   ]
  },
  {
   "cell_type": "markdown",
   "id": "04f3bcc5-9e3f-4ad6-b0d0-334bf1698dc2",
   "metadata": {},
   "source": [
    ":::{figure-md} fig-example-dataanalysis2-scenario-geometry\n",
    "\n",
    "<img src=\"figs/appartment_geometry.png\" width=\"100%\">\n",
    "\n",
    "Visualization of the appartment geometry.\n",
    ":::"
   ]
  },
  {
   "cell_type": "markdown",
   "id": "dfca3770-1c89-49d9-8adc-afdb0beb8f55",
   "metadata": {},
   "source": [
    "````{admonition} Full FDS input file\n",
    ":class: tip, dropdown\n",
    "```{literalinclude} data/compartment/appartment_01/appartment.fds\n",
    "```\n",
    "````\n",
    "\n",
    "````{admonition} Precomputed simulation data\n",
    ":class: tip\n",
    "[Download link](https://uni-wuppertal.sciebo.de/s/p8nn60Kmtd3qoRt/download?path=%2F&files=compartment_appartment_01.zip)\n",
    "````"
   ]
  },
  {
   "cell_type": "markdown",
   "id": "810f0758-814c-4b6b-a4f0-86e2da26f2ad",
   "metadata": {},
   "source": [
    "As shown in [the introduction to fdsreader](../../tools/03_analysis/02_fdsreaders), the FDS simulation results can be read as Python data structures. The simulation consists out of eight meshes. "
   ]
  },
  {
   "cell_type": "code",
   "execution_count": 2,
   "id": "23dde03e-1607-4564-af6c-861064cd9283",
   "metadata": {},
   "outputs": [
    {
     "name": "stdout",
     "output_type": "stream",
     "text": [
      "Simulation(chid=Appartment,\n",
      "           meshes=8,\n",
      "           obstructions=23,\n",
      "           slices=20,\n",
      "           smoke_3d=3)\n"
     ]
    }
   ],
   "source": [
    "path_to_data = 'data/compartment/appartment_01/rundir'\n",
    "\n",
    "sim = fdsreader.Simulation(path_to_data)\n",
    "print(sim)"
   ]
  },
  {
   "cell_type": "markdown",
   "id": "8e143e83-965d-4c1d-82fe-9de59f83bc64",
   "metadata": {},
   "source": [
    "## ASET Map"
   ]
  },
  {
   "cell_type": "markdown",
   "id": "af0f680a-04f9-42d0-b77e-d48a871521bd",
   "metadata": {},
   "source": [
    "This section demonstrate how to compute ASET maps based on the procedure described in {cite}`Schroeder.2020`. The basic idea is to determine for each position in the compartment the first time that a tenability criterion is exceeded. The result is a time map.\n",
    "\n",
    "Although the procedure is based on multiple criteria, for simlicity only one quantity, here the soot density, is used. Its values are evaluated in a z-normal slice at an arbitrary height of $\\SI{1.5}{\\meter}$."
   ]
  },
  {
   "cell_type": "code",
   "execution_count": 3,
   "id": "b21d67e8-cbf2-4d1d-ae27-617fcec4fcd0",
   "metadata": {},
   "outputs": [],
   "source": [
    "# get the soot density slice, normal to z at 1.5m height\n",
    "slc = sim.slices.get_by_id('SootDensityZ_1.5m')\n",
    "\n",
    "# as the simulation is based on multiple meshes, a global \n",
    "# data structure is created, walls are represented as\n",
    "# non-valid data points, i.e. nan\n",
    "slc_data = slc.to_global(masked=True, fill=np.nan)\n"
   ]
  },
  {
   "cell_type": "markdown",
   "id": "df78dd07-c188-40c4-9159-5dbf621a1a5d",
   "metadata": {},
   "source": [
    "First, a visualisation of the data at a selected point is done with the `imshow` function."
   ]
  },
  {
   "cell_type": "code",
   "execution_count": 4,
   "id": "5956b048-e851-46aa-96f7-d68fd96a7bb3",
   "metadata": {},
   "outputs": [],
   "source": [
    "# find the time index\n",
    "it = slc.get_nearest_timestep(50)\n",
    "\n",
    "# visualise the data\n",
    "plt.imshow(slc_data[it,:,:].T, origin='lower', extent=slc.extent.as_list())\n",
    "\n",
    "# add labels\n",
    "plt.title(f'Soot Density at t={slc.times[it]:.2f}s')\n",
    "plt.xlabel('position / m')\n",
    "plt.ylabel('position / m')\n",
    "plt.colorbar(orientation='horizontal', label=f'{slc.quantity.name} / {slc.quantity.unit}' )\n",
    "\n",
    "# save output to file\n",
    "plt.savefig('figs/appartment_soot_z.svg', bbox_inches='tight')\n",
    "\n",
    "plt.close()"
   ]
  },
  {
   "cell_type": "markdown",
   "id": "4a6b7e21-5284-4457-90ab-98b1cb3917cb",
   "metadata": {},
   "source": [
    ":::{figure-md} fig-example-dataanalysis2-soot_z\n",
    "\n",
    "<img src=\"figs/appartment_soot_z.svg\" width=\"100%\">\n",
    "\n",
    "Visualization of the soot density.\n",
    ":::"
   ]
  },
  {
   "cell_type": "markdown",
   "id": "165d74af-dc20-4975-afea-0dfee0b243ab",
   "metadata": {},
   "source": [
    "Now, the local ASET values are computed:\n",
    "1. Iterate over all spatial elements of the slice\n",
    "1. Determine all points in time which exceed the tenability threshold\n",
    "1. If this happens at any time, set the first time to be the local ASET value"
   ]
  },
  {
   "cell_type": "code",
   "execution_count": 5,
   "id": "5cd60414-6e74-4fe6-8a10-29b76ae4b1e4",
   "metadata": {},
   "outputs": [],
   "source": [
    "# set arbitrary values as tenability threshold\n",
    "soot_density_limit = 1e-4\n",
    "\n",
    "# create a map with max ASET as default value\n",
    "aset_map = np.full_like(slc_data[0], slc.times[-1])\n",
    "\n",
    "# set walls to nan\n",
    "aset_map[np.isnan(slc_data[0,:,:])] = np.nan\n",
    "\n",
    "# 1D loop over all array indices, ix is a two dimensional index\n",
    "for ix in np.ndindex(aset_map.shape):\n",
    "    \n",
    "    # find spatialy local values which exceed the given limit \n",
    "    local_aset = np.where(slc_data[:, ix[0], ix[1]] > soot_density_limit)[0]\n",
    "    \n",
    "    # if any value exists\n",
    "    if len(local_aset) > 0:\n",
    "        # use the first, i.e. first in time, as the local ASET value\n",
    "        aset_map[ix] = slc.times[local_aset[0]]\n"
   ]
  },
  {
   "cell_type": "markdown",
   "id": "b4411e80-b5a1-42f4-877c-50a256804f34",
   "metadata": {},
   "source": [
    "With the computed map, a graphical respresentation of the ASET map is done the same way as with the other quantities. Here, a discrete color map is used."
   ]
  },
  {
   "cell_type": "code",
   "execution_count": 6,
   "id": "77d87d25-10da-4e58-96d4-31f1013c7139",
   "metadata": {},
   "outputs": [],
   "source": [
    "# create a discrete (12 values) color map\n",
    "# cmap = matplotlib.cm.get_cmap('jet_r', 12)\n",
    "cmap = plt.cm.get_cmap('jet_r', 12)\n",
    "\n",
    "# visualise the data\n",
    "plt.imshow(aset_map.T, origin='lower', extent=slc.extent.as_list(), cmap=cmap)\n",
    "plt.title(f'ASET Map with Soot Density Limit of {soot_density_limit:.1e}')\n",
    "plt.xlabel('x position / m')\n",
    "plt.ylabel('y position / m')\n",
    "plt.colorbar(orientation='horizontal', label='time / s' );\n",
    "\n",
    "# save output to file\n",
    "plt.savefig('figs/appartment_aset_map.svg', bbox_inches='tight')\n",
    "\n",
    "plt.close()"
   ]
  },
  {
   "cell_type": "markdown",
   "id": "3bb350dd-76d9-467e-a9f0-8baa86d10389",
   "metadata": {},
   "source": [
    ":::{figure-md} fig-example-dataanalysis2-aset-map\n",
    "\n",
    "<img src=\"figs/appartment_aset_map.svg\" width=\"100%\">\n",
    "\n",
    "ASET map for the outlined scenario.\n",
    ":::"
   ]
  },
  {
   "cell_type": "markdown",
   "id": "dff6ef1d-aa18-46e3-ad78-f9f5f365958f",
   "metadata": {},
   "source": [
    "## Smoke layer\n",
    "\n",
    "In this example, the smoke layer height is analysed. The distinction made here is based on a simple threshold in temperature: The local smoke layer height is given by the lowest point above a given temperature. The evaluation is done based on a slice across the burner and normal to the x-direction."
   ]
  },
  {
   "cell_type": "code",
   "execution_count": 15,
   "id": "2fb2d743-b1c1-4510-b442-ec1109cfd4cb",
   "metadata": {},
   "outputs": [],
   "source": [
    "# find the slice\n",
    "slc = sim.slices.get_by_id('BurnerTempX')\n",
    "\n",
    "# convert it to a global data structure and get the coordinates\n",
    "slc_data, slc_coords = slc.to_global(masked=True, fill=np.nan, return_coordinates=True)"
   ]
  },
  {
   "cell_type": "markdown",
   "id": "6c5583a5-adc7-4e28-b105-295ede683453",
   "metadata": {},
   "source": [
    "First, the data at a arbitrary point in time is visualsied. The white parts represent the obsticles."
   ]
  },
  {
   "cell_type": "code",
   "execution_count": 32,
   "id": "a80f348e-8caf-435a-bd80-f7b8caf502e2",
   "metadata": {},
   "outputs": [],
   "source": [
    "# pick a time index\n",
    "it = slc.get_nearest_timestep(150)\n",
    "\n",
    "# visualise the data\n",
    "plt.imshow(slc_data[it,:,:].T, origin='lower', vmax=200, extent=slc.extent.as_list())\n",
    "plt.title(f'Temperature at t={slc.times[it]:.2f}s')\n",
    "plt.xlabel('y position / m')\n",
    "plt.ylabel('z position / m')\n",
    "plt.colorbar(orientation='horizontal', label=f'{slc.quantity.name} / {slc.quantity.unit}' )\n",
    "\n",
    "# save output to file\n",
    "plt.savefig('figs/appartment_temp_slice.svg', bbox_inches='tight')\n",
    "\n",
    "plt.close()"
   ]
  },
  {
   "cell_type": "markdown",
   "id": "73bb5354-5062-4cf1-9e03-5563aedaabc5",
   "metadata": {},
   "source": [
    ":::{figure-md} fig-example-dataanalysis2-smoke-temp-slice\n",
    "\n",
    "<img src=\"figs/appartment_temp_slice.svg\" width=\"100%\">\n",
    "\n",
    "Temperature slice across the burner.\n",
    ":::"
   ]
  },
  {
   "cell_type": "markdown",
   "id": "5944e176-5d8f-466f-b87e-7d360daa8c04",
   "metadata": {},
   "source": [
    "Now, for each y-position the z-indices are found, where the temperature exceedes the limit temperature. The lowest value is the smoke layer height at the y-position."
   ]
  },
  {
   "cell_type": "code",
   "execution_count": 39,
   "id": "c23a057a-64d0-4ca7-b2d7-0eccde7bf9aa",
   "metadata": {},
   "outputs": [],
   "source": [
    "# set temperature limit\n",
    "temperature_limit = 75\n",
    "\n",
    "# create a data array to store the local height values, default \n",
    "# is the maximal z-coordinate\n",
    "layer_height = np.full(slc_data.shape[1], slc_coords['z'][-1])\n",
    "\n",
    "# loop over all indices\n",
    "for ix in range(len(layer_height)):\n",
    "    # find indices which exceed the limit\n",
    "    lt = np.where(slc_data[it, ix, :] > temperature_limit)[0]\n",
    "    # if there are any, pick the lowest one\n",
    "    if len(lt) > 0:\n",
    "        layer_height[ix] = slc_coords['z'][lt[0]]"
   ]
  },
  {
   "cell_type": "markdown",
   "id": "6886172f-41b4-444c-a1e1-001ae21954e9",
   "metadata": {},
   "source": [
    "The resulting values can now be plotted over the slice file, to check for plausibility."
   ]
  },
  {
   "cell_type": "code",
   "execution_count": 40,
   "id": "066f6265-4a7e-4a4a-956b-49b30237a118",
   "metadata": {},
   "outputs": [],
   "source": [
    "# slice data\n",
    "plt.imshow(slc_data[it,:,:].T, origin='lower', vmax=200, extent=slc.extent.as_list())\n",
    "plt.title(f'Temperature at t={slc.times[it]:.2f}s')\n",
    "plt.xlabel('y position / m')\n",
    "plt.ylabel('z position / m')\n",
    "plt.colorbar(orientation='horizontal', label=f'{slc.quantity.name} / {slc.quantity.unit}' );\n",
    "\n",
    "# smoke layer height\n",
    "plt.plot(slc_coords['y'], layer_height, '.-', color='red')\n",
    "\n",
    "# save output to file\n",
    "plt.savefig('figs/appartment_temp_slice_height.svg', bbox_inches='tight')\n",
    "\n",
    "plt.close()"
   ]
  },
  {
   "cell_type": "markdown",
   "id": "90d4a142-20f5-4dd2-b221-0df4745cde9a",
   "metadata": {},
   "source": [
    ":::{figure-md} fig-example-dataanalysis2-smoke-temp-slice-height\n",
    "\n",
    "<img src=\"figs/appartment_temp_slice_height.svg\" width=\"100%\">\n",
    "\n",
    "Temperature slice with the local smoke layer height.\n",
    ":::"
   ]
  },
  {
   "cell_type": "markdown",
   "id": "1edc0990-9c4d-42e9-bdd5-b115fa424db1",
   "metadata": {},
   "source": [
    "Using the above approach for a single point in time, a loop over all times can be used to compute, e.g., the mean and standard deviation of the smoke layer height. "
   ]
  },
  {
   "cell_type": "code",
   "execution_count": 41,
   "id": "8edb2e08-b2a5-453d-8d41-020b5ea6f5af",
   "metadata": {},
   "outputs": [],
   "source": [
    "layer_mean = np.zeros_like(slc.times)\n",
    "layer_stddev = np.zeros_like(slc.times)\n",
    "\n",
    "res = np.zeros(slc_data.shape[1])\n",
    "\n",
    "for it in range(len(slc.times)):\n",
    "\n",
    "    res[:] = slc_coords['z'][-1]\n",
    "\n",
    "    for ix in range(len(res)):\n",
    "        lt = np.where(slc_data[it, ix, :] > temperature_limit)[0]\n",
    "        if len(lt) > 0:\n",
    "            res[ix] = slc_coords['z'][lt[0]]\n",
    "            \n",
    "    layer_mean[it] = np.mean(res)\n",
    "    layer_stddev[it] = np.std(res)"
   ]
  },
  {
   "cell_type": "code",
   "execution_count": 42,
   "id": "254f666a-8b8c-4663-b315-ee13d7a6e722",
   "metadata": {},
   "outputs": [
    {
     "data": {
      "text/plain": [
       "Text(0, 0.5, 'Height / m')"
      ]
     },
     "execution_count": 42,
     "metadata": {},
     "output_type": "execute_result"
    },
    {
     "data": {
      "image/png": "[encoded data removed]",
      "text/plain": [
       "<Figure size 600x400 with 1 Axes>"
      ]
     },
     "metadata": {},
     "output_type": "display_data"
    }
   ],
   "source": [
    "# plot the mean and stddev values as functions of time\n",
    "plt.plot(slc.times, layer_mean, label='Mean Smoke Layer Height')\n",
    "plt.plot(slc.times, layer_stddev, label='Stddev of Smoke Layer Height')\n",
    "plt.grid()\n",
    "plt.legend()\n",
    "plt.xlabel('Time / s')\n",
    "plt.ylabel('Height / m')\n",
    "\n",
    "# save output to file\n",
    "plt.savefig('figs/appartment_layer_mean_stddev.svg', bbox_inches='tight')\n",
    "\n",
    "plt.close()"
   ]
  },
  {
   "cell_type": "markdown",
   "id": "534ac440-6861-4aa8-a474-aae8a88fcf56",
   "metadata": {},
   "source": [
    "<!-- :::{figure-md} fig-example-dataanalysis2-layer-mean-stddev\n",
    "\n",
    "<img src=\"figs/appartment_layer_mean_stddev.svg\" width=\"100%\">\n",
    "\n",
    "Temporal development of the mean and stdandard deviation of the smoke layer height.\n",
    "::: -->"
   ]
  },
  {
   "cell_type": "markdown",
   "id": "ebe1272a-8833-450c-b50c-3a528756ae99",
   "metadata": {},
   "source": [
    "Both values can be combined and visualised jointly, where the standard deviation is used to indicate a fluctuation band around the mean value."
   ]
  },
  {
   "cell_type": "code",
   "execution_count": 43,
   "id": "48ea0b13-9f53-4381-946e-40a3c5364d4c",
   "metadata": {},
   "outputs": [],
   "source": [
    "# plot the mean\n",
    "plt.plot(slc.times, layer_mean, label='Mean Smoke Layer Height')\n",
    "\n",
    "# plot a band around the mean, using the stddev as band borders\n",
    "plt.fill_between(slc.times, layer_mean-layer_stddev, layer_mean+layer_stddev, color='C0', alpha=0.3)\n",
    "\n",
    "# show the floor for reference\n",
    "plt.ylim(bottom=0)\n",
    "plt.grid()\n",
    "plt.legend()\n",
    "plt.xlabel('Time / s')\n",
    "plt.ylabel('Height / m')\n",
    "\n",
    "# save output to file\n",
    "plt.savefig('figs/appartment_layer_mean_band.svg', bbox_inches='tight')\n",
    "\n",
    "plt.close()"
   ]
  },
  {
   "cell_type": "markdown",
   "id": "ab5e3b60-de28-4207-9eb5-f29de879a3c9",
   "metadata": {},
   "source": [
    ":::{figure-md} fig-example-dataanalysis2-layer-mean-band\n",
    "\n",
    "<img src=\"figs/appartment_layer_mean_band.svg\" width=\"100%\">\n",
    "\n",
    "Temporal development of the mean and stdandard deviation of the smoke layer height.\n",
    ":::"
   ]
  },
  {
   "cell_type": "markdown",
   "id": "3e02f003-01b5-4904-854d-8d15ec7eedfd",
   "metadata": {},
   "source": [
    "If parts of the region shall be excluded in the analysis, a coordinate dependent mask can be used for this."
   ]
  },
  {
   "cell_type": "code",
   "execution_count": 44,
   "id": "bb72a121-cf62-4048-889c-96c7adcd35bc",
   "metadata": {},
   "outputs": [],
   "source": [
    "# find indices, where the y coordinate is between the given values\n",
    "ymin = 1\n",
    "ymax = 4\n",
    "coord_mask = np.where((slc_coords['y'] > ymin) & (slc_coords['y'] < ymax))"
   ]
  },
  {
   "cell_type": "code",
   "execution_count": 49,
   "id": "d618270e-5100-4cc0-b755-97f44c1fe8b3",
   "metadata": {},
   "outputs": [],
   "source": [
    "# slice data\n",
    "plt.imshow(slc_data[it,:,:].T, origin='lower', vmax=200, extent=slc.extent.as_list())\n",
    "plt.title(f'Temperature at t={slc.times[it]:.2f}s')\n",
    "plt.xlabel('y position / m')\n",
    "plt.ylabel('z position / m')\n",
    "plt.colorbar(orientation='horizontal', label=f'{slc.quantity.name} / {slc.quantity.unit}' );\n",
    "\n",
    "# smoke layer height\n",
    "plt.plot(slc_coords['y'][coord_mask], layer_height[coord_mask], '.-', color='red')\n",
    "\n",
    "# save output to file\n",
    "plt.savefig('figs/appartment_temp_slice_height_mask.svg', bbox_inches='tight')\n",
    "\n",
    "plt.close()"
   ]
  },
  {
   "cell_type": "markdown",
   "id": "b7b856f3-01a2-46a5-b7cb-329d0c31407a",
   "metadata": {},
   "source": [
    ":::{figure-md} fig-example-dataanalysis2-smoke-temp-slice-height-mask\n",
    "\n",
    "<img src=\"figs/appartment_temp_slice_height_mask.svg\" width=\"100%\">\n",
    "\n",
    "Temperature slice with the local smoke layer height, limited to the masked region.\n",
    ":::"
   ]
  },
  {
   "cell_type": "markdown",
   "id": "1d2dce09-2d59-4086-a968-38d130b71d2c",
   "metadata": {},
   "source": [
    "The above procedure can be reused, yet the computation of the mean and standard deviation is carried out on the masked values."
   ]
  },
  {
   "cell_type": "code",
   "execution_count": 50,
   "id": "04f67456-812f-4bf6-9e3f-ed90ccd5db47",
   "metadata": {},
   "outputs": [],
   "source": [
    "for it in range(len(slc.times)):\n",
    "\n",
    "    res[:] = slc_coords['z'][-1]\n",
    "\n",
    "    for ix in np.ndindex(res.shape):\n",
    "        lt = np.where(slc_data[it, ix, :] > temperature_limit)[1]\n",
    "        if len(lt) > 0:\n",
    "            res[ix] = slc_coords['z'][lt[0]]\n",
    "    \n",
    "    # computation is carried out on the masked values now\n",
    "    layer_mean[it] = np.mean(res[coord_mask])\n",
    "    layer_stddev[it] = np.std(res[coord_mask])"
   ]
  },
  {
   "cell_type": "code",
   "execution_count": 52,
   "id": "b577640b-44aa-48e1-9c2b-076ca6146149",
   "metadata": {},
   "outputs": [],
   "source": [
    "# same plot as above\n",
    "plt.plot(slc.times, layer_mean, label='Mean Smoke Layer Height')\n",
    "plt.fill_between(slc.times, layer_mean-layer_stddev, layer_mean+layer_stddev, color='C0', alpha=0.3)\n",
    "plt.ylim(bottom=0)\n",
    "plt.grid()\n",
    "plt.legend()\n",
    "plt.xlabel('Time / s')\n",
    "plt.ylabel('Height / m')\n",
    "\n",
    "# save output to file\n",
    "plt.savefig('figs/appartment_layer_mean_band_mask.svg', bbox_inches='tight')\n",
    "\n",
    "plt.close()"
   ]
  },
  {
   "cell_type": "markdown",
   "id": "98014337-6544-46f5-ba93-4b27d3655300",
   "metadata": {},
   "source": [
    ":::{figure-md} fig-example-dataanalysis2-layer-mean-band-mask\n",
    "\n",
    "<img src=\"figs/appartment_layer_mean_band_mask.svg\" width=\"100%\">\n",
    "\n",
    "Temporal development of the mean and stdandard deviation of the smoke layer height in the masked region.\n",
    ":::"
   ]
  }
 ],
 "metadata": {
  "kernelspec": {
   "display_name": "Python 3 (ipykernel)",
   "language": "python",
   "name": "python3"
  },
  "language_info": {
   "codemirror_mode": {
    "name": "ipython",
    "version": 3
   },
   "file_extension": ".py",
   "mimetype": "text/x-python",
   "name": "python",
   "nbconvert_exporter": "python",
   "pygments_lexer": "ipython3",
   "version": "3.10.4"
  }
 },
 "nbformat": 4,
 "nbformat_minor": 5
}
