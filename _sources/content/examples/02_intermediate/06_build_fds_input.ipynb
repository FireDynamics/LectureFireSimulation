{
 "cells": [
  {
   "cell_type": "code",
   "execution_count": 1,
   "id": "502ce98b-93f7-4f83-91de-091298176ba9",
   "metadata": {},
   "outputs": [],
   "source": [
    "import os"
   ]
  },
  {
   "cell_type": "markdown",
   "id": "dbab3c02-f9e0-49ac-b296-9bcb97035b82",
   "metadata": {},
   "source": [
    "# Build FDS Input Lines Using Python String Manipulation\n",
    "\n",
    "This example demonstrates some basic string manipulation methods in Python. It is used to create FDS input lines. Furthermore, it is demonstrated how changes to input files could be conducted."
   ]
  },
  {
   "cell_type": "markdown",
   "id": "2c5eaeed-6158-4045-9ad4-f99d51689266",
   "metadata": {},
   "source": [
    "## String Basics in Python\n",
    "\n",
    "In Python, [strings](https://docs.python.org/3/library/stdtypes.html#textseq) are used to work with text data. They are written as text that is encapsulated with quotes. One can use single or double quotes to write a string. \n"
   ]
  },
  {
   "cell_type": "code",
   "execution_count": 2,
   "id": "f133af48-af3b-4d79-a8bb-43ab23fc5f75",
   "metadata": {},
   "outputs": [
    {
     "name": "stdout",
     "output_type": "stream",
     "text": [
      "Hello world! (single quotes)\n",
      "Hello world! (double quotes)\n"
     ]
    }
   ],
   "source": [
    "# Different ways to write strings.\n",
    "\n",
    "single_quotes = 'Hello world! (single quotes)'\n",
    "print(single_quotes)\n",
    "\n",
    "double_quotes = \"Hello world! (double quotes)\"\n",
    "print(double_quotes)\n"
   ]
  },
  {
   "cell_type": "markdown",
   "id": "eccea11b-b5fc-4e6d-96f1-d3856ed7db1a",
   "metadata": {},
   "source": [
    "Issues may arise if the string contains qoutes. Here, one type of quotes can be used to mark a character chain as being the string and the other type of quotes to highlight the quote inside the string itself. This is important to keep in mind when working on FDS input. \n",
    "\n",
    "For example consider the definition of a basic `REAC`-line, where the fuel is set as a string:"
   ]
  },
  {
   "cell_type": "code",
   "execution_count": 3,
   "id": "e4572e29-66aa-458b-a69f-800300d4d209",
   "metadata": {},
   "outputs": [
    {
     "name": "stdout",
     "output_type": "stream",
     "text": [
      "&REAC FUEL = 'METHANE' /\n"
     ]
    }
   ],
   "source": [
    "# Basic REAC line with \n",
    "reac_line = \"&REAC FUEL = 'METHANE' /\"\n",
    "print(reac_line)\n"
   ]
  },
  {
   "cell_type": "markdown",
   "id": "420a29ff-f017-4ec6-93cc-86c12b002561",
   "metadata": {},
   "source": [
    "Using a given quote-character three times to encapsulate the string allows to cover multiple lines with the string. This strategy is used for example in [docstrings](https://peps.python.org/pep-0257/) in definitions of functions.\n"
   ]
  },
  {
   "cell_type": "code",
   "execution_count": 4,
   "id": "6fadd26c-83a6-4a64-8845-395705f353a6",
   "metadata": {},
   "outputs": [
    {
     "name": "stdout",
     "output_type": "stream",
     "text": [
      "&REAC FUEL               = 'METHANE',\n",
      "      SOOT_YIELD         = 0.022,\n",
      "      RADIATIVE_FRACTION = 0.2\n"
     ]
    }
   ],
   "source": [
    "# Multi-line strings with triple qoutes.\n",
    "reac_line_2 = \"\"\"&REAC FUEL               = 'METHANE',\n",
    "      SOOT_YIELD         = 0.022,\n",
    "      RADIATIVE_FRACTION = 0.2\"\"\"\n",
    "print(reac_line_2)\n"
   ]
  },
  {
   "cell_type": "markdown",
   "id": "a153549a-1a9a-432c-b89b-c62870ac8c5e",
   "metadata": {},
   "source": [
    "## Basic String Manipulation with Python\n",
    "\n",
    "In the following a couple of basic string manipulation methods are presented.\n"
   ]
  },
  {
   "cell_type": "code",
   "execution_count": 5,
   "id": "0ef017fb-1c62-4ad2-8f99-3a5b2199c9f5",
   "metadata": {},
   "outputs": [],
   "source": [
    "# Example string.\n",
    "file_name = \"BUW_Cone_HRR_50kW_1.csv\"\n"
   ]
  },
  {
   "cell_type": "markdown",
   "id": "a5fa216e-2f6d-4ff3-94d2-8488982d8cb5",
   "metadata": {},
   "source": [
    "Individual characters can be accessed by their location, using similar syntax like arrays. \n"
   ]
  },
  {
   "cell_type": "code",
   "execution_count": 6,
   "id": "e99b1a9e-5edc-4814-8016-c8417b6de332",
   "metadata": {},
   "outputs": [
    {
     "name": "stdout",
     "output_type": "stream",
     "text": [
      "W\n",
      "BUW_Cone\n"
     ]
    }
   ],
   "source": [
    "# Individual character.\n",
    "print(file_name[2])\n",
    "\n",
    "# Series of characters - substring.\n",
    "print(file_name[:8])\n"
   ]
  },
  {
   "cell_type": "markdown",
   "id": "2642fcaa-c54a-44a6-9a22-49b0d7d4d02b",
   "metadata": {},
   "source": [
    "The `split()` method of string objects can be used to break down a string, using a specific character as separator. It gives back a list, where every element is a substring. \n",
    "\n",
    "As an example, we use a file name of some experiment data. Parts of it denote specific parts of information, like the type of experiment and the recorded parameter. \n"
   ]
  },
  {
   "cell_type": "code",
   "execution_count": 7,
   "id": "4eca664c-5ce2-4c50-912d-9cc6bb0494c7",
   "metadata": {},
   "outputs": [
    {
     "data": {
      "text/plain": [
       "['BUW', 'Cone', 'HRR', '50kW', '1.csv']"
      ]
     },
     "execution_count": 7,
     "metadata": {},
     "output_type": "execute_result"
    }
   ],
   "source": [
    "file_name.split(\"_\")"
   ]
  },
  {
   "cell_type": "markdown",
   "id": "9eb3ae1e-f2e1-402c-84e1-f2665794f85b",
   "metadata": {},
   "source": [
    "If one were interested only the file name itself, one could either skip the last four characters. This would be under the assumption that the end would be known. \n"
   ]
  },
  {
   "cell_type": "code",
   "execution_count": 8,
   "id": "082027b3-6485-4bef-bb06-ff9f0241dde2",
   "metadata": {},
   "outputs": [
    {
     "data": {
      "text/plain": [
       "['BUW', 'Cone', 'HRR', '50kW', '1']"
      ]
     },
     "execution_count": 8,
     "metadata": {},
     "output_type": "execute_result"
    }
   ],
   "source": [
    "file_name[:-4].split(\"_\")"
   ]
  },
  {
   "cell_type": "markdown",
   "id": "4d387373-4590-4236-8d9d-ee2542ed7bb0",
   "metadata": {},
   "source": [
    "Or one could first split around the period first. Then the first element of the resulting list could be split around the underscore.\n"
   ]
  },
  {
   "cell_type": "code",
   "execution_count": 9,
   "id": "1a0c2abe-9359-4111-9a38-7055995cacf8",
   "metadata": {},
   "outputs": [
    {
     "data": {
      "text/plain": [
       "['BUW_Cone_HRR_50kW_1', 'csv']"
      ]
     },
     "execution_count": 9,
     "metadata": {},
     "output_type": "execute_result"
    }
   ],
   "source": [
    "period_split = file_name.split(\".\")\n",
    "period_split"
   ]
  },
  {
   "cell_type": "code",
   "execution_count": 10,
   "id": "7378ebfc-3fc4-41f8-8c61-95fc28da5cb7",
   "metadata": {},
   "outputs": [
    {
     "data": {
      "text/plain": [
       "['BUW', 'Cone', 'HRR', '50kW', '1']"
      ]
     },
     "execution_count": 10,
     "metadata": {},
     "output_type": "execute_result"
    }
   ],
   "source": [
    "period_split[0].split(\"_\")"
   ]
  },
  {
   "cell_type": "markdown",
   "id": "0ae69268-27ff-4064-ac54-b141eed55ba7",
   "metadata": {},
   "source": [
    "Strings can be added together using \"`+`\" operator.\n"
   ]
  },
  {
   "cell_type": "code",
   "execution_count": 11,
   "id": "f8531f99-505e-484c-bc2d-8cdc5e7ab8a3",
   "metadata": {},
   "outputs": [
    {
     "name": "stdout",
     "output_type": "stream",
     "text": [
      "Hello \n",
      "world!\n",
      "Hello world!\n"
     ]
    }
   ],
   "source": [
    "# Initial strings.\n",
    "string_a = \"Hello \"\n",
    "print(string_a)\n",
    "\n",
    "string_b = \"world!\"\n",
    "print(string_b)\n",
    "\n",
    "# Combine strings.\n",
    "string_combined = string_a + string_b\n",
    "print(string_combined)"
   ]
  },
  {
   "cell_type": "markdown",
   "id": "96a98e14-a8d0-43e6-ac84-2d68e695c553",
   "metadata": {},
   "source": [
    "One can add substrings into another string, for example using f-strings. The f-strings are created by writing an \"f\" directly infront of the string, like `f\"this is an f-string\"`. Using curly brackets, locations can be marked in which new infromation can be written. Inside these brackets a varibale can be placed to add its content there. \n"
   ]
  },
  {
   "cell_type": "code",
   "execution_count": 12,
   "id": "7119b94f-5e07-4514-8970-6c7ccc9cd962",
   "metadata": {},
   "outputs": [
    {
     "data": {
      "text/plain": [
       "'BUW_Cone_HRR_42kW_1'"
      ]
     },
     "execution_count": 12,
     "metadata": {},
     "output_type": "execute_result"
    }
   ],
   "source": [
    "# Set a variable to add to a string.\n",
    "add_in = 42\n",
    "\n",
    "# The f-string to add the information into.\n",
    "f\"BUW_Cone_HRR_{add_in}kW_1\""
   ]
  },
  {
   "cell_type": "markdown",
   "id": "92c39290-eb8a-46c6-8172-762dde9e6a66",
   "metadata": {},
   "source": [
    "Multiple markers can be set at once.\n"
   ]
  },
  {
   "cell_type": "code",
   "execution_count": 13,
   "id": "773bc631-cb6a-4777-8253-b2727a757500",
   "metadata": {},
   "outputs": [
    {
     "data": {
      "text/plain": [
       "'BUW_Cone_HRR_42kW_1'"
      ]
     },
     "execution_count": 13,
     "metadata": {},
     "output_type": "execute_result"
    }
   ],
   "source": [
    "# Set a variable to add to a string.\n",
    "exp_condition = 42\n",
    "exp_type = \"Cone\"\n",
    "\n",
    "# The f-string to add the information into.\n",
    "f\"BUW_{exp_type}_HRR_{exp_condition}kW_1\""
   ]
  },
  {
   "cell_type": "markdown",
   "id": "3912fa8a-6b6e-4e02-aa37-bfe855f682d7",
   "metadata": {},
   "source": [
    "Similar results could be achieved using `format()` method. Here in the string the curly brackets are also used as markers, yet the content to be added will be provided later on. Multiple brackets can be used, they are filled in order.\n"
   ]
  },
  {
   "cell_type": "code",
   "execution_count": 14,
   "id": "3e449af3-b575-4e13-a386-e44d3801ce55",
   "metadata": {},
   "outputs": [
    {
     "data": {
      "text/plain": [
       "'BUW_Cone_HRR_42kW_1'"
      ]
     },
     "execution_count": 14,
     "metadata": {},
     "output_type": "execute_result"
    }
   ],
   "source": [
    "# Initialiseg the string \n",
    "string_base = \"BUW_{}_HRR_{}kW_1\"\n",
    "\n",
    "# Fill in the information.\n",
    "string_base.format(\"Cone\", 42)\n"
   ]
  },
  {
   "cell_type": "markdown",
   "id": "7bb491a6-e139-4b57-acae-86040a820653",
   "metadata": {},
   "source": [
    "With the information above, we could procedurally generate FDS input lines. \n",
    "\n",
    "Let's take devices as an example. Two different quantities are to be recorded, `'TEMPERATURE'` and `'THERMOCOUPLE'`. They also are supposed to be stacked vertically with an equal distance of $\\SI{0.1}{\\meter}$.\n"
   ]
  },
  {
   "cell_type": "code",
   "execution_count": 15,
   "id": "fe71ad76-2b60-46ed-98b6-45acdb14184b",
   "metadata": {},
   "outputs": [
    {
     "name": "stdout",
     "output_type": "stream",
     "text": [
      "&DEVC ID = 'TEMP_z00', XYZ = 0.0, 0.0, 0.05, QUANTITY = 'TEMPERATURE' /\n",
      "&DEVC ID = 'TEMP_z01', XYZ = 0.0, 0.0, 0.15, QUANTITY = 'TEMPERATURE' /\n",
      "&DEVC ID = 'TEMP_z02', XYZ = 0.0, 0.0, 0.25, QUANTITY = 'TEMPERATURE' /\n",
      "&DEVC ID = 'TEMP_z03', XYZ = 0.0, 0.0, 0.35, QUANTITY = 'TEMPERATURE' /\n",
      "&DEVC ID = 'TEMP_z04', XYZ = 0.0, 0.0, 0.45, QUANTITY = 'TEMPERATURE' /\n",
      "&DEVC ID = 'TEMP_z05', XYZ = 0.0, 0.0, 0.55, QUANTITY = 'TEMPERATURE' /\n",
      "&DEVC ID = 'TEMP_z06', XYZ = 0.0, 0.0, 0.65, QUANTITY = 'TEMPERATURE' /\n",
      "&DEVC ID = 'TEMP_z07', XYZ = 0.0, 0.0, 0.75, QUANTITY = 'TEMPERATURE' /\n",
      "&DEVC ID = 'TEMP_z08', XYZ = 0.0, 0.0, 0.85, QUANTITY = 'TEMPERATURE' /\n",
      "&DEVC ID = 'TEMP_z09', XYZ = 0.0, 0.0, 0.95, QUANTITY = 'TEMPERATURE' /\n",
      "\n",
      "&DEVC ID = 'THER_z00', XYZ = 0.0, 0.0, 0.05, QUANTITY = 'THERMOCOUPLE' /\n",
      "&DEVC ID = 'THER_z01', XYZ = 0.0, 0.0, 0.15, QUANTITY = 'THERMOCOUPLE' /\n",
      "&DEVC ID = 'THER_z02', XYZ = 0.0, 0.0, 0.25, QUANTITY = 'THERMOCOUPLE' /\n",
      "&DEVC ID = 'THER_z03', XYZ = 0.0, 0.0, 0.35, QUANTITY = 'THERMOCOUPLE' /\n",
      "&DEVC ID = 'THER_z04', XYZ = 0.0, 0.0, 0.45, QUANTITY = 'THERMOCOUPLE' /\n",
      "&DEVC ID = 'THER_z05', XYZ = 0.0, 0.0, 0.55, QUANTITY = 'THERMOCOUPLE' /\n",
      "&DEVC ID = 'THER_z06', XYZ = 0.0, 0.0, 0.65, QUANTITY = 'THERMOCOUPLE' /\n",
      "&DEVC ID = 'THER_z07', XYZ = 0.0, 0.0, 0.75, QUANTITY = 'THERMOCOUPLE' /\n",
      "&DEVC ID = 'THER_z08', XYZ = 0.0, 0.0, 0.85, QUANTITY = 'THERMOCOUPLE' /\n",
      "&DEVC ID = 'THER_z09', XYZ = 0.0, 0.0, 0.95, QUANTITY = 'THERMOCOUPLE' /\n",
      "\n",
      "\n"
     ]
    }
   ],
   "source": [
    "# Initialise data collection.\n",
    "devc_lines = str()\n",
    "\n",
    "# Set the quantities.\n",
    "quantities = [\"TEMPERATURE\", \"THERMOCOUPLE\"]\n",
    "\n",
    "# Set the number od DEVC.\n",
    "n_devc = 10\n",
    "\n",
    "# Set the vertical distance.\n",
    "z_dist = 0.1\n",
    "\n",
    "# Set the base input line string.\n",
    "devc_base = \"&DEVC ID = '{}', XYZ = 0.0, 0.0, {:.2f}, QUANTITY = '{}' /\"\n",
    "\n",
    "\n",
    "# Go over the quantities.\n",
    "for quantity in quantities:\n",
    "    \n",
    "    # Go over the DEVC locations.\n",
    "    for devc_idx in range(n_devc):\n",
    "        # Define DEVC ID.\n",
    "        devc_id = f\"{quantity[:4]}_z{devc_idx:02d}\"\n",
    "        \n",
    "        # Compute height, shifted by a half cell.\n",
    "        loc_z = z_dist * devc_idx + z_dist / 2\n",
    "        \n",
    "        # Create the DEVC line.\n",
    "        devc_line = devc_base.format(devc_id, loc_z, quantity) + os.linesep\n",
    "        # print(devc_line)\n",
    "        \n",
    "        # Collect lines.\n",
    "        devc_lines += devc_line\n",
    "        \n",
    "    # Separation between quantities.\n",
    "    devc_lines += os.linesep\n",
    "\n",
    "\n",
    "# Check result.\n",
    "print(devc_lines)"
   ]
  },
  {
   "cell_type": "markdown",
   "id": "f470fc02-34dd-47c0-b0dd-7d3c34a5be37",
   "metadata": {},
   "source": [
    "Within a string, substrings can be overwritten using the `replace()` method. It takes two parameters, the first is the substring to look for and the second is the new string to replace it with."
   ]
  },
  {
   "cell_type": "code",
   "execution_count": 21,
   "id": "9a87c350-7fd4-4832-b64e-9fdef7256676",
   "metadata": {},
   "outputs": [
    {
     "name": "stdout",
     "output_type": "stream",
     "text": [
      "&DEVC ID = 'TEMP_z00', XYZ = 0.0, 0.0, 0.05, QUANTITY = 'VELOCITY' /\n",
      "&DEVC ID = 'TEMP_z01', XYZ = 0.0, 0.0, 0.15, QUANTITY = 'VELOCITY' /\n",
      "&DEVC ID = 'TEMP_z02', XYZ = 0.0, 0.0, 0.25, QUANTITY = 'VELOCITY' /\n",
      "&DEVC ID = 'TEMP_z03', XYZ = 0.0, 0.0, 0.35, QUANTITY = 'VELOCITY' /\n",
      "&DEVC ID = 'TEMP_z04', XYZ = 0.0, 0.0, 0.45, QUANTITY = 'VELOCITY' /\n",
      "&DEVC ID = 'TEMP_z05', XYZ = 0.0, 0.0, 0.55, QUANTITY = 'VELOCITY' /\n",
      "&DEVC ID = 'TEMP_z06', XYZ = 0.0, 0.0, 0.65, QUANTITY = 'VELOCITY' /\n",
      "&DEVC ID = 'TEMP_z07', XYZ = 0.0, 0.0, 0.75, QUANTITY = 'VELOCITY' /\n",
      "&DEVC ID = 'TEMP_z08', XYZ = 0.0, 0.0, 0.85, QUANTITY = 'VELOCITY' /\n",
      "&DEVC ID = 'TEMP_z09', XYZ = 0.0, 0.0, 0.95, QUANTITY = 'VELOCITY' /\n",
      "\n",
      "&DEVC ID = 'THER_z00', XYZ = 0.0, 0.0, 0.05, QUANTITY = 'THERMOCOUPLE' /\n",
      "&DEVC ID = 'THER_z01', XYZ = 0.0, 0.0, 0.15, QUANTITY = 'THERMOCOUPLE' /\n",
      "&DEVC ID = 'THER_z02', XYZ = 0.0, 0.0, 0.25, QUANTITY = 'THERMOCOUPLE' /\n",
      "&DEVC ID = 'THER_z03', XYZ = 0.0, 0.0, 0.35, QUANTITY = 'THERMOCOUPLE' /\n",
      "&DEVC ID = 'THER_z04', XYZ = 0.0, 0.0, 0.45, QUANTITY = 'THERMOCOUPLE' /\n",
      "&DEVC ID = 'THER_z05', XYZ = 0.0, 0.0, 0.55, QUANTITY = 'THERMOCOUPLE' /\n",
      "&DEVC ID = 'THER_z06', XYZ = 0.0, 0.0, 0.65, QUANTITY = 'THERMOCOUPLE' /\n",
      "&DEVC ID = 'THER_z07', XYZ = 0.0, 0.0, 0.75, QUANTITY = 'THERMOCOUPLE' /\n",
      "&DEVC ID = 'THER_z08', XYZ = 0.0, 0.0, 0.85, QUANTITY = 'THERMOCOUPLE' /\n",
      "&DEVC ID = 'THER_z09', XYZ = 0.0, 0.0, 0.95, QUANTITY = 'THERMOCOUPLE' /\n",
      "\n",
      "\n"
     ]
    }
   ],
   "source": [
    "# Define the two substrings.\n",
    "search_for = \"TEMPERATURE\"\n",
    "replace_with = \"VELOCITY\"\n",
    "\n",
    "# Replace substring.\n",
    "new_input_line = devc_lines.replace(search_for,\n",
    "                                    replace_with)\n",
    "print(new_input_line)"
   ]
  },
  {
   "cell_type": "code",
   "execution_count": null,
   "id": "16f0d572-f9a2-445d-b161-e1d4c4f25428",
   "metadata": {},
   "outputs": [],
   "source": []
  },
  {
   "cell_type": "markdown",
   "id": "968e2348-513c-47de-9018-ad53e4ef9823",
   "metadata": {},
   "source": [
    "## Reading and Writing Text Files\n",
    "\n",
    "Text files can be read using the `read()` method. It will be provided as a single string. \n",
    "\n",
    "One could set up an FDS input file using it as a template. Consider, if most of the input remains the same, markers could be added such that sections could be adjusted. For example, let's read some basic FDS input template. In it, there is a substring, `#Devices#`, that is to be replaced with procedurally generated `DEVC` lines.\n",
    "\n",
    "First read the example file.\n"
   ]
  },
  {
   "cell_type": "code",
   "execution_count": 17,
   "id": "a731e8f4-3f47-4b25-905a-6b2fbf342261",
   "metadata": {},
   "outputs": [
    {
     "name": "stdout",
     "output_type": "stream",
     "text": [
      "&HEAD CHID  = 'InputTemplate',\n",
      "      TITLE = 'Basic template file for learning string replacement' /\n",
      "\n",
      "&TIME T_END = 30.0 /\n",
      "\n",
      "\n",
      "\n",
      "&MESH ID  = 'Domain',\n",
      "      IJK = 10,10,10,\n",
      "      XB  = 0.00,2.00, 0.00,2.00, 0.00,2.00 /\n",
      "\n",
      "\n",
      "\n",
      "# ---------------------------------------\n",
      "# Gas burner: methane\n",
      "# ---------------------------------------\n",
      "\n",
      "&REAC FUEL       = 'METHANE',\n",
      "      SOOT_YIELD = 0.022 /\n",
      "\n",
      "&SURF ID         = 'BURNER',\n",
      "      HRRPUA     = 160.0,\n",
      "      COLOR      = 'RASPBERRY' /\n",
      "\n",
      "\n",
      "&VENT ID      = 'BurnerOutlet',\n",
      "      SURF_ID = 'BURNER',\n",
      "      XB      = 0.80,1.20, 0.80,1.20, 0.00,0.00 /\n",
      "\n",
      "\n",
      "\n",
      "# ---------------------------------------\n",
      "# Analytics\n",
      "# ---------------------------------------\n",
      "\n",
      "#Devices#\n",
      "\n",
      "\n",
      "\n",
      "&TAIL /\n",
      "\n"
     ]
    }
   ],
   "source": [
    "# Set path to file to read.\n",
    "file_name = \"FDSInputTemplate.fds\"\n",
    "file_path = os.path.join(\"data\", \"simple_fds_template\", file_name)\n",
    "\n",
    "# Read text file.\n",
    "with open(file_path) as file_content:\n",
    "    content = file_content.read()\n",
    "    \n",
    "    \n",
    "# Check results.\n",
    "print(content)"
   ]
  },
  {
   "cell_type": "markdown",
   "id": "2ccb3c75-3ab2-4eaa-9dba-28048888e99f",
   "metadata": {},
   "source": [
    "Now, using the `replace()` method to exchange the marker and add in the `DEVC` lines.\n"
   ]
  },
  {
   "cell_type": "code",
   "execution_count": 18,
   "id": "ce8e1f03-8b4e-414b-a7e4-70581d1fa31f",
   "metadata": {},
   "outputs": [
    {
     "name": "stdout",
     "output_type": "stream",
     "text": [
      "&HEAD CHID  = 'InputTemplate',\n",
      "      TITLE = 'Basic template file for learning string replacement' /\n",
      "\n",
      "&TIME T_END = 30.0 /\n",
      "\n",
      "\n",
      "\n",
      "&MESH ID  = 'Domain',\n",
      "      IJK = 10,10,10,\n",
      "      XB  = 0.00,2.00, 0.00,2.00, 0.00,2.00 /\n",
      "\n",
      "\n",
      "\n",
      "# ---------------------------------------\n",
      "# Gas burner: methane\n",
      "# ---------------------------------------\n",
      "\n",
      "&REAC FUEL       = 'METHANE',\n",
      "      SOOT_YIELD = 0.022 /\n",
      "\n",
      "&SURF ID         = 'BURNER',\n",
      "      HRRPUA     = 160.0,\n",
      "      COLOR      = 'RASPBERRY' /\n",
      "\n",
      "\n",
      "&VENT ID      = 'BurnerOutlet',\n",
      "      SURF_ID = 'BURNER',\n",
      "      XB      = 0.80,1.20, 0.80,1.20, 0.00,0.00 /\n",
      "\n",
      "\n",
      "\n",
      "# ---------------------------------------\n",
      "# Analytics\n",
      "# ---------------------------------------\n",
      "\n",
      "&DEVC ID = 'TEMP_z00', XYZ = 0.0, 0.0, 0.05, QUANTITY = 'TEMPERATURE' /\n",
      "&DEVC ID = 'TEMP_z01', XYZ = 0.0, 0.0, 0.15, QUANTITY = 'TEMPERATURE' /\n",
      "&DEVC ID = 'TEMP_z02', XYZ = 0.0, 0.0, 0.25, QUANTITY = 'TEMPERATURE' /\n",
      "&DEVC ID = 'TEMP_z03', XYZ = 0.0, 0.0, 0.35, QUANTITY = 'TEMPERATURE' /\n",
      "&DEVC ID = 'TEMP_z04', XYZ = 0.0, 0.0, 0.45, QUANTITY = 'TEMPERATURE' /\n",
      "&DEVC ID = 'TEMP_z05', XYZ = 0.0, 0.0, 0.55, QUANTITY = 'TEMPERATURE' /\n",
      "&DEVC ID = 'TEMP_z06', XYZ = 0.0, 0.0, 0.65, QUANTITY = 'TEMPERATURE' /\n",
      "&DEVC ID = 'TEMP_z07', XYZ = 0.0, 0.0, 0.75, QUANTITY = 'TEMPERATURE' /\n",
      "&DEVC ID = 'TEMP_z08', XYZ = 0.0, 0.0, 0.85, QUANTITY = 'TEMPERATURE' /\n",
      "&DEVC ID = 'TEMP_z09', XYZ = 0.0, 0.0, 0.95, QUANTITY = 'TEMPERATURE' /\n",
      "\n",
      "&DEVC ID = 'THER_z00', XYZ = 0.0, 0.0, 0.05, QUANTITY = 'THERMOCOUPLE' /\n",
      "&DEVC ID = 'THER_z01', XYZ = 0.0, 0.0, 0.15, QUANTITY = 'THERMOCOUPLE' /\n",
      "&DEVC ID = 'THER_z02', XYZ = 0.0, 0.0, 0.25, QUANTITY = 'THERMOCOUPLE' /\n",
      "&DEVC ID = 'THER_z03', XYZ = 0.0, 0.0, 0.35, QUANTITY = 'THERMOCOUPLE' /\n",
      "&DEVC ID = 'THER_z04', XYZ = 0.0, 0.0, 0.45, QUANTITY = 'THERMOCOUPLE' /\n",
      "&DEVC ID = 'THER_z05', XYZ = 0.0, 0.0, 0.55, QUANTITY = 'THERMOCOUPLE' /\n",
      "&DEVC ID = 'THER_z06', XYZ = 0.0, 0.0, 0.65, QUANTITY = 'THERMOCOUPLE' /\n",
      "&DEVC ID = 'THER_z07', XYZ = 0.0, 0.0, 0.75, QUANTITY = 'THERMOCOUPLE' /\n",
      "&DEVC ID = 'THER_z08', XYZ = 0.0, 0.0, 0.85, QUANTITY = 'THERMOCOUPLE' /\n",
      "&DEVC ID = 'THER_z09', XYZ = 0.0, 0.0, 0.95, QUANTITY = 'THERMOCOUPLE' /\n",
      "\n",
      "\n",
      "\n",
      "\n",
      "\n",
      "&TAIL /\n",
      "\n"
     ]
    }
   ],
   "source": [
    "# Define substring to be replaced (markker).\n",
    "marker = \"#Devices#\"\n",
    "\n",
    "# Exchange \n",
    "new_content = content.replace(marker, devc_lines)\n",
    "\n",
    "\n",
    "# Check results.\n",
    "print(new_content)"
   ]
  },
  {
   "cell_type": "markdown",
   "id": "b755eca7-03a1-4789-ad49-d8c5bbed428a",
   "metadata": {},
   "source": [
    "After the new information is added, the string can be written to disk as a new text file. For it we use the `write()` method. The `'w'` parameter will create the file if it does not exist, and overwrite it if it does.\n"
   ]
  },
  {
   "cell_type": "code",
   "execution_count": 19,
   "id": "d2fb056f-a7bc-45dc-bd88-b2bc5af1a2a5",
   "metadata": {},
   "outputs": [],
   "source": [
    "# Set path to file to read.\n",
    "file_name = \"NewInput.fds\"\n",
    "file_path = os.path.join(\"data\", \"simple_fds_template\", file_name)\n",
    "\n",
    "# Write text file.\n",
    "with open(file_path, \"w\") as new_fds_file:\n",
    "    new_fds_file.write(new_content)\n"
   ]
  },
  {
   "cell_type": "markdown",
   "id": "57879c83-789c-490b-8f54-75e41b7b1b24",
   "metadata": {},
   "source": [
    "## Regular Expressions\n",
    "\n",
    "[Regular expressions (regex)](https://docs.python.org/3/library/re.html) are another powerful tool to search for patterns in a text. They are implemented for many programming languages. The webpage [regex101](https://regex101.com/) can help you design a specific search pattern.\n"
   ]
  },
  {
   "cell_type": "code",
   "execution_count": null,
   "id": "f0863e6b-6ece-4f14-82a2-312fbd9bee28",
   "metadata": {},
   "outputs": [],
   "source": []
  },
  {
   "cell_type": "code",
   "execution_count": null,
   "id": "df0a66fb-69b6-4a02-95b4-e3d22e6dbec4",
   "metadata": {},
   "outputs": [],
   "source": []
  }
 ],
 "metadata": {
  "kernelspec": {
   "display_name": "Python 3 (ipykernel)",
   "language": "python",
   "name": "python3"
  },
  "language_info": {
   "codemirror_mode": {
    "name": "ipython",
    "version": 3
   },
   "file_extension": ".py",
   "mimetype": "text/x-python",
   "name": "python",
   "nbconvert_exporter": "python",
   "pygments_lexer": "ipython3",
   "version": "3.10.4"
  }
 },
 "nbformat": 4,
 "nbformat_minor": 5
}
