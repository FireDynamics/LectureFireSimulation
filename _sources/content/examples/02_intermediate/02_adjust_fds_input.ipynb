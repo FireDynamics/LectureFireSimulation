{
 "cells": [
  {
   "cell_type": "code",
   "execution_count": 1,
   "id": "453ce329-65df-4e1d-afa5-b675fce138a9",
   "metadata": {
    "tags": [
     "hide_cell"
    ]
   },
   "outputs": [],
   "source": [
    "import matplotlib\n",
    "import matplotlib.pyplot as plt\n",
    "import numpy as np\n",
    "\n",
    "from IPython.display import display\n",
    "from PIL import Image\n",
    "\n",
    "import os\n",
    "# check for set environment variable JB_NOSHOW\n",
    "show = True\n",
    "if 'JB_NOSHOW' in os.environ:\n",
    "    show = False"
   ]
  },
  {
   "cell_type": "markdown",
   "id": "9b30643f-ea12-454a-8b06-9bafbbfba533",
   "metadata": {},
   "source": [
    "# Adjust FDS Input Files\n",
    "\n",
    "In this example we take a look into replacing a sub-string within a string. This will be expanded to change sections of an FDS input file."
   ]
  },
  {
   "cell_type": "code",
   "execution_count": null,
   "id": "7576d8bf-3b14-4c76-9593-935c2afef202",
   "metadata": {},
   "outputs": [],
   "source": []
  }
 ],
 "metadata": {
  "kernelspec": {
   "display_name": "Python 3 (ipykernel)",
   "language": "python",
   "name": "python3"
  },
  "language_info": {
   "codemirror_mode": {
    "name": "ipython",
    "version": 3
   },
   "file_extension": ".py",
   "mimetype": "text/x-python",
   "name": "python",
   "nbconvert_exporter": "python",
   "pygments_lexer": "ipython3",
   "version": "3.10.4"
  }
 },
 "nbformat": 4,
 "nbformat_minor": 5
}
