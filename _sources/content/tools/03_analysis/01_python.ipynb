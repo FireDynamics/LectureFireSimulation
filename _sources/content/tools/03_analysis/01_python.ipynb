{
 "cells": [
  {
   "cell_type": "markdown",
   "id": "a759d8c4",
   "metadata": {},
   "source": [
    "# Python"
   ]
  },
  {
   "cell_type": "markdown",
   "id": "1f3b73ba",
   "metadata": {},
   "source": [
    "## Disclaimer\n",
    "\n",
    "This lecutre is not a programming lecture. However, for scientific data visualization and analysis, as well as for model development, programming skills are handy. Therefore these lecture notes offer the basics to be able to start using Python and understand how they work. All exercises can be done without writing code, but this lecutre can be used as a chance to start programming.\n",
    "\n",
    "If you see potential for your future work, there is plenty of material on Python programming in the world wide web. Yet, I would like to point out, that we offer a Python introduction within the lecure [Computer Science (in German)](https://firedynamics.github.io/LectureComputerScience).\n",
    "\n",
    "Beside this section, which gives an overview of the Python fundamentals, it will be assumed, that the reader is familiar with Python."
   ]
  },
  {
   "cell_type": "markdown",
   "id": "f90dc1cd",
   "metadata": {},
   "source": [
    "## Why Python?\n",
    "\n",
    ":::{figure-md} fig-python-logo\n",
    "<img src=\"https://upload.wikimedia.org/wikipedia/commons/f/f8/Python_logo_and_wordmark.svg\" width=\"60%\">\n",
    "\n",
    "Python logo. Soruce: [Wikkimedia Commons](https://commons.wikimedia.org/wiki/File:Python_logo_and_wordmark.svg).\n",
    ":::\n",
    "\n",
    "\n",
    "In contrast to computer programs, Python scripts are not executed, but interpreted by a Python interpreter. This has advantages, like portability, and disadvantages, like potential performance issues.\n",
    "\n",
    "[Python](https://en.wikipedia.org/wiki/Python_(programming_language)) is widely spread in the scientific and engineering fields because\n",
    "\n",
    "* it is very simple to learn,\n",
    "* there exist a huge amount of modules to be easily used,\n",
    "* it is free, and\n",
    "* it is OS independent, interpreter are available for most common operating system, including HPC systems.\n",
    "\n",
    "The Python developers provide guidelines on code structure and readability. Even though they are primarily aimed at code development for Python, it is a good starting point for projects. However, individual projects might have their own guides. \n",
    "\n",
    "The reader is specifically directed to [PEP 8 – Style Guide for Python Code](https://peps.python.org/pep-0008/) and [PEP 20 – The Zen of Python](https://peps.python.org/pep-0020/). \n",
    "\n",
    "### The Zen of Python\n",
    "\n",
    "One of the key insights is code is read much more often than it is written, see PEP 8.\n",
    "\n",
    "* Beautiful is better than ugly.\n",
    "* Explicit is better than implicit.\n",
    "* Simple is better than complex.\n",
    "* Complex is better than complicated.\n",
    "* Flat is better than nested.\n",
    "* Sparse is better than dense.\n",
    "* Readability counts.\n",
    "* Special cases aren't special enough to break the rules.\n",
    "* Although practicality beats purity.\n",
    "* Errors should never pass silently.\n",
    "* Unless explicitly silenced.\n",
    "* In the face of ambiguity, refuse the temptation to guess.\n",
    "* There should be one-- and preferably only one --obvious way to do it.\n",
    "* Although that way may not be obvious at first unless you're Dutch.\n",
    "* Now is better than never.\n",
    "* Although never is often better than *right* now.\n",
    "* If the implementation is hard to explain, it's a bad idea.\n",
    "* If the implementation is easy to explain, it may be a good idea.\n",
    "* Namespaces are one honking great idea -- let's do more of those!"
   ]
  },
  {
   "cell_type": "markdown",
   "id": "65e05d02",
   "metadata": {},
   "source": [
    "## Basics\n",
    "\n",
    "### Python Interpreter\n",
    "\n",
    "A Python script is a text file, which can be executed in a shell, by invoking \n",
    "\n",
    "```\n",
    "> python script.py\n",
    "```\n",
    "\n",
    "where `script.py` is the path to the script. On some systems, there exist multiple versions of Python. To find out which version of Python is used, the `--version` can be used.\n",
    "\n",
    "For example:\n",
    "```\n",
    "> python --version\n",
    "Python 2.7.16\n",
    "\n",
    "> python3 --version\n",
    "Python 3.8.9\n",
    "```\n",
    "\n",
    "In this example, the version 3 of Python needs to be explicitly stated. In general, version 2 of Python should not be used anymore, yet there may exist OS components, which rely on verion 2, thus it is still always available.\n",
    "\n",
    "\n",
    "### Jupyter\n",
    "\n",
    "In this lecture, we will use [Jupyter](https://jupyter.org/) as an interactive Python editor. Jupyter notebooks allow to work with so called cells. They may be either Python code, that can be executed cell-wise, or markdown text, to include descriptive information to the script. In contrast to Jupyter, JupyterLab provides a new flexible interface for working with Jupyter notebooks.\n",
    "\n",
    "JupyterLab \n",
    "\n",
    "* runs in a webbrowser,\n",
    "* integrates an editor, a file browser and a terminal,\n",
    "* has a modular and flexible interface, and\n",
    "* provides means for extensions.\n",
    "\n",
    "Some very basic shortcuts in Jupyter\n",
    "* start editing cell: `Enter` or `double click`\n",
    "* execute cell: `Shift-Enter` or `Ctrl-Enter`\n",
    "* end edit mode of a cell: `Esc`\n",
    "* add new cells: `a` for a new cell above and `b` for a cell below\n",
    "* copy / paste / cut cell: `c` / `v` / `x`\n",
    "\n",
    "### Syntax\n",
    "\n",
    "The syntax of Python is very simple:\n",
    "\n",
    "* tokens (variables, operators, etc.) can be separated by multiple spaces, but indentation matters\n",
    "* one expression per line\n",
    "* code blocks, e.g. the body of a loop, are indicated by indentation\n",
    "* there are only a few reserved keywords, e.g. `if`, `for`, `in`, `import`, etc.\n",
    "* line content after a `#` is interpreted as a comment and thus ignored during execution\n",
    "\n",
    "Indentation example:\n",
    "\n",
    "```python\n",
    "i=5 \n",
    "b=i*3\n",
    "for it in range (10): \n",
    "    print(it)\n",
    "    if it < 5:\n",
    "        print(\"too small\") \n",
    "        do_something(it)\n",
    "        b = b + it**2\n",
    "print(b)\n",
    "```\n",
    "\n",
    "Here, there exist three level of indentation, which are indicated as a sequance of four spaces. An alternative to spaces is the usage of tabs."
   ]
  },
  {
   "cell_type": "markdown",
   "id": "c33b6700",
   "metadata": {},
   "source": [
    "### Operators\n",
    "\n",
    "Some of the main operators used in Python:\n",
    "\n",
    "* value assignment: =\n",
    "* comparison operators: >, <=, ==\n",
    "* arithmetic operators: e.g. +, *, **, %\n",
    "* logical operators and values: and, or, not, True, False\n",
    "\n",
    "Expressions can be grouped with brackets `()` to adopt the order of execution."
   ]
  },
  {
   "cell_type": "code",
   "execution_count": 1,
   "id": "d6e55dd0",
   "metadata": {},
   "outputs": [
    {
     "data": {
      "text/plain": [
       "12"
      ]
     },
     "execution_count": 1,
     "metadata": {},
     "output_type": "execute_result"
    }
   ],
   "source": [
    "# Operator examples\n",
    "5 + 7"
   ]
  },
  {
   "cell_type": "code",
   "execution_count": 2,
   "id": "d95f1e47",
   "metadata": {},
   "outputs": [
    {
     "data": {
      "text/plain": [
       "196"
      ]
     },
     "execution_count": 2,
     "metadata": {},
     "output_type": "execute_result"
    }
   ],
   "source": [
    "(10 + 4) ** 2"
   ]
  },
  {
   "cell_type": "code",
   "execution_count": 3,
   "id": "b77d99f7",
   "metadata": {},
   "outputs": [
    {
     "data": {
      "text/plain": [
       "False"
      ]
     },
     "execution_count": 3,
     "metadata": {},
     "output_type": "execute_result"
    }
   ],
   "source": [
    "12 > 24"
   ]
  },
  {
   "cell_type": "code",
   "execution_count": 4,
   "id": "32f4192d",
   "metadata": {},
   "outputs": [
    {
     "data": {
      "text/plain": [
       "True"
      ]
     },
     "execution_count": 4,
     "metadata": {},
     "output_type": "execute_result"
    }
   ],
   "source": [
    "(2 ** 3) > (10 - 7)"
   ]
  },
  {
   "cell_type": "markdown",
   "id": "0b25012c",
   "metadata": {},
   "source": [
    "### Variables\n",
    "\n",
    "Variables are used to store values, which can be referenced or changed during execution. In contrast to many other programming languages, variables do not need an explicit type declaration.\n",
    "\n",
    "To assign a value to a variable, the assignment operator `=` is used. The general form is given by\n",
    "\n",
    "```python\n",
    "variable_name = value\n",
    "```\n",
    "\n",
    "Where the variable name must not be an intrinsic keyword, start with a number or contain spaces. To read the value of a variable, its name must just be placed at the according position."
   ]
  },
  {
   "cell_type": "code",
   "execution_count": 6,
   "id": "53474837",
   "metadata": {},
   "outputs": [
    {
     "data": {
      "text/plain": [
       "60"
      ]
     },
     "execution_count": 6,
     "metadata": {},
     "output_type": "execute_result"
    }
   ],
   "source": [
    "# Variable assignment examples\n",
    "result = 5\n",
    "\n",
    "12 * result"
   ]
  },
  {
   "cell_type": "code",
   "execution_count": 7,
   "id": "b92b360e",
   "metadata": {},
   "outputs": [
    {
     "data": {
      "text/plain": [
       "False"
      ]
     },
     "execution_count": 7,
     "metadata": {},
     "output_type": "execute_result"
    }
   ],
   "source": [
    "new_result = result ** 2\n",
    "\n",
    "result > new_result"
   ]
  },
  {
   "cell_type": "markdown",
   "id": "9cb0117a",
   "metadata": {},
   "source": [
    "There are a few basic data types in Python:\n",
    "\n",
    "* integers: `1`, `3`, `5`, `-78`\n",
    "* floats: `3.142`, `42.1`, `1e-7`\n",
    "* strings: `\"Wuppertal\"`, `'fire'`\n",
    "* lists: `[7, 3, 6.7, 'computer']`\n"
   ]
  },
  {
   "cell_type": "markdown",
   "id": "bfa1952b",
   "metadata": {},
   "source": [
    "### Functions\n",
    "\n",
    "Functions allow to encapsulate frequent and common tasks. The are called by their name, followed by `()`, that may contain function arguments, separated by a `,`. An optional return value may be passed by a function.\n",
    "\n",
    "The general form is\n",
    "\n",
    "```python\n",
    "return_value = function_name(argument_1, argument_2, ...)\n",
    "```\n",
    "\n",
    "There are only few [build-in functions in Python](https://docs.python.org/3/library/functions.html). In general, additional functions are loaded via modules."
   ]
  },
  {
   "cell_type": "code",
   "execution_count": 8,
   "id": "cf72d22c",
   "metadata": {},
   "outputs": [
    {
     "name": "stdout",
     "output_type": "stream",
     "text": [
      "5\n",
      "25\n"
     ]
    }
   ],
   "source": [
    "### Function examples\n",
    "# print function: Prints the argument's value. Jupyter automaticaly prints the \n",
    "# result of the last expression in a cell. This is not true for Python scripts \n",
    "# directly executed.\n",
    "\n",
    "print(result)\n",
    "print(new_result)"
   ]
  },
  {
   "cell_type": "code",
   "execution_count": 11,
   "id": "1fdc6e66",
   "metadata": {},
   "outputs": [
    {
     "name": "stdout",
     "output_type": "stream",
     "text": [
      "a = 5\n",
      "b = a**2 = 3125\n"
     ]
    }
   ],
   "source": [
    "a = 5\n",
    "print('a =', a)\n",
    "\n",
    "b = a ** 5\n",
    "print('b = a**2 =', b)"
   ]
  },
  {
   "cell_type": "code",
   "execution_count": 14,
   "id": "9dce287c",
   "metadata": {},
   "outputs": [
    {
     "name": "stdout",
     "output_type": "stream",
     "text": [
      "Maximal value: 3125\n",
      "Minimal value: 5\n"
     ]
    }
   ],
   "source": [
    "# min / max functions: return the maximal value of the passed arguments\n",
    "\n",
    "res = max(a, b, 1000)\n",
    "print('Maximal value:', res )\n",
    "\n",
    "res = min(a, b, 1000)\n",
    "print('Minimal value:', res )"
   ]
  },
  {
   "cell_type": "markdown",
   "id": "34fecb5c",
   "metadata": {},
   "source": [
    "## Lists\n",
    "\n",
    "A list is a ordered set of values. Each element can be of every possible type, including an other list. To define a list, square brackets `[]` are used:\n",
    "\n",
    "```python\n",
    "list_name = [e1, e2, e3]\n",
    "```"
   ]
  },
  {
   "cell_type": "code",
   "execution_count": 15,
   "id": "65b4067d",
   "metadata": {},
   "outputs": [
    {
     "name": "stdout",
     "output_type": "stream",
     "text": [
      "List of results: [22.4, -30.7, 16.3, -0.34]\n"
     ]
    }
   ],
   "source": [
    "# List creation example\n",
    "results = [22.4, -30.7, 16.3, -0.34]\n",
    "\n",
    "print('List of results:', results)"
   ]
  },
  {
   "cell_type": "code",
   "execution_count": 16,
   "id": "c00995fc",
   "metadata": {},
   "outputs": [
    {
     "name": "stdout",
     "output_type": "stream",
     "text": [
      "List of results: [22.4, -30.7, 16.3, -0.34, 0.5, 112.4]\n"
     ]
    }
   ],
   "source": [
    "### Append element to a list example\n",
    "# To append an element, use the function list.append\n",
    "\n",
    "results.append(0.5)\n",
    "results.append(112.4)\n",
    "\n",
    "print('List of results:', results)"
   ]
  },
  {
   "cell_type": "markdown",
   "id": "fc04ed37",
   "metadata": {},
   "source": [
    "It is possible to access individual elements of a list, either for reading or changing its value. To do so, the element is addressed by its index, which starts at zero. The syntax for this is `list[index]`. To reference the elements starting at the last one, negative indices are used. Here the last element has the index -1."
   ]
  },
  {
   "cell_type": "code",
   "execution_count": 19,
   "id": "80ea52bc",
   "metadata": {},
   "outputs": [
    {
     "name": "stdout",
     "output_type": "stream",
     "text": [
      "First element : 22.4\n",
      "Third element : 16.3\n",
      "Last element  : 112.4\n"
     ]
    }
   ],
   "source": [
    "# Access list elements example\n",
    "\n",
    "print('First element :', results[0])\n",
    "print('Third element :', results[2])\n",
    "print('Last element  :', results[-1])"
   ]
  },
  {
   "cell_type": "code",
   "execution_count": 20,
   "id": "8d56f8e1",
   "metadata": {},
   "outputs": [
    {
     "name": "stdout",
     "output_type": "stream",
     "text": [
      "Third element before modification : 16.3\n",
      "Third element after modification  : 55.5\n",
      "Full list : [22.4, -30.7, 55.5, -0.34, 0.5, 112.4]\n"
     ]
    }
   ],
   "source": [
    "# Modification of a list element\n",
    "\n",
    "print('Third element before modification :', results[2])\n",
    "results[2] = 55.5\n",
    "print('Third element after modification  :', results[2])\n",
    "\n",
    "print('Full list :', results)"
   ]
  },
  {
   "cell_type": "markdown",
   "id": "d348cdd0",
   "metadata": {},
   "source": [
    "## Strings\n",
    "\n",
    "Strings are sets of characters to represent text or numbers in a human readable sense. They can be explicitly definded with `''` or `\"\"`. \n",
    "\n",
    "```python\n",
    "string_name = \"This is a short text.\"\n",
    "```\n",
    "\n",
    "Strings can be added to create a new string with the merged contents of the operands."
   ]
  },
  {
   "cell_type": "code",
   "execution_count": 24,
   "id": "90c86b90",
   "metadata": {},
   "outputs": [
    {
     "name": "stdout",
     "output_type": "stream",
     "text": [
      "Computational Civil Engineering, University of Wuppertal\n"
     ]
    }
   ],
   "source": [
    "# Merge of strings example\n",
    "chair = 'Computational Civil Engineering'\n",
    "university = 'University of Wuppertal'\n",
    "\n",
    "combined = chair + \", \" + university\n",
    "print(combined)"
   ]
  },
  {
   "cell_type": "markdown",
   "id": "a3bffd05",
   "metadata": {},
   "source": [
    "To incorporate variable values into strings, formatted strings (f-strings) can be used. They allow to reference variable values and control their string representation. The placeholder is defined with `{variable_name}` and the f-string is declared with `f''` or `f\"\"`."
   ]
  },
  {
   "cell_type": "code",
   "execution_count": 26,
   "id": "e115e118",
   "metadata": {},
   "outputs": [
    {
     "name": "stdout",
     "output_type": "stream",
     "text": [
      "Computational Civil Engineering, University of Wuppertal, established in 2019\n",
      "Computational Civil Engineering, University of Wuppertal, established in 2019\n"
     ]
    }
   ],
   "source": [
    "# f-string example\n",
    "year = 2019\n",
    "established = f'established in {year}'\n",
    "\n",
    "combined = chair + \", \" + university + \", \" + established\n",
    "print(combined)\n",
    "\n",
    "# or \n",
    "\n",
    "combined = f'{chair}, {university}, established in {year}'\n",
    "print(combined)"
   ]
  },
  {
   "cell_type": "markdown",
   "id": "943b7e6a",
   "metadata": {},
   "source": [
    "## Flow Control\n",
    "\n",
    "There exist two main structures, which are common in many programming languages and allow to build a complex execution flow.\n",
    "\n",
    "* **Loops** repeat a set of expressions (loop body) for a given loop variable. The value of the loop variable iterates throug a list of values.\n",
    "\n",
    "* **Branching** allows to execute expressions depending on a condition. "
   ]
  },
  {
   "cell_type": "markdown",
   "id": "cb36480d",
   "metadata": {},
   "source": [
    "### Loops\n",
    "\n",
    "The basic structure of a loop is\n",
    "\n",
    "```python\n",
    "# loop header\n",
    "for loop_variable in loop_values:\n",
    "    # loop body\n",
    "    loop_body()\n",
    "```\n",
    "\n",
    "Here, the name of the loop variable can be freely chosen and the loop body may consist of any number of expressions. The syntax for a loop definition includes the keywords `for` and `in`, while the header is closed with a `:`. An alternative way to express loops is with the `while` keyword. The loop body is intended by one level (e.g. 4 spaces or a single tab)."
   ]
  },
  {
   "cell_type": "code",
   "execution_count": 27,
   "id": "5160dbaa",
   "metadata": {},
   "outputs": [
    {
     "name": "stdout",
     "output_type": "stream",
     "text": [
      "4 16\n",
      "7 49\n",
      "2 4\n",
      "9 81\n"
     ]
    }
   ],
   "source": [
    "# Loop example 1\n",
    "\n",
    "for i in [4,7,2,9]:\n",
    "    print(i, i**2)"
   ]
  },
  {
   "cell_type": "code",
   "execution_count": 29,
   "id": "8cecb573",
   "metadata": {},
   "outputs": [
    {
     "name": "stdout",
     "output_type": "stream",
     "text": [
      "0 0\n",
      "1 10\n",
      "2 20\n",
      "3 30\n",
      "4 40\n",
      "5 50\n",
      "6 60\n",
      "7 70\n",
      "8 80\n",
      "9 90\n"
     ]
    }
   ],
   "source": [
    "# Loop example 2\n",
    "\n",
    "for j in range(10):\n",
    "    print(j, j*10)"
   ]
  },
  {
   "cell_type": "markdown",
   "id": "93db9e40",
   "metadata": {},
   "source": [
    "The build-in function [`range()`](https://docs.python.org/3/library/functions.html#func-range) is often used in the context of loops to generate a structured sequence of values to be looped over. It can take up to three arguments (start, stop, step) to control the created sequance."
   ]
  },
  {
   "cell_type": "code",
   "execution_count": 30,
   "id": "494a3c1d",
   "metadata": {},
   "outputs": [
    {
     "name": "stdout",
     "output_type": "stream",
     "text": [
      "10\n",
      "12\n",
      "14\n",
      "16\n",
      "18\n",
      "20\n",
      "22\n",
      "24\n",
      "26\n",
      "28\n"
     ]
    }
   ],
   "source": [
    "# Range example\n",
    "\n",
    "for k in range(10, 30, 2):\n",
    "    print(k)"
   ]
  },
  {
   "cell_type": "markdown",
   "id": "bbe1a3ea",
   "metadata": {},
   "source": [
    "### Branching\n",
    "\n",
    "In order to control the execution flow, branching or if-statements are used. An if-statement uses the `if` and optionally the `else` keywords, closes its definition with a `:` and takes the follwoing general form\n",
    "\n",
    "```python\n",
    "if conditon:\n",
    "    # if-true body\n",
    "    if_true_body()\n",
    "else:\n",
    "    # if-false body\n",
    "    if_false_body\n",
    "```\n",
    "\n",
    "In the above structure, the `condition` is evaluated. If it evaluates to true (`True`) then the first code block (intended by one level) is exectued. If there is an else block defined, it is executed if `condition` evaluates to false (`False`)."
   ]
  },
  {
   "cell_type": "code",
   "execution_count": 31,
   "id": "b36bb96a",
   "metadata": {},
   "outputs": [
    {
     "name": "stdout",
     "output_type": "stream",
     "text": [
      "5 is less than 12\n"
     ]
    }
   ],
   "source": [
    "# Branching example 1\n",
    "\n",
    "a = 5\n",
    "b = 12\n",
    "\n",
    "if a > b:\n",
    "    print(f\"{a} is greater than {b}\")\n",
    "else:\n",
    "    print(f\"{a} is less than {b}\")"
   ]
  },
  {
   "cell_type": "code",
   "execution_count": 32,
   "id": "e2cb2d48",
   "metadata": {},
   "outputs": [
    {
     "name": "stdout",
     "output_type": "stream",
     "text": [
      "The number 0 is even.\n",
      "The number 1 is odd.\n",
      "The number 2 is even.\n",
      "The number 3 is odd.\n",
      "The number 4 is even.\n",
      "The number 5 is odd.\n",
      "The number 6 is even.\n",
      "The number 7 is odd.\n",
      "The number 8 is even.\n",
      "The number 9 is odd.\n"
     ]
    }
   ],
   "source": [
    "# Branching example 2\n",
    "\n",
    "for i in range(10):\n",
    "    if i % 2 == 0:\n",
    "        print(f\"The number {i} is even.\")\n",
    "    else:\n",
    "        print(f\"The number {i} is odd.\")"
   ]
  },
  {
   "cell_type": "markdown",
   "id": "7af40947",
   "metadata": {},
   "source": [
    "## Modules\n",
    "\n",
    "In this lecture, we will use a couple of modules, which implement a lot of functionality, like numerical scheme, data input and output as well as data visualisation.\n",
    "\n",
    "To make the content of a module available in a script, it needs to be imported:\n",
    "\n",
    "```python\n",
    "import module_name as short_name\n",
    "```\n",
    "\n",
    "The `import` keyword is followed by the module name (`module_name`) and optionaly the reference to the module can be renamed with the `as` keywort to a short name (`short_name`).\n",
    "\n",
    "The contents, e.g. variables and functions, are accessed as \n",
    "\n",
    "```python\n",
    "module_name.function()\n",
    "```"
   ]
  },
  {
   "cell_type": "code",
   "execution_count": 33,
   "id": "aa68d9ca",
   "metadata": {},
   "outputs": [
    {
     "name": "stdout",
     "output_type": "stream",
     "text": [
      "3.141592653589793\n",
      "1.0\n"
     ]
    }
   ],
   "source": [
    "import numpy as np\n",
    "print( np.pi )\n",
    "print( np.sin(np.pi / 2) )"
   ]
  },
  {
   "cell_type": "markdown",
   "id": "ddcbdf8b",
   "metadata": {},
   "source": [
    "**numpy & scipy**\n",
    "\n",
    "The module [`numpy`](https://numpy.org) provides data structures (arrays) for fast operations. Additionaly, there is a wide range of mathematical functions and methods available.\n",
    "\n",
    "While `numpy` is rather focussed on the basic numerical structure, the [`scipy`](https://www.scipy.org) module implements many advanced mathematical and analysis methods.\n",
    "\n",
    "**matplotlib**\n",
    "\n",
    "A common choise for data visualisation is the module [`matplotlib`](https://matplotlib.org). It offers many ways to graphicaly present data, see [gallery](https://matplotlib.org/stable/gallery/index.html).\n",
    "\n",
    "**fdsreader**\n",
    "\n",
    "The [`fdsreader`](https://github.com/FireDynamics/fdsreader) module is developed by us and provides an infrastructure to read simulation data generated with FDS."
   ]
  }
 ],
 "metadata": {
  "kernelspec": {
   "display_name": "Python 3 (ipykernel)",
   "language": "python",
   "name": "python3"
  },
  "language_info": {
   "codemirror_mode": {
    "name": "ipython",
    "version": 3
   },
   "file_extension": ".py",
   "mimetype": "text/x-python",
   "name": "python",
   "nbconvert_exporter": "python",
   "pygments_lexer": "ipython3",
   "version": "3.10.4"
  }
 },
 "nbformat": 4,
 "nbformat_minor": 5
}
