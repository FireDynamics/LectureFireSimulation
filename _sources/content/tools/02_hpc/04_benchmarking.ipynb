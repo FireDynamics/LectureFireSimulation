{
 "cells": [
  {
   "cell_type": "markdown",
   "id": "8290e67f-ca5b-4181-9c23-3cad57357395",
   "metadata": {},
   "source": [
    "# Benchmarking"
   ]
  },
  {
   "cell_type": "markdown",
   "id": "00966eb9-bc71-420c-9ebe-bfa65ab9c625",
   "metadata": {},
   "source": [
    "We want to investigate the strong scaling of our simulation. This means that the **total** workload is fixed and the number of processes used to run the simulation varies. This means we must keep our FDS file fixed for all different test runs exept for the mesh lines.  \n",
    "Remember the line:"
   ]
  },
  {
   "cell_type": "raw",
   "id": "d130be48-bce0-4e7e-9363-e8fdc76a9141",
   "metadata": {},
   "source": [
    "&MESH ID='1' IJK=42,24,122 XB=0.0000,4.2000,0.0000,2.4000,0.0000,12.2400 /"
   ]
  },
  {
   "cell_type": "markdown",
   "id": "24b0c4fa-c1be-469a-afb8-57382fd808a3",
   "metadata": {},
   "source": [
    "generates a mesh from x = 0 to x = 4.2 m, y = 0 to y = 2.4 m and z = 0 to z = 12.24 m. Here we have 42 cells in x, 24 in y and 122 cells in z direction. We could split this mesh in several different meshes. <br>\n",
    "**IMPORTANT:** The number of meshes must fit to the number of tasks in the submit.sh script, otherwise slurm will not understand how to select the correct number of processes. <br>\n",
    "For example we could have 2 meshes, a bottom mesh and a top mesh where we have only have the number of cells in z direction:"
   ]
  },
  {
   "cell_type": "raw",
   "id": "c687fd02-1b1d-46c9-89da-b469593e4b31",
   "metadata": {},
   "source": [
    "&MESH ID='1' IJK=42,24,61 XB=0.0000,4.2000,0.0000,2.4000,0.0000,6.1200/\n",
    "&MESH ID='2' IJK=42,24,61 XB=0.0000,4.2000,0.0000,2.4000,0.0000,12.2400 /"
   ]
  },
  {
   "cell_type": "markdown",
   "id": "5752f4d7-522c-4919-82d6-ef532d787ff2",
   "metadata": {},
   "source": [
    "To avoid writing all the mesh lines by hand you can use e.g. a python script to split the \"&MESH ID='1'\" line according to your disires.  "
   ]
  },
  {
   "cell_type": "markdown",
   "id": "09be0e86-5d84-4964-88a3-7bc34fc13da9",
   "metadata": {},
   "source": [
    "Finally, let's get started with the benchmarking. \n",
    "We first need a directory for our simulation and submission files. We will call it \"benchmark\" and save the first FDS-Code here. <br>\n",
    "You can use this as default [staircase benchmark](../../../../data/fds_tutorial/benchmark_tutorial/staircase_fire_ox_VF.fds)"
   ]
  },
  {
   "cell_type": "markdown",
   "id": "b9c31a2b-3ef1-4fad-8e9a-96a452dd09e8",
   "metadata": {},
   "source": [
    "We want to change the number of processes and therefore we need to change the number of meshes for each simulation. <br>\n",
    "Lets split this example into 2, 4, 8, and 16 meshes. "
   ]
  },
  {
   "cell_type": "markdown",
   "id": "94f8b825-5c24-4386-bda7-b8d70c694520",
   "metadata": {},
   "source": [
    "| Processes | No. of cells in x | No. of cells in y | No. of cells in z\n",
    "| :-: | :-: | :-: | :-: |\n",
    "| 1 | 42 | 24 | 120\n",
    "| 2 | 42 | 24 | 60\n",
    "| 4 | 42 | 24 | 30\n",
    "| 8 | 21 | 24 | 30\n",
    "| 16 | 21 | 24 | 15"
   ]
  },
  {
   "cell_type": "markdown",
   "id": "ae24934d-1da9-4de8-bb2d-4111a9233850",
   "metadata": {},
   "source": [
    "We also need 5 submit scripts where we specify the required resources and run the job. Once we have the 5 submit scripts and the 5 FDS codes we can start the simulation with:"
   ]
  },
  {
   "cell_type": "raw",
   "id": "635f22b3-a3be-42c0-9a02-dce51259be4a",
   "metadata": {},
   "source": [
    "sbatch submit111.sh"
   ]
  },
  {
   "cell_type": "markdown",
   "id": "e3a728a7-904a-4df8-91d1-66adaf0df01b",
   "metadata": {},
   "source": [
    "Each simulation will run as usual but we are more interested in the execution details than on the simulation results. We now take a closer look on the file <font color=blue> *CHID*_cpu.csv </font>. In here there are a lot of information. For each process there will be a row with details on *RANK*, *MAIN*, *DIVG*, *MASS*, *VELO*, *PRES* and much more. <br>\n",
    "These abbreviation represent the compontents which FDS executes during runtime. For example MASS is the routine which handles the computation of the masses, VELO computes the velocities, DUMP is the output routine where data is written to files (and so on...). For more details check the FDS User manual. <br>\n",
    "Important to note is that the *MAIN* routine is basically a idle routine where processes which are already done with their part of the computation wait for processes which are not yet ready. Therefore this should be a very small fraction of the *total T_USED* otherwise you can see that the work is not well balanced among the processes."
   ]
  },
  {
   "cell_type": "markdown",
   "id": "fb8f0e6a-e562-4d8c-9b82-6fc3ee3acba8",
   "metadata": {},
   "source": [
    "Once a simulation is done you can rename the CHID_cpu.csv file to a name you can use in a python evaluation code later (e.g. 1.cpu, 2.cpu, 4.cpu, 8.cpu and 16.cpu). Having the 5 cpu files collected we can start the evaluation.### Benchmarking\n",
    "We want to investigate the strong scaling of our simulation. This means that the **total** workload is fixed and the number of processes used to run the simulation varies. This means we must keep our FDS file fixed for all different test runs exept for the mesh lines.  \n",
    "Remember the line:"
   ]
  },
  {
   "cell_type": "markdown",
   "id": "1caba3e0-14f0-406e-8cdb-5fb58f907879",
   "metadata": {},
   "source": [
    "### Evaluation using Python\n",
    "For the evaluation we will use matplotlib in python. We choose <font color=green>**plt**</font> as the Keyword to refer to <font color=green>**pyplot**</font>."
   ]
  },
  {
   "cell_type": "code",
   "execution_count": 26,
   "id": "0ce35a79-b4f7-47ce-aabe-d2f754f57930",
   "metadata": {},
   "outputs": [],
   "source": [
    "import matplotlib.pyplot as plt\n",
    "import matplotlib._color_data as mcd\n",
    "import numpy as np"
   ]
  },
  {
   "cell_type": "markdown",
   "id": "00e7ab27-6a3c-4487-8fb6-1c6a94138c14",
   "metadata": {},
   "source": [
    "<font color=green> **\\_color_data** </font> will be used to have access to more different colors when plotting the data. <br>\n",
    "<font color=green> **numpy** </font> is used for mathematical operations such as finding the max/min, calculating the average, and so on."
   ]
  },
  {
   "cell_type": "code",
   "execution_count": 27,
   "id": "9044c572-3b50-4cb4-8c92-fb6600eb0652",
   "metadata": {},
   "outputs": [],
   "source": [
    "RANK = []\n",
    "MAIN = []\n",
    "DIVG = []\n",
    "MASS = []\n",
    "VELO = []\n",
    "PRES = []\n",
    "WALL = []\n",
    "DUMP = []\n",
    "PART = []\n",
    "RADI = []\n",
    "FIRE = []\n",
    "COMM = []\n",
    "EVAC = []\n",
    "HVAC = []\n",
    "GEOM = []\n",
    "VEGE = []\n",
    "T_USED = []"
   ]
  },
  {
   "cell_type": "markdown",
   "id": "9b7b0139-7d23-4bf6-ad91-d29c6f9fdb91",
   "metadata": {},
   "source": [
    "Here we initialize the lists where we store the data for each simulation run."
   ]
  },
  {
   "cell_type": "code",
   "execution_count": 28,
   "id": "36b192c4-f314-4ba8-9f35-9a62260ea674",
   "metadata": {},
   "outputs": [],
   "source": [
    "#generate a list with the numbers of processes from our simulation \n",
    "#from those we will read in the cpu-files\n",
    "files = [1, 2, 4, 8, 16] \n",
    "\n",
    "for i in files:\n",
    "    \n",
    "    #initialize empty 17 list-dummies (temporal storage)\n",
    "    my_values = [0]*17 \n",
    "    \n",
    "    #open the file with names \"1.cpu\", ..., \"16.cpu\"\n",
    "    fileHandle = open(\"../../../../data/fds_tutorial/benchmark_tutorial/cpu_files/\" + str(i) +'.cpu',\"r\")\n",
    "    \n",
    "    #read the file and store the lines in a list called lineList\n",
    "    lineList = fileHandle.readlines()\n",
    "    \n",
    "    #you need to close the files once you don't need them anymore\n",
    "    fileHandle.close()\n",
    "    \n",
    "    #our first line in the file contained the names for the channels.\n",
    "    #we dont need this line in our linelist for evaluation\n",
    "    lineList.pop(0)\n",
    "    \n",
    "    #iterate over the lines\n",
    "    for line in lineList:\n",
    "        #iterate over the elements in each line\n",
    "        for j in range(len(my_values)):\n",
    "            #add the channel - values for each process\n",
    "            #e.g. Numbers in MAIN channel will be summed up for process 1 (up) to 16\n",
    "            my_values[j] += float(line.split(\",\")[j])\n",
    "\n",
    "            \n",
    "            \n",
    "    #divide each sum by the number of processes\n",
    "    #now we calculated an average value  [sum(x)*1/n]\n",
    "    for j in range(len(my_values)):\n",
    "        my_values[j] = my_values[j]/len(lineList)\n",
    "\n",
    "        \n",
    "    #store the calculated averages in the lists for each channel\n",
    "    RANK.append(my_values[0])\n",
    "        #contains the number of processes\n",
    "        \n",
    "    MAIN.append(my_values[1])\n",
    "    DIVG.append(my_values[2]) \n",
    "    MASS.append(my_values[3])\n",
    "    VELO.append(my_values[4])\n",
    "    PRES.append(my_values[5])\n",
    "    WALL.append(my_values[6])\n",
    "    DUMP.append(my_values[7])\n",
    "    PART.append(my_values[8])\n",
    "    RADI.append(my_values[9])\n",
    "    FIRE.append(my_values[10])\n",
    "    COMM.append(my_values[11])\n",
    "    EVAC.append(my_values[12])\n",
    "    HVAC.append(my_values[13])\n",
    "    GEOM.append(my_values[14])\n",
    "    VEGE.append(my_values[15])\n",
    "    T_USED.append(my_values[16])"
   ]
  },
  {
   "cell_type": "markdown",
   "id": "3de11a0b-c66d-4c36-a967-723305f32371",
   "metadata": {},
   "source": [
    "Now we have for each simulation an average value for each channel in the corresponding list. We can proceed with plotting now. <br>\n",
    "First we initialize the figue window:"
   ]
  },
  {
   "cell_type": "code",
   "execution_count": 29,
   "id": "df9ef7e0-73e3-4659-8792-455659610feb",
   "metadata": {},
   "outputs": [
    {
     "data": {
      "text/plain": [
       "<Figure size 432x288 with 0 Axes>"
      ]
     },
     "metadata": {},
     "output_type": "display_data"
    }
   ],
   "source": [
    "f = plt.figure()"
   ]
  },
  {
   "cell_type": "markdown",
   "id": "44d1f5fa-701b-42a0-a16c-ec9ace24ae8a",
   "metadata": {},
   "source": [
    "Next, we plot our data on a doubled logarithmic scale. We use the additional colors to distinguish the channels and we also set the labels. Doing so, the legend will be display the colors and names correctly."
   ]
  },
  {
   "cell_type": "code",
   "execution_count": 32,
   "id": "5ec3e402-fdb3-4c92-a31a-db434048f2c6",
   "metadata": {},
   "outputs": [
    {
     "data": {
      "image/png": "[encoded data removed]",
      "text/plain": [
       "<Figure size 432x288 with 1 Axes>"
      ]
     },
     "metadata": {
      "needs_background": "light"
     },
     "output_type": "display_data"
    }
   ],
   "source": [
    "plt.loglog(files, MAIN, marker= 'o', color='fuchsia', label=\"MAIN\")\n",
    "plt.loglog(files, DIVG, marker= 'o', color='firebrick', label=\"DIVG\")\n",
    "plt.loglog(files, MASS, marker= 'o', color='sienna', label=\"MASS\")\n",
    "plt.loglog(files, VELO, marker= 'o', color='gold', label=\"VELO\")\n",
    "plt.loglog(files, PRES, marker= 'o', color='olivedrab', label=\"PRESS\")\n",
    "plt.loglog(files, WALL, marker= 'o', color='chartreuse', label=\"WALL\")\n",
    "plt.loglog(files, DUMP, marker= 'o', color='darkcyan', label=\"DUMP\")\n",
    "plt.loglog(files, PART, marker= 'o', color='deepskyblue', label=\"PART\")\n",
    "plt.loglog(files, RADI, marker= 'o', color='navy', label=\"RADI\")\n",
    "plt.loglog(files, FIRE, marker= 'o', color='plum', label=\"FIRE\")\n",
    "plt.loglog(files, COMM, marker= 'o', color='darkviolet', label=\"COMM\")\n",
    "plt.loglog(files, EVAC, marker= 'o', color='springgreen', label=\"EVAC\")\n",
    "plt.loglog(files, HVAC, marker= 'o', color='pink', label=\"HVAC\")\n",
    "plt.loglog(files, GEOM, marker= 'o', color='salmon', label=\"GEOM\")\n",
    "plt.loglog(files, VEGE, marker= 'o', color='khaki', label=\"VEGE\")\n",
    "plt.loglog(files, T_USED, marker= 'o', color='blue', label=\"total Time\")\n",
    "\n",
    "plt.legend(bbox_to_anchor=(1.05, 1), loc='upper left', fontsize='small')\n",
    "plt.ylabel('time used in [s]')\n",
    "plt.xlabel('number of processes')\n",
    "plt.title('time distribution of major routines')\n",
    "f.savefig(\"scaling_log.pdf\", bbox_inches='tight')"
   ]
  },
  {
   "cell_type": "markdown",
   "id": "6562a891-d839-46ee-a65e-ecdc3a959565",
   "metadata": {},
   "source": [
    "We add a legend right next to the plot and set the x- and y-labels as well as the title. The last step is to save the plot as a pdf vector graphic so that the plot does not get blurry once we use it in a paper or presentation."
   ]
  },
  {
   "cell_type": "markdown",
   "id": "d0254319-3771-4ed5-831a-8551785510fc",
   "metadata": {},
   "source": []
  },
  {
   "cell_type": "markdown",
   "id": "93610bbc-ef3e-4406-9af5-edb9de9a8ea1",
   "metadata": {},
   "source": []
  }
 ],
 "metadata": {
  "kernelspec": {
   "display_name": "Python 3",
   "language": "python",
   "name": "python3"
  },
  "language_info": {
   "codemirror_mode": {
    "name": "ipython",
    "version": 3
   },
   "file_extension": ".py",
   "mimetype": "text/x-python",
   "name": "python",
   "nbconvert_exporter": "python",
   "pygments_lexer": "ipython3",
   "version": "3.8.9"
  }
 },
 "nbformat": 4,
 "nbformat_minor": 5
}
