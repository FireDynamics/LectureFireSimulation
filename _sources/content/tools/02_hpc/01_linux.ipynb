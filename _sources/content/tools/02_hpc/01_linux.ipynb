{
 "cells": [
  {
   "cell_type": "code",
   "execution_count": 1,
   "id": "95339018",
   "metadata": {
    "tags": [
     "remove_cell"
    ]
   },
   "outputs": [],
   "source": [
    "# Needed for Markdown output from Python cells\n",
    "from IPython.display import Markdown as md\n",
    "\n",
    "import os\n",
    "\n",
    "# Function to execute a bash command and return a Markdown representation (call + output)\n",
    "def demo_cmd(cmd, lang=None):\n",
    "    if not isinstance(cmd, list):\n",
    "        cmd = [cmd]\n",
    "\n",
    "    if not lang:\n",
    "        lang = 'none'\n",
    "\n",
    "    output = ''\n",
    "    for c in cmd:\n",
    "        output += f\"> {c}\\n\"\n",
    "        cmd_out =!{c}\n",
    "        if len(cmd_out) > 0:\n",
    "            output += '\\n'.join(cmd_out)\n",
    "        output += '\\n\\n'\n",
    "    output = output.strip()\n",
    "    return md(f\"```{lang}\\n{output}\\n```\")"
   ]
  },
  {
   "cell_type": "markdown",
   "id": "89240f5f",
   "metadata": {},
   "source": [
    "# Linux\n",
    "\n",
    ":::{figure-md} fig-tux\n",
    "<img src=\"https://upload.wikimedia.org/wikipedia/commons/3/35/Tux.svg\" width=\"20%\">\n",
    "\n",
    "Tux the penguin. Source: [Wikimedia Commons](https://en.wikipedia.org/wiki/Linux#/media/File:Tux.svg).\n",
    ":::\n",
    "\n",
    "In scientific computing, the [Linux](https://en.wikipedia.org/wiki/Linux) operating system (OS) is commonly used. Linux is an open-source OS, which was first released in 1991 as a UNIX-like system.\n",
    "\n",
    "Like in other parts of these lecture notes, the follwing sections cover only the essentials about using Linux and are by far not complete. \n",
    "\n",
    ":::{figure-md} fig-unix-history\n",
    "\n",
    "<img src=\"https://upload.wikimedia.org/wikipedia/commons/7/77/Unix_history-simple.svg\" width=\"80%\">\n",
    "\n",
    "Unix and Unix-like operating systems. Source: [Wikimedia Commons](https://commons.wikimedia.org/wiki/File:Unix_history-simple.svg).\n",
    ":::\n",
    "\n",
    "## Philosophy\n",
    "\n",
    "The UNIX and UNIX-like based operating systems have the following philosophy:\n",
    "\n",
    "1. write computer programs, that solve a single task, but very efficient \n",
    "2. write computer programs, such that they can work together\n",
    "3. write computer programs, that process simple text streams\n",
    "\n",
    "Therefore the whole OS is a collection of a zoo of small specialised applications. The combination of all of them creates a complex and mighty system. The base system of an UNIX-like OS can be used with text based terminals. However, most desktop systems have a graphical system on top. \n",
    "\n",
    "Unlike desktop systems, most high performance computing (HPC) systems are operated in a command-line based way. Therefore, the main contents of this section focus on the usage of command-line tools.  \n",
    "\n",
    "\n"
   ]
  },
  {
   "cell_type": "markdown",
   "id": "1be47f16",
   "metadata": {},
   "source": [
    "## Directories\n",
    "\n",
    "Linux uses a tree directory structure, which originates at the so called root `/`. All subdirectories are located in the same directory tree.\n",
    "\n",
    "A path, i.e. the location of a file or directory, is a sequence of directories starting at the root and which are separeted with `/`. Figure {numref}`fig-linux-directory-comparison` illustrates the differences and common aspects of the three most popular types of operating systems for desktop computers.\n",
    "\n",
    "\n",
    ":::{figure-md} fig-linux-directory-comparison\n",
    "<img src=\"https://upload.wikimedia.org/wikipedia/de/1/1f/Filesystem.svg\" width=\"80%\">\n",
    "\n",
    "(In German) Overview of commonly used file system approaches. Source: [Wikimedia Commons](https://de.wikipedia.org/wiki/Verzeichnisstruktur#/media/Datei:Filesystem.svg).\n",
    ":::\n",
    "\n",
    "There exists a [file system hierarchy](https://en.wikipedia.org/wiki/Filesystem_Hierarchy_Standard) in Linux, which prescribes the usage of special directories, see figure {numref}`fig-linux-fsh`.\n",
    "\n",
    ":::{figure-md} fig-linux-fsh\n",
    "<img src=\"https://upload.wikimedia.org/wikipedia/commons/f/f3/Standard-unix-filesystem-hierarchy.svg\" width=\"80%\">\n",
    "\n",
    "Illustration of the Linux's file system hierarchy. Source: [Wikimedia Commons](https://commons.wikimedia.org/wiki/File:Standard-unix-filesystem-hierarchy.svg).\n",
    ":::\n",
    "\n",
    "There are two types of paths:\n",
    "* **absolute**: the path starts at the root, i.e. starts with `/`\n",
    "* **relative**: the path is stated from a given (or current) position in the file system\n",
    "\n",
    "In order to express paths which are located towards the root, each level above can be adressed with a `..`.\n"
   ]
  },
  {
   "cell_type": "markdown",
   "id": "d2ccb8b4",
   "metadata": {},
   "source": [
    "## Terminal & Shell\n",
    "\n",
    "A terminal is a device or (nowadays) a computer program that allows the user to interact with a computer. Besides the physical attendence at a terminal, terminal emulators allow to detach that requirement. There are terminal emulator applications that run locally, like Xterm or Konsole, but it is also possible to remotely connect terminals, e.g. with ssh. A command-line shell, or just shell, is a user interface to the terminal and thus the operating system. \n",
    "\n",
    "````{margin}\n",
    "```{note}\n",
    "In the following we will focus on the bash shell. This section is meant to only demonstrate some shell capacities. \n",
    "```\n",
    "````\n",
    "\n",
    "The most popular Linux shells are:\n",
    "* [Bourne-Again shell (bash)](https://en.wikipedia.org/wiki/Bash_(Unix_shell))\n",
    "* [Z shell (zsh)](https://en.wikipedia.org/wiki/Z_shell) + [Oh My Zsh](https://ohmyz.sh/)\n",
    "\n"
   ]
  },
  {
   "cell_type": "code",
   "execution_count": 2,
   "id": "2888db00",
   "metadata": {
    "tags": [
     "remove_cell"
    ]
   },
   "outputs": [],
   "source": [
    "%%bash\n",
    "\n",
    "# create example data directory\n",
    "rm -rf dir_structure_01\n",
    "tar -xf dir_structure_01.tar\n",
    "\n",
    "# change to that directory\n",
    "cd dir_structure_01"
   ]
  },
  {
   "cell_type": "code",
   "execution_count": 3,
   "id": "f97caf1e",
   "metadata": {
    "tags": [
     "remove_cell"
    ]
   },
   "outputs": [],
   "source": [
    "os.chdir('dir_structure_01')"
   ]
  },
  {
   "cell_type": "markdown",
   "id": "ea9f9014",
   "metadata": {},
   "source": [
    "## Bash Basics"
   ]
  },
  {
   "cell_type": "markdown",
   "id": "434ca1d5",
   "metadata": {},
   "source": [
    "```{note}\n",
    "In the following, some examples within a directory structure are used. The directory contents are stored in the archive {download}`dir_structure_01.tar`, which can be extracted after download by `tar -xf dir_structure_01.tar`. \n",
    "```"
   ]
  },
  {
   "cell_type": "markdown",
   "id": "ea0d773a",
   "metadata": {},
   "source": [
    "### Environment variables\n",
    "\n",
    "\n",
    "Most, probably all, shells offer environment variables. They store information, which can be used during the execution of the issued commands. In Bash the syntax for reading the content of a variable with the name `AVAR` is `$AVAR`, i.e. the `$` character is prependet. To define the variable or change its value, the sole variable name is used.\n",
    "\n",
    "There exist many environment variables, depending on the operating system and the used shell. Some common ones are:\n",
    "\n",
    "* `USER`: the name of the user\n",
    "* `HOME`: the path to the user's home directory\n",
    "* `SHELL`: the name of the shell used by the user\n",
    "* `PATH`: a list of directories where the shell looks for executables\n",
    "* `OMP_NUM_THREADS`: sets the numer of OpenMP thread to be used"
   ]
  },
  {
   "cell_type": "markdown",
   "id": "a890246d",
   "metadata": {},
   "source": [
    "### Command execution\n",
    "\n",
    "A command or program is executed by typing its name:\n",
    "\n",
    "````{margin}\n",
    "```{note}\n",
    "The `>` character indicates the shell's prompt and is not part of the command.\n",
    "```\n",
    "````\n",
    "\n",
    "```\n",
    "> env\n",
    "```\n",
    "\n",
    "In this case, the output of the `env` command is a list of all set environment variables."
   ]
  },
  {
   "cell_type": "markdown",
   "id": "700ebc5b",
   "metadata": {},
   "source": [
    "**Example:** Print current date with the `date` command:"
   ]
  },
  {
   "cell_type": "code",
   "execution_count": 4,
   "id": "146a13e2",
   "metadata": {
    "tags": [
     "remove_input"
    ]
   },
   "outputs": [
    {
     "data": {
      "text/markdown": [
       "```none\n",
       "> date\n",
       "Mon Apr 26 08:09:42 CEST 2021\n",
       "```"
      ],
      "text/plain": [
       "<IPython.core.display.Markdown object>"
      ]
     },
     "execution_count": 4,
     "metadata": {},
     "output_type": "execute_result"
    }
   ],
   "source": [
    "demo_cmd('date')"
   ]
  },
  {
   "cell_type": "markdown",
   "id": "7c45924a",
   "metadata": {},
   "source": [
    "**Example:** Print content of current directory:"
   ]
  },
  {
   "cell_type": "code",
   "execution_count": 5,
   "id": "2173bc80",
   "metadata": {
    "tags": [
     "remove_input"
    ]
   },
   "outputs": [
    {
     "data": {
      "text/markdown": [
       "```none\n",
       "> whoami\n",
       "larnold\n",
       "```"
      ],
      "text/plain": [
       "<IPython.core.display.Markdown object>"
      ]
     },
     "execution_count": 5,
     "metadata": {},
     "output_type": "execute_result"
    }
   ],
   "source": [
    "demo_cmd('whoami')"
   ]
  },
  {
   "cell_type": "markdown",
   "id": "d987583e",
   "metadata": {},
   "source": [
    "An issued command must be either:\n",
    "* a build-in function of the shell, \n",
    "* an executable file found in the directory list defined by the `PATH` environment, or \n",
    "* an explicit reference to an executable file.\n",
    "\n",
    "To execute a custom program in the current directory (not necessary in the `PATH` directory list), its location needs to be explicitly stated. Here with a `.` to indicate the current directory: \n",
    "```\n",
    "> ./a.out\n",
    "```\n"
   ]
  },
  {
   "cell_type": "markdown",
   "id": "2ea736b6",
   "metadata": {},
   "source": [
    "### Changing directories\n",
    "\n",
    "The current directory is changed via the `cd` command. Invoking no arguments changes to the user’s home directory, otherwise the\n",
    "target directory is specified. There exist a couple of special directories, which can also be used with other commands:\n",
    "\n",
    "* `~`: the user’s home directory\n",
    "* `~username`: the home directory of user username \n",
    "* `.`: this directory\n",
    "* `..`: above directory\n",
    "* `-`: last directory (cd command only)\n",
    "\n",
    "The current working directory can be shown with the `pwd` (print working directory) command.\n"
   ]
  },
  {
   "cell_type": "markdown",
   "id": "2b8ba672",
   "metadata": {},
   "source": [
    "### Arguments\n",
    "\n",
    "In general, issued commands accept arguments. These can be either named arguments, which need to be explicitly indicated, or positional arguments, which are identified by their position.\n",
    "\n",
    "Arguments are separated by a space character. \n",
    "\n",
    "Further information about the excepted arguments are either available by using the `man` command, which prints the manual for a command. The name of the command is passed as an argument. In the following example, the manual page for `grep` is shown. This application searches files or given input for a given search pattern. \n",
    "\n",
    "````{margin}\n",
    "```{note}\n",
    "To quit interactive viewers, in applications like `less` or `man`, press `q` for quit.\n",
    "```\n",
    "````"
   ]
  },
  {
   "cell_type": "markdown",
   "id": "61bb1f29",
   "metadata": {
    "tags": []
   },
   "source": [
    "```\n",
    "> man grep\n",
    "```\n",
    "\n",
    "````{admonition} Manual page for 'grep'\n",
    ":class: dropdown\n",
    "\n",
    "```\n",
    "GREP(1)                   BSD General Commands Manual                  GREP(1)\n",
    "\n",
    "NAME\n",
    "     grep, egrep, fgrep, zgrep, zegrep, zfgrep -- file pattern searcher\n",
    "\n",
    "SYNOPSIS\n",
    "     grep [-abcdDEFGHhIiJLlmnOopqRSsUVvwxZ] [-A num] [-B num] [-C[num]]\n",
    "          [-e pattern] [-f file] [--binary-files=value] [--color[=when]]\n",
    "          [--colour[=when]] [--context[=num]] [--label] [--line-buffered]\n",
    "          [--null] [pattern] [file ...]\n",
    "\n",
    "DESCRIPTION\n",
    "     The grep utility searches any given input files, selecting lines that match\n",
    "     one or more patterns.  By default, a pattern matches an input line if the\n",
    "     regular expression (RE) in the pattern matches the input line without its\n",
    "     trailing newline.  An empty expression matches every line.  Each input line\n",
    "     that matches at least one of the patterns is written to the standard output.\n",
    "\n",
    "     grep is used for simple patterns and basic regular expressions (BREs); egrep\n",
    "     can handle extended regular expressions (EREs).  See re_format(7) for more\n",
    "     information on regular expressions.  fgrep is quicker than both grep and\n",
    "     egrep, but can only handle fixed patterns (i.e. it does not interpret regu-\n",
    "     lar expressions).  Patterns may consist of one or more lines, allowing any\n",
    "     of the pattern lines to match a portion of the input.\n",
    "\n",
    "     zgrep, zegrep, and zfgrep act like grep, egrep, and fgrep, respectively, but\n",
    "     accept input files compressed with the compress(1) or gzip(1) compression\n",
    "     utilities.\n",
    "\n",
    "     The following options are available:\n",
    "\n",
    "     -A num, --after-context=num\n",
    "             Print num lines of trailing context after each match.  See also the\n",
    "             -B and -C options.\n",
    "\n",
    "     -a, --text\n",
    "             Treat all files as ASCII text.  Normally grep will simply print\n",
    "             ``Binary file ... matches'' if files contain binary characters.  Use\n",
    "             of this option forces grep to output lines matching the specified\n",
    "             pattern.\n",
    "\n",
    "     -B num, --before-context=num\n",
    "             Print num lines of leading context before each match.  See also the\n",
    "             -A and -C options.\n",
    "\n",
    "     -b, --byte-offset\n",
    "             The offset in bytes of a matched pattern is displayed in front of\n",
    "             the respective matched line.\n",
    "\n",
    "     -C[num, --context=num]\n",
    "             Print num lines of leading and trailing context surrounding each\n",
    "             match.  The default is 2 and is equivalent to -A 2 -B 2.  Note: no\n",
    "             whitespace may be given between the option and its argument.\n",
    "\n",
    "     -c, --count\n",
    "             Only a count of selected lines is written to standard output.\n",
    "\n",
    "     --colour=[when, --color=[when]]\n",
    "             Mark up the matching text with the expression stored in GREP_COLOR\n",
    "             environment variable.  The possible values of when can be `never',\n",
    "             `always' or `auto'.\n",
    "\n",
    "     -D action, --devices=action\n",
    "             Specify the demanded action for devices, FIFOs and sockets.  The\n",
    "             default action is `read', which means, that they are read as if they\n",
    "             were normal files.  If the action is set to `skip', devices will be\n",
    "             silently skipped.\n",
    "\n",
    "     -d action, --directories=action\n",
    "             Specify the demanded action for directories.  It is `read' by\n",
    "             default, which means that the directories are read in the same man-\n",
    "             ner as normal files.  Other possible values are `skip' to silently\n",
    "             ignore the directories, and `recurse' to read them recursively,\n",
    "             which has the same effect as the -R and -r option.\n",
    "\n",
    "     -E, --extended-regexp\n",
    "             Interpret pattern as an extended regular expression (i.e. force grep\n",
    "             to behave as egrep).\n",
    "\n",
    "     -e pattern, --regexp=pattern\n",
    "             Specify a pattern used during the search of the input: an input line\n",
    "             is selected if it matches any of the specified patterns.  This\n",
    "             option is most useful when multiple -e options are used to specify\n",
    "             multiple patterns, or when a pattern begins with a dash (`-').\n",
    "\n",
    "     --exclude\n",
    "             If specified, it excludes files matching the given filename pattern\n",
    "             from the search.  Note that --exclude patterns take priority over\n",
    "             --include patterns, and if no --include pattern is specified, all\n",
    "             files are searched that are not excluded.  Patterns are matched to\n",
    "             the full path specified, not only to the filename component.\n",
    "\n",
    "     --exclude-dir\n",
    "             If -R is specified, it excludes directories matching the given file-\n",
    "             name pattern from the search.  Note that --exclude-dir patterns take\n",
    "             priority over --include-dir patterns, and if no --include-dir pat-\n",
    "             tern is specified, all directories are searched that are not\n",
    "             excluded.\n",
    "\n",
    "     -F, --fixed-strings\n",
    "             Interpret pattern as a set of fixed strings (i.e. force grep to\n",
    "             behave as fgrep).\n",
    "\n",
    "     -f file, --file=file\n",
    "             Read one or more newline separated patterns from file.  Empty pat-\n",
    "             tern lines match every input line.  Newlines are not considered part\n",
    "             of a pattern.  If file is empty, nothing is matched.\n",
    "\n",
    "     -G, --basic-regexp\n",
    "             Interpret pattern as a basic regular expression (i.e. force grep to\n",
    "             behave as traditional grep).\n",
    "\n",
    "     -H      Always print filename headers with output lines.\n",
    "\n",
    "     -h, --no-filename\n",
    "             Never print filename headers (i.e. filenames) with output lines.\n",
    "\n",
    "     --help  Print a brief help message.\n",
    "\n",
    "     -I      Ignore binary files.  This option is equivalent to\n",
    "             --binary-file=without-match option.\n",
    "\n",
    "     -i, --ignore-case\n",
    "             Perform case insensitive matching.  By default, grep is case sensi-\n",
    "             tive.\n",
    "\n",
    "     --include\n",
    "             If specified, only files matching the given filename pattern are\n",
    "             searched.  Note that --exclude patterns take priority over --include\n",
    "             patterns.  Patterns are matched to the full path specified, not only\n",
    "             to the filename component.\n",
    "\n",
    "     --include-dir\n",
    "             If -R is specified, only directories matching the given filename\n",
    "             pattern are searched.  Note that --exclude-dir patterns take prior-\n",
    "             ity over --include-dir patterns.\n",
    "\n",
    "     -J, --bz2decompress\n",
    "             Decompress the bzip2(1) compressed file before looking for the text.\n",
    "\n",
    "     -L, --files-without-match\n",
    "             Only the names of files not containing selected lines are written to\n",
    "             standard output.  Pathnames are listed once per file searched.  If\n",
    "             the standard input is searched, the string ``(standard input)'' is\n",
    "             written.\n",
    "\n",
    "     -l, --files-with-matches\n",
    "             Only the names of files containing selected lines are written to\n",
    "             standard output.  grep will only search a file until a match has\n",
    "             been found, making searches potentially less expensive.  Pathnames\n",
    "             are listed once per file searched.  If the standard input is\n",
    "             searched, the string ``(standard input)'' is written.\n",
    "\n",
    "     --mmap  Use mmap(2) instead of read(2) to read input, which can result in\n",
    "             better performance under some circumstances but can cause undefined\n",
    "             behaviour.\n",
    "\n",
    "     -m num, --max-count=num\n",
    "             Stop reading the file after num matches.\n",
    "\n",
    "     -n, --line-number\n",
    "             Each output line is preceded by its relative line number in the\n",
    "             file, starting at line 1.  The line number counter is reset for each\n",
    "             file processed.  This option is ignored if -c, -L, -l, or -q is\n",
    "             specified.\n",
    "\n",
    "     --null  Prints a zero-byte after the file name.\n",
    "\n",
    "     -O      If -R is specified, follow symbolic links only if they were explic-\n",
    "             itly listed on the command line.  The default is not to follow sym-\n",
    "             bolic links.\n",
    "\n",
    "     -o, --only-matching\n",
    "             Prints only the matching part of the lines.\n",
    "\n",
    "     -p      If -R is specified, no symbolic links are followed.  This is the\n",
    "             default.\n",
    "\n",
    "     -q, --quiet, --silent\n",
    "             Quiet mode: suppress normal output.  grep will only search a file\n",
    "             until a match has been found, making searches potentially less\n",
    "             expensive.\n",
    "\n",
    "     -R, -r, --recursive\n",
    "             Recursively search subdirectories listed.\n",
    "\n",
    "     -S      If -R is specified, all symbolic links are followed.  The default is\n",
    "             not to follow symbolic links.\n",
    "\n",
    "     -s, --no-messages\n",
    "             Silent mode.  Nonexistent and unreadable files are ignored (i.e.\n",
    "             their error messages are suppressed).\n",
    "\n",
    "     -U, --binary\n",
    "             Search binary files, but do not attempt to print them.\n",
    "\n",
    "     -V, --version\n",
    "             Display version information and exit.\n",
    "\n",
    "     -v, --invert-match\n",
    "             Selected lines are those not matching any of the specified patterns.\n",
    "\n",
    "     -w, --word-regexp\n",
    "             The expression is searched for as a word (as if surrounded by\n",
    "             `[[:<:]]' and `[[:>:]]'; see re_format(7)).\n",
    "\n",
    "     -x, --line-regexp\n",
    "             Only input lines selected against an entire fixed string or regular\n",
    "             expression are considered to be matching lines.\n",
    "\n",
    "     -y      Equivalent to -i.  Obsoleted.\n",
    "\n",
    "     -Z, -z, --decompress\n",
    "             Force grep to behave as zgrep.\n",
    "\n",
    "     --binary-files=value\n",
    "             Controls searching and printing of binary files.  Options are\n",
    "             binary, the default: search binary files but do not print them;\n",
    "             without-match: do not search binary files; and text: treat all files\n",
    "             as text.\n",
    "\n",
    "     --context[=num]\n",
    "             Print num lines of leading and trailing context.  The default is 2.\n",
    "\n",
    "     --line-buffered\n",
    "             Force output to be line buffered.  By default, output is line\n",
    "             buffered when standard output is a terminal and block buffered oth-\n",
    "             erwise.\n",
    "\n",
    "     If no file arguments are specified, the standard input is used.\n",
    "\n",
    "ENVIRONMENT\n",
    "     GREP_OPTIONS  May be used to specify default options that will be placed at\n",
    "                   the beginning of the argument list.  Backslash-escaping is not\n",
    "                   supported, unlike the behavior in GNU grep.\n",
    "\n",
    "EXIT STATUS\n",
    "     The grep utility exits with one of the following values:\n",
    "\n",
    "     0     One or more lines were selected.\n",
    "     1     No lines were selected.\n",
    "     >1    An error occurred.\n",
    "\n",
    "EXAMPLES\n",
    "     To find all occurrences of the word 'patricia' in a file:\n",
    "\n",
    "           $ grep 'patricia' myfile\n",
    "\n",
    "     To find all occurrences of the pattern '.Pp' at the beginning of a line:\n",
    "\n",
    "           $ grep '^\\.Pp' myfile\n",
    "\n",
    "     The apostrophes ensure the entire expression is evaluated by grep instead of\n",
    "     by the user's shell.  The caret '^' matches the null string at the beginning\n",
    "     of a line, and the '\\' escapes the '.', which would otherwise match any\n",
    "     character.\n",
    "\n",
    "     To find all lines in a file which do not contain the words 'foo' or 'bar':\n",
    "\n",
    "           $ grep -v -e 'foo' -e 'bar' myfile\n",
    "\n",
    "     A simple example of an extended regular expression:\n",
    "\n",
    "           $ egrep '19|20|25' calendar\n",
    "\n",
    "     Peruses the file 'calendar' looking for either 19, 20, or 25.\n",
    "\n",
    "SEE ALSO\n",
    "     ed(1), ex(1), gzip(1), sed(1), re_format(7)\n",
    "\n",
    "STANDARDS\n",
    "     The grep utility is compliant with the IEEE Std 1003.1-2008 (``POSIX.1'')\n",
    "     specification.\n",
    "\n",
    "     The flags [-AaBbCDdGHhIJLmoPRSUVwZ] are extensions to that specification,\n",
    "     and the behaviour of the -f flag when used with an empty pattern file is\n",
    "     left undefined.\n",
    "\n",
    "     All long options are provided for compatibility with GNU versions of this\n",
    "     utility.\n",
    "\n",
    "     Historic versions of the grep utility also supported the flags [-ruy].  This\n",
    "     implementation supports those options; however, their use is strongly dis-\n",
    "     couraged.\n",
    "\n",
    "HISTORY\n",
    "     The grep command first appeared in Version 6 AT&T UNIX.\n",
    "\n",
    "BUGS\n",
    "     The grep utility does not normalize Unicode input, so a pattern containing\n",
    "     composed characters will not match decomposed input, and vice versa.\n",
    "\n",
    "BSD                              July 28, 2010                             BSD\n",
    "```\n",
    "````"
   ]
  },
  {
   "cell_type": "markdown",
   "id": "b0586763",
   "metadata": {
    "tags": []
   },
   "source": [
    "A similar, yet more condensed, form with the focus on the usage of arguments, is to use the `-h` help argument."
   ]
  },
  {
   "cell_type": "code",
   "execution_count": 6,
   "id": "d56dc1b3",
   "metadata": {
    "tags": [
     "remove_input"
    ]
   },
   "outputs": [
    {
     "data": {
      "text/markdown": [
       "```none\n",
       "> grep -h\n",
       "usage: grep [-abcDEFGHhIiJLlmnOoqRSsUVvwxZ] [-A num] [-B num] [-C[num]]\n",
       "\t[-e pattern] [-f file] [--binary-files=value] [--color=when]\n",
       "\t[--context[=num]] [--directories=action] [--label] [--line-buffered]\n",
       "\t[--null] [pattern] [file ...]\n",
       "```"
      ],
      "text/plain": [
       "<IPython.core.display.Markdown object>"
      ]
     },
     "execution_count": 6,
     "metadata": {},
     "output_type": "execute_result"
    }
   ],
   "source": [
    "demo_cmd('grep -h')"
   ]
  },
  {
   "cell_type": "markdown",
   "id": "d19a4442",
   "metadata": {
    "tags": []
   },
   "source": [
    "In the above example, there are many named arguments, like the one to set if the search is case sensitive:\n",
    "\n",
    "```\n",
    "[...]\n",
    "     -i, --ignore-case\n",
    "             Perform case insensitive matching.  By default, grep is case sensi-\n",
    "             tive.\n",
    "[...]\n",
    "```\n",
    "\n",
    "Often, named arguments are available as short forms with a single `-` prepended to a single character, here `-i`. In addition there is a long and more verbose version, which starts with `--`, here `--ignore-case`. Rare arguments may have only a long version.\n",
    "\n",
    "Besides the named arguments, there are two positional arguments: `pattern` and `file ...`. The first one defines the search pattern and the second one defines one or multiple files to be searched in. "
   ]
  },
  {
   "cell_type": "markdown",
   "id": "c852bba8",
   "metadata": {},
   "source": [
    "### Listing directories\n",
    "\n",
    "The contents of a directory are displayed with `ls`. Without arguments it shows the current directory, otherwise the target directory.\n",
    "\n",
    "Some common options:\n",
    "\n",
    "* `--color=always`, color output, may be already set by default\n",
    "* `-l`, long output, i.e. list permissions, data, size\n",
    "* `-a`, list all files, i.e. also hidden files starting with a `.`\n",
    "* `-h`, show file sizes in a human readable form\n",
    "* `-r`, reverse the output\n",
    "* `-t`, sort by modification time"
   ]
  },
  {
   "cell_type": "markdown",
   "id": "5c9b6067",
   "metadata": {},
   "source": [
    "**Example:** List all files in the current directory:"
   ]
  },
  {
   "cell_type": "code",
   "execution_count": 7,
   "id": "3f14b79b",
   "metadata": {
    "tags": [
     "remove_input"
    ]
   },
   "outputs": [
    {
     "data": {
      "text/markdown": [
       "```none\n",
       "> ls\n",
       "combined_logs\n",
       "doc01.md\n",
       "doc02.txt\n",
       "doc03.md\n",
       "doc04.txt\n",
       "doc05.txt\n",
       "for-loop.sh\n",
       "if-statement.sh\n",
       "info.txt\n",
       "rundir_01\n",
       "rundir_02\n",
       "rundir_03\n",
       "rundir_04\n",
       "rundir_05\n",
       "rundir_06\n",
       "rundir_07\n",
       "rundir_08\n",
       "rundir_09\n",
       "rundir_10\n",
       "rundir_11\n",
       "rundir_12\n",
       "rundir_13\n",
       "rundir_14\n",
       "rundir_15\n",
       "```"
      ],
      "text/plain": [
       "<IPython.core.display.Markdown object>"
      ]
     },
     "execution_count": 7,
     "metadata": {},
     "output_type": "execute_result"
    }
   ],
   "source": [
    "demo_cmd('ls')"
   ]
  },
  {
   "cell_type": "markdown",
   "id": "904dc260",
   "metadata": {},
   "source": [
    "**Example:** List all files in the directory `rundir_12`:"
   ]
  },
  {
   "cell_type": "code",
   "execution_count": 8,
   "id": "417f6393",
   "metadata": {
    "tags": [
     "remove_input"
    ]
   },
   "outputs": [
    {
     "data": {
      "text/markdown": [
       "```none\n",
       "> ls rundir_12\n",
       "logfile\n",
       "\n",
       "> ls -lah\n",
       "total 88\n",
       "drwxr-xr-x  27 larnold  staff   864B Apr 26 08:09 .\n",
       "drwxr-xr-x  11 larnold  staff   352B Apr 26 08:09 ..\n",
       "-rw-r--r--   1 larnold  staff    20B Apr 25 19:55 .hidden_file_do_not_look_here\n",
       "-rw-r--r--   1 larnold  staff   816B Apr 26 08:02 combined_logs\n",
       "-rw-r--r--   1 larnold  staff   591B Dec 12  2000 doc01.md\n",
       "-rw-r--r--   1 larnold  staff   5.9K Dec 12  2000 doc02.txt\n",
       "-rw-r--r--   1 larnold  staff    29B Dec 14  2000 doc03.md\n",
       "-rw-r--r--   1 larnold  staff   889B Nov  8  2000 doc04.txt\n",
       "-rw-r--r--   1 larnold  staff   1.3K Apr 25 17:19 doc05.txt\n",
       "-rw-r--r--   1 larnold  staff    60B Apr 26 08:08 for-loop.sh\n",
       "-rw-r--r--   1 larnold  staff   113B Apr 25 21:35 if-statement.sh\n",
       "-rw-r--r--   1 larnold  staff    62B Apr 26 08:08 info.txt\n",
       "drwxr-xr-x   3 larnold  staff    96B Apr 25 17:11 rundir_01\n",
       "drwxr-xr-x   3 larnold  staff    96B Apr 25 17:11 rundir_02\n",
       "drwxr-xr-x   3 larnold  staff    96B Apr 25 17:11 rundir_03\n",
       "drwxr-xr-x   3 larnold  staff    96B Apr 25 17:11 rundir_04\n",
       "drwxr-xr-x   3 larnold  staff    96B Apr 25 17:11 rundir_05\n",
       "drwxr-xr-x   3 larnold  staff    96B Apr 25 17:11 rundir_06\n",
       "drwxr-xr-x   3 larnold  staff    96B Apr 25 17:11 rundir_07\n",
       "drwxr-xr-x   3 larnold  staff    96B Apr 25 17:11 rundir_08\n",
       "drwxr-xr-x   3 larnold  staff    96B Apr 25 17:11 rundir_09\n",
       "drwxr-xr-x   3 larnold  staff    96B Apr 25 17:11 rundir_10\n",
       "drwxr-xr-x   3 larnold  staff    96B Apr 25 17:11 rundir_11\n",
       "drwxr-xr-x   3 larnold  staff    96B Apr 25 17:11 rundir_12\n",
       "drwxr-xr-x   3 larnold  staff    96B Apr 25 17:11 rundir_13\n",
       "drwxr-xr-x   3 larnold  staff    96B Apr 25 17:11 rundir_14\n",
       "drwxr-xr-x   3 larnold  staff    96B Apr 25 17:11 rundir_15\n",
       "```"
      ],
      "text/plain": [
       "<IPython.core.display.Markdown object>"
      ]
     },
     "execution_count": 8,
     "metadata": {},
     "output_type": "execute_result"
    }
   ],
   "source": [
    "demo_cmd(['ls rundir_12', 'ls -lah'])"
   ]
  },
  {
   "cell_type": "markdown",
   "id": "1f4b1ba1",
   "metadata": {},
   "source": [
    "**Example:** List current directory's files and sort them according to their modification time in reverse order:"
   ]
  },
  {
   "cell_type": "code",
   "execution_count": 9,
   "id": "d5e947f9",
   "metadata": {
    "tags": [
     "remove_input"
    ]
   },
   "outputs": [
    {
     "data": {
      "text/markdown": [
       "```none\n",
       "> ls -lrt\n",
       "total 80\n",
       "-rw-r--r--  1 larnold  staff   889 Nov  8  2000 doc04.txt\n",
       "-rw-r--r--  1 larnold  staff  6060 Dec 12  2000 doc02.txt\n",
       "-rw-r--r--  1 larnold  staff   591 Dec 12  2000 doc01.md\n",
       "-rw-r--r--  1 larnold  staff    29 Dec 14  2000 doc03.md\n",
       "drwxr-xr-x  3 larnold  staff    96 Apr 25 17:11 rundir_15\n",
       "drwxr-xr-x  3 larnold  staff    96 Apr 25 17:11 rundir_14\n",
       "drwxr-xr-x  3 larnold  staff    96 Apr 25 17:11 rundir_13\n",
       "drwxr-xr-x  3 larnold  staff    96 Apr 25 17:11 rundir_12\n",
       "drwxr-xr-x  3 larnold  staff    96 Apr 25 17:11 rundir_11\n",
       "drwxr-xr-x  3 larnold  staff    96 Apr 25 17:11 rundir_10\n",
       "drwxr-xr-x  3 larnold  staff    96 Apr 25 17:11 rundir_09\n",
       "drwxr-xr-x  3 larnold  staff    96 Apr 25 17:11 rundir_08\n",
       "drwxr-xr-x  3 larnold  staff    96 Apr 25 17:11 rundir_07\n",
       "drwxr-xr-x  3 larnold  staff    96 Apr 25 17:11 rundir_06\n",
       "drwxr-xr-x  3 larnold  staff    96 Apr 25 17:11 rundir_05\n",
       "drwxr-xr-x  3 larnold  staff    96 Apr 25 17:11 rundir_04\n",
       "drwxr-xr-x  3 larnold  staff    96 Apr 25 17:11 rundir_03\n",
       "drwxr-xr-x  3 larnold  staff    96 Apr 25 17:11 rundir_02\n",
       "drwxr-xr-x  3 larnold  staff    96 Apr 25 17:11 rundir_01\n",
       "-rw-r--r--  1 larnold  staff  1307 Apr 25 17:19 doc05.txt\n",
       "-rw-r--r--  1 larnold  staff   113 Apr 25 21:35 if-statement.sh\n",
       "-rw-r--r--  1 larnold  staff   816 Apr 26 08:02 combined_logs\n",
       "-rw-r--r--  1 larnold  staff    62 Apr 26 08:08 info.txt\n",
       "-rw-r--r--  1 larnold  staff    60 Apr 26 08:08 for-loop.sh\n",
       "```"
      ],
      "text/plain": [
       "<IPython.core.display.Markdown object>"
      ]
     },
     "execution_count": 9,
     "metadata": {},
     "output_type": "execute_result"
    }
   ],
   "source": [
    "demo_cmd('ls -lrt')"
   ]
  },
  {
   "cell_type": "markdown",
   "id": "ab50daec",
   "metadata": {},
   "source": [
    "### Wildcards\n",
    "\n",
    "Wildcards are used to provide a matching pattern for the shell, which are generally called [glob patterns](https://en.wikipedia.org/wiki/Glob_(programming)). First, the shell will evaluate the pattern and search for matching paths. Then it will expand the wildcard pattern with the explicit list of the results, which typically is passed to an applicaiton.\n",
    "\n",
    "Some common wildcards are: \n",
    "* `*`: match everything\n",
    "* `?`: match any single character\n",
    "* `[list]`: match any single character from list, here: `l`, `i`, `s`, `t`\n",
    "\n",
    "Wildcards can be combined with constant strings and with each other. "
   ]
  },
  {
   "cell_type": "markdown",
   "id": "72a86525",
   "metadata": {},
   "source": [
    "**Example:** List all files ending with `.txt`:"
   ]
  },
  {
   "cell_type": "code",
   "execution_count": 10,
   "id": "ad24b2ad",
   "metadata": {
    "tags": [
     "remove_input"
    ]
   },
   "outputs": [
    {
     "data": {
      "text/markdown": [
       "```none\n",
       "> ls *.txt\n",
       "doc02.txt\n",
       "doc04.txt\n",
       "doc05.txt\n",
       "info.txt\n",
       "```"
      ],
      "text/plain": [
       "<IPython.core.display.Markdown object>"
      ]
     },
     "execution_count": 10,
     "metadata": {},
     "output_type": "execute_result"
    }
   ],
   "source": [
    "demo_cmd('ls *.txt')"
   ]
  },
  {
   "cell_type": "markdown",
   "id": "2bff73b8",
   "metadata": {},
   "source": [
    "**Example:** List all files with their attributes in the directories `rundir_10` to `rundir_15`:"
   ]
  },
  {
   "cell_type": "code",
   "execution_count": 11,
   "id": "d39e5c4b",
   "metadata": {
    "tags": [
     "remove_input"
    ]
   },
   "outputs": [
    {
     "data": {
      "text/markdown": [
       "```none\n",
       "> ls -l rundir_1?\n",
       "rundir_10:\n",
       "total 8\n",
       "-rw-r--r--  1 larnold  staff  54 Apr 25 17:11 logfile\n",
       "\n",
       "rundir_11:\n",
       "total 8\n",
       "-rw-r--r--  1 larnold  staff  54 Apr 25 17:11 logfile\n",
       "\n",
       "rundir_12:\n",
       "total 8\n",
       "-rw-r--r--  1 larnold  staff  55 Apr 25 17:11 logfile\n",
       "\n",
       "rundir_13:\n",
       "total 8\n",
       "-rw-r--r--  1 larnold  staff  54 Apr 25 17:11 logfile\n",
       "\n",
       "rundir_14:\n",
       "total 8\n",
       "-rw-r--r--  1 larnold  staff  55 Apr 25 17:11 logfile\n",
       "\n",
       "rundir_15:\n",
       "total 8\n",
       "-rw-r--r--  1 larnold  staff  55 Apr 25 17:11 logfile\n",
       "```"
      ],
      "text/plain": [
       "<IPython.core.display.Markdown object>"
      ]
     },
     "execution_count": 11,
     "metadata": {},
     "output_type": "execute_result"
    }
   ],
   "source": [
    "demo_cmd('ls -l rundir_1?')"
   ]
  },
  {
   "cell_type": "markdown",
   "id": "ec17abe7",
   "metadata": {},
   "source": [
    "**Example:** Print the content of the files `logfile` located in the directories `rundir_10` to `rundir_15`. The content of a file can be printed with the `cat` command:"
   ]
  },
  {
   "cell_type": "code",
   "execution_count": 12,
   "id": "77c79cc4",
   "metadata": {
    "tags": [
     "remove_input"
    ]
   },
   "outputs": [
    {
     "data": {
      "text/markdown": [
       "```none\n",
       "> cat rundir_1?/logfile\n",
       "Simulation started\n",
       "Result value: 1761\n",
       "Run Time: 13836\n",
       "Simulation started\n",
       "Result value: 2375\n",
       "Run Time: 11901\n",
       "Simulation started\n",
       "Result value: 15343\n",
       "Run Time: 21131\n",
       "Simulation started\n",
       "Result value: 11280\n",
       "Run Time: 3640\n",
       "Simulation started\n",
       "Result value: 13081\n",
       "Run Time: 19866\n",
       "Simulation started\n",
       "Result value: 27146\n",
       "Run Time: 20714\n",
       "```"
      ],
      "text/plain": [
       "<IPython.core.display.Markdown object>"
      ]
     },
     "execution_count": 12,
     "metadata": {},
     "output_type": "execute_result"
    }
   ],
   "source": [
    "demo_cmd('cat rundir_1?/logfile')"
   ]
  },
  {
   "cell_type": "markdown",
   "id": "b3e84059",
   "metadata": {},
   "source": [
    "### Putput Redirection\n",
    "\n",
    "The output of programs is either to\n",
    "\n",
    "* `stdout`: the normal program output \n",
    "* `stderr`: error messages\n",
    "\n",
    "In many cases it is useful to write the output into a file. This can be done via redirections. \n",
    "\n",
    "* `>`: creates a new output file, overwrites old one\n",
    "* `>>`: appends the command's output to the output file\n",
    "\n",
    "The redirections are used direclty after a command, e.g.\n",
    "\n",
    "```\n",
    "> command >> logfile\n",
    "```"
   ]
  },
  {
   "cell_type": "markdown",
   "id": "50029136",
   "metadata": {},
   "source": [
    "**Example:** Redirect the contents of all `logfile`-files located in the `rundir_*` directories to a file:"
   ]
  },
  {
   "cell_type": "code",
   "execution_count": 13,
   "id": "840defed",
   "metadata": {
    "tags": [
     "remove_input"
    ]
   },
   "outputs": [
    {
     "data": {
      "text/markdown": [
       "```none\n",
       "> cat rundir_*/logfile > combined_logs\n",
       "\n",
       "\n",
       "> cat combined_logs\n",
       "Simulation started\n",
       "Result value: 2776\n",
       "Run Time: 7789\n",
       "Simulation started\n",
       "Result value: 13856\n",
       "Run Time: 7696\n",
       "Simulation started\n",
       "Result value: 22344\n",
       "Run Time: 20401\n",
       "Simulation started\n",
       "Result value: 4155\n",
       "Run Time: 15711\n",
       "Simulation started\n",
       "Result value: 14887\n",
       "Run Time: 30786\n",
       "Simulation started\n",
       "Result value: 17783\n",
       "Run Time: 9987\n",
       "Simulation started\n",
       "Result value: 19607\n",
       "Run Time: 22428\n",
       "Simulation started\n",
       "Result value: 25874\n",
       "Run Time: 16521\n",
       "Simulation started\n",
       "Result value: 28931\n",
       "Run Time: 2517\n",
       "Simulation started\n",
       "Result value: 1761\n",
       "Run Time: 13836\n",
       "Simulation started\n",
       "Result value: 2375\n",
       "Run Time: 11901\n",
       "Simulation started\n",
       "Result value: 15343\n",
       "Run Time: 21131\n",
       "Simulation started\n",
       "Result value: 11280\n",
       "Run Time: 3640\n",
       "Simulation started\n",
       "Result value: 13081\n",
       "Run Time: 19866\n",
       "Simulation started\n",
       "Result value: 27146\n",
       "Run Time: 20714\n",
       "```"
      ],
      "text/plain": [
       "<IPython.core.display.Markdown object>"
      ]
     },
     "execution_count": 13,
     "metadata": {},
     "output_type": "execute_result"
    }
   ],
   "source": [
    "demo_cmd(['cat rundir_*/logfile > combined_logs', 'cat combined_logs'])"
   ]
  },
  {
   "cell_type": "markdown",
   "id": "57f6c028",
   "metadata": {
    "tags": [
     "remove_cell"
    ]
   },
   "source": [
    "## Bash Tips\n",
    "\n",
    "**TODO redirect stdout + stderr, tee command**\n",
    "\n",
    "**TODO monitor changes**\n",
    "\n",
    "**Keyboard shortcuts**\n",
    "\n",
    "**Pipes**\n",
    "\n",
    "To forward the output of an command to be the input of an other, pipes `|` are used:\n",
    "```\n",
    "find . -mtime -15m -type f | grep -i info | wc -l\n",
    "```\n",
    "\n",
    "**Background jobs**\n",
    "\n",
    "\n",
    "Commands may be executed in background by appending a `&` at the end:\n",
    "\n",
    "```\n",
    "./a.out &\n",
    "```\n",
    "\n",
    "The command `ps` prints all running processes in current terminal and `ps aux` shows all processes on the system.\n",
    "\n",
    "**Archives (tar, zip)**\n",
    "\n",
    "**Remote shell**"
   ]
  },
  {
   "cell_type": "markdown",
   "id": "aef2f4b8",
   "metadata": {
    "tags": []
   },
   "source": [
    "## Bash Programming"
   ]
  },
  {
   "cell_type": "markdown",
   "id": "5cc7f822",
   "metadata": {},
   "source": [
    "Just as a starting point, a few examples on how to do looping and branchig in a bash script are shown here. \n",
    "\n",
    "A shell script can be executed either\n",
    "* with an explicit call of `sh` or `bash`, or\n",
    "* as an executable file with a hash-bang line as a first line in the file.\n",
    "\n",
    "A shell script is a simple text file with a sequence of commands in it. They are mostly used to prevent explicit typing of command chains and to automate processing. A script may access all environment variables and define new ones. Some special variables are:\n",
    "* `$#`: number of arguments passed\n",
    "* `$@`: all passed arguments\n",
    "* `$1`, `$2`, ...: the first, second argument\n"
   ]
  },
  {
   "cell_type": "markdown",
   "id": "33363f5c",
   "metadata": {},
   "source": [
    "**Example:** Simple loop over all files and directroies.\n",
    "\n",
    "*Script listing:*\n",
    "```{literalinclude} dir_structure_01/for-loop.sh\n",
    ":language: bash\n",
    "```\n",
    "\n",
    "*Execution example:*"
   ]
  },
  {
   "cell_type": "code",
   "execution_count": 14,
   "id": "464058d4",
   "metadata": {
    "tags": [
     "remove_input"
    ]
   },
   "outputs": [
    {
     "data": {
      "text/markdown": [
       "```none\n",
       "> bash for-loop.sh\n",
       "Found directory element:  combined_logs\n",
       "Found directory element:  doc01.md\n",
       "Found directory element:  doc02.txt\n",
       "Found directory element:  doc03.md\n",
       "Found directory element:  doc04.txt\n",
       "Found directory element:  doc05.txt\n",
       "Found directory element:  for-loop.sh\n",
       "Found directory element:  if-statement.sh\n",
       "Found directory element:  info.txt\n",
       "Found directory element:  rundir_01\n",
       "Found directory element:  rundir_02\n",
       "Found directory element:  rundir_03\n",
       "Found directory element:  rundir_04\n",
       "Found directory element:  rundir_05\n",
       "Found directory element:  rundir_06\n",
       "Found directory element:  rundir_07\n",
       "Found directory element:  rundir_08\n",
       "Found directory element:  rundir_09\n",
       "Found directory element:  rundir_10\n",
       "Found directory element:  rundir_11\n",
       "Found directory element:  rundir_12\n",
       "Found directory element:  rundir_13\n",
       "Found directory element:  rundir_14\n",
       "Found directory element:  rundir_15\n",
       "```"
      ],
      "text/plain": [
       "<IPython.core.display.Markdown object>"
      ]
     },
     "execution_count": 14,
     "metadata": {},
     "output_type": "execute_result"
    }
   ],
   "source": [
    "demo_cmd('bash for-loop.sh')"
   ]
  },
  {
   "cell_type": "markdown",
   "id": "42acf122",
   "metadata": {},
   "source": [
    "**Example:** Simple if-statement to check for the existance of a file.\n",
    "\n",
    "*Script listing:*\n",
    "```{literalinclude} dir_structure_01/if-statement.sh\n",
    ":language: bash\n",
    "```\n",
    "\n",
    "*Execution examples:*"
   ]
  },
  {
   "cell_type": "code",
   "execution_count": 15,
   "id": "639c0729",
   "metadata": {
    "tags": [
     "remove_input"
    ]
   },
   "outputs": [
    {
     "data": {
      "text/markdown": [
       "```none\n",
       "> bash if-statement.sh nice-file\n",
       "Checking for file: nice-file\n",
       "File does not exists\n",
       "```"
      ],
      "text/plain": [
       "<IPython.core.display.Markdown object>"
      ]
     },
     "execution_count": 15,
     "metadata": {},
     "output_type": "execute_result"
    }
   ],
   "source": [
    "demo_cmd('bash if-statement.sh nice-file')"
   ]
  },
  {
   "cell_type": "code",
   "execution_count": 16,
   "id": "44ad299f",
   "metadata": {
    "tags": [
     "remove_input"
    ]
   },
   "outputs": [
    {
     "data": {
      "text/markdown": [
       "```none\n",
       "> bash if-statement.sh info.txt\n",
       "Checking for file: info.txt\n",
       "File exists\n",
       "```"
      ],
      "text/plain": [
       "<IPython.core.display.Markdown object>"
      ]
     },
     "execution_count": 16,
     "metadata": {},
     "output_type": "execute_result"
    }
   ],
   "source": [
    "demo_cmd('bash if-statement.sh info.txt')"
   ]
  }
 ],
 "metadata": {
  "kernelspec": {
   "display_name": "Python 3",
   "language": "python",
   "name": "python3"
  },
  "language_info": {
   "codemirror_mode": {
    "name": "ipython",
    "version": 3
   },
   "file_extension": ".py",
   "mimetype": "text/x-python",
   "name": "python",
   "nbconvert_exporter": "python",
   "pygments_lexer": "ipython3",
   "version": "3.8.9"
  }
 },
 "nbformat": 4,
 "nbformat_minor": 5
}
