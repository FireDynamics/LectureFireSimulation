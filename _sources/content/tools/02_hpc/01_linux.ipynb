{
 "cells": [
  {
   "cell_type": "code",
   "execution_count": 3,
   "id": "f431a715",
   "metadata": {
    "tags": [
     "remove_cell"
    ]
   },
   "outputs": [],
   "source": [
    "# Needed for Markdown output from Python cells\n",
    "from IPython.display import Markdown as md\n",
    "\n",
    "import os\n",
    "\n",
    "# Function to execute a bash command and return a Markdown representation (call + output)\n",
    "def demo_cmd(cmd, lang=None):\n",
    "    if not isinstance(cmd, list):\n",
    "        cmd = [cmd]\n",
    "\n",
    "    if not lang:\n",
    "        lang = 'none'\n",
    "\n",
    "    output = ''\n",
    "    for c in cmd:\n",
    "        output += f\"> {c}\\n\"\n",
    "        cmd_out =!{c}\n",
    "        if len(cmd_out) > 0:\n",
    "            output += '\\n'.join(cmd_out)\n",
    "        output += '\\n\\n'\n",
    "    output = output.strip()\n",
    "    return md(f\"```{lang}\\n{output}\\n```\")"
   ]
  },
  {
   "cell_type": "markdown",
   "id": "4b244ce8",
   "metadata": {},
   "source": [
    "# Linux\n",
    "\n",
    ":::{figure-md} fig-tux\n",
    "<img src=\"https://upload.wikimedia.org/wikipedia/commons/3/35/Tux.svg\" width=\"20%\">\n",
    "\n",
    "Tux the penguin. Source: [Wikimedia Commons](https://en.wikipedia.org/wiki/Linux#/media/File:Tux.svg).\n",
    ":::\n",
    "\n",
    "In scientific computing, the [Linux](https://en.wikipedia.org/wiki/Linux) operating system (OS) is commonly used. Linux is an open-source OS, which was first released in 1991 as a UNIX-like system.\n",
    "\n",
    "Like in other parts of these lecture notes, the following sections cover only the essentials about using Linux and are by far not complete. \n",
    "\n",
    ":::{figure-md} fig-unix-history\n",
    "\n",
    "<img src=\"https://upload.wikimedia.org/wikipedia/commons/7/77/Unix_history-simple.svg\" width=\"80%\">\n",
    "\n",
    "Unix and Unix-like operating systems. Source: [Wikimedia Commons](https://commons.wikimedia.org/wiki/File:Unix_history-simple.svg).\n",
    ":::\n",
    "\n",
    "## Philosophy\n",
    "\n",
    "The UNIX and UNIX-like based operating systems have the following philosophy:\n",
    "\n",
    "1. write computer programs, that solve a single task, but very efficient \n",
    "2. write computer programs, such that they can work together\n",
    "3. write computer programs, that process simple text streams\n",
    "\n",
    "Therefore the whole OS is a collection of a zoo of small specialised applications. The combination of all of them creates a complex and mighty system. The base system of an UNIX-like OS can be used with text based terminals. However, most desktop systems have a graphical system on top. \n",
    "\n",
    "Unlike desktop systems, most high performance computing (HPC) systems are operated in a command line based way. Therefore, the main content of this section focusses on the usage of command line tools.  \n",
    "\n",
    "\n"
   ]
  },
  {
   "cell_type": "markdown",
   "id": "10116a2f",
   "metadata": {},
   "source": [
    "## Directories\n",
    "\n",
    "Linux uses a tree directory structure, which originates at the so called root `/`. All subdirectories are located in the same directory tree.\n",
    "\n",
    "A path, i.e. the location of a file or directory, is a sequence of directories starting at the root and which are separated with `/`. Figure {numref}`fig-linux-directory-comparison` illustrates the differences and common aspects of the three most popular types of operating systems for desktop computers.\n",
    "\n",
    "\n",
    ":::{figure-md} fig-linux-directory-comparison\n",
    "<img src=\"https://upload.wikimedia.org/wikipedia/de/1/1f/Filesystem.svg\" width=\"80%\">\n",
    "\n",
    "(In German) Overview of commonly used file system approaches. Source: [Wikimedia Commons](https://de.wikipedia.org/wiki/Verzeichnisstruktur#/media/Datei:Filesystem.svg).\n",
    ":::\n",
    "\n",
    "There exists a [file system hierarchy](https://en.wikipedia.org/wiki/Filesystem_Hierarchy_Standard) in Linux, which prescribes the usage of special directories, see figure {numref}`fig-linux-fsh`.\n",
    "\n",
    ":::{figure-md} fig-linux-fsh\n",
    "<img src=\"https://upload.wikimedia.org/wikipedia/commons/f/f3/Standard-unix-filesystem-hierarchy.svg\" width=\"80%\">\n",
    "\n",
    "Illustration of the Linux's file system hierarchy. Source: [Wikimedia Commons](https://commons.wikimedia.org/wiki/File:Standard-unix-filesystem-hierarchy.svg).\n",
    ":::\n",
    "\n",
    "There are two types of paths:\n",
    "* **absolute**: the path starts at the root, i.e. starts with `/`\n",
    "* **relative**: the path is stated from a given (or current) position in the file system\n",
    "\n",
    "In order to express paths which are located towards the root, each level above can be adressed with a `..`.\n"
   ]
  },
  {
   "cell_type": "markdown",
   "id": "dcd6836c",
   "metadata": {},
   "source": [
    "## Terminal & Shell\n",
    "\n",
    "A terminal is a device or (nowadays) a computer program that allows the user to interact with a computer. Besides the physical attendence at a terminal, terminal emulators allow to detach that requirement. There are terminal emulator applications that run locally, like Xterm or Konsole, but it is also possible to remotely connect terminals, e.g. with ssh. A command-line shell, or just shell, is a user interface to the terminal and thus the operating system. \n",
    "\n",
    "````{margin}\n",
    "```{note}\n",
    "In the following we will focus on the bash shell. This section is meant to only demonstrate some shell capacities. \n",
    "```\n",
    "````\n",
    "\n",
    "The most popular Linux shells are:\n",
    "* [Bourne-Again shell (bash)](https://en.wikipedia.org/wiki/Bash_(Unix_shell))\n",
    "* [Z shell (zsh)](https://en.wikipedia.org/wiki/Z_shell) + [Oh My Zsh](https://ohmyz.sh/)\n",
    "\n"
   ]
  },
  {
   "cell_type": "code",
   "execution_count": 5,
   "id": "4e6620f0",
   "metadata": {
    "tags": [
     "remove_cell"
    ]
   },
   "outputs": [
    {
     "name": "stderr",
     "output_type": "stream",
     "text": [
      "tar: dir_structure_01.tar: Cannot open: No such file or directory\n",
      "tar: Error is not recoverable: exiting now\n",
      "bash: line 7: cd: dir_structure_01: No such file or directory\n"
     ]
    },
    {
     "ename": "CalledProcessError",
     "evalue": "Command 'b'\\n# create example data directory\\nrm -rf dir_structure_01\\ntar -xf dir_structure_01.tar\\n\\n# change to that directory\\ncd dir_structure_01\\n'' returned non-zero exit status 1.",
     "output_type": "error",
     "traceback": [
      "\u001b[0;31m---------------------------------------------------------------------------\u001b[0m",
      "\u001b[0;31mCalledProcessError\u001b[0m                        Traceback (most recent call last)",
      "Input \u001b[0;32mIn [5]\u001b[0m, in \u001b[0;36m<cell line: 1>\u001b[0;34m()\u001b[0m\n\u001b[0;32m----> 1\u001b[0m \u001b[43mget_ipython\u001b[49m\u001b[43m(\u001b[49m\u001b[43m)\u001b[49m\u001b[38;5;241;43m.\u001b[39;49m\u001b[43mrun_cell_magic\u001b[49m\u001b[43m(\u001b[49m\u001b[38;5;124;43m'\u001b[39;49m\u001b[38;5;124;43mbash\u001b[39;49m\u001b[38;5;124;43m'\u001b[39;49m\u001b[43m,\u001b[49m\u001b[43m \u001b[49m\u001b[38;5;124;43m'\u001b[39;49m\u001b[38;5;124;43m'\u001b[39;49m\u001b[43m,\u001b[49m\u001b[43m \u001b[49m\u001b[38;5;124;43m'\u001b[39;49m\u001b[38;5;130;43;01m\\n\u001b[39;49;00m\u001b[38;5;124;43m# create example data directory\u001b[39;49m\u001b[38;5;130;43;01m\\n\u001b[39;49;00m\u001b[38;5;124;43mrm -rf dir_structure_01\u001b[39;49m\u001b[38;5;130;43;01m\\n\u001b[39;49;00m\u001b[38;5;124;43mtar -xf dir_structure_01.tar\u001b[39;49m\u001b[38;5;130;43;01m\\n\u001b[39;49;00m\u001b[38;5;130;43;01m\\n\u001b[39;49;00m\u001b[38;5;124;43m# change to that directory\u001b[39;49m\u001b[38;5;130;43;01m\\n\u001b[39;49;00m\u001b[38;5;124;43mcd dir_structure_01\u001b[39;49m\u001b[38;5;130;43;01m\\n\u001b[39;49;00m\u001b[38;5;124;43m'\u001b[39;49m\u001b[43m)\u001b[49m\n",
      "File \u001b[0;32m~/.local/lib/python3.10/site-packages/IPython/core/interactiveshell.py:2357\u001b[0m, in \u001b[0;36mInteractiveShell.run_cell_magic\u001b[0;34m(self, magic_name, line, cell)\u001b[0m\n\u001b[1;32m   2355\u001b[0m \u001b[38;5;28;01mwith\u001b[39;00m \u001b[38;5;28mself\u001b[39m\u001b[38;5;241m.\u001b[39mbuiltin_trap:\n\u001b[1;32m   2356\u001b[0m     args \u001b[38;5;241m=\u001b[39m (magic_arg_s, cell)\n\u001b[0;32m-> 2357\u001b[0m     result \u001b[38;5;241m=\u001b[39m \u001b[43mfn\u001b[49m\u001b[43m(\u001b[49m\u001b[38;5;241;43m*\u001b[39;49m\u001b[43margs\u001b[49m\u001b[43m,\u001b[49m\u001b[43m \u001b[49m\u001b[38;5;241;43m*\u001b[39;49m\u001b[38;5;241;43m*\u001b[39;49m\u001b[43mkwargs\u001b[49m\u001b[43m)\u001b[49m\n\u001b[1;32m   2358\u001b[0m \u001b[38;5;28;01mreturn\u001b[39;00m result\n",
      "File \u001b[0;32m~/.local/lib/python3.10/site-packages/IPython/core/magics/script.py:153\u001b[0m, in \u001b[0;36mScriptMagics._make_script_magic.<locals>.named_script_magic\u001b[0;34m(line, cell)\u001b[0m\n\u001b[1;32m    151\u001b[0m \u001b[38;5;28;01melse\u001b[39;00m:\n\u001b[1;32m    152\u001b[0m     line \u001b[38;5;241m=\u001b[39m script\n\u001b[0;32m--> 153\u001b[0m \u001b[38;5;28;01mreturn\u001b[39;00m \u001b[38;5;28;43mself\u001b[39;49m\u001b[38;5;241;43m.\u001b[39;49m\u001b[43mshebang\u001b[49m\u001b[43m(\u001b[49m\u001b[43mline\u001b[49m\u001b[43m,\u001b[49m\u001b[43m \u001b[49m\u001b[43mcell\u001b[49m\u001b[43m)\u001b[49m\n",
      "File \u001b[0;32m~/.local/lib/python3.10/site-packages/IPython/core/magics/script.py:305\u001b[0m, in \u001b[0;36mScriptMagics.shebang\u001b[0;34m(self, line, cell)\u001b[0m\n\u001b[1;32m    300\u001b[0m \u001b[38;5;28;01mif\u001b[39;00m args\u001b[38;5;241m.\u001b[39mraise_error \u001b[38;5;129;01mand\u001b[39;00m p\u001b[38;5;241m.\u001b[39mreturncode \u001b[38;5;241m!=\u001b[39m \u001b[38;5;241m0\u001b[39m:\n\u001b[1;32m    301\u001b[0m     \u001b[38;5;66;03m# If we get here and p.returncode is still None, we must have\u001b[39;00m\n\u001b[1;32m    302\u001b[0m     \u001b[38;5;66;03m# killed it but not yet seen its return code. We don't wait for it,\u001b[39;00m\n\u001b[1;32m    303\u001b[0m     \u001b[38;5;66;03m# in case it's stuck in uninterruptible sleep. -9 = SIGKILL\u001b[39;00m\n\u001b[1;32m    304\u001b[0m     rc \u001b[38;5;241m=\u001b[39m p\u001b[38;5;241m.\u001b[39mreturncode \u001b[38;5;129;01mor\u001b[39;00m \u001b[38;5;241m-\u001b[39m\u001b[38;5;241m9\u001b[39m\n\u001b[0;32m--> 305\u001b[0m     \u001b[38;5;28;01mraise\u001b[39;00m CalledProcessError(rc, cell)\n",
      "\u001b[0;31mCalledProcessError\u001b[0m: Command 'b'\\n# create example data directory\\nrm -rf dir_structure_01\\ntar -xf dir_structure_01.tar\\n\\n# change to that directory\\ncd dir_structure_01\\n'' returned non-zero exit status 1."
     ]
    }
   ],
   "source": [
    "%%bash\n",
    "\n",
    "# create example data directory\n",
    "rm -rf dir_structure_01\n",
    "tar -xf dir_structure_01.tar\n",
    "\n",
    "# change to that directory\n",
    "cd dir_structure_01"
   ]
  },
  {
   "cell_type": "code",
   "execution_count": 4,
   "id": "53bd4b10",
   "metadata": {
    "tags": [
     "remove_cell"
    ]
   },
   "outputs": [],
   "source": [
    "os.chdir('dir_structure_01')"
   ]
  },
  {
   "cell_type": "markdown",
   "id": "a2be2028",
   "metadata": {},
   "source": [
    "## Bash Basics"
   ]
  },
  {
   "cell_type": "markdown",
   "id": "23d47f8a",
   "metadata": {},
   "source": [
    "```{note}\n",
    "In the following, some examples within a directory structure are used. The directory contents are stored in the archive {download}`dir_structure_01.tar`, which can be extracted after download by `tar -xf dir_structure_01.tar`. \n",
    "```"
   ]
  },
  {
   "cell_type": "markdown",
   "id": "c0279ea9-3968-4e98-8d3a-dd108f4ab066",
   "metadata": {},
   "source": [
    "The shell keeps track of commands that have been used in its history. Individual entries can be accessed with the up/down arrow keys. A general overview over the history can be shown when using the `history` command. Hitting the “Cmd” and “R” keys, the user can search for commands in the history. Furthermore, the shell provides functionality to auto-complete commands by hitting the “tab” key during typing in of a command.\n",
    "The command `echo $SHELL` allows the user to get information about which shell they are working with right now. The shell behaviour can be individualised, by setting up configuration files like the `.bashrc`, `.bash_profile` or `.bash_aliases`. Note on Pleiades it is the `.profile` instead. \n"
   ]
  },
  {
   "cell_type": "markdown",
   "id": "ccba74fa",
   "metadata": {},
   "source": [
    "### Environment variables\n",
    "\n",
    "\n",
    "Most, probably all, shells offer environment variables. They store information, which can be used during the execution of the issued commands. In Bash the syntax for reading the content of a variable with the name `AVAR` is `$AVAR`, i.e. the `$` character is prepended. To define the variable or change its value, the sole variable name is used.\n",
    "\n",
    "There exist many environment variables, depending on the operating system and the used shell. Some common ones are:\n",
    "\n",
    "* `USER`: the name of the user\n",
    "* `HOME`: the path to the user's home directory\n",
    "* `SHELL`: the name of the shell used by the user\n",
    "* `PATH`: a list of directories where the shell looks for executables\n",
    "* `OMP_NUM_THREADS`: sets the numer of OpenMP thread to be used"
   ]
  },
  {
   "cell_type": "markdown",
   "id": "974dcaa1",
   "metadata": {},
   "source": [
    "### Command execution\n",
    "\n",
    "A command or program is executed by typing its name:\n",
    "\n",
    "````{margin}\n",
    "```{note}\n",
    "The `>` character indicates the shell's prompt and is not part of the command.\n",
    "```\n",
    "````\n",
    "\n",
    "```\n",
    "> env\n",
    "```\n",
    "\n",
    "In this case, the output of the `env` command is a list of all set environment variables."
   ]
  },
  {
   "cell_type": "markdown",
   "id": "05fcc08d",
   "metadata": {},
   "source": [
    "**Example:** Print current date with the `date` command:"
   ]
  },
  {
   "cell_type": "code",
   "execution_count": 4,
   "id": "a7a96ca8",
   "metadata": {
    "tags": [
     "remove_input"
    ]
   },
   "outputs": [
    {
     "data": {
      "text/markdown": [
       "```none\n",
       "> date\n",
       "Mon Apr 26 08:09:42 CEST 2021\n",
       "```"
      ],
      "text/plain": [
       "<IPython.core.display.Markdown object>"
      ]
     },
     "execution_count": 4,
     "metadata": {},
     "output_type": "execute_result"
    }
   ],
   "source": [
    "demo_cmd('date')"
   ]
  },
  {
   "cell_type": "markdown",
   "id": "ed863371",
   "metadata": {},
   "source": [
    "**Example:** Print content of current directory:"
   ]
  },
  {
   "cell_type": "code",
   "execution_count": 5,
   "id": "e1905331",
   "metadata": {
    "tags": [
     "remove_input"
    ]
   },
   "outputs": [
    {
     "data": {
      "text/markdown": [
       "```none\n",
       "> whoami\n",
       "larnold\n",
       "```"
      ],
      "text/plain": [
       "<IPython.core.display.Markdown object>"
      ]
     },
     "execution_count": 5,
     "metadata": {},
     "output_type": "execute_result"
    }
   ],
   "source": [
    "demo_cmd('whoami')"
   ]
  },
  {
   "cell_type": "markdown",
   "id": "4c329888",
   "metadata": {},
   "source": [
    "An issued command must be either:\n",
    "* a build-in function of the shell, \n",
    "* an executable file found in the directory list, defined by the `PATH` environment, or \n",
    "* an explicit reference to an executable file.\n",
    "\n",
    "To execute a custom program in the current directory (not necessary in the `PATH` directory list), its location needs to be explicitly stated. Here with a `.` to indicate the current directory: \n",
    "```\n",
    "> ./a.out\n",
    "```\n"
   ]
  },
  {
   "cell_type": "markdown",
   "id": "0535cfa6",
   "metadata": {
    "jp-MarkdownHeadingCollapsed": true,
    "tags": []
   },
   "source": [
    "### Basic interaction with the file system\n",
    "\n",
    "**Changing directories**\n",
    "\n",
    "The current directory is changed via the `cd` command. Invoking no arguments changes to the user’s home directory, otherwise the\n",
    "target directory is specified. There exist a couple of special directories, which can also be used with other commands:\n",
    "\n",
    "* `~`: the user’s home directory\n",
    "* `~username`: the home directory of user username \n",
    "* `.`: this directory\n",
    "* `..`: above directory\n",
    "* `-`: last directory (cd command only)\n",
    "\n",
    "The current working directory can be shown with the `pwd` (print working directory) command.\n",
    "\n",
    "\n",
    "**Copy**\n",
    "\n",
    "Files are copied with `cp`. After `cp`, source and destination must be specified:\n",
    "\n",
    "```\n",
    "> cp folder1/file1.txt folder2/file1.txt\n",
    "```\n",
    "\n",
    "To copy to the current file path, specify `./` as the destination:\n",
    "```\n",
    "> cp folder/file1.txt ./\n",
    "```\n",
    "\n",
    "To copy entire folders including their files and subfolders, the `-r` (recursively) option must be set:\n",
    "```\n",
    "> cp -r path/folder1 ./\n",
    "```\n",
    "\n",
    "**Move**\n",
    "\n",
    "The command to move files works similarly to copying. With `mv` files can be moved:\n",
    "```\n",
    "> mv folder1/file1.txt  ./\n",
    "```\n",
    "\n",
    "\n",
    "The command can also be used to rename files:\n",
    "```\n",
    "> mv file1.txt file2.txt\n",
    "```\n",
    "or folders:\n",
    "```\n",
    "> mv folder1 folder2\n",
    "```\n",
    " \n",
    "\n",
    "To move multiple files, list them - the last parameter is the destination:\n",
    "```\n",
    "> mv file1.txt file2.txt file3.txt. data/\n",
    "```\n",
    "\n",
    "\n",
    "**Delete**\n",
    "\n",
    "With `rm` files can be deleted:\n",
    "```\n",
    "> rm myfile.txt\n",
    "```\n",
    "\n",
    "\n",
    "There are multiple ways to delete multiple files.\n",
    "You can list them:\n",
    "```\n",
    "> rm file1 file2 file3\n",
    "```\n",
    "\n",
    "Or delete all files that contain a certain name:\n",
    "```\n",
    "> rm *name* \n",
    "```\n",
    "\n",
    "\n",
    "To delete folders including files and subfolders, the `-r` option must be set:\n",
    "```\n",
    "> rm -r folder1\n",
    "```\n",
    "\n",
    "\n",
    "Remove all files at a given location one can alos use the wildcard `*`:\n",
    "```\n",
    "> rm *\n",
    "```"
   ]
  },
  {
   "cell_type": "markdown",
   "id": "455ded64-5e8c-4499-b583-97c800ba48b1",
   "metadata": {},
   "source": [
    "### Configure your terminal\n",
    "\n",
    "\n",
    "The user can adjust their shell by setting up a configuration file that is called `.bashrc`. This is a basic text file, which is stored in the user's home directory as a hidden file (indicated by the leading period in the file name). Typically this file does not exist right away, using for example the command`vim ~/.bashrc` the file will be created otherwise it will just be opened for editing in the text editor [Vim](https://www.vim.org/docs.php). In the `.bashrc` default settings can be stored. For instance, the command prompt can be changed from the generic default to show `user_name@host` or often used modules could be pre-loaded, see section “Environment modules (Lmod)” below."
   ]
  },
  {
   "cell_type": "markdown",
   "id": "486b8a7c-3846-4f70-a01f-fa8a2ba1de5a",
   "metadata": {},
   "source": [
    "Let's try it out. First we create/open the `.bashrc` file in Vim, assuming we are in the users home directory.\n",
    "\n",
    "```\n",
    "> vim ~/.bashrc\n",
    "```\n",
    "\n",
    "Text can be inserted (written) into the file by hitting the `i` key (\"`-- INSERT --`\" is visible at the bottom left of the window). Then enter the following lines.\n",
    "\n",
    "```\n",
    "# Set prompt outline.\n",
    "PS1=\"\\u@\\h:\\w\\n\\[\\033[1;34m\\]> \\[\\033[0m\\]\"\n",
    "```\n",
    "\n",
    "Afterwards, hit `Esc` to go back into the normal mode. Type `:w` to save the changes and `:q` to quit Vim, or `:wq` to combine both commands. With `:q!` changes to the file are discarded before closing Vim.\n",
    "\n",
    "This changes the command prompt to show the user and host names. "
   ]
  },
  {
   "cell_type": "markdown",
   "id": "1ca7ba32",
   "metadata": {},
   "source": [
    "### Arguments\n",
    "\n",
    "In general, issued commands accept arguments. These can be either named arguments, which need to be explicitly indicated, or positional arguments, which are identified by their position.\n",
    "\n",
    "Arguments are separated by a space character. \n",
    "\n",
    "Further information about the accepted arguments is either available by using the `man` command, which prints the manual for a command. The name of the command is passed as an argument. In the following example, the manual page for `grep` is shown. This application searches files or given input for a given search pattern. \n",
    "\n",
    "````{margin}\n",
    "```{note}\n",
    "To quit interactive viewers, in applications like `less` or `man`, press `q` for quit.\n",
    "```\n",
    "````"
   ]
  },
  {
   "cell_type": "markdown",
   "id": "d34d396d",
   "metadata": {
    "tags": []
   },
   "source": [
    "```\n",
    "> man grep\n",
    "```\n",
    "\n",
    "````{admonition} Manual page for 'grep'\n",
    ":class: dropdown\n",
    "\n",
    "```\n",
    "GREP(1)                   BSD General Commands Manual                  GREP(1)\n",
    "\n",
    "NAME\n",
    "     grep, egrep, fgrep, zgrep, zegrep, zfgrep -- file pattern searcher\n",
    "\n",
    "SYNOPSIS\n",
    "     grep [-abcdDEFGHhIiJLlmnOopqRSsUVvwxZ] [-A num] [-B num] [-C[num]]\n",
    "          [-e pattern] [-f file] [--binary-files=value] [--color[=when]]\n",
    "          [--colour[=when]] [--context[=num]] [--label] [--line-buffered]\n",
    "          [--null] [pattern] [file ...]\n",
    "\n",
    "DESCRIPTION\n",
    "     The grep utility searches any given input files, selecting lines that match\n",
    "     one or more patterns.  By default, a pattern matches an input line if the\n",
    "     regular expression (RE) in the pattern matches the input line without its\n",
    "     trailing newline.  An empty expression matches every line.  Each input line\n",
    "     that matches at least one of the patterns is written to the standard output.\n",
    "\n",
    "     grep is used for simple patterns and basic regular expressions (BREs); egrep\n",
    "     can handle extended regular expressions (EREs).  See re_format(7) for more\n",
    "     information on regular expressions.  fgrep is quicker than both grep and\n",
    "     egrep, but can only handle fixed patterns (i.e. it does not interpret regu-\n",
    "     lar expressions).  Patterns may consist of one or more lines, allowing any\n",
    "     of the pattern lines to match a portion of the input.\n",
    "\n",
    "     zgrep, zegrep, and zfgrep act like grep, egrep, and fgrep, respectively, but\n",
    "     accept input files compressed with the compress(1) or gzip(1) compression\n",
    "     utilities.\n",
    "\n",
    "     The following options are available:\n",
    "\n",
    "     -A num, --after-context=num\n",
    "             Print num lines of trailing context after each match.  See also the\n",
    "             -B and -C options.\n",
    "\n",
    "     -a, --text\n",
    "             Treat all files as ASCII text.  Normally grep will simply print\n",
    "             ``Binary file ... matches'' if files contain binary characters.  Use\n",
    "             of this option forces grep to output lines matching the specified\n",
    "             pattern.\n",
    "\n",
    "     -B num, --before-context=num\n",
    "             Print num lines of leading context before each match.  See also the\n",
    "             -A and -C options.\n",
    "\n",
    "     -b, --byte-offset\n",
    "             The offset in bytes of a matched pattern is displayed in front of\n",
    "             the respective matched line.\n",
    "\n",
    "     -C[num, --context=num]\n",
    "             Print num lines of leading and trailing context surrounding each\n",
    "             match.  The default is 2 and is equivalent to -A 2 -B 2.  Note: no\n",
    "             whitespace may be given between the option and its argument.\n",
    "\n",
    "     -c, --count\n",
    "             Only a count of selected lines is written to standard output.\n",
    "\n",
    "     --colour=[when, --color=[when]]\n",
    "             Mark up the matching text with the expression stored in GREP_COLOR\n",
    "             environment variable.  The possible values of when can be `never',\n",
    "             `always' or `auto'.\n",
    "\n",
    "     -D action, --devices=action\n",
    "             Specify the demanded action for devices, FIFOs and sockets.  The\n",
    "             default action is `read', which means, that they are read as if they\n",
    "             were normal files.  If the action is set to `skip', devices will be\n",
    "             silently skipped.\n",
    "\n",
    "     -d action, --directories=action\n",
    "             Specify the demanded action for directories.  It is `read' by\n",
    "             default, which means that the directories are read in the same man-\n",
    "             ner as normal files.  Other possible values are `skip' to silently\n",
    "             ignore the directories, and `recurse' to read them recursively,\n",
    "             which has the same effect as the -R and -r option.\n",
    "\n",
    "     -E, --extended-regexp\n",
    "             Interpret pattern as an extended regular expression (i.e. force grep\n",
    "             to behave as egrep).\n",
    "\n",
    "     -e pattern, --regexp=pattern\n",
    "             Specify a pattern used during the search of the input: an input line\n",
    "             is selected if it matches any of the specified patterns.  This\n",
    "             option is most useful when multiple -e options are used to specify\n",
    "             multiple patterns, or when a pattern begins with a dash (`-').\n",
    "\n",
    "     --exclude\n",
    "             If specified, it excludes files matching the given filename pattern\n",
    "             from the search.  Note that --exclude patterns take priority over\n",
    "             --include patterns, and if no --include pattern is specified, all\n",
    "             files are searched that are not excluded.  Patterns are matched to\n",
    "             the full path specified, not only to the filename component.\n",
    "\n",
    "     --exclude-dir\n",
    "             If -R is specified, it excludes directories matching the given file-\n",
    "             name pattern from the search.  Note that --exclude-dir patterns take\n",
    "             priority over --include-dir patterns, and if no --include-dir pat-\n",
    "             tern is specified, all directories are searched that are not\n",
    "             excluded.\n",
    "\n",
    "     -F, --fixed-strings\n",
    "             Interpret pattern as a set of fixed strings (i.e. force grep to\n",
    "             behave as fgrep).\n",
    "\n",
    "     -f file, --file=file\n",
    "             Read one or more newline separated patterns from file.  Empty pat-\n",
    "             tern lines match every input line.  Newlines are not considered part\n",
    "             of a pattern.  If file is empty, nothing is matched.\n",
    "\n",
    "     -G, --basic-regexp\n",
    "             Interpret pattern as a basic regular expression (i.e. force grep to\n",
    "             behave as traditional grep).\n",
    "\n",
    "     -H      Always print filename headers with output lines.\n",
    "\n",
    "     -h, --no-filename\n",
    "             Never print filename headers (i.e. filenames) with output lines.\n",
    "\n",
    "     --help  Print a brief help message.\n",
    "\n",
    "     -I      Ignore binary files.  This option is equivalent to\n",
    "             --binary-file=without-match option.\n",
    "\n",
    "     -i, --ignore-case\n",
    "             Perform case insensitive matching.  By default, grep is case sensi-\n",
    "             tive.\n",
    "\n",
    "     --include\n",
    "             If specified, only files matching the given filename pattern are\n",
    "             searched.  Note that --exclude patterns take priority over --include\n",
    "             patterns.  Patterns are matched to the full path specified, not only\n",
    "             to the filename component.\n",
    "\n",
    "     --include-dir\n",
    "             If -R is specified, only directories matching the given filename\n",
    "             pattern are searched.  Note that --exclude-dir patterns take prior-\n",
    "             ity over --include-dir patterns.\n",
    "\n",
    "     -J, --bz2decompress\n",
    "             Decompress the bzip2(1) compressed file before looking for the text.\n",
    "\n",
    "     -L, --files-without-match\n",
    "             Only the names of files not containing selected lines are written to\n",
    "             standard output.  Pathnames are listed once per file searched.  If\n",
    "             the standard input is searched, the string ``(standard input)'' is\n",
    "             written.\n",
    "\n",
    "     -l, --files-with-matches\n",
    "             Only the names of files containing selected lines are written to\n",
    "             standard output.  grep will only search a file until a match has\n",
    "             been found, making searches potentially less expensive.  Pathnames\n",
    "             are listed once per file searched.  If the standard input is\n",
    "             searched, the string ``(standard input)'' is written.\n",
    "\n",
    "     --mmap  Use mmap(2) instead of read(2) to read input, which can result in\n",
    "             better performance under some circumstances but can cause undefined\n",
    "             behaviour.\n",
    "\n",
    "     -m num, --max-count=num\n",
    "             Stop reading the file after num matches.\n",
    "\n",
    "     -n, --line-number\n",
    "             Each output line is preceded by its relative line number in the\n",
    "             file, starting at line 1.  The line number counter is reset for each\n",
    "             file processed.  This option is ignored if -c, -L, -l, or -q is\n",
    "             specified.\n",
    "\n",
    "     --null  Prints a zero-byte after the file name.\n",
    "\n",
    "     -O      If -R is specified, follow symbolic links only if they were explic-\n",
    "             itly listed on the command line.  The default is not to follow sym-\n",
    "             bolic links.\n",
    "\n",
    "     -o, --only-matching\n",
    "             Prints only the matching part of the lines.\n",
    "\n",
    "     -p      If -R is specified, no symbolic links are followed.  This is the\n",
    "             default.\n",
    "\n",
    "     -q, --quiet, --silent\n",
    "             Quiet mode: suppress normal output.  grep will only search a file\n",
    "             until a match has been found, making searches potentially less\n",
    "             expensive.\n",
    "\n",
    "     -R, -r, --recursive\n",
    "             Recursively search subdirectories listed.\n",
    "\n",
    "     -S      If -R is specified, all symbolic links are followed.  The default is\n",
    "             not to follow symbolic links.\n",
    "\n",
    "     -s, --no-messages\n",
    "             Silent mode.  Nonexistent and unreadable files are ignored (i.e.\n",
    "             their error messages are suppressed).\n",
    "\n",
    "     -U, --binary\n",
    "             Search binary files, but do not attempt to print them.\n",
    "\n",
    "     -V, --version\n",
    "             Display version information and exit.\n",
    "\n",
    "     -v, --invert-match\n",
    "             Selected lines are those not matching any of the specified patterns.\n",
    "\n",
    "     -w, --word-regexp\n",
    "             The expression is searched for as a word (as if surrounded by\n",
    "             `[[:<:]]' and `[[:>:]]'; see re_format(7)).\n",
    "\n",
    "     -x, --line-regexp\n",
    "             Only input lines selected against an entire fixed string or regular\n",
    "             expression are considered to be matching lines.\n",
    "\n",
    "     -y      Equivalent to -i.  Obsoleted.\n",
    "\n",
    "     -Z, -z, --decompress\n",
    "             Force grep to behave as zgrep.\n",
    "\n",
    "     --binary-files=value\n",
    "             Controls searching and printing of binary files.  Options are\n",
    "             binary, the default: search binary files but do not print them;\n",
    "             without-match: do not search binary files; and text: treat all files\n",
    "             as text.\n",
    "\n",
    "     --context[=num]\n",
    "             Print num lines of leading and trailing context.  The default is 2.\n",
    "\n",
    "     --line-buffered\n",
    "             Force output to be line buffered.  By default, output is line\n",
    "             buffered when standard output is a terminal and block buffered oth-\n",
    "             erwise.\n",
    "\n",
    "     If no file arguments are specified, the standard input is used.\n",
    "\n",
    "ENVIRONMENT\n",
    "     GREP_OPTIONS  May be used to specify default options that will be placed at\n",
    "                   the beginning of the argument list.  Backslash-escaping is not\n",
    "                   supported, unlike the behavior in GNU grep.\n",
    "\n",
    "EXIT STATUS\n",
    "     The grep utility exits with one of the following values:\n",
    "\n",
    "     0     One or more lines were selected.\n",
    "     1     No lines were selected.\n",
    "     >1    An error occurred.\n",
    "\n",
    "EXAMPLES\n",
    "     To find all occurrences of the word 'patricia' in a file:\n",
    "\n",
    "           $ grep 'patricia' myfile\n",
    "\n",
    "     To find all occurrences of the pattern '.Pp' at the beginning of a line:\n",
    "\n",
    "           $ grep '^\\.Pp' myfile\n",
    "\n",
    "     The apostrophes ensure the entire expression is evaluated by grep instead of\n",
    "     by the user's shell.  The caret '^' matches the null string at the beginning\n",
    "     of a line, and the '\\' escapes the '.', which would otherwise match any\n",
    "     character.\n",
    "\n",
    "     To find all lines in a file which do not contain the words 'foo' or 'bar':\n",
    "\n",
    "           $ grep -v -e 'foo' -e 'bar' myfile\n",
    "\n",
    "     A simple example of an extended regular expression:\n",
    "\n",
    "           $ egrep '19|20|25' calendar\n",
    "\n",
    "     Peruses the file 'calendar' looking for either 19, 20, or 25.\n",
    "\n",
    "SEE ALSO\n",
    "     ed(1), ex(1), gzip(1), sed(1), re_format(7)\n",
    "\n",
    "STANDARDS\n",
    "     The grep utility is compliant with the IEEE Std 1003.1-2008 (``POSIX.1'')\n",
    "     specification.\n",
    "\n",
    "     The flags [-AaBbCDdGHhIJLmoPRSUVwZ] are extensions to that specification,\n",
    "     and the behaviour of the -f flag when used with an empty pattern file is\n",
    "     left undefined.\n",
    "\n",
    "     All long options are provided for compatibility with GNU versions of this\n",
    "     utility.\n",
    "\n",
    "     Historic versions of the grep utility also supported the flags [-ruy].  This\n",
    "     implementation supports those options; however, their use is strongly dis-\n",
    "     couraged.\n",
    "\n",
    "HISTORY\n",
    "     The grep command first appeared in Version 6 AT&T UNIX.\n",
    "\n",
    "BUGS\n",
    "     The grep utility does not normalize Unicode input, so a pattern containing\n",
    "     composed characters will not match decomposed input, and vice versa.\n",
    "\n",
    "BSD                              July 28, 2010                             BSD\n",
    "```\n",
    "````"
   ]
  },
  {
   "cell_type": "markdown",
   "id": "f3f945fa",
   "metadata": {
    "tags": []
   },
   "source": [
    "A similar, yet more condensed, form with the focus on the usage of arguments, is to use the `-h` help argument."
   ]
  },
  {
   "cell_type": "code",
   "execution_count": 6,
   "id": "d3c17caf",
   "metadata": {
    "tags": [
     "remove_input"
    ]
   },
   "outputs": [
    {
     "data": {
      "text/markdown": [
       "```none\n",
       "> grep -h\n",
       "usage: grep [-abcDEFGHhIiJLlmnOoqRSsUVvwxZ] [-A num] [-B num] [-C[num]]\n",
       "\t[-e pattern] [-f file] [--binary-files=value] [--color=when]\n",
       "\t[--context[=num]] [--directories=action] [--label] [--line-buffered]\n",
       "\t[--null] [pattern] [file ...]\n",
       "```"
      ],
      "text/plain": [
       "<IPython.core.display.Markdown object>"
      ]
     },
     "execution_count": 6,
     "metadata": {},
     "output_type": "execute_result"
    }
   ],
   "source": [
    "demo_cmd('grep -h')"
   ]
  },
  {
   "cell_type": "markdown",
   "id": "dcaf7e7f",
   "metadata": {
    "tags": []
   },
   "source": [
    "In the above example, there are many named arguments, like the one to set if the search is case sensitive:\n",
    "\n",
    "```\n",
    "[...]\n",
    "     -i, --ignore-case\n",
    "             Perform case insensitive matching.  By default, grep is case sensi-\n",
    "             tive.\n",
    "[...]\n",
    "```\n",
    "\n",
    "Often, named arguments are available as short forms with a single `-` prepended to a single character, here `-i`. In addition there is a long and more verbose version, which starts with `--`, here `--ignore-case`. Rare arguments may have only a long version.\n",
    "\n",
    "Besides the named arguments, there are two positional arguments: `pattern` and `file ...`. The first one defines the search pattern and the second one defines one or multiple files to be searched in. "
   ]
  },
  {
   "cell_type": "markdown",
   "id": "aa9901e2",
   "metadata": {},
   "source": [
    "### Listing directories\n",
    "\n",
    "The content of a directory is displayed with `ls`. Without arguments it shows the current directory, otherwise the target directory.\n",
    "\n",
    "Some common options:\n",
    "\n",
    "* `--color=always`, color output, may be already set by default\n",
    "* `-l`, long output, i.e. list permissions, data, size\n",
    "* `-a`, list all files, i.e. also hidden files starting with a `.`\n",
    "* `-h`, show file sizes in a human readable form\n",
    "* `-r`, reverse the output\n",
    "* `-t`, sort by modification time"
   ]
  },
  {
   "cell_type": "markdown",
   "id": "f506f4ae",
   "metadata": {},
   "source": [
    "**Example:** List all files in the current directory:"
   ]
  },
  {
   "cell_type": "code",
   "execution_count": 7,
   "id": "ef312dff",
   "metadata": {
    "tags": [
     "remove_input"
    ]
   },
   "outputs": [
    {
     "data": {
      "text/markdown": [
       "```none\n",
       "> ls\n",
       "combined_logs\n",
       "doc01.md\n",
       "doc02.txt\n",
       "doc03.md\n",
       "doc04.txt\n",
       "doc05.txt\n",
       "for-loop.sh\n",
       "if-statement.sh\n",
       "info.txt\n",
       "rundir_01\n",
       "rundir_02\n",
       "rundir_03\n",
       "rundir_04\n",
       "rundir_05\n",
       "rundir_06\n",
       "rundir_07\n",
       "rundir_08\n",
       "rundir_09\n",
       "rundir_10\n",
       "rundir_11\n",
       "rundir_12\n",
       "rundir_13\n",
       "rundir_14\n",
       "rundir_15\n",
       "```"
      ],
      "text/plain": [
       "<IPython.core.display.Markdown object>"
      ]
     },
     "execution_count": 7,
     "metadata": {},
     "output_type": "execute_result"
    }
   ],
   "source": [
    "demo_cmd('ls')"
   ]
  },
  {
   "cell_type": "markdown",
   "id": "b4aadefc",
   "metadata": {},
   "source": [
    "**Example:** List all files in the directory `rundir_12`:"
   ]
  },
  {
   "cell_type": "code",
   "execution_count": 8,
   "id": "c0d3e0af",
   "metadata": {
    "tags": [
     "remove_input"
    ]
   },
   "outputs": [
    {
     "data": {
      "text/markdown": [
       "```none\n",
       "> ls rundir_12\n",
       "logfile\n",
       "\n",
       "> ls -lah\n",
       "total 88\n",
       "drwxr-xr-x  27 larnold  staff   864B Apr 26 08:09 .\n",
       "drwxr-xr-x  11 larnold  staff   352B Apr 26 08:09 ..\n",
       "-rw-r--r--   1 larnold  staff    20B Apr 25 19:55 .hidden_file_do_not_look_here\n",
       "-rw-r--r--   1 larnold  staff   816B Apr 26 08:02 combined_logs\n",
       "-rw-r--r--   1 larnold  staff   591B Dec 12  2000 doc01.md\n",
       "-rw-r--r--   1 larnold  staff   5.9K Dec 12  2000 doc02.txt\n",
       "-rw-r--r--   1 larnold  staff    29B Dec 14  2000 doc03.md\n",
       "-rw-r--r--   1 larnold  staff   889B Nov  8  2000 doc04.txt\n",
       "-rw-r--r--   1 larnold  staff   1.3K Apr 25 17:19 doc05.txt\n",
       "-rw-r--r--   1 larnold  staff    60B Apr 26 08:08 for-loop.sh\n",
       "-rw-r--r--   1 larnold  staff   113B Apr 25 21:35 if-statement.sh\n",
       "-rw-r--r--   1 larnold  staff    62B Apr 26 08:08 info.txt\n",
       "drwxr-xr-x   3 larnold  staff    96B Apr 25 17:11 rundir_01\n",
       "drwxr-xr-x   3 larnold  staff    96B Apr 25 17:11 rundir_02\n",
       "drwxr-xr-x   3 larnold  staff    96B Apr 25 17:11 rundir_03\n",
       "drwxr-xr-x   3 larnold  staff    96B Apr 25 17:11 rundir_04\n",
       "drwxr-xr-x   3 larnold  staff    96B Apr 25 17:11 rundir_05\n",
       "drwxr-xr-x   3 larnold  staff    96B Apr 25 17:11 rundir_06\n",
       "drwxr-xr-x   3 larnold  staff    96B Apr 25 17:11 rundir_07\n",
       "drwxr-xr-x   3 larnold  staff    96B Apr 25 17:11 rundir_08\n",
       "drwxr-xr-x   3 larnold  staff    96B Apr 25 17:11 rundir_09\n",
       "drwxr-xr-x   3 larnold  staff    96B Apr 25 17:11 rundir_10\n",
       "drwxr-xr-x   3 larnold  staff    96B Apr 25 17:11 rundir_11\n",
       "drwxr-xr-x   3 larnold  staff    96B Apr 25 17:11 rundir_12\n",
       "drwxr-xr-x   3 larnold  staff    96B Apr 25 17:11 rundir_13\n",
       "drwxr-xr-x   3 larnold  staff    96B Apr 25 17:11 rundir_14\n",
       "drwxr-xr-x   3 larnold  staff    96B Apr 25 17:11 rundir_15\n",
       "```"
      ],
      "text/plain": [
       "<IPython.core.display.Markdown object>"
      ]
     },
     "execution_count": 8,
     "metadata": {},
     "output_type": "execute_result"
    }
   ],
   "source": [
    "demo_cmd(['ls rundir_12', 'ls -lah'])"
   ]
  },
  {
   "cell_type": "markdown",
   "id": "b3e0da93",
   "metadata": {},
   "source": [
    "**Example:** List current directory's files and sort them according to their modification time in reverse order:"
   ]
  },
  {
   "cell_type": "code",
   "execution_count": 9,
   "id": "595e36ac",
   "metadata": {
    "tags": [
     "remove_input"
    ]
   },
   "outputs": [
    {
     "data": {
      "text/markdown": [
       "```none\n",
       "> ls -lrt\n",
       "total 80\n",
       "-rw-r--r--  1 larnold  staff   889 Nov  8  2000 doc04.txt\n",
       "-rw-r--r--  1 larnold  staff  6060 Dec 12  2000 doc02.txt\n",
       "-rw-r--r--  1 larnold  staff   591 Dec 12  2000 doc01.md\n",
       "-rw-r--r--  1 larnold  staff    29 Dec 14  2000 doc03.md\n",
       "drwxr-xr-x  3 larnold  staff    96 Apr 25 17:11 rundir_15\n",
       "drwxr-xr-x  3 larnold  staff    96 Apr 25 17:11 rundir_14\n",
       "drwxr-xr-x  3 larnold  staff    96 Apr 25 17:11 rundir_13\n",
       "drwxr-xr-x  3 larnold  staff    96 Apr 25 17:11 rundir_12\n",
       "drwxr-xr-x  3 larnold  staff    96 Apr 25 17:11 rundir_11\n",
       "drwxr-xr-x  3 larnold  staff    96 Apr 25 17:11 rundir_10\n",
       "drwxr-xr-x  3 larnold  staff    96 Apr 25 17:11 rundir_09\n",
       "drwxr-xr-x  3 larnold  staff    96 Apr 25 17:11 rundir_08\n",
       "drwxr-xr-x  3 larnold  staff    96 Apr 25 17:11 rundir_07\n",
       "drwxr-xr-x  3 larnold  staff    96 Apr 25 17:11 rundir_06\n",
       "drwxr-xr-x  3 larnold  staff    96 Apr 25 17:11 rundir_05\n",
       "drwxr-xr-x  3 larnold  staff    96 Apr 25 17:11 rundir_04\n",
       "drwxr-xr-x  3 larnold  staff    96 Apr 25 17:11 rundir_03\n",
       "drwxr-xr-x  3 larnold  staff    96 Apr 25 17:11 rundir_02\n",
       "drwxr-xr-x  3 larnold  staff    96 Apr 25 17:11 rundir_01\n",
       "-rw-r--r--  1 larnold  staff  1307 Apr 25 17:19 doc05.txt\n",
       "-rw-r--r--  1 larnold  staff   113 Apr 25 21:35 if-statement.sh\n",
       "-rw-r--r--  1 larnold  staff   816 Apr 26 08:02 combined_logs\n",
       "-rw-r--r--  1 larnold  staff    62 Apr 26 08:08 info.txt\n",
       "-rw-r--r--  1 larnold  staff    60 Apr 26 08:08 for-loop.sh\n",
       "```"
      ],
      "text/plain": [
       "<IPython.core.display.Markdown object>"
      ]
     },
     "execution_count": 9,
     "metadata": {},
     "output_type": "execute_result"
    }
   ],
   "source": [
    "demo_cmd('ls -lrt')"
   ]
  },
  {
   "cell_type": "markdown",
   "id": "a491c360-1e90-4fe5-a77c-70f2b19145af",
   "metadata": {},
   "source": [
    "### Aliases\n",
    "\n",
    "\n",
    "The user can personalise their environment in different ways. For example it is possible to define so-called “aliases”. An “alias” allows the user to set up individualised short form commands. For example, a command to call a program with an often used set of parameters could be attached to an alias. Assume we were to use the `ls` command often, together with the parameters to give the long output (`-l`) for all file in a directory (`-a`) in human-readable form (`-h`), i.e. `ls -lah`. We could give it a short form command, for example `lsa`, by typing `alias lsa='ls -lah'` in the command line. However, this definition will only exist as long as the session is active. To make it permanent, it needs to be stored in a script which is loaded when a new session is started. Typically, these definitions are stored in files within the user home directory, specifically the `.bashrc` or better the `.bash_aliases` files. These are simple text files, if they don’t exist they can be easily created. For example using `vim ~/.bash_aliases`. In the `.bashrc` a command needs then to be written to read the `.bash_aliases`. \n",
    "\n",
    "\n",
    "Let's try it out. First we navigate to the users home directory.\n",
    "\n",
    "```\n",
    "> cd ~\n",
    "```\n",
    "\n",
    "We set up the temporary alias \"lsa\".\n",
    "\n",
    "```\n",
    "> alias lsa='ls -lah'\n",
    "```\n",
    "\n",
    "If we use the alias it should yield the same result as the command itself, try it out.\n",
    "\n",
    "Now open a new terminal and try to use the alias again. You should see an error message, something like \"`-bash: lsa: command not found`\".\n",
    "\n",
    "To set a permanent alias we are using a file we name `.bash_aliases`. It will be created using Vim again:\n",
    "\n",
    "```\n",
    "> vim ~/.bash_aliases\n",
    "```\n",
    "In the insert mode (`i`) write the following lines into the file:\n",
    "\n",
    "```\n",
    "# Set aliases.\n",
    "alias lsa='ls -lah'\n",
    "```\n",
    "\n",
    "Afterwards, hit `Esc` to go back into the normal mode. Type `:w` to save the changes and `:q` to quit Vim, or `:wq` to combine both commands. With `:q!` changes to the file are discarded before closing Vim.\n",
    "\n",
    "Now we need to set up a way to load the `.bash_aliases`. For this we open the `.bashrc` and add the following lines:\n",
    "\n",
    "```\n",
    "# Load aliases.\n",
    "if [ -f ~/.bash_aliases ]; then\n",
    "source ~/.bash_aliases\n",
    "fi\n",
    "```\n",
    "\n",
    "Instead of `source ~/.bash_aliases` also `. ~/.bash_aliases` could be used. If a new terminal is started it will now load the `.bash_aliases`. To load it in the active terminal one can just run the command directly:\n",
    "\n",
    "```\n",
    "> source ~/.bash_aliases\n",
    "```\n",
    "\n",
    "Another useful alias is the following:\n",
    "\n",
    "```\n",
    "# Check your jobs\n",
    "alias myjobs='squeue -u $USER -o \"%.9i %.22j %.2t %.20S %.12l %.5D %.5C\"\n",
    "\n",
    "```\n",
    "\n",
    "When on a computer that uses the SLURM scheduler (see subsection \"SLURM\" in the \"Parallel Execution of FDS\"), it shows all queued jobs of the user (`$USER`)."
   ]
  },
  {
   "cell_type": "markdown",
   "id": "f9b94e5f",
   "metadata": {},
   "source": [
    "### Wildcards\n",
    "\n",
    "Wildcards are used to provide a matching pattern for the shell, which are generally called [glob patterns](https://en.wikipedia.org/wiki/Glob_(programming)). First, the shell will evaluate the pattern and search for matching paths. Then it will expand the wildcard pattern with the explicit list of the results, which typically is passed to an applicaiton.\n",
    "\n",
    "Some common wildcards are: \n",
    "* `*`: match everything\n",
    "* `?`: match any single character\n",
    "* `[list]`: match any single character from list, here: `l`, `i`, `s`, `t`\n",
    "\n",
    "Wildcards can be combined with constant strings and with each other. "
   ]
  },
  {
   "cell_type": "markdown",
   "id": "1cb06501",
   "metadata": {},
   "source": [
    "**Example:** List all files ending with `.txt`:"
   ]
  },
  {
   "cell_type": "code",
   "execution_count": 10,
   "id": "d9bb0048",
   "metadata": {
    "tags": [
     "remove_input"
    ]
   },
   "outputs": [
    {
     "data": {
      "text/markdown": [
       "```none\n",
       "> ls *.txt\n",
       "doc02.txt\n",
       "doc04.txt\n",
       "doc05.txt\n",
       "info.txt\n",
       "```"
      ],
      "text/plain": [
       "<IPython.core.display.Markdown object>"
      ]
     },
     "execution_count": 10,
     "metadata": {},
     "output_type": "execute_result"
    }
   ],
   "source": [
    "demo_cmd('ls *.txt')"
   ]
  },
  {
   "cell_type": "markdown",
   "id": "ab52da71",
   "metadata": {},
   "source": [
    "**Example:** List all files with their attributes in the directories `rundir_10` to `rundir_15`:"
   ]
  },
  {
   "cell_type": "code",
   "execution_count": 11,
   "id": "2d9e920f",
   "metadata": {
    "tags": [
     "remove_input"
    ]
   },
   "outputs": [
    {
     "data": {
      "text/markdown": [
       "```none\n",
       "> ls -l rundir_1?\n",
       "rundir_10:\n",
       "total 8\n",
       "-rw-r--r--  1 larnold  staff  54 Apr 25 17:11 logfile\n",
       "\n",
       "rundir_11:\n",
       "total 8\n",
       "-rw-r--r--  1 larnold  staff  54 Apr 25 17:11 logfile\n",
       "\n",
       "rundir_12:\n",
       "total 8\n",
       "-rw-r--r--  1 larnold  staff  55 Apr 25 17:11 logfile\n",
       "\n",
       "rundir_13:\n",
       "total 8\n",
       "-rw-r--r--  1 larnold  staff  54 Apr 25 17:11 logfile\n",
       "\n",
       "rundir_14:\n",
       "total 8\n",
       "-rw-r--r--  1 larnold  staff  55 Apr 25 17:11 logfile\n",
       "\n",
       "rundir_15:\n",
       "total 8\n",
       "-rw-r--r--  1 larnold  staff  55 Apr 25 17:11 logfile\n",
       "```"
      ],
      "text/plain": [
       "<IPython.core.display.Markdown object>"
      ]
     },
     "execution_count": 11,
     "metadata": {},
     "output_type": "execute_result"
    }
   ],
   "source": [
    "demo_cmd('ls -l rundir_1?')"
   ]
  },
  {
   "cell_type": "markdown",
   "id": "3bcc9e41",
   "metadata": {},
   "source": [
    "**Example:** Print the content of the files `logfile` located in the directories `rundir_10` to `rundir_15`. The content of a file can be printed with the `cat` command:"
   ]
  },
  {
   "cell_type": "code",
   "execution_count": 12,
   "id": "6e16591e",
   "metadata": {
    "tags": [
     "remove_input"
    ]
   },
   "outputs": [
    {
     "data": {
      "text/markdown": [
       "```none\n",
       "> cat rundir_1?/logfile\n",
       "Simulation started\n",
       "Result value: 1761\n",
       "Run Time: 13836\n",
       "Simulation started\n",
       "Result value: 2375\n",
       "Run Time: 11901\n",
       "Simulation started\n",
       "Result value: 15343\n",
       "Run Time: 21131\n",
       "Simulation started\n",
       "Result value: 11280\n",
       "Run Time: 3640\n",
       "Simulation started\n",
       "Result value: 13081\n",
       "Run Time: 19866\n",
       "Simulation started\n",
       "Result value: 27146\n",
       "Run Time: 20714\n",
       "```"
      ],
      "text/plain": [
       "<IPython.core.display.Markdown object>"
      ]
     },
     "execution_count": 12,
     "metadata": {},
     "output_type": "execute_result"
    }
   ],
   "source": [
    "demo_cmd('cat rundir_1?/logfile')"
   ]
  },
  {
   "cell_type": "markdown",
   "id": "a91c7f00",
   "metadata": {},
   "source": [
    "### Output Redirection\n",
    "\n",
    "The output of programs is either to\n",
    "\n",
    "* `stdout`: the normal program output \n",
    "* `stderr`: error messages\n",
    "\n",
    "In many cases it is useful to write the output into a file. This can be done via redirections. \n",
    "\n",
    "* `>`: creates a new output file, overwrites old one\n",
    "* `>>`: appends the command's output to the output file\n",
    "\n",
    "The redirections are used direclty after a command, e.g.\n",
    "\n",
    "```\n",
    "> command >> logfile\n",
    "```"
   ]
  },
  {
   "cell_type": "markdown",
   "id": "04647269",
   "metadata": {},
   "source": [
    "**Example:** Redirect the contents of all `logfile`-files located in the `rundir_*` directories to a file:"
   ]
  },
  {
   "cell_type": "code",
   "execution_count": 13,
   "id": "096fd020",
   "metadata": {
    "tags": [
     "remove_input"
    ]
   },
   "outputs": [
    {
     "data": {
      "text/markdown": [
       "```none\n",
       "> cat rundir_*/logfile > combined_logs\n",
       "\n",
       "\n",
       "> cat combined_logs\n",
       "Simulation started\n",
       "Result value: 2776\n",
       "Run Time: 7789\n",
       "Simulation started\n",
       "Result value: 13856\n",
       "Run Time: 7696\n",
       "Simulation started\n",
       "Result value: 22344\n",
       "Run Time: 20401\n",
       "Simulation started\n",
       "Result value: 4155\n",
       "Run Time: 15711\n",
       "Simulation started\n",
       "Result value: 14887\n",
       "Run Time: 30786\n",
       "Simulation started\n",
       "Result value: 17783\n",
       "Run Time: 9987\n",
       "Simulation started\n",
       "Result value: 19607\n",
       "Run Time: 22428\n",
       "Simulation started\n",
       "Result value: 25874\n",
       "Run Time: 16521\n",
       "Simulation started\n",
       "Result value: 28931\n",
       "Run Time: 2517\n",
       "Simulation started\n",
       "Result value: 1761\n",
       "Run Time: 13836\n",
       "Simulation started\n",
       "Result value: 2375\n",
       "Run Time: 11901\n",
       "Simulation started\n",
       "Result value: 15343\n",
       "Run Time: 21131\n",
       "Simulation started\n",
       "Result value: 11280\n",
       "Run Time: 3640\n",
       "Simulation started\n",
       "Result value: 13081\n",
       "Run Time: 19866\n",
       "Simulation started\n",
       "Result value: 27146\n",
       "Run Time: 20714\n",
       "```"
      ],
      "text/plain": [
       "<IPython.core.display.Markdown object>"
      ]
     },
     "execution_count": 13,
     "metadata": {},
     "output_type": "execute_result"
    }
   ],
   "source": [
    "demo_cmd(['cat rundir_*/logfile > combined_logs', 'cat combined_logs'])"
   ]
  },
  {
   "cell_type": "markdown",
   "id": "7e2ae3be",
   "metadata": {
    "tags": [
     "remove_cell"
    ]
   },
   "source": [
    "## Bash Tips\n",
    "\n",
    "**TODO redirect stdout + stderr, tee command**\n",
    "\n",
    "**TODO monitor changes**\n",
    "\n",
    "**Keyboard shortcuts**\n",
    "\n",
    "**Pipes**\n",
    "\n",
    "To forward the output of an command to be the input of an other, pipes `|` are used:\n",
    "```\n",
    "find . -mtime -15m -type f | grep -i info | wc -l\n",
    "```\n",
    "\n",
    "**Background jobs**\n",
    "\n",
    "\n",
    "Commands may be executed in background by appending a `&` at the end:\n",
    "\n",
    "```\n",
    "./a.out &\n",
    "```\n",
    "\n",
    "The command `ps` prints all running processes in current terminal and `ps aux` shows all processes on the system.\n",
    "\n",
    "**Archives (tar, zip)**\n",
    "\n",
    "**Remote shell**"
   ]
  },
  {
   "cell_type": "markdown",
   "id": "efd4fe3a",
   "metadata": {
    "tags": []
   },
   "source": [
    "## Bash Programming"
   ]
  },
  {
   "cell_type": "markdown",
   "id": "3cf9b5bf",
   "metadata": {},
   "source": [
    "Just as a starting point, a few examples on how to do looping and branchig in a bash script are shown here. \n",
    "\n",
    "A shell script can be executed either\n",
    "* with an explicit call of `sh` or `bash`, or\n",
    "* as an executable file with a hash-bang line as a first line in the file.\n",
    "\n",
    "A shell script is a simple text file with a sequence of commands in it. They are mostly used to prevent explicit typing of command chains and to automate processing. A script may access all environment variables and define new ones. Some special variables are:\n",
    "* `$#`: number of arguments passed\n",
    "* `$@`: all passed arguments\n",
    "* `$1`, `$2`, ...: the first, second argument\n"
   ]
  },
  {
   "cell_type": "markdown",
   "id": "b24b308a",
   "metadata": {},
   "source": [
    "**Example:** Simple loop over all files and directroies.\n",
    "\n",
    "*Script listing:*\n",
    "```{literalinclude} dir_structure_01/for-loop.sh\n",
    ":language: bash\n",
    "```\n",
    "\n",
    "*Execution example:*"
   ]
  },
  {
   "cell_type": "code",
   "execution_count": 14,
   "id": "380ddf66",
   "metadata": {
    "tags": [
     "remove_input"
    ]
   },
   "outputs": [
    {
     "data": {
      "text/markdown": [
       "```none\n",
       "> bash for-loop.sh\n",
       "Found directory element:  combined_logs\n",
       "Found directory element:  doc01.md\n",
       "Found directory element:  doc02.txt\n",
       "Found directory element:  doc03.md\n",
       "Found directory element:  doc04.txt\n",
       "Found directory element:  doc05.txt\n",
       "Found directory element:  for-loop.sh\n",
       "Found directory element:  if-statement.sh\n",
       "Found directory element:  info.txt\n",
       "Found directory element:  rundir_01\n",
       "Found directory element:  rundir_02\n",
       "Found directory element:  rundir_03\n",
       "Found directory element:  rundir_04\n",
       "Found directory element:  rundir_05\n",
       "Found directory element:  rundir_06\n",
       "Found directory element:  rundir_07\n",
       "Found directory element:  rundir_08\n",
       "Found directory element:  rundir_09\n",
       "Found directory element:  rundir_10\n",
       "Found directory element:  rundir_11\n",
       "Found directory element:  rundir_12\n",
       "Found directory element:  rundir_13\n",
       "Found directory element:  rundir_14\n",
       "Found directory element:  rundir_15\n",
       "```"
      ],
      "text/plain": [
       "<IPython.core.display.Markdown object>"
      ]
     },
     "execution_count": 14,
     "metadata": {},
     "output_type": "execute_result"
    }
   ],
   "source": [
    "demo_cmd('bash for-loop.sh')"
   ]
  },
  {
   "cell_type": "markdown",
   "id": "10832c7e",
   "metadata": {},
   "source": [
    "**Example:** Simple if-statement to check for the existance of a file.\n",
    "\n",
    "*Script listing:*\n",
    "```{literalinclude} dir_structure_01/if-statement.sh\n",
    ":language: bash\n",
    "```\n",
    "\n",
    "*Execution examples:*"
   ]
  },
  {
   "cell_type": "code",
   "execution_count": 15,
   "id": "f96d448b",
   "metadata": {
    "tags": [
     "remove_input"
    ]
   },
   "outputs": [
    {
     "data": {
      "text/markdown": [
       "```none\n",
       "> bash if-statement.sh nice-file\n",
       "Checking for file: nice-file\n",
       "File does not exists\n",
       "```"
      ],
      "text/plain": [
       "<IPython.core.display.Markdown object>"
      ]
     },
     "execution_count": 15,
     "metadata": {},
     "output_type": "execute_result"
    }
   ],
   "source": [
    "demo_cmd('bash if-statement.sh nice-file')"
   ]
  },
  {
   "cell_type": "code",
   "execution_count": 16,
   "id": "6d1c5066",
   "metadata": {
    "tags": [
     "remove_input"
    ]
   },
   "outputs": [
    {
     "data": {
      "text/markdown": [
       "```none\n",
       "> bash if-statement.sh info.txt\n",
       "Checking for file: info.txt\n",
       "File exists\n",
       "```"
      ],
      "text/plain": [
       "<IPython.core.display.Markdown object>"
      ]
     },
     "execution_count": 16,
     "metadata": {},
     "output_type": "execute_result"
    }
   ],
   "source": [
    "demo_cmd('bash if-statement.sh info.txt')"
   ]
  },
  {
   "cell_type": "markdown",
   "id": "94d05eed-a15a-4c3f-adc2-eb216fb32cab",
   "metadata": {
    "tags": []
   },
   "source": [
    "## Advanced"
   ]
  },
  {
   "cell_type": "markdown",
   "id": "3d03c6b5-5362-40c0-860b-5692f23339c4",
   "metadata": {},
   "source": [
    "### Git and GitHub\n",
    "\n",
    "GitHub is a web hosting service for distributed version control using Git. Git allows collaborative software development, while keeping track of changes to the code. This code can be hosted in open-access repositories via GitHub, like the [FDS repository](https://github.com/firemodels/fds) for example. Operating systems like Linux or MacOS often come with Git integrated and can directly be used from the terminal. Windows users might need to install an application, for example the graphical user interface [GitHub Desktop](https://desktop.github.com/) or the lightweight [git for windows](https://gitforwindows.org/). \n",
    "\n",
    "\n",
    "Version control systems allow the creation of [branches](https://git-scm.com/book/en/v2/Git-Branching-Branches-in-a-Nutshell) to the code base, as well as keeping track of [individual changes](https://git-scm.com/docs/git-commit). Branches can be used to implement new features, solve bugs or further the development of new software versions, without affecting the stable version. Commits are incremental changes to the code itself. At any given time the user can change the branches and commits to work with specific versions of the software. On the web page of the repository there are a couple of tabs at the top of the page. On the right hand side is the tab “Insights”. Clicking on it and then on the left hand side “Network” gives a brief graphical overview over commits and branches.\n",
    "Typically, the user would clone the repository to their computer, work on the software locally, collect changes into commits and push these changes to the online repository later on. One can also download the repository as a zip archive. \n",
    "\n",
    "To clone a repository, in the terminal navigate to a directory where you would like it to be stored. With Git installed the command `git clone link/to/repo` in the command line will fetch the data from the online repository and clone it to the desired location. The address of the repository can easily be taken from the respective web page. Just click on the green button on the top right labelled “Code”. A dropdown menu opens from which the link to the repo can be copied. \n",
    "With `git checkout branch_label` one can change to a different branch. When only `git checkout` is typed and one hits the Tab-key all available branch labels are shown. Furthermore, individual commits can be loaded by using the commit instead of the branch `git checkout commit_id`. \n"
   ]
  },
  {
   "cell_type": "markdown",
   "id": "861d024e-c641-49cf-8683-c6ee08c03ebf",
   "metadata": {},
   "source": [
    "### Compile software from Git repo\n",
    "\n",
    "\n",
    "It may be necessary for users to compile necessary software themselves. For example, to account for the pre-installed libraries and dependencies on the target system. It also happens that one might need a specific software version that is not available in a package or with an installer. Consider the ongoing development of FDS. New functionality could be added that you might want to try out or a change is implemented that might be beneficial for your work. Or maybe you want to compare simulation results to older versions. \n",
    "\n",
    "The source code of FDS can be downloaded from the [FDS GitHub repository](https://github.com/firemodels/fds), following the green button at the top right on the main page of the git repo. One can download it as a compressed archive or clone the repo directly to disk, using `git clone address/of/repo` in the command line. \n",
    "\n",
    "In the directory `Build` is a `README.md` file located (`*.md` is a plain text file to be interpreted as [Markdown](https://www.markdownguide.org/)). It contains some information on the compilation process of FDS. Detailed instructions are given in the `makefile` for different operating systems and MPI versions. \n"
   ]
  },
  {
   "cell_type": "code",
   "execution_count": null,
   "id": "c2ad2764-6e36-4c87-b672-9e44b47168de",
   "metadata": {},
   "outputs": [],
   "source": []
  }
 ],
 "metadata": {
  "kernelspec": {
   "display_name": "Python 3 (ipykernel)",
   "language": "python",
   "name": "python3"
  },
  "language_info": {
   "codemirror_mode": {
    "name": "ipython",
    "version": 3
   },
   "file_extension": ".py",
   "mimetype": "text/x-python",
   "name": "python",
   "nbconvert_exporter": "python",
   "pygments_lexer": "ipython3",
   "version": "3.10.4"
  }
 },
 "nbformat": 4,
 "nbformat_minor": 5
}
