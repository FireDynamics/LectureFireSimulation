{
 "cells": [
  {
   "cell_type": "markdown",
   "id": "5855e195",
   "metadata": {},
   "source": [
    "# Example – Pool Fire"
   ]
  },
  {
   "cell_type": "markdown",
   "id": "5a300a48",
   "metadata": {},
   "source": [
    "## Introduction\n",
    "\n",
    "This example illustrates the setup and analysis of a minimalistic FDS simulation. A simple pool fire with a fixed heat release rate is computed. "
   ]
  },
  {
   "cell_type": "markdown",
   "id": "0e8563c3",
   "metadata": {},
   "source": [
    "## Setup\n",
    "\n",
    "The scenario is a pool fire with a heat release rate of $\\small\\sf 1~MW$ and a surface area of $\\small\\sf 1~m^2$ is located centraly at the floor, i.e. $\\small\\sf z=0~m$. The extension of the compuatational domain is \n",
    "\n",
    "$$\\small\\sf [-2.5~m, 2.5~m] \\times [-2.5~m, 2.5~m] \\times [0~m, 10~m]$$ \n",
    "\n",
    "with a grid resolution of $\\small\\sf 0.1~m$."
   ]
  },
  {
   "cell_type": "markdown",
   "id": "025a290d",
   "metadata": {},
   "source": [
    "## FDS Input File"
   ]
  },
  {
   "cell_type": "markdown",
   "id": "46d2d70d",
   "metadata": {},
   "source": [
    "```{literalinclude} ../../../../data/pool_fire/basic/pool_fire_basic.fds\n",
    "```"
   ]
  },
  {
   "cell_type": "markdown",
   "id": "112dbfb2",
   "metadata": {},
   "source": [
    "**TODO:** Description of the input file. "
   ]
  },
  {
   "cell_type": "markdown",
   "id": "23f1d361",
   "metadata": {},
   "source": [
    "## SMV Visualisation"
   ]
  },
  {
   "cell_type": "markdown",
   "id": "ae0283f0",
   "metadata": {},
   "source": [
    ":::{figure-md} fig-pool-fire-smv-plain\n",
    "\n",
    "<img src=\"figs/pool_fire_smv_plain.png\" width=\"60%\">\n",
    "\n",
    "SMV visualisation of the geometry. The surface patch `BURNER`, which has a `HRRPUA` defined, is colored redish.  \n",
    ":::\n",
    "\n",
    ":::{figure-md} fig-pool-fire-smv-grid\n",
    "\n",
    "<img src=\"figs/pool_fire_smv_grid.png\" width=\"60%\">\n",
    "\n",
    "SMV visualisation of the grid in the y-z-plane.\n",
    ":::\n",
    "\n",
    ":::{figure-md} fig-pool-fire-smv-slcf\n",
    "\n",
    "<img src=\"figs/pool_fire_smv_slcf.png\" width=\"60%\">\n",
    "\n",
    "SMV visualisation of the instanteneous ($\\sf t=19.63~s$) temperature values in the y-z-slice $\\sf y=0~m$.\n",
    ":::"
   ]
  },
  {
   "cell_type": "markdown",
   "id": "b3c57677",
   "metadata": {},
   "source": [
    "## Analysis"
   ]
  },
  {
   "cell_type": "code",
   "execution_count": 75,
   "id": "60a1f90f",
   "metadata": {
    "tags": [
     "hide_cell"
    ]
   },
   "outputs": [],
   "source": [
    "import fdsreader as fds\n",
    "import numpy as np\n",
    "import matplotlib.pyplot as plt\n",
    "\n",
    "plt.rcParams['figure.dpi'] = 150\n",
    "\n",
    "root = '../../../../'\n",
    "data_root = root + 'data/pool_fire/basic/rundir'\n",
    "\n",
    "sim = fds.Simulation(data_root)"
   ]
  },
  {
   "cell_type": "code",
   "execution_count": 76,
   "id": "39a8b9b9",
   "metadata": {
    "tags": [
     "hide_cell"
    ]
   },
   "outputs": [],
   "source": [
    "slice = sim.slices[0]\n",
    "time = 19.63\n",
    "time_index = slice.get_nearest_timestep(time)\n",
    "\n",
    "fig = plt.figure(figsize=(10,5))\n",
    "plt.imshow(slice[0].data[time_index].T, origin='lower', \n",
    "           extent=slice[0].extent.as_list(), cmap='Oranges')\n",
    "plt.xlabel(\"x / m\")\n",
    "plt.ylabel(\"z / m\")\n",
    "plt.colorbar(label='Temperature / C')\n",
    "plt.savefig('figs/temperature.svg', bbox_inches='tight')\n",
    "plt.close()"
   ]
  },
  {
   "cell_type": "markdown",
   "id": "909ee2cd",
   "metadata": {},
   "source": [
    "**TODO:** alternative representation with Python."
   ]
  },
  {
   "cell_type": "markdown",
   "id": "b8c1d64a",
   "metadata": {},
   "source": [
    ":::{figure-md} fig-pool-fire-temp-slice\n",
    "\n",
    "<img src=\"figs/temperature.svg\" width=\"60%\">\n",
    "\n",
    "Visualisation of the instanteneous ($\\sf t=19.63~s$) temperature values in the y-z-slice $\\sf y=0~m$.\n",
    ":::"
   ]
  },
  {
   "cell_type": "code",
   "execution_count": 74,
   "id": "9e396262",
   "metadata": {
    "tags": [
     "hide_cell"
    ]
   },
   "outputs": [],
   "source": [
    "plt.plot(sim.hrr[\"Time\"], sim.hrr[\"HRR\"], label='simulation')\n",
    "t_min_max = [sim.hrr[\"Time\"][0], sim.hrr[\"Time\"][-1]]\n",
    "hrr_prescribed = 1000\n",
    "plt.plot(t_min_max, [hrr_prescribed, hrr_prescribed], label='prescribed')\n",
    "plt.legend()\n",
    "plt.xlabel('time / s')\n",
    "plt.ylabel('heat release rate / kW')\n",
    "plt.savefig('figs/pool_fire_hrr.svg', bbox_inches='tight')\n",
    "plt.close()"
   ]
  },
  {
   "cell_type": "markdown",
   "id": "d4d03d35",
   "metadata": {},
   "source": [
    "**TODO:** Discusson of the HRR curve in {numref}`fig-pool-fire-hrr`"
   ]
  },
  {
   "cell_type": "markdown",
   "id": "286e2fdd",
   "metadata": {},
   "source": [
    ":::{figure-md} fig-pool-fire-hrr\n",
    "\n",
    "<img src=\"figs/pool_fire_hrr.svg\" width=\"80%\">\n",
    "\n",
    "Prescribed and modelled heat release rate as a function of time.\n",
    ":::"
   ]
  },
  {
   "cell_type": "markdown",
   "id": "0578d119",
   "metadata": {},
   "source": [
    "## Task I – Basics\n",
    "\n",
    "The goal of this task is to become familiar with basic functions. Use the above listed input file and extend it.\n",
    "\n",
    "```{tip} When adding new diagnostics or other elements, it is useful to reduce the computing time to allow for a fast turn-over-time. This way debugging or adjusting your setup will be more efficient. For pure geometrical checks, the simulaiton time can also be set to zero.  \n",
    "```\n",
    "\n",
    "```{tip} Table 21.3 in the [FDS User's Guide](https://github.com/firemodels/fds/releases/download/FDS6.7.5/FDS_User_Guide.pdf) provides a summary of frequently used output quantities.  \n",
    "```\n",
    "\n",
    "**Useful steps to consider first:**\n",
    "\n",
    "1. Reduce the computing time to $\\small\\sf t_{end} = 5~s$.\n",
    "1. Add a z-velocity slice at $\\small\\sf y=0~m$.\n",
    "1. Increase the heat release rate to $\\small\\sf 5~MW$.\n",
    "\n",
    "**Task:**\n",
    "\n",
    "Compare the z-velocity slices for heat release rates of $\\small\\sf 100~kW$, $\\small\\sf 1~MW$ and $\\small\\sf 10~MW$. Create snapshots for three points in time, e.g. $\\small\\sf 10~s$, $\\small\\sf 75~s$ and $\\small\\sf 150~s$."
   ]
  },
  {
   "cell_type": "markdown",
   "id": "c354d851",
   "metadata": {},
   "source": [
    "## Task II – Mean Profiles\n",
    "\n",
    "* v_z profile along z-axis as function of HRR\n",
    "* temperature stratification \n",
    "* DEVC, individual, line\n",
    "* analysis of SLCF\n",
    "* mean + stddev"
   ]
  },
  {
   "cell_type": "markdown",
   "id": "836b096b",
   "metadata": {},
   "source": [
    "## Task III – Soot Production\n",
    "\n",
    "* add a soot yield to the combustion reaction\n",
    "* describe the development of the smoke layer"
   ]
  },
  {
   "cell_type": "markdown",
   "id": "f896a1bf",
   "metadata": {},
   "source": [
    "## Task IV – Time-dependent Heat Release Rate\n",
    "\n",
    "* use the RAMP function to define a time dependent function\n",
    "* open boundaries"
   ]
  },
  {
   "cell_type": "markdown",
   "id": "eb22eb59",
   "metadata": {},
   "source": [
    "## Task V – Grid Convergence\n",
    "\n",
    "* pick an observable, e.g. velocity profile\n",
    "* increase the grid resolution by factors of 0.5, 2 and 4\n",
    "* monitor the computing time, see .out file\n",
    "* use a parallel computer for factors of 8 and 16, including multiple meshes "
   ]
  }
 ],
 "metadata": {
  "kernelspec": {
   "display_name": "Python 3",
   "language": "python",
   "name": "python3"
  },
  "language_info": {
   "codemirror_mode": {
    "name": "ipython",
    "version": 3
   },
   "file_extension": ".py",
   "mimetype": "text/x-python",
   "name": "python",
   "nbconvert_exporter": "python",
   "pygments_lexer": "ipython3",
   "version": "3.8.6"
  }
 },
 "nbformat": 4,
 "nbformat_minor": 5
}
