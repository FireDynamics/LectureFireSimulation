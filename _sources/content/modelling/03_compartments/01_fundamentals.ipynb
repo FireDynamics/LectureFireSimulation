{
 "cells": [
  {
   "cell_type": "markdown",
   "id": "3d6c31b3-f832-4280-b004-8fb2dbba54fb",
   "metadata": {},
   "source": [
    "# Fundamentals\n",
    "\n",
    "In fire safety engineering, compartment fires are a very important topic. The development of a fire in a compartment determines the energy release and the spread of smoke through a building. \n",
    "\n",
    "The spread of smoke has a direct impact on the safety of the occupants. \n",
    "It blocks peoples view, preventing them from seeing exit sign and make them loose their orientation, thus hindereing them to leave the building. Reduced oxygen levels and toxic substances in the smoke can incapacitate people. High gas temperatures lead to injuries and eventually death. \n",
    "\n",
    "The smoke impacts also the intervention measures taken by the fire brigade. Despite wearing protective clothing and breathing apparatuses, their orientation is impacted and high temperatures are affecting them. \n",
    "\n",
    "The high temperature gases are furthermore instrumental in spreading the fire to combustible objects nearby. Phenomena like the flashover lead to rapid fire growth inside compartments (see video from [NIST](https://www.nist.gov/el/fire-research-division-73300/flammability-reduction-73304/low-heat-release-upholstered-1) below). \n",
    "\n",
    "The structure of a building will loose its integrity, when subjected to long periods of high temperatures. Loss of the structural integrity will eventually lead to the collapse of the building. "
   ]
  },
  {
   "cell_type": "code",
   "execution_count": 1,
   "id": "6e1b9fd9-d46d-4e9f-9571-9c64ca8c7607",
   "metadata": {},
   "outputs": [
    {
     "data": {
      "text/html": [
       "\n",
       "        <iframe\n",
       "            width=\"560\"\n",
       "            height=\"315\"\n",
       "            src=\"https://cdnapisec.kaltura.com/p/684682/sp/68468200/embedIframeJs/uiconf_id/31013851/partner_id/684682?iframeembed=true&playerId=iframeVid&entry_id=0_nm11i0l0&flashvars[streamerType]=auto\"\n",
       "            frameborder=\"0\"\n",
       "            allowfullscreen\n",
       "            \n",
       "        ></iframe>\n",
       "        "
      ],
      "text/plain": [
       "<IPython.lib.display.IFrame at 0x75f1adf2f490>"
      ]
     },
     "execution_count": 1,
     "metadata": {},
     "output_type": "execute_result"
    }
   ],
   "source": [
    "from IPython.display import IFrame\n",
    "# Video from NIST.\n",
    "IFrame('https://cdnapisec.kaltura.com/p/684682/sp/68468200/embedIframeJs/uiconf_id/31013851/partner_id/684682?iframeembed=true&playerId=iframeVid&entry_id=0_nm11i0l0&flashvars[streamerType]=auto', \n",
    "       560, 315)"
   ]
  },
  {
   "cell_type": "markdown",
   "id": "4d872451-a127-49db-a6cd-1427a322ade7",
   "metadata": {},
   "source": [
    "Deeper understanding of various phenomena involved in compartment fires  can help to create better building designs. Therefore, compartment fires are subject of scientific research since many decades. \n",
    "\n",
    "Aspects that are of importance here, are:\n",
    "- how fast a fire can grow\n",
    "- how much energy it releases\n",
    "- how far the smoke layer extents from the ceiling into the room\n",
    "- the temperatures in the smoke layer\n",
    "- how the builing structure heats up\n",
    "\n",
    "A good overview of the modelling principles of compartment fires is given in the book \"Enclosure Fire Dynamics\" by Karlsson and Quinitere {cite}`Karlsson.1999`. We take some of the aspects described in this book, as well as some fundamental experiments in the field of fire safety engineering, and discuss them in context of this lecture.\n",
    "\n",
    "At first, we look fire plumes, since fires are the driving force of the whole process. In 1979, McCaffrey conducted a campaign of fire plume experiments in the open {cite}`McCaffrey.1979`, which are described in the report about [\"Purely Buoyant Diffusion Flames\"](https://nvlpubs.nist.gov/nistpubs/Legacy/IR/nbsir79-1910.pdf). From these experiments, a plume model was derived, the \"McCaffrey plume\".\n",
    "These plume experiments and respective models are a good starting point to modelling compartment fires. The provide an overview the of gas mass flow and gas temperatures at different distances to the burner surface.\n",
    "\n",
    "Secondly, we look at the fire dynamics inside a room. In 1982, Steckler et al. performed a number of experiments inside a regular-sized compartment ($\\mf 2.8~m \\times 2.8~m \\times 2.18~m$) {cite}`Steckler.1982`.\n",
    "Using gas burners at different locations, they investigated the flow field.\n",
    "Their findings are recorded in the report [\"Flow Induced by Fire in a Compartment\"](https://nvlpubs.nist.gov/nistpubs/Legacy/IR/nbsir82-2520.pdf).\n",
    "This work provides information about the formtion of gas layers inside a room, gas exchange rates across openings and temperature distribution over the height of the room.\n",
    "\n",
    "\n",
    "\n",
    ":::{figure-md} fig-Steckler01\n",
    "\n",
    "<img src=\"figs/Steckler01.png\" width=\"60%\">\n",
    "\n",
    "Overview over the experimental setup used by Steckler et al. {cite}`Steckler.1982`.\n",
    ":::\n",
    "\n",
    "\n",
    "Firgure {numref}`fig-Steckler01` provides an overview of the gas flows in a compartment. Indicated are a fire plume feeding a hot gas layer, gas exchange through an opening on the right hand side and a temperature profile over the room height on the left hand side.\n",
    "\n",
    "\n",
    "\n",
    "<!-- \n",
    ":::{figure-md} fig-Steckler02\n",
    "\n",
    "<img src=\"figs/Steckler02.png\" width=\"60%\">\n",
    "\n",
    "Overview over the experimental setup used by Steckler et al. {cite}`Steckler.1982`.\n",
    "::: -->\n"
   ]
  },
  {
   "cell_type": "markdown",
   "id": "664a389f-8d75-47b2-89e6-8e73c79eeb75",
   "metadata": {},
   "source": []
  },
  {
   "cell_type": "markdown",
   "id": "8aa10276-34b6-4c9d-bbcd-f2ea4024bf91",
   "metadata": {},
   "source": []
  },
  {
   "cell_type": "code",
   "execution_count": null,
   "id": "082762f5-e47c-4c22-b7ab-a82ebe91a959",
   "metadata": {},
   "outputs": [],
   "source": []
  },
  {
   "cell_type": "code",
   "execution_count": null,
   "id": "96529e6b-a705-4f97-8f6a-ac0e969c1b77",
   "metadata": {},
   "outputs": [],
   "source": []
  },
  {
   "cell_type": "code",
   "execution_count": null,
   "id": "49094f70-4ed5-442e-8b1c-dc289062889b",
   "metadata": {},
   "outputs": [],
   "source": []
  }
 ],
 "metadata": {
  "kernelspec": {
   "display_name": "Python 3 (ipykernel)",
   "language": "python",
   "name": "python3"
  },
  "language_info": {
   "codemirror_mode": {
    "name": "ipython",
    "version": 3
   },
   "file_extension": ".py",
   "mimetype": "text/x-python",
   "name": "python",
   "nbconvert_exporter": "python",
   "pygments_lexer": "ipython3",
   "version": "3.10.12"
  }
 },
 "nbformat": 4,
 "nbformat_minor": 5
}
