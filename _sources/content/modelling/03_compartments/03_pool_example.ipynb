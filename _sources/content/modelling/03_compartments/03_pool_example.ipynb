{
 "cells": [
  {
   "cell_type": "code",
   "execution_count": 1,
   "id": "f56b74a9-3223-4425-a018-3fba1942dbbd",
   "metadata": {
    "editable": true,
    "slideshow": {
     "slide_type": ""
    },
    "tags": [
     "hide-cell"
    ]
   },
   "outputs": [],
   "source": [
    "# import numpy as np\n",
    "# import matplotlib.pyplot as plt\n",
    "# import fdsreader\n",
    "\n",
    "# # Set the matplotlib output to svg\n",
    "# from IPython.display import set_matplotlib_formats\n",
    "# set_matplotlib_formats('svg')\n",
    "\n",
    "import matplotlib.pyplot as plt\n",
    "# params = {'mathtext.default': 'regular' }\n",
    "# params = {'text.usetex': True, 'font.family': 'sans-serif', 'figure.dpi': 400}\n",
    "# params = {'text.usetex': True, 'figure.dpi': 400}\n",
    "# plt.rcParams.update(params)\n",
    "\n",
    "import matplotlib as mpl\n",
    "mpl.rcParams['svg.hashsalt'] = 'seed'\n",
    "svg_metadata={'Date':None}\n",
    "\n",
    "# plt.rcParams['text.latex.preamble'] = [\n",
    "#        r'\\usepackage{siunitx}',   # i need upright \\micro symbols, but you need...\n",
    "#        r'\\sisetup{detect-all}',   # ...this to force siunitx to actually use your fonts\n",
    "#        r'\\usepackage{helvet}',    # set the normal font here\n",
    "#        r'\\usepackage{sansmath}',  # load up the sansmath so that math -> helvet\n",
    "#        r'\\sansmath'               # <- tricky! -- gotta actually tell tex to use!\n",
    "# ]\n",
    "\n",
    "import numpy as np\n",
    "import seaborn as sns\n",
    "\n",
    "sns.set()\n",
    "#sns.set(style=\"whitegrid\")\n",
    "sns.set_style('ticks')\n",
    "sns.set_context(\"notebook\", font_scale=1.0, rc={\"lines.linewidth\": 1.5})\n",
    "\n",
    "import os\n",
    "# check for set environment variable JB_NOSHOW\n",
    "show = True\n",
    "if 'JB_NOSHOW' in os.environ:\n",
    "    show = False\n",
    "\n",
    "import fdsreader"
   ]
  },
  {
   "attachments": {},
   "cell_type": "markdown",
   "id": "bcdec027-c3f4-45e3-a21a-066505c7ceb5",
   "metadata": {
    "editable": true,
    "slideshow": {
     "slide_type": ""
    },
    "tags": []
   },
   "source": [
    "# Example – Pool Fire"
   ]
  },
  {
   "attachments": {},
   "cell_type": "markdown",
   "id": "623e8379-d7ea-4448-a081-c6835bcbe937",
   "metadata": {
    "editable": true,
    "slideshow": {
     "slide_type": ""
    },
    "tags": []
   },
   "source": [
    "## Introduction\n",
    "\n",
    "Pool fires are interesting for studying fire development, because they are relatively easy to handle. One needs a fireproof pan, for example made out of steel sheets, and fill in a combustible liquid. Shortly after ignition, it reaches a quasi steady-state, due to the evaporation of the liquid. One of the shortcomings of pool fires is their limited fuel supply. This is one of the reasons why gas burners are often used in fire experiments. That, and the good reproducibility associated with gas burners as ignition source. Also in FDS, most pool fire simulations are modelled as gas burners ([see Section \"11.4 Simple Pyrolysis Models\" in the FDS User's Guide](https://github.com/firemodels/fds/releases/tag/FDS6.7.5)).\n",
    "\n",
    "This example illustrates the setup and analysis of a minimalist FDS simulation. Starting from a simple pool fire with a fixed heat release rate, the model is extended by various parameters. The results are then validated by comparison with simple analytical methods.\n"
   ]
  },
  {
   "attachments": {},
   "cell_type": "markdown",
   "id": "535127a3-ecad-468e-93bf-78fbd0dd631c",
   "metadata": {
    "tags": []
   },
   "source": [
    "## Setup\n",
    "\n",
    "A pool fire scenario is considered as an example of a FDS simulation. The pool surface area is $\\mf 1~m^2$ and it is located at $\\mf z = 0$. The heat release rate of the fire is $\\mf 10~MW$. The lateral and top boundaries of the simulation domain are sealed and the extension of the computational domain is\n",
    "\n",
    "$$\\mf [-2.5~m, 2.5~m] \\times [-2.5~m, 2.5~m] \\times [0~m, 10~m]$$ \n",
    "\n",
    "with a grid resolution of $\\mf 0.2~m$.\n",
    "\n",
    "[comment]: <> (The setup is built based on the dimensions presented in the report referenced above. A methane burner with a heat release rate of $\\mf 14.4 kW$ is considered as a start. The burner dimensions are $\\mf 0.30 m x 0.30 m$ and its suface is positioned 0.72 m above the floor. The lateral and top boundaries of the simulation domain are open. The extension of the computational domain is)"
   ]
  },
  {
   "attachments": {},
   "cell_type": "markdown",
   "id": "05083850",
   "metadata": {
    "editable": true,
    "slideshow": {
     "slide_type": ""
    },
    "tags": []
   },
   "source": [
    "## FDS Input File"
   ]
  },
  {
   "attachments": {},
   "cell_type": "markdown",
   "id": "71f48826",
   "metadata": {
    "editable": true,
    "slideshow": {
     "slide_type": ""
    },
    "tags": []
   },
   "source": [
    "Parameters in the FDS input file are specified by using namelist formatted records. Each namelist record begins with the ampersand character \"&\", followed by the name of the namelist group, then a comma-delimited list of the input parameters, and finally a forward slash \"/\".\n",
    "\n",
    "```{tip} Table 21.3 in the [FDS User's Guide](https://github.com/firemodels/fds/releases/download/FDS6.7.5/FDS_User_Guide.pdf) provides a summary of frequently used output quantities.  \n",
    "```\n",
    "\n",
    "A simple and commented input file that can serve as a starting point for the following exercise looks like this:"
   ]
  },
  {
   "attachments": {},
   "cell_type": "markdown",
   "id": "cdbc7033",
   "metadata": {
    "editable": true,
    "slideshow": {
     "slide_type": ""
    },
    "tags": []
   },
   "source": [
    "```{literalinclude} ../../../../data/pool_fire/misc/pool_fire_basic_comments.fds\n",
    "```"
   ]
  },
  {
   "attachments": {},
   "cell_type": "markdown",
   "id": "aec706fe",
   "metadata": {
    "editable": true,
    "slideshow": {
     "slide_type": ""
    },
    "tags": []
   },
   "source": [
    "## SMV Visualisation\n",
    "\n",
    "The computational domain including boundary conditions, obstructions and the results for the respective output variables of the FDS simulation can be displayed with the Smokeview post-processor."
   ]
  },
  {
   "attachments": {},
   "cell_type": "markdown",
   "id": "7cc6bac8",
   "metadata": {
    "editable": true,
    "slideshow": {
     "slide_type": ""
    },
    "tags": []
   },
   "source": [
    ":::{figure-md} fig-pool-fire-smv-plain\n",
    "\n",
    "<img src=\"figs/pool_fire_all.png\" width=\"100%\">\n",
    "\n",
    "SMV visualization of the geometry / the mesh-grid in the y-z-plane / the temperature values in the y-z-slice at  $\\sf y=0~m$ ($\\sf t=19.63~s$). The surface patch `BURNER`, which has a `HRRPUA` defined, is colored redish.  \n",
    ":::"
   ]
  },
  {
   "attachments": {},
   "cell_type": "markdown",
   "id": "64472d67",
   "metadata": {
    "editable": true,
    "slideshow": {
     "slide_type": ""
    },
    "tags": []
   },
   "source": [
    "## Analysis\n",
    "\n",
    "The following tasks are intended to provide a general understanding of how to use FDS and SmokeView. They cover the basic functions and the analysis of the simulation results. The FDS input case described above can serve as a starting point.\n",
    "\n",
    "```{tip} Read the entire task before starting a simulation to capture multiple output parameters in a single run. \n",
    "```"
   ]
  },
  {
   "attachments": {},
   "cell_type": "markdown",
   "id": "f3a31dee-3574-4c74-95b1-f2c2f90def71",
   "metadata": {
    "editable": true,
    "slideshow": {
     "slide_type": ""
    },
    "tags": []
   },
   "source": [
    "## Task I – Basics\n",
    "\n",
    "The goal of this task is to become familiar with basic functions. Use the above listed input file and extend it to your needs. \n",
    "\n",
    "```{tip} When adding new diagnostics or other elements, it is useful to reduce the computing time to allow for a fast turn-over-time. This way debugging or adjusting your setup will be more efficient. For pure geometrical checks, the simulation time can also be set to zero.  \n",
    "```\n",
    "\n",
    "\n",
    "**Task:**\n",
    "\n",
    "1. Add a temperature slice at $\\mf y=0~m$ and watch the output via smokeview. Change the output by varying the color scaling and crop the data at an upper and lower boundary. Create snapshots for three points in time, e.g. $\\mf 5~s$, $\\mf 10~s$ and $\\mf 20~s$. Add appropriate axes labels to the smokeview output to check the slice orientation. Refer to section 5.2 \"Data Bounds\" and 14.4 \"TICKS and LABEL keywords\" of [Smokeview User's Guide](https://github.com/firemodels/fds/releases/download/FDS6.7.6/SMV_User_Guide.pdf) for more information on how to change the output properties of slices. \n",
    "\n",
    "2. Visualize the velocity vector field in the plume axis at $\\mf t \\approx 20~s$ for $\\mf y=0~m$.\n",
    "    * Extra task: Open the sealed domain on at least one side and observe the change in the flow field. \n",
    "\n",
    "3. Plot the computed heat release rate (HRR) from the pool_fire_hrr.csv file against the given input HRR of the FDS file. Discuss the differences and what these are related to. Run simulations for HRR of $\\mf 100~kW$, $\\mf 1~MW$ and $\\mf 10~MW$.\n",
    "\n",
    "**1. Solution**"
   ]
  },
  {
   "attachments": {},
   "cell_type": "markdown",
   "id": "bd9e48ca",
   "metadata": {
    "editable": true,
    "slideshow": {
     "slide_type": ""
    },
    "tags": []
   },
   "source": [
    ":::{figure-md} fig-pool-fire-temp-timesteps\n",
    "\n",
    "<img src=\"figs/pool_fire_temp_timesteps.png\" width=\"100%\">\n",
    "\n",
    "Visualization of the instantaneous `TEMPERATURE` values in the x-z-level at $\\mf y=0~m$ for different timesteps ($\\mf t=5.03~s$), ($\\mf t=10.03~s$), ($\\mf t=20.03~s$) The attribute `CELL_CENTERED`, prevents the values between the cell boundaries from being interpolated.\n",
    ":::\n",
    "\n",
    ":::{figure-md} fig-pool-fire-temp-bounds-trunc\n",
    "\n",
    "<img src=\"figs/pool_fire_temp_bounds_trunc.png\" width=\"100%\">\n",
    "\n",
    "Visualization of the instantaneous `TEMPERATURE` values in the x-z-slice at $\\mf y=0~m$ at ($\\mf t=19.63~s$) The upper data bound is set to 1200 and 800. The data is truncated beyond 100.\n",
    ":::\n",
    "Alternatively, the `SLCF` can be analyzed with the **fdsreader**."
   ]
  },
  {
   "cell_type": "code",
   "execution_count": 5,
   "id": "3e311712",
   "metadata": {
    "editable": true,
    "slideshow": {
     "slide_type": ""
    },
    "tags": [
     "hide-cell"
    ]
   },
   "outputs": [],
   "source": [
    "data_root = 'data'\n",
    "data_dir = os.path.join(data_root, 'pool_fire', '1mw_sealed')\n",
    "sim = fdsreader.Simulation(data_dir)\n",
    "slice_temp = sim.slices[0]\n",
    "time = 20\n",
    "time_index = slice_temp.get_nearest_timestep(time)\n",
    "\n",
    "plt.figure(figsize=(4,6))\n",
    "plt.imshow(slice_temp[0].data[time_index].T, origin='lower', \n",
    "           extent=slice_temp[0].extent.as_list(), cmap='jet',\n",
    "           vmin=20, vmax=1200)\n",
    "plt.xlabel(\"X / m\")\n",
    "plt.ylabel(\"Z / m\")\n",
    "plt.colorbar(label=\"Temperature / $\\sf ^\\circ C$\")\n",
    "plt.savefig('figs/pool_fire_1mw_temperatures_slice.svg', bbox_inches='tight')\n",
    "plt.close()\n",
    "\n"
   ]
  },
  {
   "attachments": {},
   "cell_type": "markdown",
   "id": "569b6272",
   "metadata": {
    "editable": true,
    "slideshow": {
     "slide_type": ""
    },
    "tags": []
   },
   "source": [
    ":::{figure-md} fig-pool-fire-temp-slice\n",
    "\n",
    "<img src=\"figs/pool_fire_1mw_temperatures_slice.svg\" width=\"60%\">\n",
    "\n",
    "Visualization of the instantaneous ($\\sf t=19.63~s$) `TEMPERATURE` values in the y-z-slice $\\sf y=0~m$ with python / matplotlib. The data was obtained via the **fdsreader**.\n",
    ":::"
   ]
  },
  {
   "cell_type": "code",
   "execution_count": 4,
   "id": "40fc0f5e",
   "metadata": {
    "collapsed": true,
    "editable": true,
    "jupyter": {
     "outputs_hidden": true
    },
    "slideshow": {
     "slide_type": ""
    },
    "tags": [
     "hide-cell",
     "remove-cell"
    ]
   },
   "outputs": [
    {
     "ename": "IndexError",
     "evalue": "tuple index out of range",
     "output_type": "error",
     "traceback": [
      "\u001b[0;31m---------------------------------------------------------------------------\u001b[0m",
      "\u001b[0;31mIndexError\u001b[0m                                Traceback (most recent call last)",
      "Cell \u001b[0;32mIn[4], line 3\u001b[0m\n\u001b[1;32m      1\u001b[0m \u001b[38;5;28;01mfrom\u001b[39;00m \u001b[38;5;21;01mfdsreader\u001b[39;00m\u001b[38;5;21;01m.\u001b[39;00m\u001b[38;5;21;01mbndf\u001b[39;00m\u001b[38;5;21;01m.\u001b[39;00m\u001b[38;5;21;01mutils\u001b[39;00m \u001b[38;5;28;01mimport\u001b[39;00m sort_patches_cartesian\n\u001b[1;32m      2\u001b[0m sim \u001b[38;5;241m=\u001b[39m fdsreader\u001b[38;5;241m.\u001b[39mSimulation(data_dir)\n\u001b[0;32m----> 3\u001b[0m obst \u001b[38;5;241m=\u001b[39m \u001b[43msim\u001b[49m\u001b[38;5;241;43m.\u001b[39;49m\u001b[43mobstructions\u001b[49m\u001b[43m[\u001b[49m\u001b[38;5;241;43m0\u001b[39;49m\u001b[43m]\u001b[49m\n\u001b[1;32m      5\u001b[0m orientation \u001b[38;5;241m=\u001b[39m \u001b[38;5;241m-\u001b[39m\u001b[38;5;241m1\u001b[39m\n\u001b[1;32m      6\u001b[0m quantity \u001b[38;5;241m=\u001b[39m \u001b[38;5;124m\"\u001b[39m\u001b[38;5;124mAST\u001b[39m\u001b[38;5;124m\"\u001b[39m\n",
      "File \u001b[0;32m~/jupyter-kernels/fire_simulation_2023.05/venv/lib/python3.10/site-packages/fdsreader/utils/data.py:108\u001b[0m, in \u001b[0;36mFDSDataCollection.__getitem__\u001b[0;34m(self, index)\u001b[0m\n\u001b[1;32m    107\u001b[0m \u001b[38;5;28;01mdef\u001b[39;00m \u001b[38;5;21m__getitem__\u001b[39m(\u001b[38;5;28mself\u001b[39m, index):\n\u001b[0;32m--> 108\u001b[0m     \u001b[38;5;28;01mreturn\u001b[39;00m \u001b[38;5;28;43mself\u001b[39;49m\u001b[38;5;241;43m.\u001b[39;49m\u001b[43m_elements\u001b[49m\u001b[43m[\u001b[49m\u001b[43mindex\u001b[49m\u001b[43m]\u001b[49m\n",
      "\u001b[0;31mIndexError\u001b[0m: tuple index out of range"
     ]
    }
   ],
   "source": [
    "#TODO: remove?\n",
    "from fdsreader.bndf.utils import sort_patches_cartesian\n",
    "sim = fdsreader.Simulation(data_dir)\n",
    "obst = sim.obstructions[0]\n",
    "\n",
    "orientation = -1\n",
    "quantity = \"AST\"\n",
    "patches = list()\n",
    "for sub_obst in obst.filter_by_orientation(orientation):\n",
    "    # Get boundary data for a specific quantity\n",
    "    sub_obst_data = sub_obst.get_data(quantity)\n",
    "    patches.append(sub_obst_data.data[orientation])\n",
    "\n",
    "# Combine patches to a single face for plotting\n",
    "patches = sort_patches_cartesian(patches)\n",
    "\n",
    "shape_dim1 = sum([patch_row[0].shape[0] for patch_row in patches])\n",
    "shape_dim2 = sum([patch.shape[1] for patch in patches[0]])\n",
    "n_t = patches[0][0].n_t  # Number of timesteps\n",
    "\n",
    "face = np.empty(shape=(n_t, shape_dim1, shape_dim2))\n",
    "dim1_pos = 0\n",
    "dim2_pos = 0\n",
    "for patch_row in patches:\n",
    "    d1 = patch_row[0].shape[0]\n",
    "    for patch in patch_row:\n",
    "        d2 = patch.shape[1]\n",
    "        face[:, dim1_pos:dim1_pos + d1,\n",
    "        dim2_pos:dim2_pos + d2] = patch.data\n",
    "        dim2_pos += d2\n",
    "    dim1_pos += d1\n",
    "    dim2_pos = 0\n",
    "\n",
    "t = 20\n",
    "plt.figure(figsize=(4,6))\n",
    "plot = plt.imshow(face[t].T, vmin=20, vmax=300, origin=\"lower\", cmap=\"jet\")\n",
    "plt.colorbar(label=\"Temperature / $\\sf ^\\circ C$\")\n",
    "plt.xlabel(\"$\\sf N_{cells,x}$ / -\")\n",
    "plt.ylabel(\"$\\sf N_{cells,y}$ / -\")\n",
    "plt.savefig('figs/pool_fire_bndf_ast.svg', bbox_inches='tight')\n",
    "plt.close()"
   ]
  },
  {
   "attachments": {},
   "cell_type": "markdown",
   "id": "d7a7503b-c933-4d7d-b739-b1dd0d776205",
   "metadata": {
    "editable": true,
    "slideshow": {
     "slide_type": ""
    },
    "tags": []
   },
   "source": [
    "**2. Solution**"
   ]
  },
  {
   "cell_type": "code",
   "execution_count": 12,
   "id": "c853ed94",
   "metadata": {
    "editable": true,
    "slideshow": {
     "slide_type": ""
    },
    "tags": [
     "hide-cell"
    ]
   },
   "outputs": [],
   "source": [
    "data_dir = 'data/pool_fire/10mw_sealed'\n",
    "sim = fdsreader.Simulation(data_dir)# Vector Plots\n",
    "time = 20\n",
    "time_index = slice_temp.get_nearest_timestep(time)\n",
    "\n",
    "\n",
    "slice_u = sim.slices[3][0].data[time_index]\n",
    "slice_v = sim.slices[4][0].data[time_index]\n",
    "n_x = slice_u.shape[0]\n",
    "n_y = slice_u.shape[1]\n",
    "x = range(n_x)\n",
    "y = range(n_y)\n",
    "X, Y = np.meshgrid(x, y)\n",
    "slice_res = (slice_u**2 + slice_v**2)**1/2\n",
    "plt.figure(figsize=(3,6))\n",
    "plt.quiver(X,Y, slice_u.T, slice_v.T, slice_res.T,cmap='jet', clim=(0,50), scale=100)\n",
    "plt.colorbar(label = \"Velocity / $\\sf ms^{-2}$\")\n",
    "plt.xlabel(\"$\\sf N_{cells,x}$ / -\")\n",
    "plt.ylabel(\"$\\sf N_{cells,y}$ / -\")\n",
    "plt.xticks(ticks=[0,12.5,25], labels=[-2.5,0,2.5])\n",
    "plt.yticks(ticks=[0,10,20,30,40,50], labels=[0,2,4,6,8,10])\n",
    "plt.xlim(0,25)\n",
    "plt.savefig('figs/pool_fire_velocity_vector_sealed.svg', bbox_inches='tight')\n",
    "plt.close()"
   ]
  },
  {
   "cell_type": "code",
   "execution_count": 13,
   "id": "4593b3bb",
   "metadata": {
    "editable": true,
    "slideshow": {
     "slide_type": ""
    },
    "tags": [
     "hide-cell"
    ]
   },
   "outputs": [],
   "source": [
    "data_dir = 'data/pool_fire/10mw_open'\n",
    "sim = fdsreader.Simulation(data_dir)# Vector Plots\n",
    "time = 20\n",
    "time_index = slice_temp.get_nearest_timestep(time)\n",
    "\n",
    "\n",
    "slice_u = sim.slices[3][0].data[time_index]\n",
    "slice_v = sim.slices[4][0].data[time_index]\n",
    "n_x = slice_u.shape[0]\n",
    "n_y = slice_u.shape[1]\n",
    "x = range(n_x)\n",
    "y = range(n_y)\n",
    "X, Y = np.meshgrid(x, y)\n",
    "slice_res = (slice_u**2 + slice_v**2)**1/2\n",
    "plt.figure(figsize=(3,6))\n",
    "plt.quiver(X,Y, slice_u.T, slice_v.T, slice_res.T,cmap='jet', clim=(0,50), scale=100)\n",
    "plt.colorbar(label = \"Velocity / $\\sf ms^{-2}$\")\n",
    "\n",
    "plt.xlabel(\"$\\sf N_{cells,x}$ / -\")\n",
    "plt.ylabel(\"$\\sf N_{cells,y}$ / -\")\n",
    "plt.xticks(ticks=[0,12.5,25], labels=[-2.5,0,2.5])\n",
    "plt.yticks(ticks=[0,10,20,30,40,50], labels=[0,2,4,6,8,10])\n",
    "plt.xlim(0,25)\n",
    "plt.savefig('figs/pool_fire_velocity_vector_open.svg', bbox_inches='tight')\n",
    "plt.close()"
   ]
  },
  {
   "cell_type": "markdown",
   "id": "a195d974-c293-47aa-a394-290aca48121f",
   "metadata": {
    "editable": true,
    "slideshow": {
     "slide_type": ""
    },
    "tags": []
   },
   "source": [
    "````{tab-set}\n",
    "```{tab-item} 10 MW, sealed domain\n",
    "\n",
    ":::{figure-md} fig-pool-fire-vector-sealed\n",
    "<img src=\"figs/pool_fire_velocity_vector_sealed.svg\" width=\"60%\">\n",
    "\n",
    "HRR of 10 MW, sealed compartment\n",
    ":::\n",
    "```\n",
    "```{tab-item} 10 MW, open domain\n",
    "\n",
    ":::{figure-md} fig-pool-fire-vector-open\n",
    "<img src=\"figs/pool_fire_velocity_vector_open.svg\" width=\"60%\">\n",
    "\n",
    "HRR of 10 MW, open compartment\n",
    "```\n",
    "````"
   ]
  },
  {
   "attachments": {},
   "cell_type": "markdown",
   "id": "e1919c77-6a25-452a-8afe-030d7bbd2041",
   "metadata": {
    "editable": true,
    "slideshow": {
     "slide_type": ""
    },
    "tags": []
   },
   "source": [
    "**3. Solution**\n",
    "\n",
    "The fluctuation of the HRR curve increases at higher levels. A drop in the released energy with time indicates a lower oxygen level due to the sealed compartment."
   ]
  },
  {
   "cell_type": "code",
   "execution_count": 19,
   "id": "6b1a6fa3",
   "metadata": {
    "editable": true,
    "slideshow": {
     "slide_type": ""
    },
    "tags": [
     "hide-cell"
    ]
   },
   "outputs": [],
   "source": [
    "data_dir = 'data/pool_fire/100kw_sealed'\n",
    "sim = fdsreader.Simulation(data_dir)\n",
    "plt.plot(sim.hrr[\"Time\"], sim.hrr[\"HRR\"], label='simulation')\n",
    "t_min_max = [sim.hrr[\"Time\"][0], sim.hrr[\"Time\"][-1]]\n",
    "hrr_prescribed = 100\n",
    "plt.plot(t_min_max, [hrr_prescribed, hrr_prescribed], label='prescribed')\n",
    "plt.grid(True, linestyle='--', alpha=0.5)\n",
    "plt.legend(loc='best')\n",
    "plt.xlabel(\"Time / s\")\n",
    "plt.ylabel(\"HRR / kW\")\n",
    "plt.savefig('figs/pool_fire_100kw_sealed_hrr.svg', bbox_inches='tight')\n",
    "plt.close()"
   ]
  },
  {
   "cell_type": "code",
   "execution_count": 17,
   "id": "88d28278",
   "metadata": {
    "editable": true,
    "slideshow": {
     "slide_type": ""
    },
    "tags": [
     "hide-cell"
    ]
   },
   "outputs": [],
   "source": [
    "data_dir = 'data/pool_fire/1mw_sealed'\n",
    "sim = fdsreader.Simulation(data_dir)\n",
    "plt.plot(sim.hrr[\"Time\"], sim.hrr[\"HRR\"], label='simulation')\n",
    "t_min_max = [sim.hrr[\"Time\"][0], sim.hrr[\"Time\"][-1]]\n",
    "hrr_prescribed = 1000\n",
    "plt.plot(t_min_max, [hrr_prescribed, hrr_prescribed], label='prescribed')\n",
    "plt.grid(True, linestyle='--', alpha=0.5)\n",
    "plt.legend(loc='best')\n",
    "plt.xlabel(\"Time / s\")\n",
    "plt.ylabel(\"HRR / kW\")\n",
    "plt.savefig('figs/pool_fire_1mw_sealed_hrr.svg', bbox_inches='tight')\n",
    "plt.close()"
   ]
  },
  {
   "cell_type": "code",
   "execution_count": 18,
   "id": "b286c63d",
   "metadata": {
    "editable": true,
    "slideshow": {
     "slide_type": ""
    },
    "tags": [
     "hide-cell"
    ]
   },
   "outputs": [],
   "source": [
    "data_dir = 'data/pool_fire/10mw_sealed'\n",
    "sim = fdsreader.Simulation(data_dir)\n",
    "plt.plot(sim.hrr[\"Time\"], sim.hrr[\"HRR\"], label='simulation')\n",
    "t_min_max = [sim.hrr[\"Time\"][0], sim.hrr[\"Time\"][-1]]\n",
    "hrr_prescribed = 10000\n",
    "plt.plot(t_min_max, [hrr_prescribed, hrr_prescribed], label='prescribed')\n",
    "plt.grid(True, linestyle='--', alpha=0.5)\n",
    "plt.legend(loc='best')\n",
    "plt.xlabel(\"Time / s\")\n",
    "plt.ylabel(\"HRR / kW\")\n",
    "plt.savefig('figs/pool_fire_10mw_sealed_hrr.svg', bbox_inches='tight')\n",
    "plt.close()"
   ]
  },
  {
   "attachments": {},
   "cell_type": "markdown",
   "id": "73608547",
   "metadata": {
    "editable": true,
    "slideshow": {
     "slide_type": ""
    },
    "tags": []
   },
   "source": [
    "````{tab-set}\n",
    "```{tab-item} 100 kW\n",
    "\n",
    ":::{figure-md} fig-pool-fire-hrr-100kw\n",
    "<img src=\"figs/pool_fire_100kw_sealed_hrr.svg\" width=\"80%\">\n",
    "\n",
    "HRR of 100 kW\n",
    ":::\n",
    "```\n",
    "\n",
    "```{tab-item} 1 MW\n",
    "\n",
    ":::{figure-md} fig-pool-fire-hrr-1mw\n",
    "<img src=\"figs/pool_fire_1mw_sealed_hrr.svg\" width=\"80%\">\n",
    "\n",
    "HRR of 1 MW\n",
    ":::\n",
    "```\n",
    "\n",
    "```{tab-item} 10 MW\n",
    "\n",
    ":::{figure-md} fig-pool-fire-hrr-10mw\n",
    "<img src=\"figs/pool_fire_10mw_sealed_hrr.svg\" width=\"80%\">\n",
    "\n",
    "HRR of 10 MW\n",
    ":::\n",
    "```\n",
    "````"
   ]
  },
  {
   "attachments": {},
   "cell_type": "markdown",
   "id": "fa8313e5-2ea8-442d-ad81-9a4781f8a17b",
   "metadata": {
    "editable": true,
    "slideshow": {
     "slide_type": ""
    },
    "tags": []
   },
   "source": [
    "(extra-task)=\n",
    "## Extra Task: Simulation of a purely buoyant diffusion flame\n",
    "\n",
    "In this task we propose as an extra exercise, the simulation of a diffusion flame, based on the experimental setup described in the report: [Purely Buoyant Diffusion Flames: Some Experimental Results](https://nvlpubs.nist.gov/nistpubs/Legacy/IR/nbsir79-1910.pdf). Purely bouyant diffusion flames can be defined as those which take place over combustible gases leaving the surface of a solid or liquid fuel with negligible velocity. In such cases, the fire is said to be dominated by buoyancy. This is a common characteristic of fires that develop freely over a pool of liquid fuel, or over a solid polymeric material. \n",
    "\n",
    "The main purpose of the experiments described in the report is to measure the temperature and the velocity magnitude in the near field of the flame, with probes and thermocouples. Flames of five different heat release rates of $\\small\\sf 14.4~kW$, $\\small\\sf 21.7~kW$, $\\small\\sf 33.3~kW$, $\\small\\sf 44.9~kW$, $\\small\\sf 57.5~kW$ are considered, and the measurements are taken at the central line of the flame. A burner of natural gas injects fuel at a controlled rate, so as to obtain the desired heat release. For a complete description of the experiment, please visit the reference in the paragraph above.\n",
    "\n",
    "\n",
    "***Building the setup***\n",
    "\n",
    "The simulation setup is built based on the dimensions presented in the report referenced above. A methane burner with a heat release rate of $\\small\\sf 14.4~kW$ can be considered as a start. The burner dimensions are $\\small\\sf 0.30 \\times 0.30~m$ and its surface is positioned at $\\small\\sf 0.72~m$ above the floor. The lateral and top boundaries of the simulation domain are open. The extension of the domain is\n",
    "\n",
    "$$\\small\\sf [-0.75~m, 0.75~m] \\times [-0.75~m, 0.75~m] \\times [-0.72~m, 3.48~m]$$ \n",
    "\n",
    "with a grid resolution of $\\small\\sf 0.06~m$. \n",
    "\n",
    "A set of measuring devices of temperature and velocity are positioned along the central line of the flame. It is recommended that each device is located in the middle of the cell.\n",
    "\n",
    ":::{figure-md} \n",
    "\n",
    "<img src=\"figs/extra_task_diffusion_flame_01.png\" width=\"55%\">\n",
    "\n",
    "Visualization of the simulation setup in Smokeview.\n",
    ":::\n",
    "\n",
    "At total, five different simulations need to be run, one for each heat release rate indicated above.\n",
    "\n",
    "***Collecting and plotting the results***\n",
    "\n",
    "Once the simulations are finished, the data recorded by the devices (temperature and velocity) can be collected from the \"devc.csv\" output file. The goal is to present a log-log plot of the time-averaged output quantities against the hight above the burner, for the five values of heat release rates. Velocity and hight should be both normalised respectively by the scaling factors $\\small\\sf Q^{1/5}$ and $\\small\\sf Q^{2/5}$. The results obtained in the report are presented:\n",
    "\n",
    ":::{figure-md} \n",
    "\n",
    "<img src=\"figs/extra_task_McCaffreyVelocity.png\" width=\"55%\">\n",
    "\n",
    "Normalised velocity plotted against normalised hights above burner.\n",
    "\n",
    ":::\n",
    "\n",
    ":::{figure-md} \n",
    "\n",
    "<img src=\"figs/extra_task_McCaffreyTemperature.png\" width=\"55%\">\n",
    "\n",
    "Temperature plotted against normalised hights above burner.\n",
    "\n",
    ":::\n",
    "\n",
    "Relevant insights for the solution of this task are presented in the [Example: McCaffrey plume experiments](example-mccaffrey)."
   ]
  },
  {
   "attachments": {},
   "cell_type": "markdown",
   "id": "8191ce83",
   "metadata": {
    "tags": []
   },
   "source": [
    "## Task II - Plume Formulas\n",
    "\n",
    "This task targets the computation of the plume temperature with analytical methods in order to subsequently validate the results of an numerical simulation. For more detailed information on the theory and application of the plume formulas, please refer to the literature, e.g. Enclosure Fire Dynamics by B. Karlsson and J. Quintiere {cite}`Karlsson.1999`.\n",
    "\n",
    "***Heskestad***\n",
    "\n",
    "$\\small\\sf \\Delta T $ indicates the temperature rise in the plume centerline axis above ambient temperature:\n",
    "\n",
    "\n",
    "$$ \\small\\sf\n",
    "\\Delta T = 9.1 \\left(\\frac{T_\\infty}{g \\cdot c_p^2 \\cdot \\rho_\\infty^2} \\right)^{1/3} \\cdot \\dot{Q}_c^{2/3} \\cdot (z -z_0)^{-5/3}\n",
    "$$\n",
    "\n",
    "where $\\sf \\dot{Q}_c$ is the convective heat release rate, $\\small\\sf T_\\infty = 293~K$ is the ambient temperature, $\\small\\sf g = 9.81~ms^{-1}$ is the gravitational constant, $\\small\\sf \\rho_\\infty = 1.2 kg/m^3$ is the \n",
    "density of air at ambient temperature, $\\small\\sf c_p = 1.0~kJ/(kg K)$ is the specific heat capacity and z is the height above the fuel source in m.\n",
    "\n",
    "The virtual origin $\\small\\sf z_0$ depends on the (equivalent) diameter D of the fire source and the total heat release rate and is given by:\n",
    "\n",
    "$$\\small\\sf\n",
    "z_0 = 0.083 \\cdot \\dot{Q}^{2/5} - 1.02 \\cdot D\n",
    "$$\n",
    "\n",
    "The calculation of the plume temperature according to Heskestad is defined exclusively for the area above the flame. The flame height is calculated by the following expression: \n",
    "\n",
    "$$\\small\\sf\n",
    "L = 0.235 \\cdot \\dot{Q}^{2/5} - 1.02 \\cdot D\n",
    "$$\n",
    "\n",
    "***McCaffrey***\n",
    "\n",
    "$\\small\\sf \\Delta T $ indicates the temperature rise in the plume centerline axis above ambient temperature:\n",
    "\n",
    "$$\\small\\sf\n",
    "\\Delta T = \\left(\\frac{\\kappa}{0.9 \\cdot \\sqrt{2g}}\\right)^2 \\cdot \\left(\\frac{z}{\\dot{Q}^{2/5}}\\right)^{2\\eta-1} \\cdot T_\\infty\n",
    "$$\n",
    "\n",
    "where $\\small\\sf \\dot{Q}$ is the total heat release rate, $\\small\\sf T_\\infty = 293~K$ is the ambient temperature, $\\small\\sf g = 9.81~ms^{-1}$ is the gravitational constant, z is the height above the fuel source in m. The constants $\\small\\sf \\eta$ and $\\small\\sf \\kappa$ vary depending on the plume regions and can be obtained from the following table.\n",
    "\n",
    "| Region       | $ \\small\\sf \\frac{z}{\\dot{Q}^{2/5}}$    | $\\small\\sf \\eta$ | $\\small\\sf \\kappa$           |\n",
    "|--------------|---------------------|--------|-----------------------------|\n",
    "| Continuous   | < 0.08           | 1/2  | $\\small\\sf 6.8~[m^{1/2}/s]$           |\n",
    "| Intermittent | 0.08-0.2         |  0    | $\\small\\sf 1.9~[m/(kW^{1/5}s)]$       |\n",
    "| Plume        | > 0.2            | -1/3 | $\\small\\sf 1.1~[m^{4/4}/(kW^{1/3}s)]$ |\n",
    "\n",
    "**Task:**\n",
    "\n",
    "1. Calculate the temperatures of the plume within the respective application limits using the analytical approaches of the Heskestad and McCaffrey Plumes with a HRR of 1 MW at heights of $\\small\\sf  z = 1~m, 2~m, 3~m, 4~m, 5~m, 6~m$. Assume that the radiative fraction of the plume is 20 % and $ \\small\\sf A_{fire}=1~m^2$ . Compare the results and discuss the reasons for the deviations.\n",
    "\n",
    "2. Compare the results from the analytical calculations to the results of an FDS simulation using temperature devices. Smooth the output by a moving average to reduce noise. Refer to section 20.1 of the [FDS User's Guide](https://github.com/firemodels/fds/releases/download/FDS6.7.5/FDS_User_Guide.pdf) for further information on how to place Devices in the computational domain.\n",
    "\n",
    "    Add the following lines to your FDS file to open the lateral and top boundaries of the sealed domain which provides a better depiction of the boundary conditions of the empirically determined plume formulas:\n",
    "    ```\n",
    "    &VENT MB = 'XMIN' SURF_ID = 'OPEN' /\n",
    "    &VENT MB = 'XMAX' SURF_ID = 'OPEN' /\n",
    "    &VENT MB = 'YMIN' SURF_ID = 'OPEN' /\n",
    "    &VENT MB = 'YMAX' SURF_ID = 'OPEN' /\n",
    "    &VENT MB = 'ZMAX' SURF_ID = 'OPEN' /\n",
    "    ``` \n",
    "    \n",
    "```{tip} To reduce noise, temperatures calculated with FDS can be smoothed using a simple moving average (SMA). The SMA of a time series $\\small\\sf x(t)$ is the sequence of arithmetic averages of $\\small\\sf  n$ consecutive data points.\n",
    "$\\small\\sf m_{SMA}(t) = \\frac{1}{n}\\sum_{i=0}^{n-1}x(t-i)$\n",
    "```\n",
    "**1. Solution:**"
   ]
  },
  {
   "attachments": {},
   "cell_type": "markdown",
   "id": "35e435e2",
   "metadata": {
    "tags": [
     "hide_cell"
    ]
   },
   "source": [
    "***Heskestad***\n",
    "```{toggle}\n",
    "Simplifying the plume formula into:\n",
    "\n",
    "$\\small\\sf \\Delta T = 9.1 \\left(\\frac{T_\\infty}{g \\cdot c_p^2 \\cdot \\rho_\\infty^2} \\right)^{1/3} \\cdot \\dot{Q}_c^{2/3} \\cdot (z -z_0)^{-5/3} = 25 \\left( \\frac{\\dot{Q}_c^{2/5}}{(z -z_0)}\\right)^{5/3}$\n",
    "\n",
    "The equivalent diameter:\n",
    "\n",
    "$\\small\\sf D = \\sqrt{\\frac{4 \\cdot A}{\\pi}} = \\sqrt{\\frac{4 \\cdot 1}{\\pi}} \\approx 1.13~m$\n",
    "\n",
    "The virtual plume origin:\n",
    "\n",
    "$\\small\\sf z_0 = 0.083 \\cdot 1000^{2/5} - 1.02 \\cdot 1.13 \\approx 0.163~m$\n",
    "\n",
    "The flame height:\n",
    "\n",
    "$\\small\\sf L = 0.235 \\cdot 1000^{2/5} - 1.02 \\cdot 1.13 = 2.57~m$\n",
    "\n",
    "The plume temperature at different heights:\n",
    "\n",
    "$\\small\\sf z = 3.0 m:$ $\\small\\sf  \\Delta T = 25 \\left( \\frac{800^{2/5}}{(3 - 0.163)}\\right)^{5/3} = 379~K$\n",
    "\n",
    "$\\small\\sf z = 4.0 m:$ $\\small\\sf  \\Delta T = 25 \\left( \\frac{800^{2/5}}{(4 - 0.163)}\\right)^{5/3} = 229~K$\n",
    "\n",
    "$\\small\\sf z = 5.0 m:$ $\\small\\sf  \\Delta T = 25 \\left( \\frac{800^{2/5}}{(5 - 0.163)}\\right)^{5/3} = 156~K$\n",
    "\n",
    "$\\small\\sf z = 6.0 m:$ $\\small\\sf  \\Delta T = 25 \\left( \\frac{800^{2/5}}{(6 - 0.163)}\\right)^{5/3} = 114~K$\n",
    "\n",
    "```"
   ]
  },
  {
   "attachments": {},
   "cell_type": "markdown",
   "id": "2e73bf86",
   "metadata": {
    "tags": [
     "hide_cell"
    ]
   },
   "source": [
    "***McCaffrey***\n",
    "\n",
    "```{toggle}\n",
    "$\\small\\sf z = 1.0 m: \\frac{z}{\\dot{Q}^{2/5}} = \\frac{1}{1000^{2/5}} = 0.063~|~0.063 < 0.08$ -> Continuous\n",
    "\n",
    "$\\small\\sf z = 2.0 m: \\frac{z}{\\dot{Q}^{2/5}} = \\frac{2.0}{1000^{2/5}} = 0.126~|~0.2 > 0.126 > 0.08$ -> Intermediate\n",
    "\n",
    "$\\small\\sf z = 3.0 m: \\frac{z}{\\dot{Q}^{2/5}} = \\frac{3.0}{1000^{2/5}} = 0.189~|~0.2 > 0.189 > 0.08$ -> Intermediate\n",
    "\n",
    "$\\small\\sf z = 4.0 m: \\frac{z}{\\dot{Q}^{2/5}} = \\frac{4.0}{1000^{2/5}} = 0.252~|~0.252 > 0.2$ -> Plume\n",
    "\n",
    "$\\small\\sf z = 5.0 m: \\frac{z}{\\dot{Q}^{2/5}} = \\frac{5.0}{1000^{2/5}} = 0.315~|~0.315 > 0.2$ -> Plume\n",
    "\n",
    "$\\small\\sf z = 6.0 m: \\frac{z}{\\dot{Q}^{2/5}} = \\frac{6.0}{1000^{2/5}} = 0.379~|~0.379 > 0.2$ -> Plume\n",
    "\n",
    "\n",
    "The calculated temperatures and the respective auxiliary constants used can be found in the following table:\n",
    "\n",
    "\n",
    "| $\\small\\sf z [m]$ | $\\small\\sf \\frac{z}{\\dot{Q}^{2/5}}[m/kW^{2/5}]$  | $\\small\\sf \\eta$ | $\\small\\sf \\kappa$             | $\\small\\sf \\Delta T [\\circ C]$ |\n",
    "|:-------:|:--------------------------------------:|:------:|:--------------------:|:--------------------:|\n",
    "| 1.0     | 0.063                                  | 1/2    | $\\small\\sf 6.8~m^{1/2}/s$      |          852         |\n",
    "| 2.0     | 0.126                                  | 0      | $\\small\\sf 1.9~m/(kW^{1/5}s)$  |          528         |\n",
    "| 3.0     | 0.189                                  | 0      | $\\small\\sf 1.9~m/(kW^{1/5}s)$  |          352         |\n",
    "| 4.0     | 0.252                                  | -1/3   | $\\small\\sf 1.1~m^{4/4}/(kW^{1/3}s)$   |          221         |\n",
    "| 5.0     | 0.315                                  | -1/3   | $\\small\\sf 1.1~m^{4/4}/(kW^{1/3}s)$  |          152         |\n",
    "| 6.0     | 0.379                                  | -1/3   | $\\small\\sf 1.1~m^{4/4}/(kW^{1/3}s)$  |          113         |\n",
    "\n",
    "```"
   ]
  },
  {
   "attachments": {},
   "cell_type": "markdown",
   "id": "c16d90af",
   "metadata": {
    "tags": [
     "hide_cell"
    ]
   },
   "source": [
    "***FDS Devices***"
   ]
  },
  {
   "cell_type": "code",
   "execution_count": 9,
   "id": "ded09fc8",
   "metadata": {
    "editable": true,
    "slideshow": {
     "slide_type": ""
    },
    "tags": [
     "hide-cell"
    ]
   },
   "outputs": [],
   "source": [
    "import matplotlib.patches as mpatches\n",
    "from matplotlib.lines import Line2D\n",
    "\n",
    "\n",
    "def sma (values, window):\n",
    "    weights = np.repeat(1.0, window)/window\n",
    "    sma = np.convolve(values, weights, 'valid')\n",
    "    return sma\n",
    "d_t_hesk_dict = {3.0:379, 4.0:229, 5.0:156, 6:114}\n",
    "d_t_mcf_dict = {1.0:852, 2.0:527, 3.0:352, 4.0:221, 5.0:152, 6.0:112}\n",
    "color_list = ['b', 'c', 'g', 'r', 'y', 'm']\n",
    "data_root = root + 'data/pool_fire/1mw_open'\n",
    "sim = fdsreader.Simulation(data_root)\n",
    "height_list = [1.0, 2.0, 3.0, 4.0, 5.0, 6.0]\n",
    "window = 100\n",
    "for z, c in zip(height_list, color_list):\n",
    "    time = sim.devices['Time'].data\n",
    "    temperature = sim.devices[f'T_{z}'].data\n",
    "#     plt.scatter(time, temperature, s=1, alpha=0.1, color=c)\n",
    "    plt.plot(sma(time, window), sma(temperature, window), label=f\"z = {z}\", color=c)\n",
    "    if z in d_t_hesk_dict:\n",
    "        plt.axhline(y=d_t_hesk_dict[z]+20, color=c, linestyle='dashed')\n",
    "    if z in d_t_mcf_dict:\n",
    "        plt.axhline(y=d_t_mcf_dict[z]+20, color=c, linestyle='dotted')\n",
    "    plt.annotate(f\"$\\sf z={z}~m$\", xy=(30, d_t_mcf_dict[z]-50),  color=c, annotation_clip=False)\n",
    "\n",
    "plt.grid(True, linestyle='--', alpha=0.5)\n",
    "plt.legend(loc='best')\n",
    "plt.xlabel(\"Time / s\")\n",
    "plt.ylabel(\"Temperature / $\\sf ^\\circ C$\")\n",
    "line_fds = Line2D([0], [0], color='black', linestyle='-')\n",
    "line_hesk = Line2D([0], [0], color='black', linestyle='dashed')\n",
    "line_mcf = Line2D([0], [0], color='black', linestyle='dotted')\n",
    "plt.legend([line_fds, line_hesk, line_mcf], [\"FDS\", \"Heskestad\", \"MCCaffrey\"])\n",
    "\n",
    "plt.savefig('figs/pool_fire_1mw_open_temperatures_devc.svg', bbox_inches='tight')\n",
    "plt.close()"
   ]
  },
  {
   "attachments": {},
   "cell_type": "markdown",
   "id": "8e4f60f7",
   "metadata": {
    "tags": []
   },
   "source": [
    "**2. Solution**\n",
    ":::{figure-md} fig-pool-fire-hrr\n",
    "\n",
    "<img src=\"figs/pool_fire_1mw_open_temperatures_devc.svg\" width=\"80%\">\n",
    "\n",
    "Moving average of `TEMPERATURE` devices at heights 1.0, 2.0, 3.0, 4.0, 5.0 and 6.0 m smoothed over 100 datapoints.\n",
    ":::"
   ]
  },
  {
   "attachments": {},
   "cell_type": "markdown",
   "id": "b37bf0d3",
   "metadata": {},
   "source": [
    "## Task III – Time-dependent Heat Release Rate\n",
    "\n",
    "This task deals with the different possibilities to define the heat release rate (HRR) of a design fire and to model it in FDS. The total heat release  $\\small\\sf \\dot{Q}$ of a burning area $\\small\\sf A_{fire}$ depends on the heat release rate per unit area $\\small\\sf \\dot{q}''$:\n",
    "\n",
    "$$\\small\\sf \\dot{Q} = {A_{Fire} \\cdot \\dot{q}''}$$\n",
    "In FDS a burning area is defined by a `VENT` with a certain surface property that can be assigned by a `SURF_ID`. A fixed heat release rate per unit area can be set to a `SURF` by the attribute `HRRPUA`. Please refer to section 10.2.1 \"Basics\" of the [FDS User's Guide](https://github.com/firemodels/fds/releases/download/FDS6.7.5/FDS_User_Guide.pdf) for further information.\n",
    "\n",
    "```{tip} Create an automation in Python or Excel that outputs the strings of the RAMP lines for the FDS input file.  \n",
    "```\n",
    "\n",
    "**Task:**\n",
    "\n",
    "1. Model the HRR progression for a radially spreading fire with a maximum power of 1 MW in FDS assuming a fixed burning area (task 1.1) and a radial propagation from the center of the burning area (task 1.2).\n",
    "\n",
    "\n",
    "    1. The HRR according to the 't-square' model can be described by:\n",
    "    \n",
    "        $$\\small\\sf \\dot Q = \\alpha \\cdot t^2$$\n",
    "        where t is the  burning time after ignition and $\\small\\sf \\alpha$ is the fire growth factor.Assume a fast fire propagation by $\\small\\sf \\alpha = 0.04689~kW/s^2$ and a **constant** heat release rate per unit area of $\\small\\sf  \\dot{q}'' = 0.25~MW/m^2$. The maximum burning area is $\\small\\sf  A_{fire} = 1~m^2$. First calculate the time until the fire has spread to the entire area. This corresponds to the time at which the maximum HRR is reached. For simplicity, assume a perfect radial fire spread and a round fire area. Then model the temporal evolution of the HRR in FDS via a `RAMP` function (See section 20.6 \"Controlling a Ramp\" of the [FDS User's Guide](https://github.com/firemodels/fds/releases/download/FDS6.7.5/FDS_User_Guide.pdf) ).\n",
    "    \n",
    "    2. Model the fire propagation directly in FDS by defining the spread rate. The `SPREAD` attribute denotes a constant radial propagation speed from a specified point.\n",
    "        :::{figure-md} fig-pool-fire-spread\n",
    "\n",
    "        <img src=\"figs/pool_fire_spread.svg\" width=\"30%\">\n",
    "\n",
    "        Fire propagation via FDS `SPREAD` attribute\n",
    "        :::\n",
    "    \n",
    "        For instructions on how to model a radial fire spread in FDS, please refer to the [FDS User's Guide](https://github.com/firemodels/fds/releases/download/FDS6.7.5/FDS_User_Guide.pdf) Section 11.4.2 \"Special Topic: A Radially-Spreading Fire\". The radial propagation speed v can be obtained from the fire area $\\small\\sf A_{Fire}$ and the corresponding burning period t.\n",
    "        \n",
    "        $$\\small\\sf v = \\frac{\\sqrt{A_{fire}/\\pi}}{t}$$\n",
    "\n",
    "    3. Compare the HRR curves calculated by FDS with each other and discuss the limitations and inaccuracies associated with each approach.\n",
    "\n",
    "\n",
    "2. Given is the fictional mass loss of a heptane fire. Calculate the heat release of the fire over the entire burning period with an assumed effective heat of combustion $\\small\\sf  \\Delta h_{c,eff} = 44,590~kJ / kg$. Model the HRR in FDS by using the RAMP function. Check if the simulated curve matches the prescribed HRR. The effective heat of combustion indicates the heat release per unit of weight of a material burned in combustion. For simplicity, assume that the averaged mass loss between two time steps applies to the end of each time interval. \n",
    "The mass loss caused by the burn-up can be described by the following time-dependent correlation:\n",
    "    ```\n",
    "    time_index = [0, 25, 50, 75, 100, 125, 150, 175, 200, 225, 250, 275 ] # [s]\n",
    "    total_mass = [4000, 4000, 3600, 3040, 2880, 2400, 1800, 1120, 600, 160, 0, 0] # [g]\n",
    "     ```"
   ]
  },
  {
   "attachments": {},
   "cell_type": "markdown",
   "id": "a699e489-0296-4db7-ac55-c19f55f7ad9b",
   "metadata": {
    "tags": []
   },
   "source": [
    "**1. Solution**\n",
    "```{toggle}\n",
    "The burning period for the fire to reach the maximum heat release is:\n",
    "\n",
    "$$\n",
    "t = \\frac{\\dot{q}'' \\cdot A_{Fire}}{\\alpha} = \\frac{250 \\cdot 1}{0.04689} \\approx 73~s\n",
    "$$\n",
    "\n",
    "By setting the time and fraction parameters `T` and `F`, the `RAMP` function is obtained as follows:\n",
    "\n",
    "    &SURF ID = 'BURNER', HRRPUA = 250, RAMP_Q = 'fireramp', COLOR = 'RASPBERRY' /\n",
    "    &VENT XB = -0.5,0.5, -0.5,0.5, 0.0, 0.0, SURF_ID='BURNER' /\n",
    "    &RAMP ID='fireramp', T=0, F=0.00\n",
    "    .\n",
    "    .\n",
    "    .\n",
    "    &RAMP ID='fireramp', T=73, F=1.00\n",
    "\n",
    "The spread rate corresponds to the propagation speed in m/s:\n",
    "\n",
    "$$\n",
    "\\small\\sf v = \\frac{\\sqrt{A_{fire}/\\pi}}{t} = \\frac{\\sqrt{1/\\pi}}{73} = 0.00773 m/s\n",
    "$$\n",
    "\n",
    "Starting from the center of the vent, the radial propagation of the fire in FDS can be described as follows:\n",
    "\n",
    "    &SURF ID = 'BURNER', HRRPUA = 250, COLOR = 'RASPBERRY' /\n",
    "    &VENT XB = -0.5,0.5, -0.5,0.5, 0.0, 0.0, SURF_ID='BURNER', SPREAD_RATE = 0.00773 /\n",
    "```"
   ]
  },
  {
   "cell_type": "code",
   "execution_count": 10,
   "id": "ef3ae20c",
   "metadata": {
    "editable": true,
    "slideshow": {
     "slide_type": ""
    },
    "tags": [
     "hide-cell"
    ]
   },
   "outputs": [
    {
     "name": "stdout",
     "output_type": "stream",
     "text": [
      "73.01799238972059\n",
      "&SURF ID = 'BURNER', HRRPUA = 250, RAMP_Q = 'fireramp', COLOR = 'RASPBERRY' /\n",
      "&RAMP ID='fireramp', T=0, F=0.00\n",
      "&RAMP ID='fireramp', T=1, F=0.00\n",
      "&RAMP ID='fireramp', T=2, F=0.00\n",
      "&RAMP ID='fireramp', T=3, F=0.00\n",
      "&RAMP ID='fireramp', T=4, F=0.00\n",
      "&RAMP ID='fireramp', T=5, F=0.00\n",
      "&RAMP ID='fireramp', T=6, F=0.01\n",
      "&RAMP ID='fireramp', T=7, F=0.01\n",
      "&RAMP ID='fireramp', T=8, F=0.01\n",
      "&RAMP ID='fireramp', T=9, F=0.02\n",
      "&RAMP ID='fireramp', T=10, F=0.02\n",
      "&RAMP ID='fireramp', T=11, F=0.02\n",
      "&RAMP ID='fireramp', T=12, F=0.03\n",
      "&RAMP ID='fireramp', T=13, F=0.03\n",
      "&RAMP ID='fireramp', T=14, F=0.04\n",
      "&RAMP ID='fireramp', T=15, F=0.04\n",
      "&RAMP ID='fireramp', T=16, F=0.05\n",
      "&RAMP ID='fireramp', T=17, F=0.05\n",
      "&RAMP ID='fireramp', T=18, F=0.06\n",
      "&RAMP ID='fireramp', T=19, F=0.07\n",
      "&RAMP ID='fireramp', T=20, F=0.08\n",
      "&RAMP ID='fireramp', T=21, F=0.08\n",
      "&RAMP ID='fireramp', T=22, F=0.09\n",
      "&RAMP ID='fireramp', T=23, F=0.10\n",
      "&RAMP ID='fireramp', T=24, F=0.11\n",
      "&RAMP ID='fireramp', T=25, F=0.12\n",
      "&RAMP ID='fireramp', T=26, F=0.13\n",
      "&RAMP ID='fireramp', T=27, F=0.14\n",
      "&RAMP ID='fireramp', T=28, F=0.15\n",
      "&RAMP ID='fireramp', T=29, F=0.16\n",
      "&RAMP ID='fireramp', T=30, F=0.17\n",
      "&RAMP ID='fireramp', T=31, F=0.18\n",
      "&RAMP ID='fireramp', T=32, F=0.19\n",
      "&RAMP ID='fireramp', T=33, F=0.20\n",
      "&RAMP ID='fireramp', T=34, F=0.22\n",
      "&RAMP ID='fireramp', T=35, F=0.23\n",
      "&RAMP ID='fireramp', T=36, F=0.24\n",
      "&RAMP ID='fireramp', T=37, F=0.26\n",
      "&RAMP ID='fireramp', T=38, F=0.27\n",
      "&RAMP ID='fireramp', T=39, F=0.29\n",
      "&RAMP ID='fireramp', T=40, F=0.30\n",
      "&RAMP ID='fireramp', T=41, F=0.32\n",
      "&RAMP ID='fireramp', T=42, F=0.33\n",
      "&RAMP ID='fireramp', T=43, F=0.35\n",
      "&RAMP ID='fireramp', T=44, F=0.36\n",
      "&RAMP ID='fireramp', T=45, F=0.38\n",
      "&RAMP ID='fireramp', T=46, F=0.40\n",
      "&RAMP ID='fireramp', T=47, F=0.41\n",
      "&RAMP ID='fireramp', T=48, F=0.43\n",
      "&RAMP ID='fireramp', T=49, F=0.45\n",
      "&RAMP ID='fireramp', T=50, F=0.47\n",
      "&RAMP ID='fireramp', T=51, F=0.49\n",
      "&RAMP ID='fireramp', T=52, F=0.51\n",
      "&RAMP ID='fireramp', T=53, F=0.53\n",
      "&RAMP ID='fireramp', T=54, F=0.55\n",
      "&RAMP ID='fireramp', T=55, F=0.57\n",
      "&RAMP ID='fireramp', T=56, F=0.59\n",
      "&RAMP ID='fireramp', T=57, F=0.61\n",
      "&RAMP ID='fireramp', T=58, F=0.63\n",
      "&RAMP ID='fireramp', T=59, F=0.65\n",
      "&RAMP ID='fireramp', T=60, F=0.68\n",
      "&RAMP ID='fireramp', T=61, F=0.70\n",
      "&RAMP ID='fireramp', T=62, F=0.72\n",
      "&RAMP ID='fireramp', T=63, F=0.74\n",
      "&RAMP ID='fireramp', T=64, F=0.77\n",
      "&RAMP ID='fireramp', T=65, F=0.79\n",
      "&RAMP ID='fireramp', T=66, F=0.82\n",
      "&RAMP ID='fireramp', T=67, F=0.84\n",
      "&RAMP ID='fireramp', T=68, F=0.87\n",
      "&RAMP ID='fireramp', T=69, F=0.89\n",
      "&RAMP ID='fireramp', T=70, F=0.92\n",
      "&RAMP ID='fireramp', T=71, F=0.95\n",
      "&RAMP ID='fireramp', T=72, F=0.97\n",
      "&RAMP ID='fireramp', T=73, F=1.00\n"
     ]
    }
   ],
   "source": [
    "alpha = 0.04689\n",
    "Qdot_max = 250\n",
    "t = (Qdot_max / alpha)**(1/2)\n",
    "print(t)\n",
    "print(f\"&SURF ID = 'BURNER', HRRPUA = {Qdot_max}, RAMP_Q = 'fireramp', COLOR = 'RASPBERRY' /\")\n",
    "for t in range(0, 74):\n",
    "    Qdot = alpha * t **2\n",
    "    \n",
    "    print(f\"&RAMP ID='fireramp', T={t}, F={Qdot / Qdot_max:.2f}\")"
   ]
  },
  {
   "cell_type": "code",
   "execution_count": 11,
   "id": "bc932c80",
   "metadata": {
    "editable": true,
    "slideshow": {
     "slide_type": ""
    },
    "tags": [
     "hide-cell"
    ]
   },
   "outputs": [],
   "source": [
    "data_root = root + 'data/pool_fire/ramp_spread/rundir'\n",
    "sim = fdsreader.Simulation(data_root)\n",
    "plt.plot(sim.hrr[\"Time\"], sim.hrr[\"HRR\"], label='FDS SPREAD')\n",
    "t_min_max = [sim.hrr[\"Time\"][0], sim.hrr[\"Time\"][-1]]\n",
    "\n",
    "data_root = root + 'data/pool_fire/ramp_tsquare'\n",
    "sim = fdsreader.Simulation(data_root)\n",
    "plt.plot(sim.hrr[\"Time\"], sim.hrr[\"HRR\"], label='FDS RAMP')\n",
    "t_min_max = [sim.hrr[\"Time\"][0], sim.hrr[\"Time\"][-1]]\n",
    "\n",
    "plt.grid(True, linestyle='--', alpha=0.5)\n",
    "plt.legend(loc='best')\n",
    "plt.xlabel(\"Time / s\")\n",
    "plt.ylabel(\"HRR / kW\")\n",
    "plt.savefig('figs/pool_fire_10mw_sealed_hrr_spread.svg', bbox_inches='tight')\n",
    "plt.close()"
   ]
  },
  {
   "attachments": {},
   "cell_type": "markdown",
   "id": "fd0f757a",
   "metadata": {},
   "source": [
    ":::{figure-md} fig-pool-fire-hrr-spread\n",
    "\n",
    "<img src=\"figs/pool_fire_10mw_sealed_hrr_spread.svg\" width=\"80%\">\n",
    "\n",
    "Simulated `HRR` generated by `RAMP` and `SPREAD` as a function of time.\n",
    ":::"
   ]
  },
  {
   "attachments": {},
   "cell_type": "markdown",
   "id": "4d30b273-98c8-4c97-b2dd-ddfdd84c2343",
   "metadata": {},
   "source": [
    "**2. Solution**\n",
    "```{toggle}\n",
    "The HRR can be obtained from the mass loss $\\small\\sf \\dot{m_{fuel}}$ by the following expression:\n",
    "$$\\small\\sf \\dot{Q} = \\Delta h_{c,eff} \\dot{m_{fuel}}$$\n",
    "\n",
    "The maximum \n",
    "\n",
    "    &SURF ID = 'BURNER', HRRPUA = 1212.85, RAMP_Q = 'fireramp', COLOR = 'RASPBERRY' /\n",
    "    &RAMP ID='fireramp', T=0, F=0.00 /\n",
    "    &RAMP ID='fireramp', T=25, F=0.15 /\n",
    "    &RAMP ID='fireramp', T=50, F=0.59 /\n",
    "    &RAMP ID='fireramp', T=75, F=0.68 /\n",
    "    &RAMP ID='fireramp', T=100, F=0.35 /\n",
    "    &RAMP ID='fireramp', T=125, F=0.59 /\n",
    "    &RAMP ID='fireramp', T=150, F=0.88 /\n",
    "    &RAMP ID='fireramp', T=175, F=1.00 /\n",
    "    &RAMP ID='fireramp', T=200, F=0.76 /\n",
    "    &RAMP ID='fireramp', T=225, F=0.65 /\n",
    "    &RAMP ID='fireramp', T=250, F=0.24 /\n",
    "    &RAMP ID='fireramp', T=275, F=0.00 /\n",
    "\n",
    "\n",
    "```"
   ]
  },
  {
   "cell_type": "code",
   "execution_count": 12,
   "id": "1f87cd44",
   "metadata": {
    "editable": true,
    "slideshow": {
     "slide_type": ""
    },
    "tags": [
     "hide-cell"
    ]
   },
   "outputs": [
    {
     "name": "stdout",
     "output_type": "stream",
     "text": [
      "[   0.     178.36   713.44   820.456  428.064  713.44  1070.16  1212.848\n",
      "  927.472  784.784  285.376    0.   ]\n",
      "&SURF ID = 'BURNER', HRRPUA = 1212.85, RAMP_Q = 'fireramp', COLOR = 'RASPBERRY' /\n",
      "&RAMP ID='fireramp', T=0, F=0.00 /\n",
      "&RAMP ID='fireramp', T=25, F=0.15 /\n",
      "&RAMP ID='fireramp', T=50, F=0.59 /\n",
      "&RAMP ID='fireramp', T=75, F=0.68 /\n",
      "&RAMP ID='fireramp', T=100, F=0.35 /\n",
      "&RAMP ID='fireramp', T=125, F=0.59 /\n",
      "&RAMP ID='fireramp', T=150, F=0.88 /\n",
      "&RAMP ID='fireramp', T=175, F=1.00 /\n",
      "&RAMP ID='fireramp', T=200, F=0.76 /\n",
      "&RAMP ID='fireramp', T=225, F=0.65 /\n",
      "&RAMP ID='fireramp', T=250, F=0.24 /\n",
      "&RAMP ID='fireramp', T=275, F=0.00 /\n"
     ]
    }
   ],
   "source": [
    "time_list = [0, 25, 50, 75, 100, 125, 150, 175, 200, 225, 250, 275 ]\n",
    "mass_list = [4000, 3900, 3500, 3040, 2800, 2400, 1800, 1120, 600, 160, 0, 0]\n",
    "mlr_list = np.diff(mass_list)/np.diff(time_list) # mass loss rate\n",
    "\n",
    "huc = 44590 # Effective heat of combustion huc = 44590 KJ / kg\n",
    "hrr_list =abs(mlr_list/1000*huc) # calculate HRR from mass loss\n",
    "hrr_list = np.concatenate(([0], hrr_list)) # add 0 mass at first timestep\n",
    "print(hrr_list)\n",
    "print(f\"&SURF ID = 'BURNER', HRRPUA = {max(hrr_list):.2f}, RAMP_Q = 'fireramp', COLOR = 'RASPBERRY' /\")\n",
    "for time, hrr in zip(time_list, hrr_list):\n",
    "    print(f\"&RAMP ID='fireramp', T={time}, F={hrr/max(hrr_list):.2f} /\")"
   ]
  },
  {
   "cell_type": "code",
   "execution_count": 13,
   "id": "a9c43bde",
   "metadata": {
    "editable": true,
    "slideshow": {
     "slide_type": ""
    },
    "tags": [
     "hide-cell"
    ]
   },
   "outputs": [
    {
     "data": {
      "image/png": "[encoded data removed]",
      "text/plain": [
       "<Figure size 432x288 with 1 Axes>"
      ]
     },
     "metadata": {
      "needs_background": "light"
     },
     "output_type": "display_data"
    }
   ],
   "source": [
    "# Plot HRR from Simulation\n",
    "data_root = root + 'data/pool_fire/ramp_heptane/rundir'\n",
    "sim = fdsreader.Simulation(data_root)\n",
    "plt.plot(sim.hrr[\"Time\"], sim.hrr[\"HRR\"], label='simulation')\n",
    "plt.grid(True, linestyle='--', alpha=0.5)\n",
    "plt.xlabel(\"Time / s\")\n",
    "plt.ylabel(\"HRR / kW\")\n",
    "# Plot prescribed data\n",
    "plt.plot(time_list, hrr_list, label = 'prescribed')\n",
    "plt.legend(loc='best')\n",
    "plt.savefig('figs/pool_fire_hrr_heptane_ramp.svg', bbox_inches='tight')\n",
    "# plt.close()"
   ]
  },
  {
   "attachments": {},
   "cell_type": "markdown",
   "id": "158efe1e",
   "metadata": {
    "tags": [
     "hide_cell"
    ]
   },
   "source": [
    ":::{figure-md} fig-pool-fire-hrr-ramp\n",
    "\n",
    "<img src=\"figs/pool_fire_hrr_heptane_ramp.svg\" width=\"80%\">\n",
    "\n",
    "Prescribed and simulated `HRR` of n-heptane fire as a function of time. The heat release can be derived from the mass loss and the effective heat of combustion $\\small\\sf \\Delta h_{c,eff}$.\n",
    ":::"
   ]
  },
  {
   "attachments": {},
   "cell_type": "markdown",
   "id": "5f80f20b",
   "metadata": {},
   "source": [
    "## Task IV – Grid Convergence / HPC computing / Benchmarking\n",
    "\n",
    "This task deals with the monitoring of simulation parameters such as computation time and the convergence of numerical solutions. \n",
    "\n",
    "**Task:**\n",
    "\n",
    "1. Increase / decrease the grid resolution by factors of 0.4 and 2. Monitor the computing time by evaluating the .out file.\n",
    "\n",
    "2. Extend the examination by refining the grid by a factor of 4 and 8, using resources of parallel computing. For this purpose subdivide the computational domain into several meshes.\n",
    "\n",
    "3. Analyze the computation time for assigning multiple cores to a single OpenMP process. Split the computational domain into different meshes and assign individual MPI processes to each of them. Try to combine MPI and OpenMP and evaluate the increase in performance.\n",
    "\n",
    "4. Check grid convergence for the respective resolutions of the domain based on temperature and velocity criteria\n",
    "\n",
    "**Solution:**"
   ]
  },
  {
   "cell_type": "code",
   "execution_count": null,
   "id": "3154678d",
   "metadata": {
    "editable": true,
    "slideshow": {
     "slide_type": ""
    },
    "tags": [
     "hide-cell"
    ]
   },
   "outputs": [],
   "source": [
    "import pandas as pd\n",
    "data_root = root + 'data/pool_fire/gc_3_1/rundir'\n",
    "caselist = ['gc_1_1', 'gc_1_2', 'gc_1_3', 'gc_2_1', 'gc_2_2', 'gc_2_3', 'gc_3_1', 'gc_3_2', 'gc_3_3' ]\n",
    "bm_dict = {}\n",
    "for case in caselist:\n",
    "    case_dict = {}\n",
    "    data_root = root + f'data/pool_fire/{case}/rundir'\n",
    "    sim = fdsreader.Simulation(data_root)\n",
    "    case_dict['devc_temp'] = sim.devices[f'T_{1.0}'].data\n",
    "    case_dict['sim_time'] = sim.devices['Time'].data\n",
    "    case_dict['total_time'] = sim.cpu['Total T_USED (s)\\n'][0]\n",
    "    out_file = sim.out_file_path\n",
    "    with open(out_file, 'r') as file:\n",
    "        for line in file:\n",
    "            if 'Total Number of Grid Cells' in line:\n",
    "                case_dict['n_cells'] = int(line.split('Cells')[-1])\n",
    "            if 'Number of OpenMP Threads:' in line:\n",
    "                case_dict['n_open_mp'] = int(line.split('Number of OpenMP Threads:')[-1])\n",
    "            if 'Number of MPI Processes:' in line:\n",
    "                case_dict['n_mpi']= int(line.split('Number of MPI Processes:')[-1])\n",
    "    \n",
    "    bm_dict[case] = case_dict\n",
    "bm_df = pd.DataFrame(bm_dict).T\n",
    "\n",
    "for n_open_mp in [1,2,4]:\n",
    "    df = bm_df[bm_df['n_open_mp']==n_open_mp]\n",
    "    plt.plot(df['n_cells'], df['total_time'], label=f\"$\\sf N_{{openMP}}$ = {n_open_mp}\")\n",
    "plt.xscale('log')\n",
    "# plt.yscale('log')\n",
    "plt.xlabel(\"$\\sf N_{{cells}}$ / -\")\n",
    "plt.ylabel(\"Time / s\")\n",
    "plt.grid(True, which=\"both\", linestyle='--', alpha=0.5)\n",
    "plt.legend(loc='best')\n",
    "plt.savefig('figs/pool_fire_benchmarking.svg', bbox_inches='tight')"
   ]
  },
  {
   "cell_type": "code",
   "execution_count": null,
   "id": "f89653db",
   "metadata": {
    "editable": true,
    "slideshow": {
     "slide_type": ""
    },
    "tags": [
     "hide-cell"
    ]
   },
   "outputs": [],
   "source": [
    "window = 10\n",
    "for n_cells in [2000, 31250, 250000]:\n",
    "    time = bm_df[bm_df['n_cells']==n_cells].iloc[0]['sim_time']\n",
    "    temp = bm_df[bm_df['n_cells']==n_cells].iloc[0]['devc_temp']\n",
    "    plt.plot(sma(time, window), sma(temp, window), label=f\"$\\sf N_{{cells}}$ = {n_cells}\")\n",
    "    plt.grid(True, which=\"both\", linestyle='--', alpha=0.5)\n",
    "    plt.legend(loc='lower right')\n",
    "plt.xlabel(\"Time / s\")\n",
    "plt.ylabel(\"Temperature / $\\sf ^\\circ C$\")\n",
    "plt.savefig('figs/pool_fire_grid_convergence.svg', bbox_inches='tight')\n",
    "plt.close()"
   ]
  },
  {
   "attachments": {},
   "cell_type": "markdown",
   "id": "e787320a",
   "metadata": {},
   "source": [
    ":::{figure-md} fig-pool-fire-benchmarking\n",
    "\n",
    "<img src=\"figs/pool_fire_benchmarking.svg\" width=\"80%\">\n",
    "\n",
    "Total computation time as a function of the total number of grid cells in the computational domain ( $\\sf N_{cells}$ ) for different amount of openMP processes ($\\sf N_{openMP}$). \n",
    ":::\n",
    " \n",
    "\n",
    ":::{figure-md} fig-pool-fire-grid-convergence\n",
    "\n",
    "<img src=\"figs/pool_fire_grid_convergence.svg\" width=\"80%\">\n",
    "\n",
    "Checking grid convergence for a device with quantity `TEMPERATURE` at XYZ (0, 0, 1). A grid size of 20 cm and below, which results in a total number of 31250 cells, does not show any significant change in temperature.\n",
    ":::"
   ]
  },
  {
   "cell_type": "code",
   "execution_count": null,
   "id": "cba8d5c5",
   "metadata": {},
   "outputs": [],
   "source": []
  }
 ],
 "metadata": {
  "kernelspec": {
   "display_name": "Fire Simulation [May 2023]",
   "language": "python",
   "name": "fire_sim_lecture_2023.05"
  },
  "language_info": {
   "codemirror_mode": {
    "name": "ipython",
    "version": 3
   },
   "file_extension": ".py",
   "mimetype": "text/x-python",
   "name": "python",
   "nbconvert_exporter": "python",
   "pygments_lexer": "ipython3",
   "version": "3.10.4"
  }
 },
 "nbformat": 4,
 "nbformat_minor": 5
}
