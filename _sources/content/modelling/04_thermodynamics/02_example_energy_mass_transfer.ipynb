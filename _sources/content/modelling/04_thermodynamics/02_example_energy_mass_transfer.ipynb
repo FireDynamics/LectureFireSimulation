{
 "cells": [
  {
   "cell_type": "code",
   "execution_count": 1,
   "metadata": {
    "tags": [
     "remove_cell"
    ]
   },
   "outputs": [],
   "source": [
    "import numpy as np\n",
    "import matplotlib.pyplot as plt\n",
    "import fdsreader\n",
    "\n",
    "# Set the matplotlib output to svg\n",
    "from IPython.display import set_matplotlib_formats\n",
    "set_matplotlib_formats('svg')\n",
    "\n",
    "import os\n",
    "# check for set environment variable JB_NOSHOW\n",
    "show = True\n",
    "if 'JB_NOSHOW' in os.environ:\n",
    "    show = False"
   ]
  },
  {
   "cell_type": "markdown",
   "metadata": {},
   "source": [
    "# Energy and Mass Transfer\n",
    "\n",
    "This example builds on the \"Steckler compartment\"  {cite}`Steckler.1982` and the `energy_budget` discussion in the (FDS Verification Guide, 7.2.1 The Heat from a Fire). It provides a brief overview over energy and mass transfer in terms of a simulation of a room fire experiment. As an example, the room setup with a door was chosen. The door is located at the centre of the front wall. It is 1.80 m high and 0.60 m wide.\n",
    "\n",
    "You are provided with a pre-built FDS input file ({download}`EnergyMassTransfer.fds`), which needs to be completed and adjusted through the course of this exercise. The geometry of the compartment is based on the Steckler compartment. The fluid cells are cube-shaped with an edge length of 10 cm. Thus, the ceiling height is slightly larger to align with the mesh resolution, i.e. 2.20 m instead of 2.18 m. The top surface of the burner is raised to a height of 0.30 m. It has a squared cross section with an edge length of 0.40 m. In this exercise the burner shall be supplied with propane as fuel (heat of combustion: 46420.0 kJ/kg, soot yield: 20 g/g, CO yield: 10 g/g). "
   ]
  },
  {
   "cell_type": "markdown",
   "metadata": {},
   "source": [
    "## Tasks\n",
    "\n",
    "The tasks are designed with FDS 6.7.5 in mind. For more information of specific functions please consult the respective Users Guide {cite}`FDS-UG-6.7.5`. \n",
    "\n",
    "### Step 0 - Set Up the Simulation \n",
    "\n",
    "- Set up the FDS input such that the gas burner provides an energy release rate of about 63 kW. \n",
    "\n",
    "- Implement slice files for density, temperature and pressure. All should show the cell-centered values.\n",
    "\n",
    "- What options do you have to implement the fuel in FDS?\n",
    "\n",
    "- Compare your desired input with the FDS response, by means of a plot. "
   ]
  },
  {
   "cell_type": "markdown",
   "metadata": {},
   "source": [
    ":::{figure-md} fig-CheckERR\n",
    "\n",
    "<img src=\"./figs/CheckERR.svg\" width=\"80%\">\n",
    "\n",
    "Check the energy release rate of the gas burner.\n",
    ":::"
   ]
  },
  {
   "cell_type": "markdown",
   "metadata": {},
   "source": [
    ":::{figure-md} fig-ExampleSLCF\n",
    "\n",
    "<img src=\"./figs/ExampleSLCF.png\" width=\"80%\">\n",
    "\n",
    "Example for slice location.\n",
    ":::"
   ]
  },
  {
   "cell_type": "code",
   "execution_count": null,
   "metadata": {},
   "outputs": [],
   "source": []
  },
  {
   "cell_type": "markdown",
   "metadata": {},
   "source": [
    "### Step 1 - Energy Transfer\n",
    "\n",
    "- Determine the radiative fraction of the flame (Users Guide, Chapter 16 Radiation).\n",
    "\n",
    "- Determine energy conservation (Users Guide, Chapter 21.10.1 Heat Release Rate)."
   ]
  },
  {
   "cell_type": "markdown",
   "metadata": {},
   "source": [
    ":::{figure-md} fig-CheckEnergyConservation\n",
    "\n",
    "<img src=\"./figs/CheckEnergyConservation.svg\" width=\"80%\">\n",
    "\n",
    "Check the energy conservation.\n",
    ":::"
   ]
  },
  {
   "cell_type": "markdown",
   "metadata": {},
   "source": [
    "### Step 2 - Mass Transfer\n",
    "\n",
    "- Calculate the mass flux of fuel needed to achieve the desired energy release rate.\n",
    "\n",
    "- Record the gas temperatures in a vertical line across the centre of the doorway, within the cell centres. Also, record the gas velocities at the same locations. The results should be data-time series. Furthermore, set up devices across the door area to record the mass flow in and out of the compartment. (Chapter 21.2 Device Output: The DEVC Namelist Group, Chapter 21.10.20 Gas Velocity, Chapter 21.10.13 Spatially-Integrated Outputs)\n",
    "\n",
    "- Plot the response of some of the gas temperature devices to determine when a quasi-steady state is reached. \n",
    "\n",
    "- Create a plot that shows averaged gas temperature over the height. The data should be averaged over an interval of about 100 s. Create a similar plot for the velocities. \n",
    "\n",
    "- Based on the above plots, estimate the mass flow out of the comparment.\n",
    "\n",
    "- Compare your findings with the FDS response. Also have a look at the fuel mass flux.\n",
    "\n",
    "- On a somewhat meta-level: What do you expect, or maybe even know, is the necessary [heating power for modern homes in Germany](https://www.effizienzhaus-online.de/heizleistung-haus/), broadly speaking?"
   ]
  },
  {
   "cell_type": "markdown",
   "metadata": {},
   "source": [
    ":::{figure-md} fig-CheckDoorwayTemperatures\n",
    "\n",
    "<img src=\"./figs/CheckDoorwayTemperatures.svg\" width=\"80%\">\n",
    "\n",
    "Temperatures in the doorway for a selected number of sensors to determine when a quasi-steady state is reached.\n",
    ":::"
   ]
  },
  {
   "cell_type": "markdown",
   "metadata": {},
   "source": [
    ":::{figure-md} fig-DoorwayTemperatureAvrg\n",
    "\n",
    "<img src=\"./figs/DoorwayTemperatureAvrg.svg\" width=\"80%\">\n",
    "\n",
    "Temperatures in the centre of the doorway over the hight, averaged from 400 s to 500 s.\n",
    ":::"
   ]
  },
  {
   "cell_type": "markdown",
   "metadata": {},
   "source": [
    ":::{figure-md} fig-DoorwayVelocityAvrg\n",
    "\n",
    "<img src=\"./figs/DoorwayVelocityAvrg.svg\" width=\"80%\">\n",
    "\n",
    "Velocities in the centre of the doorway over the hight, averaged from 400 s to 500 s.\n",
    ":::"
   ]
  },
  {
   "cell_type": "markdown",
   "metadata": {},
   "source": [
    ":::{figure-md} fig-CheckMassFlowCompartment\n",
    "\n",
    "<img src=\"./figs/CheckMassFlowCompartment.svg\" width=\"80%\">\n",
    "\n",
    "Mass flow through the doorway in and out of the compartment.\n",
    ":::"
   ]
  },
  {
   "cell_type": "markdown",
   "metadata": {},
   "source": [
    "### Step 3 - Pressure Build Up \n",
    "\n",
    "- Close the door in the simulation and record the pressure change in the compartment (DEVC). Assuming the door would open towards the inside of the compartment. How large would be the force a fire fighter needs to exert to open it after 25 s of simulation time?\n",
    "\n",
    "\n"
   ]
  },
  {
   "cell_type": "code",
   "execution_count": null,
   "metadata": {},
   "outputs": [],
   "source": []
  }
 ],
 "metadata": {
  "kernelspec": {
   "display_name": "Python 3",
   "language": "python",
   "name": "python3"
  },
  "language_info": {
   "codemirror_mode": {
    "name": "ipython",
    "version": 3
   },
   "file_extension": ".py",
   "mimetype": "text/x-python",
   "name": "python",
   "nbconvert_exporter": "python",
   "pygments_lexer": "ipython3",
   "version": "3.6.9"
  }
 },
 "nbformat": 4,
 "nbformat_minor": 5
}
