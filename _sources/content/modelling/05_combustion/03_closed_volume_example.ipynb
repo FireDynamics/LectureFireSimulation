{
 "cells": [
  {
   "cell_type": "markdown",
   "metadata": {},
   "source": [
    "# Example – Closed Volume"
   ]
  },
  {
   "cell_type": "markdown",
   "metadata": {},
   "source": [
    "## Introduction\n",
    "\n",
    "This example aims to introduce more comprehensive ways to define fuel, mixture of fuels and air, as well as finite rate reactions, using a simple geometry. The example is divided in 3 seperate Tasks.\n"
   ]
  },
  {
   "cell_type": "markdown",
   "metadata": {},
   "source": [
    "## Task 1  \n",
    "### Non-predefined fuel\n",
    "\n",
    "The combustion reaction in FDS is defined by the `REAC` namelist. So far we used fuels, which were pre-defined in FDS. The list of these fuels can be found in Table 14.1. of the user guide {cite}`FDS-UG-6.7.5`. The physical properties of these species are embeded in FDS and do not need to be explicitly specified.\n",
    "\n",
    "Complete the pre-built FDS input file for this task {download}`pentane_fuel.fds` .\n",
    "* Use pentane as the fuel. For this purpose, specify the fuel name and chemical formula.\n",
    "* Specify the values for `SOOT_YIELD`, `CO_YIELD` and `HEAT_OF_COMBUSTION` respectively, 0.01, 0.025 and $\\mf 48~kJ/kg$.\n",
    "* Add slices for pentane and oxygen mass fractions at $\\mf y=0.0$ .\n",
    "* Illustrate the slice data at about $\\mf t=3~s$ either with Python or take a snapshot in Smokeview."
   ]
  },
  {
   "cell_type": "markdown",
   "metadata": {},
   "source": [
    "### Definitions\n",
    "**Mass/Volume fraction** of a substance within a mixture is the ratio of its mass/volume to the total mass/volume of the mixture. \n",
    "\n",
    "* Mass fraction: $\\mf Y_i = m_i/m_T$\n",
    "* Volume fraction: $\\mf X_i = v_i/v_T$\n"
   ]
  },
  {
   "cell_type": "markdown",
   "metadata": {},
   "source": [
    "### Solution"
   ]
  },
  {
   "cell_type": "code",
   "execution_count": null,
   "metadata": {
    "tags": [
     "remove_cell"
    ]
   },
   "outputs": [],
   "source": [
    "import fdsreader\n",
    "import matplotlib.pyplot as plt\n",
    "import numpy as np"
   ]
  },
  {
   "cell_type": "code",
   "execution_count": null,
   "metadata": {
    "tags": [
     "remove_cell"
    ]
   },
   "outputs": [],
   "source": [
    "Simulation = fdsreader.Simulation('./non-predefined_fuel/')\n",
    "\n",
    "time = Simulation.slices[0].get_nearest_timestep(3)\n",
    "\n",
    "plt.imshow(Simulation.slices[0][0].data[time].T, \n",
    "               origin = 'lower', \n",
    "               extent = Simulation.slices[0].extent.as_list())\n",
    "        \n",
    "plt.title('Pentane')\n",
    "plt.xlabel(\"x / m\")\n",
    "plt.ylabel(\"z / m\")\n",
    "plt.colorbar(label = \"Mass Fraction\")\n",
    "        \n",
    "plt.savefig(\"figs/mass_frac_pentane.svg\")\n",
    "plt.close()"
   ]
  },
  {
   "cell_type": "code",
   "execution_count": null,
   "metadata": {
    "tags": [
     "remove_cell"
    ]
   },
   "outputs": [],
   "source": [
    "plt.imshow(Simulation.slices[1][0].data[time].T, \n",
    "               origin = 'lower', \n",
    "               extent = Simulation.slices[0].extent.as_list())\n",
    "\n",
    "plt.title('Oxygen')\n",
    "plt.xlabel(\"x / m\")\n",
    "plt.ylabel(\"z / m\")\n",
    "plt.colorbar(label = \"Mass Fraction\")\n",
    "\n",
    "\n",
    "plt.savefig(\"figs/mass_frac_oxygen.svg\")\n",
    "plt.close()"
   ]
  },
  {
   "cell_type": "markdown",
   "metadata": {},
   "source": [
    ":::{figure-md}\n",
    "\n",
    "<img src=\"figs/mass_frac_pentane.svg\" width=\"60%\">\n",
    "\n",
    "Mass fraction of propane at $\\mf t=3~s$.\n",
    "\n",
    ":::\n",
    "\n",
    ":::{figure-md}\n",
    "\n",
    "<img src=\"figs/mass_frac_oxygen.svg\" width=\"60%\">\n",
    "\n",
    "Mass fraction of oxygen at $\\mf t=3~s$.\n",
    "\n",
    ":::"
   ]
  },
  {
   "cell_type": "markdown",
   "metadata": {},
   "source": [
    "## Task 2\n",
    "### Mixture Fractions\n",
    "\n",
    "In this task, we define the reactants and products of a chemical combustion with its stochiometric coefficients in a FDS input file, instead of letting FDS to calculate the coefficients itself.\n",
    "\n",
    "Given is the propane combustion reaction.\n",
    "\n",
    "$$\n",
    "\\mf C_3H_8 + 5~[O_2 + (0.79/0.21)N_2] \\rightarrow 3 CO_2 + 4 H_2O + 5(0.79/0.21)N_2\n",
    "$$\n",
    "\n",
    "\n",
    "* According to the balanced reaction, complete the `VOLUME_FRACTION` of products in the FDS input file {download}`mixture_fraction.fds`. \n",
    "* Complete two parameters `SPEC_ID_NU` and `NU` in the `REAC` namelist. Use the user guide for the definitions.\n",
    "* Define two devices for pentane and oxygen mass fractions. Instead of XB a point probe, use `DB = 'WHOLE DOMAIN'` to measure the parameter in the whole computational domain.\n",
    "\n",
    "* Execute the simulation.\n",
    "\n",
    "* Simulate the same scenario with an initial mass fraction of 0.03 and 0.12 for propane. You can use the `INIT` namelist to specify the initial conditions.\n",
    "* Compare the mass fraction of Propane and Oxygen as well as the time of combustion for all three simulations in Smokeview. "
   ]
  },
  {
   "cell_type": "markdown",
   "metadata": {},
   "source": [
    ":::{figure-md}\n",
    "\n",
    "<img src=\"figs/initial_mixture.png\" width=\"60%\">\n",
    "\n",
    "Note that the initial condition is not a homogeneous mixture! This slice shows the initial mass fraction of propane.\n",
    "\n",
    ":::"
   ]
  },
  {
   "cell_type": "markdown",
   "metadata": {},
   "source": [
    "### Solution"
   ]
  },
  {
   "cell_type": "code",
   "execution_count": null,
   "metadata": {
    "tags": [
     "remove_cell"
    ]
   },
   "outputs": [],
   "source": [
    "Sim3 = fdsreader.Simulation('./mixture_fraction/propane_mixfrac_0.03/')\n",
    "Sim6 = fdsreader.Simulation('./mixture_fraction/propane_mixfrac_0.06/')\n",
    "Sim12 = fdsreader.Simulation('./mixture_fraction/propane_mixfrac_0.12/')\n",
    "\n",
    "devc3 = Sim3.devices\n",
    "devc6 = Sim6.devices\n",
    "devc12 = Sim12.devices\n",
    "\n",
    "plt.plot(devc3[\"Time\"].data, devc3['C3H8'].data, label='C3H8 MASS FRACTION, 0.03')\n",
    "plt.plot(devc6[\"Time\"].data, devc6['C3H8'].data, label='C3H8 MASS FRACTION, 0.06')    \n",
    "plt.plot(devc12[\"Time\"].data, devc12['C3H8'].data, label='C3H8 MASS FRACTION, 0.12')\n",
    "    \n",
    "plt.legend(loc='upper right')\n",
    "plt.title('C3H8')\n",
    "plt.xlabel('time / s')\n",
    "plt.ylabel('Mass Fraction')\n",
    "plt.grid()\n",
    "\n",
    "plt.savefig('figs/C3H8_MassFractions.svg')\n",
    "plt.close()"
   ]
  },
  {
   "cell_type": "code",
   "execution_count": null,
   "metadata": {
    "tags": [
     "remove_cell"
    ]
   },
   "outputs": [],
   "source": [
    "Sim3 = fdsreader.Simulation('./mixture_fraction/propane_mixfrac_0.03/')\n",
    "Sim6 = fdsreader.Simulation('./mixture_fraction/propane_mixfrac_0.06/')\n",
    "Sim12 = fdsreader.Simulation('./mixture_fraction/propane_mixfrac_0.12/')\n",
    "\n",
    "devc3 = Sim3.devices\n",
    "devc6 = Sim6.devices\n",
    "devc12 = Sim12.devices\n",
    "\n",
    "plt.plot(devc3[\"Time\"].data, devc3['O2'].data, label='O2 MASS FRACTION, 0.03')\n",
    "plt.plot(devc6[\"Time\"].data, devc6['O2'].data, label='O2 MASS FRACTION, 0.06')    \n",
    "plt.plot(devc12[\"Time\"].data, devc12['O2'].data, label='O2 MASS FRACTION, 0.12')\n",
    "    \n",
    "plt.legend(loc='upper right')\n",
    "plt.title('O2')\n",
    "plt.xlabel('time / s')\n",
    "plt.ylabel('Mass Fraction')\n",
    "plt.grid()\n",
    "\n",
    "plt.savefig('figs/O2_MassFractions.svg')\n",
    "plt.close()"
   ]
  },
  {
   "cell_type": "markdown",
   "metadata": {},
   "source": [
    ":::{figure-md}\n",
    "\n",
    "<img src=\"figs/C3H8_MassFractions.svg\" width=\"50%\">\n",
    "\n",
    "Mass fraction of propane during the combustion, with three different scenarios for initial mass of Propane.\n",
    "\n",
    ":::\n",
    "\n",
    ":::{figure-md}\n",
    "\n",
    "<img src=\"figs/O2_MassFractions.svg\" width=\"50%\">\n",
    "\n",
    "Mass fraction of oxygen during the combustion, with three different scenarios for initial mass of Propane.\n",
    "\n",
    ":::"
   ]
  },
  {
   "cell_type": "markdown",
   "metadata": {},
   "source": [
    "## Task 3\n",
    "### Finite rate reaction\n",
    "\n",
    "By default, FDS uses the infinite reaction rate assumption. However, if needed for a more complex chemical analysis, FDS is capable to compute finite-rate reactions using an Arrhenius model. In this task a hot particle ignites the homogeneous mixture of propane and air. At the end of the combustion, all of the reactants will be consumed.\n",
    "\n",
    "The Arrhenius equation describes the specific reaction rate as: \n",
    "\n",
    "$$\n",
    "\\mf k = A \\cdot exp\\left(-\\frac{E_a}{k_B T}\\right) \\quad .\n",
    "$$\n",
    "\n",
    "The balanced chemical equation for the combustion of propane is:\n",
    "\n",
    "$$\n",
    "\\mf C_3H_8 + 5 O_2 \\rightarrow 3 CO_2 + 4 H_2O \\quad .\n",
    "$$\n",
    "\n",
    "Using the same geometry as the previous tasks, complete the FDS input file {download}`arrhenius_test.fds` .\n",
    "\n",
    "* What do `A`, `E` and `N_S` stands for in FDS file `REAC` namelist? For this, check out FDS user guide section 15.3 .\n",
    "* For each species in the reaction, define a device, to measure the mass fraction during the reaction time in the whole room. \n",
    "* Plot the heat release rate.\n",
    "* Plot all the mass fractions together to see the trend of reactants and products.\n",
    "* Do reactions in FDS follow mass conservation? Plot the total mass of species during the reaction."
   ]
  },
  {
   "cell_type": "markdown",
   "metadata": {},
   "source": [
    "### Solution"
   ]
  },
  {
   "cell_type": "code",
   "execution_count": null,
   "metadata": {
    "tags": [
     "remove_cell"
    ]
   },
   "outputs": [],
   "source": [
    "Simulation = fdsreader.Simulation('./reactionrate_arrhenius/')\n",
    "\n",
    "plt.plot(Simulation.hrr['Time'].data, Simulation.hrr['HRR'].data)\n",
    "plt.title('HRR')\n",
    "plt.xlabel('Time / s')\n",
    "plt.ylabel('Heat Release Rate / kW')\n",
    "plt.grid()\n",
    "\n",
    "plt.savefig('figs/arrheniusHRR.svg', bbox_inches='tight')\n",
    "plt.close()"
   ]
  },
  {
   "cell_type": "markdown",
   "metadata": {},
   "source": [
    ":::{figure-md}\n",
    "\n",
    "<img src=\"figs/arrheniusHRR.svg\" width=\"50%\">\n",
    "\n",
    "Heat release rate.\n",
    "\n",
    ":::"
   ]
  },
  {
   "cell_type": "code",
   "execution_count": null,
   "metadata": {
    "tags": [
     "remove_cell"
    ]
   },
   "outputs": [],
   "source": [
    "devc = Simulation.devices\n",
    "\n",
    "plt.plot(devc[\"Time\"].data, devc['O2'].data,   label='O2')\n",
    "plt.plot(devc[\"Time\"].data, devc['C3H8'].data, label='C3H8')\n",
    "plt.plot(devc[\"Time\"].data, devc['CO2'].data,  label='CO2')\n",
    "plt.plot(devc[\"Time\"].data, devc['H2O'].data,  label='H2O')\n",
    "\n",
    "plt.plot(devc[\"Time\"].data, np.around(devc['O2'].data + \n",
    "                                      devc['C3H8'].data + \n",
    "                                      devc['CO2'].data + \n",
    "                                      devc['H2O'].data,3), label='Total mass')\n",
    "    \n",
    "plt.legend(loc='upper right')\n",
    "plt.xlabel('time / s')\n",
    "plt.ylabel('Mass Fraction')\n",
    "plt.grid()\n",
    "\n",
    "plt.savefig(\"figs/arrhenius_MassFractions.svg\")\n",
    "plt.close()"
   ]
  },
  {
   "cell_type": "markdown",
   "metadata": {},
   "source": [
    ":::{figure-md}\n",
    "\n",
    "<img src=\"figs/arrhenius_MassFractions.svg\" width=\"70%\">\n",
    "\n",
    "Mass fractions of all species during the reaction.\n",
    "\n",
    ":::"
   ]
  }
 ],
 "metadata": {
  "kernelspec": {
   "display_name": "Python 3",
   "language": "python",
   "name": "python3"
  },
  "language_info": {
   "codemirror_mode": {
    "name": "ipython",
    "version": 3
   },
   "file_extension": ".py",
   "mimetype": "text/x-python",
   "name": "python",
   "nbconvert_exporter": "python",
   "pygments_lexer": "ipython3",
   "version": "3.7.7"
  }
 },
 "nbformat": 4,
 "nbformat_minor": 4
}
