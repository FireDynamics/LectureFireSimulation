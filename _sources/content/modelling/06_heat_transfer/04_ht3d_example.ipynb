{
 "cells": [
  {
   "cell_type": "markdown",
   "id": "290249f7",
   "metadata": {},
   "source": [
    "# Example – 3D Heat Transfer"
   ]
  },
  {
   "cell_type": "markdown",
   "id": "7d69d13c",
   "metadata": {},
   "source": [
    "## Introduction\n",
    "\n",
    "Basically, the Fire Dynamics Simulator (FDS) differentiates between two models for the calculation of heat conduction. While the one-dimensional case only calculates the temperature profile normal to the surface, the HT3D model also calculates lateral heat diffusion.\n",
    "The 1D model is based on the one-cell method. For the coupling between solid and gas phase, it is important that the block of material is not wider than a cell, otherwise the heat will be transferred into a void phase with ambient temperature. Compared to the one-cell method, the HT3D model uses the multi-cell method. The representation of different material layers is done by apposition of different cells. \n"
   ]
  },
  {
   "cell_type": "markdown",
   "id": "16a55289-0f19-436e-8509-6ec3f491570d",
   "metadata": {},
   "source": [
    "## 3D heat conduction - The HT3D model\n",
    "Three-dimensional heat conduction in a solid obstruction can be invoked by adding the `HT3D=.TRUE.` command in the respective `OBST` line. The heat transfer will automatically be calculated across several adjacent obstructions for that it is activated.\n",
    "\n",
    "The material properties can be assigned to a solid obstruction by adding the `MATL_ID` on the `OBST` line or obtained from a certain `SURF_ID`. Note that the actual dimensions rather than the thermal `THICKNESS` of a `SURF` is taken into account for the computation of 3D heat transfer. For detailed information about the HT3D model please refer to section 11.3.9 of [FDS User's Guide](https://github.com/firemodels/fds/releases/download/FDS6.7.5/FDS_User_Guide.pdf)."
   ]
  },
  {
   "cell_type": "markdown",
   "id": "d5790ba0",
   "metadata": {},
   "source": [
    "## Setup\n",
    "For this task use the {download}`beam_ht3d.fds` input file. The geometry represents a beam obstruction that is divided into three parts featuring different material properties. The individual sections are heated up by a constant temperature at the bottom surface.\n",
    "\n",
    ":::{figure-md} fig-transfer-smv\n",
    "\n",
    "<img src=\"figs/ht3d_setup.svg\" width=\"100%\">\n",
    "\n",
    "SMV visualization of the geometry. The surface patch `HEATER`, which has a constant surface temperature of $\\mf 1000^\\circ C$ (`TMP_FRONT = 1000`) ,is colored purple. The red surface patch `BURNER` provides a constant `HRRPUA` of $\\mf 100~kW~/~m^2$.  \n",
    ":::"
   ]
  },
  {
   "cell_type": "markdown",
   "id": "882dffbf-e343-4878-b09d-acf4cfa9158a",
   "metadata": {},
   "source": [
    "## Task\n",
    "The commands `SOLID_PHASE_ONLY=.TRUE.` on the `MISC` line and `RADIATION = .FALSE.` on the `RADI` line indicate that FDS turns off all gas phase computation as well as the RTE (Radiation Transport Equation) solver and therefore speeds up the computation. This can be useful if only the heat transfer in a solid obstruction is to be calculated.\n",
    "\n",
    "For Task 1 - 3 only the constant heat source is considered since it is a pure solid phase computation. Gas phase and radiation computation may be turned on for Task 4 in order to resolve the heat release from the burner surface.\n",
    "\n",
    "### Step 1\n",
    "Implement the HT3D function in the given FDS input file and run the simulation for 3600 s. For this purpose:\n",
    "1. Assign the material properties (`MATL`) to the respective obstructions (`OBST`).\n",
    "2. Activate 3D heat transfer by adding `HT3D=.TRUE.`  to the `OBST` lines.\n",
    "\n",
    "Evaluate the temperature within the solid obstructions at timesteps t = 100 s, 1000 s, 3600s by adding `SLCF` in the XZ and YZ plane(s). Explain how the different temperature distribution is related to the respective material properties.\n",
    "\n",
    "    "
   ]
  },
  {
   "cell_type": "code",
   "execution_count": 1,
   "id": "b0dfea73-e55a-4433-9bb9-0e7820d453aa",
   "metadata": {
    "tags": [
     "hide_cell"
    ]
   },
   "outputs": [],
   "source": [
    "import fdsreader\n",
    "from fdsreader.bndf.utils import sort_patches_cartesian\n",
    "import numpy as np\n",
    "import matplotlib.pyplot as plt\n",
    "import pandas as pd\n",
    "plt.rcParams['lines.linewidth'] = 1\n",
    "\n",
    "root = '../../../../'"
   ]
  },
  {
   "cell_type": "code",
   "execution_count": 2,
   "id": "634b5279-fc71-492c-bd6d-725ea73122e4",
   "metadata": {
    "tags": [
     "hide_cell"
    ]
   },
   "outputs": [],
   "source": [
    "data_root = root + 'data/heat_transfer/ht3d_solid/rundir'\n",
    "sim = fdsreader.Simulation(data_root)\n",
    "slice_axial = sim.slices[0]\n",
    "slice_steel = sim.slices[1]\n",
    "slice_copper = sim.slices[2]\n",
    "slice_concrete = sim.slices[3]\n",
    "\n",
    "time = 3600\n",
    "time_index = slice_steel.get_nearest_timestep(time)\n",
    "vmin = 20\n",
    "vmax = 800\n",
    "\n",
    "fig, (ax1, ax2, ax3) = plt.subplots(1,3, figsize=(8,6), sharey=True)\n",
    "heatmap = ax1.imshow(slice_steel[0].data[time_index].T, origin='lower', cmap='jet',vmin=vmin, vmax=vmax)\n",
    "ax2.imshow(slice_copper[0].data[time_index].T, origin='lower', cmap='jet',vmin=vmin, vmax=vmax)\n",
    "ax3.imshow(slice_concrete[0].data[time_index].T, origin='lower', cmap='jet',vmin=vmin, vmax=vmax)\n",
    "ax1.set_title(\"Steel\")\n",
    "ax2.set_title(\"Copper\")\n",
    "ax3.set_title(\"Concrete\")\n",
    "fig.subplots_adjust(right=0.81)\n",
    "cbar_ax = fig.add_axes([0.85, 0.17, 0.03, 0.67])\n",
    "fig.colorbar(heatmap, cax=cbar_ax, label=\"Temperature / $^\\circ C$\")\n",
    "ax1.set_xlabel(\"$n_{cells}~X$\")\n",
    "ax2.set_xlabel(\"$n_{cells}~X$\")\n",
    "ax3.set_xlabel(\"$n_{cells}~X$\")\n",
    "ax1.set_ylabel(\"$n_{cells}~Z$\")\n",
    "plt.savefig('figs/beam_temperatures_section_solid.svg', bbox_inches='tight')\n",
    "plt.close()\n",
    "\n",
    "fig, (ax1, ax2, ax3) = plt.subplots(3,1, figsize=(10,10), sharex=True)\n",
    "time_index = slice_axial.get_nearest_timestep(100)\n",
    "ax1.imshow(slice_axial[0].data[time_index].T, origin='lower', cmap='jet',vmin=vmin, vmax=vmax)\n",
    "time_index = slice_axial.get_nearest_timestep(1000)\n",
    "ax2.imshow(slice_axial[0].data[time_index].T, origin='lower', cmap='jet',vmin=vmin, vmax=vmax)\n",
    "time_index = slice_axial.get_nearest_timestep(3600)\n",
    "ax3.imshow(slice_axial[0].data[time_index].T, origin='lower', cmap='jet',vmin=vmin, vmax=vmax)\n",
    "ax1.set_title(\"T = 100 s\")\n",
    "ax2.set_title(\"T = 1000 s\")\n",
    "ax3.set_title(\"T = 3600 s\")\n",
    "ax1.set_ylabel(\"$n_{cells}~Z$\")\n",
    "ax2.set_ylabel(\"$n_{cells}~Z$\")\n",
    "ax3.set_ylabel(\"$n_{cells}~Z$\")\n",
    "ax3.set_xlabel(\"$n_{cells}~X$\")\n",
    "ax1.text(10, 5, \"Steel\", ha='center', color='white')\n",
    "ax1.text(30, 5, \"Copper\", ha='center', color='white')\n",
    "ax1.text(50, 5, \"Concrete\", ha='center', color='white')\n",
    "ax2.text(10, 5, \"Steel\", ha='center', color='white')\n",
    "ax2.text(30, 5, \"Copper\", ha='center', color='white')\n",
    "ax2.text(50, 5, \"Concrete\", ha='center', color='white')\n",
    "ax3.text(10, 5, \"Steel\", ha='center', color='white')\n",
    "ax3.text(30, 5, \"Copper\", ha='center', color='white')\n",
    "ax3.text(50, 5, \"Concrete\", ha='center', color='white')\n",
    "fig.subplots_adjust(right=0.81)\n",
    "cbar_ax = fig.add_axes([0.76, 0.13, 0.02, 0.75])\n",
    "fig.colorbar(heatmap, cax=cbar_ax, label=\"Temperature / $^\\circ C$\")\n",
    "plt.savefig('figs/beam_temperatures_axial_solid.svg', bbox_inches='tight')\n",
    "plt.close()\n"
   ]
  },
  {
   "cell_type": "markdown",
   "id": "42ca3656-5e8a-4f74-8926-fc36f9f881d0",
   "metadata": {},
   "source": [
    "\n",
    ":::{figure-md} ht3d-beam-temperatures\n",
    "\n",
    "<img src=\"figs/beam_temperatures_section_solid.svg\" width=\"80%\">\n",
    "\n",
    "`SLCF` of `TEMPERATURE` at X =-0.4, 0, 0.4 at timestep t = 3600 s for different materials (`MATL`) steel, copper, concrete (solid phase only)\n",
    ":::\n",
    "\n",
    ":::{figure-md} ht3d-beam-temperatures\n",
    "\n",
    "<img src=\"figs/beam_temperatures_axial_solid.svg\" width=\"80%\">\n",
    "\n",
    "`SLCF` of `TEMPERATURE` at Y = 0 at timestep t = 100, 1000, 3600 s for different materials (`MATL`) steel, copper, concrete (solid phase only)\n",
    ":::"
   ]
  },
  {
   "cell_type": "markdown",
   "id": "bb4fd4cd-9ed6-4efc-8311-3a3f35037b14",
   "metadata": {},
   "source": [
    "### Step 2\n",
    "\n",
    "Create line arrays of devices at the center of each section (steel, copper, concrete) along the z-axis and evaluate the temporal temperature distribution along the height of the beam as a heatmap. Alternative: Create a `SLCF` with `QUANTITY = 'TEMPERATURE'` at PBY = 0 and use the `FDS READER` module to load the data into a numpy array. You can also evaluate the devices independently as a time temperature correlation. Refer to section 21.2.2 of [FDS User's Guide](https://github.com/firemodels/fds/releases/download/FDS6.7.5/FDS_User_Guide.pdf) for more information on how to set up line arrays of point devices. To prevent FDS from only recording a steady-state profile set `TIME_HISTORY=.TRUE.` on the `DEVC` line.\n",
    "```{note}\n",
    "You can plot heatmaps of tabulated data by calling the `pyplot.imshow` function of `matplotlib` on a `numpy.array` with python. Even though spreadsheet programs like Excel do not usually support advanced plots like heatmaps directly, this can be achieved using conditional cell formatting with color scales.\n",
    "```\n",
    "\n",
    "A feasible plot could look as follows:\n",
    "\n",
    ":::{figure-md} ht3d-beam-temperatures\n",
    "\n",
    "<img src=\"figs/beam_temp_dev.svg\" width=\"80%\">\n",
    "\n",
    "`SLCF` of beam `TEMPERATURE` for different `MATL` steel, copper, concrete\n",
    ":::"
   ]
  },
  {
   "cell_type": "code",
   "execution_count": 3,
   "id": "1aeeb4c0-aeb7-4f45-96a3-e951e041b2bd",
   "metadata": {
    "tags": [
     "hide_cell"
    ]
   },
   "outputs": [],
   "source": [
    "time_temp_df = pd.read_csv(data_root + \"/beam_ht3d_solid_devc.csv\", skiprows=1, index_col=0)\n",
    "time_temp_steel_df = time_temp_df.filter(regex='Steel')\n",
    "time_temp_copper_df = time_temp_df.filter(regex='Copper')\n",
    "time_temp_concrete_df = time_temp_df.filter(regex='Concrete')\n",
    "\n",
    "fig, (ax1, ax2, ax3) = plt.subplots(3, figsize=(8,8), sharex=True)\n",
    "ax1.imshow(time_temp_steel_df.T, aspect='auto', origin='lower', cmap='jet', vmin=20, vmax=800, extent=[0,3600,0,280])\n",
    "ax2.imshow(time_temp_copper_df.T, aspect='auto', origin='lower', cmap='jet', vmin=20, vmax=800, extent=[0,3600,0,280])\n",
    "ax3.imshow(time_temp_concrete_df.T, aspect='auto',origin='lower', cmap='jet', vmin=20, vmax=800, extent=[0,3600,0,280])\n",
    "ax1.set_ylabel(\"Z / m\")\n",
    "ax1.set_title(\"Steel\")\n",
    "ax2.set_title(\"Copper\")\n",
    "ax3.set_title(\"Concrete\")\n",
    "\n",
    "ax2.set_ylabel(\"Z / mm\")\n",
    "ax3.set_ylabel(\"Z / mm\")\n",
    "ax3.set_xlabel(\"Time / s\")\n",
    "fig.subplots_adjust(right=0.81)\n",
    "cbar_ax = fig.add_axes([0.85, 0.11, 0.03, 0.77])\n",
    "fig.colorbar(heatmap, cax=cbar_ax, label=\"Temperature / $^\\circ C$\")\n",
    "plt.savefig('figs/beam_temp_dev.svg')\n",
    "plt.close()"
   ]
  },
  {
   "cell_type": "markdown",
   "id": "23c3cfec-785d-45c8-bb89-fbdfe3523f52",
   "metadata": {
    "tags": []
   },
   "source": [
    "### Step 3\n",
    "\n",
    "Evaluate the surface temperature of the solid obstructions via `BNDF` with quantity `WALL TEMPERATURE`. View the results in `SMOKEVIEW` at different timesteps.\n",
    "\n",
    ":::{figure-md} ht3d-beam-temperatures\n",
    "\n",
    "<img src=\"figs/bndf_beam_wall_temperature.png\" width=\"80%\">\n",
    "\n",
    "`BNDF` of `WALL TEMPERATURE` for different `MATL` at timesteps t = 100, 1000, 3600 s for different materials (`MATL`) steel, copper, concrete\n",
    ":::"
   ]
  },
  {
   "cell_type": "markdown",
   "id": "62c60c06-d354-4674-a341-93d7bac8ed74",
   "metadata": {
    "tags": []
   },
   "source": [
    "### Step 4\n",
    "\n",
    "This task provides the same setup as in the previous tasks except that the heat source does not act as a constant surface temperature on the components but as a `VENT` with a predefined `HRR`. Replace the heat sources in the given FDS file with following lines:\n",
    "```\n",
    "&REAC FUEL               = 'METHANOL'\n",
    "      FYI                = 'Methanol C_1 H_4 O_1'\n",
    "      CO_YIELD           = 0.001\n",
    "      SOOT_YIELD         = 0.001 /\n",
    "\n",
    "&SURF ID='FIRE', COLOR='RED', HRRPUA=100./\n",
    "&VENT XB = -0.6,0.6, -0.1,0.1, 0.0,0.0, SURF_ID='FIRE' /\n",
    "```\n",
    "Modify the FDS file in a way that the radiative as well as the convective heat transfer are considered. If two-way coupling with the gas phase is desired, then you have to set `HT3D=.TRUE` on the `SURF` line associated with the `OBST` faces.\n",
    "\n",
    "Evaluate the temperature within the solid obstructions at timesteps t = 100 s, 1000 s, 3600s by adding `SLCF` in the XZ and YZ and the `BDF` of `WALL TEMPERATURE` as well as the  `RADIATIVE HEAT FLUX`,  `CONVECTIVE HEAT FLUX` and `NET HEAT FLUX`. To increase the speed of the computation use multiple meshes (MPI). Due to the relatively long runtimes of the simulation, you can download the precomputed result datasets here: [ht3d_gasphase_example.zip](https://uni-wuppertal.sciebo.de/s/8owmwvHgdZ21guD/download?path=%2F&files=ht3d_gas.zip). Explain how the different distribution of heat flux is related to the respective material properties."
   ]
  },
  {
   "cell_type": "code",
   "execution_count": 4,
   "id": "61fe9a6b-60e0-4267-984b-f833d8ad979a",
   "metadata": {
    "tags": [
     "hide_cell"
    ]
   },
   "outputs": [],
   "source": [
    "data_root = root + 'data/heat_transfer/ht3d_gas/rundir'\n",
    "sim = fdsreader.Simulation(data_root)\n",
    "slice_axial = sim.slices[0]\n",
    "\n",
    "def get_full_slice_at_timestep(slcf, time):\n",
    "    time_index = slice_steel.get_nearest_timestep(time)\n",
    "    slcf_list = []\n",
    "    time_index = slcf.get_nearest_timestep(time)\n",
    "    for i in range(0,3):\n",
    "        subslice = slcf[i].data[time_index]\n",
    "        slcf_list.append(subslice.T)\n",
    "    return np.concatenate(slcf_list, axis=1)\n",
    "    \n",
    "vmin = 20\n",
    "vmax = 200\n",
    "\n",
    "fig, (ax1, ax2, ax3) = plt.subplots(3,1, figsize=(10,10), sharex=True)\n",
    "slcf = get_full_slice_at_timestep(slice_axial, 100)\n",
    "heatmap = ax1.imshow(slcf, origin='lower', cmap='jet',vmin=vmin, vmax=vmax)\n",
    "slcf = get_full_slice_at_timestep(slice_axial, 1000)\n",
    "ax2.imshow(slcf, origin='lower', cmap='jet',vmin=vmin, vmax=vmax)\n",
    "slcf = get_full_slice_at_timestep(slice_axial, 36000)\n",
    "ax3.imshow(slcf, origin='lower', cmap='jet',vmin=vmin, vmax=vmax)\n",
    "ax1.set_title(\"T = 100 s\")\n",
    "ax2.set_title(\"T = 1000 s\")\n",
    "ax3.set_title(\"T = 3600 s\")\n",
    "ax1.set_ylabel(\"$n_{cells}~Z$\")\n",
    "ax2.set_ylabel(\"$n_{cells}~Z$\")\n",
    "ax3.set_ylabel(\"$n_{cells}~Z$\")\n",
    "ax3.set_xlabel(\"$n_{cells}~X$\")\n",
    "ax1.text(10, 20, \"Steel\", ha='center', color='white')\n",
    "ax1.text(30, 20, \"Copper\", ha='center', color='white')\n",
    "ax1.text(50, 20, \"Concrete\", ha='center', color='white')\n",
    "ax2.text(10, 20, \"Steel\", ha='center', color='white')\n",
    "ax2.text(30, 20, \"Copper\", ha='center', color='white')\n",
    "ax2.text(50, 20, \"Concrete\", ha='center', color='white')\n",
    "ax3.text(10, 20, \"Steel\", ha='center', color='white')\n",
    "ax3.text(30, 20, \"Copper\", ha='center', color='white')\n",
    "ax3.text(50, 20, \"Concrete\", ha='center', color='white')\n",
    "fig.subplots_adjust(right=0.81)\n",
    "cbar_ax = fig.add_axes([0.76, 0.13, 0.02, 0.75])\n",
    "fig.colorbar(heatmap, cax=cbar_ax, label=\"Temperature / $^\\circ C$\")\n",
    "plt.savefig('figs/beam_temperatures_axial_gas.svg', bbox_inches='tight')\n",
    "plt.close()"
   ]
  },
  {
   "cell_type": "markdown",
   "id": "3c36242b-1484-4708-9124-cb1114f678f4",
   "metadata": {},
   "source": [
    ":::{figure-md} ht3d-beam-temperatures\n",
    "\n",
    "<img src=\"figs/beam_temperatures_axial_gas.svg\" width=\"80%\">\n",
    "\n",
    "`SLCF` of `TEMPERATURE` at Y = 0 at timestep t = 3600 s for different materials (`MATL`) steel, copper, concrete (solid phase + gas phase)\n",
    ":::"
   ]
  },
  {
   "cell_type": "markdown",
   "id": "c0260ae0-0ff8-485f-a2c3-b706963cbe36",
   "metadata": {},
   "source": [
    ":::{figure-md} ht3d-beam-temperatures\n",
    "\n",
    "<img src=\"figs/bndf_beam_heat_flux.png\" width=\"80%\">\n",
    "\n",
    "`BNDF` of `RADIATIVE HEAT FLUX`, `CONVECTIVE HEAT FLUX`, `NET HEAT FLUX` at t = 3600 s for different materials (`MATL`) steel, copper, concrete\n",
    ":::"
   ]
  },
  {
   "cell_type": "code",
   "execution_count": null,
   "id": "25b2be5d-df84-4238-815d-2aecef22f265",
   "metadata": {},
   "outputs": [],
   "source": []
  }
 ],
 "metadata": {
  "kernelspec": {
   "display_name": "Python 3",
   "language": "python",
   "name": "python3"
  },
  "language_info": {
   "codemirror_mode": {
    "name": "ipython",
    "version": 3
   },
   "file_extension": ".py",
   "mimetype": "text/x-python",
   "name": "python",
   "nbconvert_exporter": "python",
   "pygments_lexer": "ipython3",
   "version": "3.8.5"
  }
 },
 "nbformat": 4,
 "nbformat_minor": 5
}
