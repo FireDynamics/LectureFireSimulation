{
 "cells": [
  {
   "cell_type": "markdown",
   "id": "290249f7",
   "metadata": {},
   "source": [
    "# Example – Heat Transfer"
   ]
  },
  {
   "cell_type": "markdown",
   "id": "7d69d13c",
   "metadata": {},
   "source": [
    "## Introduction\n",
    "\n",
    "Fire Dynamics Simulator (FDS) calculates the mechanisms of heat transfer taking into account the corresponding physical processes of convection and radiation. From the resulting heat flux onto a solid surface, the surface temperature as well as the temperature at a certain depth can be determined, depending on the material properties and the the respective boundary conditions. By default, FDS  only performs a transient, one-dimensional calculation of heat transfer. The objective of this exercise is to discuss the different influences of radiation and convection as well as the surface and material properties of a solid body on its heating in case of fire. The {download}`HeatTransfer.fds` input file should be used as a starting point."
   ]
  },
  {
   "cell_type": "markdown",
   "id": "d5790ba0",
   "metadata": {},
   "source": [
    "## Setup\n",
    "The extension of the computational domain is \n",
    "\n",
    "$$\\small\\sf [-0.8~m, 0.8~m] \\times [0.0~m, 2.0~m] \\times [0.0~m, 5.0~m]$$\n",
    "\n",
    ":::{figure-md} fig-transfer-smv\n",
    "\n",
    "<img src=\"figs/fds.png\" width=\"100%\">\n",
    "\n",
    "SMV visualization of the geometry. The surface patch `HEATER`, which has a constant surface temperature of $1000^\\circ C$ (`TMP_FRONT = 1000`) ,is colored reddish. The orange and yellow obstructions (`OBST`) depict different surfaces (`SURF`). The gray heat shield covers thermocouples and devices from a radiative impact.  \n",
    ":::"
   ]
  },
  {
   "cell_type": "markdown",
   "id": "5c93c13a-c0a0-4c56-96bc-4cb1eda6247d",
   "metadata": {},
   "source": [
    "## Heat Flux\n",
    "FDS provides several output quantities related to the thermal exposure of solid surfaces (See section 21.10.7 [FDS User's Guide](https://github.com/firemodels/fds/releases/download/FDS6.7.5/FDS_User_Guide.pdf)).\n",
    "\n",
    "\n",
    "The sum of radiative and convective energy absorbed at a solid surface is expressed by the `TOTAL HEAT FLUX` or `NET HEAT FLUX`:\n",
    "\n",
    "$$\\mf q_{\\rm net}'' = \\epsilon_{\\rm s} \\, \\left(q_{\\rm inc,rad}'' - \\sigma \\, T_{\\rm s}^4 \\right) + h \\, (T_{\\rm gas} - T_{\\rm s}) \\label{net_flux}$$\n",
    "\n",
    "where $\\mf \\dot{q}_{\\rm inc,rad}$ is the incident radiative heat flux (`INCIDENT HEAT FLUX`), $\\mf \\epsilon_{\\rm s}$ is the surface emissivity, h is the convective heat transfer coefficient, $\\mf T_{\\rm s}$ is the surface temperature, and $\\mf T_{\\rm gas}$ is the gas temperature in the vicinity of the surface. The convective heat transfer coefficient, h, is calculated by FDS using the specified surface properties and the calculated near-boundary flow characteristics.\n",
    "\n",
    "The radiative component can be evaluated separately by the `RADIATIVE HEAT FLUX` quantity:\n",
    "\n",
    "\n",
    "$$\\mf q_{\\rm r}'' = \\epsilon_{\\rm s} \\, \\left( q_{\\rm inc,rad}'' - \\sigma \\, T_{\\rm s}^4 \\right)$$\n",
    "\n",
    "The convective component is given by `CONVECTIVE HEAT FLUX`:\n",
    "\n",
    "$$\\mf q_{\\rm c}'' = h \\, (T_{\\rm gas} - T_{\\rm s})$$\n",
    "\n",
    "The heat flux on a component depends on its surface temperature, which is automatically calculated by FDS. The heat flux on a component with a predefined temperature, e.g. a water-cooled heat flux gauge can be evaluated by `GAUGE HEAT FLUX`. If not explicitly defined, $\\mf T_{gauge}$ is assumed to be equal to the ambient temperature.\n",
    "\n",
    "$$\\mf q_{\\rm gauge}'' = \\epsilon_{\\rm gauge} \\, \\left( q_{\\rm inc,rad}'' - \\sigma \\, T_{\\rm gauge}^4 \\right) + h \\, (T_{\\rm gas} - T_{\\rm gauge})$$\n",
    "\n",
    "Quantities on a solid obstruction can be recorded using the `BNDF` namelist group. It can be defined similar to `SLCF` like:\n",
    "```\n",
    "&BNDF QUANTITY='NET HEAT FLUX', CELL_CENTERED=.TRUE. /\n",
    "```\n",
    "For more detailed information on how to set up `BNDF` in FDS please refer to section 21.5 [FDS User's Guide](https://github.com/firemodels/fds/releases/download/FDS6.7.5/FDS_User_Guide.pdf).\n",
    "\n",
    "By default, the specified quantities are evaluated for the surfaces of all obstructions as well as the boundaries of the computational domain. You can prevent this with the parameter `BNDF_DEFAULT = .FALSE.` on the `MISC` line. Individual obstructions can then be turned back on with `BNDF_OBST=.TRUE.` on the appropriate `OBST` line."
   ]
  },
  {
   "cell_type": "code",
   "execution_count": 1,
   "id": "6c03f289-752c-49f7-9f0e-2b7749e62811",
   "metadata": {
    "tags": [
     "hide_cell"
    ]
   },
   "outputs": [],
   "source": [
    "import fdsreader\n",
    "from fdsreader.bndf.utils import sort_patches_cartesian\n",
    "import numpy as np\n",
    "import matplotlib.pyplot as plt\n",
    "\n",
    "plt.rcParams['lines.linewidth'] = 1\n",
    "\n",
    "root = '../../../../'"
   ]
  },
  {
   "cell_type": "code",
   "execution_count": 2,
   "id": "60856b65-8270-41de-bbf8-f4b6ba66cf96",
   "metadata": {
    "tags": [
     "hide_cell"
    ]
   },
   "outputs": [],
   "source": [
    "data_root = root + 'data/heat_transfer/HeatTransfer_0'\n",
    "sim = fdsreader.Simulation(data_root)\n",
    "\n",
    "def get_bndf_face(quantity, obstruction=0, orientation=-2):\n",
    "    obst = sim.obstructions[0]\n",
    "    patches = list()\n",
    "    for sub_obst in obst.filter_by_orientation(orientation):\n",
    "        # Get boundary data for a specific quantity\n",
    "        sub_obst_data = sub_obst.get_data(quantity)\n",
    "        patches.append(sub_obst_data.data[orientation])\n",
    "\n",
    "        # Combine patches to a single face for plotting\n",
    "        patches = sort_patches_cartesian(patches)\n",
    "\n",
    "        shape_dim1 = sum([patch_row[0].shape[0] for patch_row in patches])\n",
    "        shape_dim2 = sum([patch.shape[1] for patch in patches[0]])\n",
    "        n_t = patches[0][0].n_t  # Number of timesteps\n",
    "\n",
    "        face = np.empty(shape=(n_t, shape_dim1, shape_dim2))\n",
    "        dim1_pos = 0\n",
    "        dim2_pos = 0\n",
    "        for patch_row in patches:\n",
    "            d1 = patch_row[0].shape[0]\n",
    "            for patch in patch_row:\n",
    "                d2 = patch.shape[1]\n",
    "                face[:, dim1_pos:dim1_pos + d1,\n",
    "                dim2_pos:dim2_pos + d2] = patch.data\n",
    "                dim2_pos += d2\n",
    "            dim1_pos += d1\n",
    "            dim2_pos = 0\n",
    "    return face\n",
    "\n",
    "total_hf = get_bndf_face('TOTAL HEAT FLUX')\n",
    "convective_hf = get_bndf_face('CONVECTIVE HEAT FLUX')\n",
    "radiative_hf = get_bndf_face('RADIATIVE HEAT FLUX')\n",
    "gauge_hf = get_bndf_face('GAUGE HEAT FLUX')\n",
    "incident_hf = get_bndf_face('INCIDENT HEAT FLUX')\n",
    "vmin = 0\n",
    "vmax = 80\n",
    "fig, (ax1, ax2, ax3, ax4, ax5) = plt.subplots(1,5,figsize=(15,30), sharey=True)\n",
    "heatmap = ax1.imshow(total_hf[500].T, vmin=vmin, vmax=vmax, origin=\"lower\", cmap=\"jet\")\n",
    "ax2.imshow(convective_hf[500].T, vmin=vmin, vmax=vmax, origin=\"lower\", cmap=\"jet\")\n",
    "ax3.imshow(radiative_hf[500].T, vmin=vmin, vmax=vmax, origin=\"lower\", cmap=\"jet\")\n",
    "ax4.imshow(incident_hf[500].T, vmin=vmin, vmax=vmax, origin=\"lower\", cmap=\"jet\")\n",
    "ax5.imshow(gauge_hf[500].T, vmin=vmin, vmax=vmax, origin=\"lower\", cmap=\"jet\")\n",
    "ax1.set_title(\"TOTAL HEAT FLUX\")\n",
    "ax2.set_title(\"CONVECTIVE HEAT FLUX\")\n",
    "ax3.set_title(\"RADIATIVE HEAT FLUX\")\n",
    "ax4.set_title(\"GAUGE HEAT FLUX\")\n",
    "ax5.set_title(\"INCIDENT HEAT FLUX\")\n",
    "ax1.set_xlabel(\"$n_{cells}~X$\")\n",
    "ax2.set_xlabel(\"$n_{cells}~X$\")\n",
    "ax3.set_xlabel(\"$n_{cells}~X$\")\n",
    "ax4.set_xlabel(\"$n_{cells}~X$\")\n",
    "ax5.set_xlabel(\"$n_{cells}~X$\")\n",
    "ax1.set_ylabel(\"$n_{cells}~Y$\")\n",
    "\n",
    "fig.subplots_adjust(right=0.83)\n",
    "cbar_ax = fig.add_axes([0.85, 0.41, 0.02, 0.185])\n",
    "cbar_ax.set_title('$kW / m^2$')\n",
    "fig.colorbar(heatmap, cax=cbar_ax)\n",
    "# ax5.colorbar(label=\"Temperature / $\\sf ^\\circ C$\")\n",
    "# plt.xlabel(\"$\\sf N_{cells,x}$ / -\")\n",
    "# plt.ylabel(\"$\\sf N_{cells,y}$ / -\")\n",
    "fig.savefig('figs/heatflux_bndf.svg', bbox_inches='tight')\n",
    "plt.close()"
   ]
  },
  {
   "cell_type": "markdown",
   "id": "d98a650e-6c86-41da-8999-619265e5721e",
   "metadata": {},
   "source": [
    ":::{figure-md} heat-transfer-heatflux-bndf\n",
    "\n",
    "<img src='figs/heatflux_bndf.svg' width=\"100%\">\n",
    "\n",
    "`TOTAL HEAT FLUX`, `CONVECTIVE HEAT FLUX`, `RADIATIVE HEAT FLUX`, `GAUGE HEAT FLUX` and `INCIDENT HEAT FLUX` on a solid obstruction opposite a flat radiator with a constant temperature of  $\\mf T = 1000^\\circ C$ \n",
    "\n",
    ":::"
   ]
  },
  {
   "cell_type": "markdown",
   "id": "0968c6f0-8654-4ef0-80f7-06d191231145",
   "metadata": {},
   "source": [
    "## Task 1\n",
    "The local gas phase temperature at a certain cell can be evaluated via a simple `DEVC` with `QUANTITY = 'TEMPERATURE'`. The output of a thermocouple which lags the true gas temperature by an amount determined mainly by its size can be assessed by a `DEVC` with `QUANTITY = THERMOCOUPLE`. It takes into account the radiative and convective heat transfer to a small sphere. For this purpose, it must be assigned an emissivity and a diameter.  The properties can be assigned to a `DEVICE` via the `PROP_ID` attribute (see also section 20.1 of [FDS User's Guide](https://github.com/firemodels/fds/releases/download/FDS6.7.5/FDS_User_Guide.pdf). For detailed information on how to model thermocouples in FDS please refer to section 21.10.6.\n",
    "\n",
    "**Tasks**\n",
    "1. Place simple devices with `QUANTITY = 'TEMPERATURE'` and `THERMOCOUPLE` at X = 0, Y = 0.8 and heights z = 0.6 m (bottom), 2.6 m (behind heat shield), 4.4 m (top).  Run the simulation for at least 100 seconds and plot the temporal output of the devices. Discuss what effects lead to the differences between the two types of devices. For the thermocouples assume an `EMISSIVITY` of 0.9 and a diameter of d = 3 mm. \n",
    "\n",
    ":::{figure-md} heat-transfer-namelist-dependencies-prop\n",
    "\n",
    "<img src=\"figs/flow_chart_prop.svg\" width=\"70%\">\n",
    "\n",
    "Namelist dependencies `DEVC` (device) and `PROP` (property)\n",
    ":::"
   ]
  },
  {
   "cell_type": "code",
   "execution_count": 9,
   "id": "3396ebc0-f1d2-4437-a9e8-7cd3f2bff780",
   "metadata": {
    "tags": [
     "hide_cell"
    ]
   },
   "outputs": [],
   "source": [
    "data_root = root + 'data/heat_transfer/HeatTransfer_1'\n",
    "sim = fdsreader.Simulation(data_root)\n",
    "time = sim.devices['Time'].data\n",
    "t_top = sim.devices['T_top'].data\n",
    "tc_top = sim.devices['TC_top'].data\n",
    "t_middle = sim.devices['T_middle'].data\n",
    "tc_middle = sim.devices['TC_middle'].data\n",
    "t_bottom = sim.devices['T_bottom'].data\n",
    "tc_bottom = sim.devices['TC_bottom'].data\n",
    "plt.plot(time, tc_top, label='Thermocouple top', color='red')\n",
    "plt.plot(time, t_top, label='Temp Devc top', color='red', alpha=0.5 )\n",
    "plt.plot(time, tc_middle, label='Thermocouple middle', color='green')\n",
    "plt.plot(time, t_middle, label='Temp Devc middle', color='green', alpha=0.5)\n",
    "plt.plot(time, tc_bottom, label='Thermocouple bottom',color='blue')\n",
    "plt.plot(time, t_bottom, label='Temp Devc bottom', color='blue', alpha=0.5)\n",
    "plt.xlabel(\"Time / s\")\n",
    "plt.ylabel(\"Temperature / $\\circ C$\")\n",
    "plt.legend(loc='best')\n",
    "plt.grid(True, linestyle='--', alpha=0.5)\n",
    "plt.xlim(0,100)\n",
    "plt.savefig('figs/thermocouples.svg', bbox_inches='tight')\n",
    "plt.close()"
   ]
  },
  {
   "cell_type": "markdown",
   "id": "c036b640-995c-422f-975b-96cf300c96c9",
   "metadata": {},
   "source": [
    "**1. Solution**\n",
    "\n",
    ":::{figure-md} heat-transfer-thermocouples\n",
    "\n",
    "<img src='figs/thermocouples.svg' width=\"80%\">\n",
    "\n",
    "Measured temperature of `THERMOCOUPLE` and simple `TEMPERATURE DEVC`\n",
    ":::"
   ]
  },
  {
   "cell_type": "markdown",
   "id": "bd0a0d3b-fd2a-4596-aed9-7f0d696ab1e5",
   "metadata": {},
   "source": [
    "## Task 2\n",
    "In order to correctly compute the heat transfer within a solid obstruction, the thermal material properties `CONDUCTIVITY`, `SPECIF_HEAT` and `DENSITY` must be known. A new material can be defined via the `MATL` attribute. The available parameters for describing the material properties can be found at section 22.14 of [FDS User's Guide](https://github.com/firemodels/fds/releases/download/FDS6.7.5/FDS_User_Guide.pdf)). Another parameter influencing the heat conduction within a solid is its thermal effective `THICKNESS`. This is defined on the `SURF` line and is independent from the actual thickness of an obstruction.\n",
    "\n",
    "The `EMISSIVITY` (default 0.9) can be set on the `SURF` or `MATL` line while the `MATL` parameter is given priority.\n",
    "\n",
    "The back side boundary conditions of a solid obstruction can be defined on the `SURF` line as:\n",
    "- `EXPOSED`: Calculates heat conduction through the wall into the space behind the wall (default)\n",
    "- `INSULATED`: Prevents any heat loss from the back side of the material\n",
    "- `VOID`: Always backs up to ambient temperature\n",
    "\n",
    "::::{important}\n",
    "The `THICKNESS` of a `SURF` ought to be the actual thickness of the “wall” through which FDS performs a 1-D heat conduction calculation. It is independent from the mesh cell width. If the obstruction is on the boundary of the domain or is more than one cell thick, then it is automatically assumed to back up to an air gap at ambient temperature.\n",
    "::::\n",
    "\n",
    ":::{figure-md} heat-transfer-namelist-dependencies-surf\n",
    "\n",
    "<img src=\"figs/flow_chart_surf.svg\" width=\"100%\">\n",
    "\n",
    "Namelist dependencies `OBST` (obstruction), `SURF` (surface), and `MATL` (material)\n",
    ":::\n",
    "\n",
    "**Tasks**\n",
    "1. Define a new material \"Steel\" with the following material properties $\\mf c_p = 0.5~kJ~/kg~K$, $\\mf \\lambda = 45.3~W~/m~K $ and $\\mf \\rho=7854~kg~m^{-3}$. Assign the material to the \"SURF_1\" (yellow) and \"SURF_2\" (orange). On the `SURF` line change the back side boundary condition of one of the surfaces to `INSULATED` and on the other to `EXPOSED` (See section 11.3.3 [FDS User's Guide](https://github.com/firemodels/fds/releases/download/FDS6.7.5/FDS_User_Guide.pdf)). Assume a `THICKNESS` of 10 mm (0.01 m). Analyse the `WALL TEMPERATURE` (on front surface) as well as the `INSIDE WALL TEMPERATURE` at depths 2.5 mm and 7.5 mm and the `BACK WALL TEMPERATURE` (on back surface) (see 21.2.1 and 21.2.3 [FDS User's Guide](https://github.com/firemodels/fds/releases/download/FDS6.7.5/FDS_User_Guide.pdf)). For this purpose a respective `DEVC` must be placed on the front surface of the solid `OBSTRUCTION`. The parameter `IOR` (Index of Orientation) is required for any device that is placed on the surface of a solid. It indicates the direction that the device points at. For example, `IOR = -1` means that the device is mounted on a wall that faces in the negative x direction. Run the simulation for 600 s and plot the indicated temperatures for both surfaces.\n",
    "\n",
    "2. At which timestep does the difference between the `WALL TEMPERATURE` of both surfaces exceed a ratio of 5%?\n",
    "\n",
    "3. Assign `VOID` and `EXPOSED` back wall boundary conditions to the respective surfaces and evaluate the `TEMPERATURE` at a gas phase cell directly behind the obstruction. Then extend the obstruction width to at least two cells and run the simulation again afterwards. Compare the measured temperatures. Make sure the devices are not within any obstruction as you change the width of the wall. "
   ]
  },
  {
   "cell_type": "markdown",
   "id": "a914b1eb-410d-4319-9920-66d0c0fa2b73",
   "metadata": {},
   "source": [
    "**1. and 2. Solution**"
   ]
  },
  {
   "cell_type": "code",
   "execution_count": 8,
   "id": "8563beee-f96e-4a82-897e-480788383ea8",
   "metadata": {
    "tags": [
     "hide_cell"
    ]
   },
   "outputs": [],
   "source": [
    "data_root = root + 'data/heat_transfer/HeatTransfer_2_1'\n",
    "sim = fdsreader.Simulation(data_root)\n",
    "time = sim.devices['Time'].data\n",
    "\n",
    "steel_exposed_front = sim.devices['Steel_exposed_front'].data\n",
    "steel_exposed_025 = sim.devices['Steel_exposed_025'].data\n",
    "steel_exposed_075 = sim.devices['Steel_exposed_075'].data\n",
    "steel_exposed_back = sim.devices['Steel_exposed_back'].data\n",
    "\n",
    "steel_insulated_front = sim.devices['Steel_insulated_front'].data\n",
    "steel_insulated_025 = sim.devices['Steel_insulated_025'].data\n",
    "steel_insulated_075 = sim.devices['Steel_insulated_075'].data\n",
    "steel_insulated_back = sim.devices['Steel_insulated_back'].data\n",
    "\n",
    "fig, ax1 = plt.subplots()\n",
    "\n",
    "ax1.plot(time, steel_exposed_front, label=\"Front, back. exposed\", color='blue')\n",
    "ax1.plot(time, steel_exposed_025, label=\"d = 2.5 mm, back. exposed\", color='red')\n",
    "ax1.plot(time, steel_exposed_075, label=\"d = 7.5 mm, back. exposed\", color='green')\n",
    "ax1.plot(time, steel_exposed_back, label=\"Back, back. exposed\", color='yellow')\n",
    "ax1.plot(time, steel_insulated_front, label=\"Front, back. insulated\", color='blue', linestyle='--')\n",
    "ax1.plot(time, steel_insulated_025, label=\"2.5 mm, back. insulated\", color='red', linestyle='--')\n",
    "ax1.plot(time, steel_insulated_075, label=\"7.5 mm, back. insulated\", color='green', linestyle='--')\n",
    "ax1.plot(time, steel_insulated_back, label=\"Back, back. insulated\", color='yellow', linestyle='--')\n",
    "\n",
    "ax1.set_xlabel(\"Time / s\")\n",
    "ax1.set_ylabel(\"Temperature / $^\\circ C$\")\n",
    "ax1.set_xlim(0,10)\n",
    "ax1.set_ylim(20,35)\n",
    "ax1.legend(ncol=1, bbox_to_anchor=(1.1, 1), loc='upper left')\n",
    "ax1.grid(axis='x', linestyle='--', alpha=0.5)\n",
    "ax1.grid(axis='y', linestyle='--', alpha=0.5)\n",
    "plt.savefig('figs/backings_start.svg', bbox_inches='tight')\n",
    "\n",
    "error = (steel_insulated_front-steel_exposed_front)/steel_insulated_front*100\n",
    "ax2 = ax1.twinx()\n",
    "ax2.plot(time, error, label = \"rel. Error\", color='purple')\n",
    "handles_1, labels_1 = ax1.get_legend_handles_labels()\n",
    "handles_2, labels_2 = ax2.get_legend_handles_labels()\n",
    "ax1.legend(handles_1+handles_2, labels_1+labels_2, ncol=1, bbox_to_anchor=(1.1, 1), loc='upper left')\n",
    "\n",
    "ax2.set_ylabel(\"Rel. Error / %\")\n",
    "ax1.set_xlim(0,600)\n",
    "ax2.set_ylim(0,20)\n",
    "\n",
    "# ax1.set_ylim(20,600)\n",
    "ax1.set_yticks(np.linspace(0,600,5))\n",
    "ax2.set_yticks(np.linspace(0,20,5))\n",
    "plt.grid(axis='y', linestyle='--', alpha=0.5)\n",
    "plt.savefig('figs/backings_end.svg', bbox_inches='tight')\n",
    "plt.close()\n"
   ]
  },
  {
   "cell_type": "markdown",
   "id": "256eb5a3-66e2-4e57-b9e2-3494ad8bd4cd",
   "metadata": {},
   "source": [
    ":::{figure-md} heat-transfer-backings-start\n",
    "\n",
    "<img src=\"figs/backings_start.svg\" width=\"100%\">\n",
    "\n",
    "`WALL TEMPERATURE` and `INSIDE WALL TEMPERATURE` at several depths inside the solid steel obstruction within the first 10 seconds seconds of heating phase\n",
    ":::\n",
    "\n",
    ":::{figure-md} heat-transfer-backings-end\n",
    "\n",
    "<img src=\"figs/backings_end.svg\" width=\"100%\">\n",
    "\n",
    "`WALL TEMPERATURE` and `INSIDE WALL TEMPERATURE` at several depths inside the solid steel obstruction within the first 600 seconds seconds of heating phase. The purple line indicates the relative error between an insulated and exposed backing boundary condition. \n",
    ":::"
   ]
  },
  {
   "cell_type": "code",
   "execution_count": 5,
   "id": "3aebb129-fe46-4838-8172-5356ef75d1ad",
   "metadata": {
    "tags": [
     "hide_cell"
    ]
   },
   "outputs": [
    {
     "data": {
      "image/png": "[encoded data removed]",
      "text/plain": [
       "<Figure size 432x288 with 1 Axes>"
      ]
     },
     "metadata": {
      "needs_background": "light"
     },
     "output_type": "display_data"
    }
   ],
   "source": [
    "data_root = root + 'data/heat_transfer/HeatTransfer_2_2'\n",
    "sim = fdsreader.Simulation(data_root)\n",
    "time = sim.devices['Time'].data\n",
    "exposed_temp_1cell = sim.devices['exposed_temp'].data\n",
    "void_temp_1cell = sim.devices['void_temp'].data\n",
    "data_root = root + 'data/heat_transfer/HeatTransfer_2_3'\n",
    "sim = fdsreader.Simulation(data_root)\n",
    "exposed_temp_2cell = sim.devices['exposed_temp'].data\n",
    "void_temp_2cell = sim.devices['void_temp'].data\n",
    "\n",
    "plt.plot(time, exposed_temp_1cell, label=\"back. exposed, 1 cell\", color='blue')\n",
    "plt.plot(time, void_temp_1cell, label=\"back. void, 1 cell\", color='red')\n",
    "plt.plot(time, exposed_temp_2cell, label=\"back. exposed, 2 cells\", color='blue', linestyle='--')\n",
    "plt.plot(time, void_temp_2cell, label=\"back. void, 2 cells\", color='red', linestyle='--')\n",
    "\n",
    "plt.xlabel(\"Time / s\")\n",
    "plt.ylabel(\"Temperature / $^\\circ C$\")\n",
    "plt.xlim(0,600)\n",
    "plt.legend(loc='best')\n",
    "plt.grid(linestyle='--', alpha=0.5)\n",
    "plt.savefig('figs/two_cell_problem.svg', bbox_inches='tight')\n",
    "plt.close()"
   ]
  },
  {
   "cell_type": "markdown",
   "id": "5970b65e-3718-4732-a4d1-ff86481341d6",
   "metadata": {},
   "source": [
    "**3. Solution**\n",
    ":::{figure-md} heat-transfer-specific-heat-capacity\n",
    "\n",
    "<img src=\"figs/two_cell_problem.svg\" width=\"80%\">\n",
    "\n",
    "Comparison of heat conduction through a wall. The heat transfer into the space behind the wall is not computed if the obstruction is thicker than one cell.\n",
    ":::"
   ]
  },
  {
   "cell_type": "code",
   "execution_count": 6,
   "id": "1b604410-0e81-4b4d-a5dd-0fa7d20d8316",
   "metadata": {
    "tags": [
     "hide_cell"
    ]
   },
   "outputs": [],
   "source": [
    "import numpy as np\n",
    "import matplotlib.pyplot as plt\n",
    "def density(p_20, t):\n",
    "    if 20 <= t <= 115:\n",
    "        p = p_20\n",
    "    elif 115 < t <= 200:\n",
    "        p = p_20 * (1-0.02*(t-115)/85)\n",
    "    elif 200 < t <= 400:\n",
    "        p = p_20 * (0.98 - 0.03*(t-200)/200)     \n",
    "    elif 400 < t <= 1200:\n",
    "        p = p_20 * (0.95 - 0.07*(t-400)/800)\n",
    "    return p\n",
    "\n",
    "def conductivity(t, how='upper'):\n",
    "    if how == 'upper':\n",
    "        k = 2-0.2451 * (t / 100) + 0.0107 * (t / 100)**2\n",
    "    elif how == 'lower':\n",
    "        k = 1.36 -0.136 * (t / 100) + 0.0057 *(t / 100)**2\n",
    "    return k\n",
    "\n",
    "def specific_heat(t, humidity=0):\n",
    "    if 20 <= t <= 100:\n",
    "        cp = 900\n",
    "    elif 100 < t <= 200:\n",
    "        if humidity == 0:\n",
    "            cp = 900 + (t - 100)\n",
    "        elif humidity == 1.5:\n",
    "            if t <= 115:\n",
    "                cp = 1470\n",
    "            elif t > 115:\n",
    "                cp = 1470 + (1000-1470)/(200-115)*(t-115)\n",
    "        elif humidity == 3.0:\n",
    "            if t <= 115:\n",
    "                cp = 2020\n",
    "            elif t > 115:\n",
    "                cp = 2020 + (1000-2020)/(200-115)*(t-115)\n",
    "    elif 200 < t <= 400:\n",
    "        cp = 1000 + (t - 200) / 2\n",
    "    elif 400 < t <= 1200:\n",
    "        cp = 1100\n",
    "    return cp/1000\n",
    " \n",
    "temp_array = np.arange(20, 1200,1)\n",
    "density_array = [density(2400, t) for t in temp_array]\n",
    "conductivity_upper_array = [conductivity(t, how='upper') for t in temp_array]\n",
    "conductivity_lower_array = [conductivity(t, how='lower') for t in temp_array]\n",
    "specific_heat_array_0 = [specific_heat(t, humidity=0.0) for t in temp_array]\n",
    "specific_heat_array_15 = [specific_heat(t, humidity=1.5) for t in temp_array]\n",
    "specific_heat_array_30 = [specific_heat(t, humidity=3.0) for t in temp_array]\n",
    "\n",
    "plt.plot(temp_array, specific_heat_array_0, color='black', label=\"humidity 0%\")\n",
    "plt.plot(temp_array, specific_heat_array_15, color='black', linestyle='--', label=\"humidity 1.5%\")\n",
    "plt.plot(temp_array, specific_heat_array_30, color='black', linestyle=':', label=\"humidity 3%\")\n",
    "plt.xlabel(\"Temperature / $^\\circ C$\")\n",
    "plt.ylabel(\"Specific Heat / $kJ~/~kg~K$\")\n",
    "plt.legend(loc='best')\n",
    "plt.grid(True, linestyle='--', alpha=0.5)\n",
    "plt.savefig(\"figs/specific_heat_capacity.svg\")\n",
    "plt.close()\n",
    "\n",
    "plt.plot(temp_array, conductivity_upper_array, color='black', label=\"upper limit\")\n",
    "plt.plot(temp_array, conductivity_lower_array, color='black', linestyle='--', label=\"lower limit\")\n",
    "plt.xlabel(\"Temperature / $^\\circ C$\")\n",
    "plt.ylabel(\"Conductivity / $W~/~m~K$\")\n",
    "plt.legend(loc='best')\n",
    "plt.grid(True, linestyle='--', alpha=0.5)\n",
    "plt.savefig(\"figs/conductivity.svg\")\n",
    "plt.close()\n",
    "\n",
    "plt.plot(temp_array, density_array, color='black')\n",
    "plt.xlabel(\"Temperature / $^\\circ C$\")\n",
    "plt.ylabel(\"Density / $kg~/~m^3$\")\n",
    "plt.grid(True, linestyle='--', alpha=0.5)\n",
    "plt.savefig(\"figs/density.svg\")\n",
    "plt.close()"
   ]
  },
  {
   "cell_type": "markdown",
   "id": "d294c974-bcd8-46e7-9498-64402e308872",
   "metadata": {
    "tags": []
   },
   "source": [
    "## Task 3\n",
    "\n",
    "The assumption of constant thermal material properties is a simplification that often is sufficiently accurate. In some cases, however, it may be necessary to consider the actual temperature-dependent properties of a material or component. This can be done in FDS by defining a RAMP function, which describes a material parameter as a function of temperature (see section 11.3.2 [FDS User's Guide](https://github.com/firemodels/fds/releases/download/FDS6.7.5/FDS_User_Guide.pdf)).\n",
    "\n",
    "Figure {numref}`heat-transfer-density` - {numref}`heat-transfer-conductivity` shows the temperature-dependent relationships for the specific heat capacity, thermal conductivity and density of concrete according to DIN EN 1992-1-2.\n",
    "\n",
    "```{note}\n",
    "In FDS only the `SPECIFIC_HEAT` and `CONDUCTIVITY` can be ramped while `DENSITY` and `EMISSIVITY` cannot. Unlike the fractional specification, such as in the definition of the HRR curve, the material properties are defined as absolute values in the `RAMP` function.\n",
    "```\n",
    "\n",
    "**Tasks**\n",
    "\n",
    "1. At 20°C, read the values from {numref}`heat-transfer-density` - {numref}`heat-transfer-conductivity` and define a new material \"concrete\" with the corresponding material properties. Define another material taking into account the variable material properties. Therefore roughly map the corresponding progression curves using a RAMP function (max. 7 datapoints each). Assign the two materials to \"SURF_1\"  and \"SURF_2\" in the FDS file. \n",
    "2. Run the simulation for 600 s and compare the `WALL TEMPERATURE` for both surfaces as well as the `INSIDE WALL TEMPERATURE` at d = 10 mm. Assume the wall to have a thickness of 10 cm. Assume a humidity of 3 %. For the conductivity consider the upper limit.\n",
    ":::{figure-md} heat-transfer-namelist-dependencies-ramp\n",
    "\n",
    "<img src=\"figs/flow_chart_ramp.svg\" width=\"70%\">\n",
    "\n",
    "Namelist dependencies `MATL` (material) and `RAMP` (ramp function)\n",
    ":::\n",
    "\n",
    ":::{figure-md} heat-transfer-density\n",
    "\n",
    "<img src=\"figs/density.svg\" width=\"80%\">\n",
    "\n",
    "Density of concrete as a function of temperature\n",
    ":::\n",
    "\n",
    "\n",
    ":::{figure-md} heat-transfer-specific-heat-capacity\n",
    "\n",
    "<img src=\"figs/specific_heat_capacity.svg\" width=\"80%\">\n",
    "\n",
    "Specific heat of concrete with quartz-containing additive as a function of temperature\n",
    ":::\n",
    "\n",
    ":::{figure-md} heat-transfer-conductivity\n",
    "\n",
    "<img src=\"figs/conductivity.svg\" width=\"80%\">\n",
    "\n",
    "Thermal conductivity of concrete\n",
    ":::\n",
    "\n",
    "**1. and 2. Solution**"
   ]
  },
  {
   "cell_type": "code",
   "execution_count": 7,
   "id": "e284f6e3-865a-4a56-b6f4-8d7bb11cdcf5",
   "metadata": {
    "tags": [
     "hide_cell"
    ]
   },
   "outputs": [],
   "source": [
    "data_root = root + 'data/heat_transfer/HeatTransfer_3'\n",
    "sim = fdsreader.Simulation(data_root)\n",
    "time = sim.devices['Time'].data\n",
    "\n",
    "concrete_1_surf = sim.devices['Concrete_1_surf'].data\n",
    "concrete_2_surf = sim.devices['Concrete_2_surf'].data\n",
    "concrete_1_ins = sim.devices['Concrete_1_ins'].data\n",
    "concrete_2_ins = sim.devices['Concrete_2_ins'].data\n",
    "plt.plot(time, concrete_1_surf, color='blue', label=\"WALL Temp. RAMP MAT\")\n",
    "plt.plot(time, concrete_2_surf, color='red', label=\"WALL Temp. FIXED MAT\")\n",
    "plt.plot(time, concrete_1_ins, color='blue', linestyle='--', label=\"INSIDE WALL Temp. RAMP MAT\")\n",
    "plt.plot(time, concrete_2_ins, color='red', linestyle='--', label=\"INSIDE WALL Temp. FIXED MAT\")\n",
    "plt.grid(axis='x', linestyle='--', alpha=0.5)\n",
    "plt.xlabel(\"Time / s\")\n",
    "plt.ylabel(\"Temperature / $\\circ^C$\")\n",
    "plt.grid(axis='y', linestyle='--', alpha=0.5)\n",
    "plt.legend(loc='best')\n",
    "plt.savefig('figs/mat_prop.svg')\n",
    "plt.close()"
   ]
  },
  {
   "cell_type": "markdown",
   "id": "ea7c476f-03a3-41fe-91f4-98b44d850ac3",
   "metadata": {},
   "source": [
    ":::{figure-md} heat-transfer-ramp-mat-prop\n",
    "\n",
    "<img src=\"figs/mat_prop.svg\" width=\"80%\">\n",
    "\n",
    "`WALL TEMPERATURE` and `INSIDE WALL TEMPERATURE` of concrete `SURF` with fixed and temperature dependent material properties "
   ]
  },
  {
   "cell_type": "code",
   "execution_count": null,
   "id": "f28c23ca-36a3-4bc3-922a-63e5f6283e2a",
   "metadata": {},
   "outputs": [],
   "source": []
  }
 ],
 "metadata": {
  "kernelspec": {
   "display_name": "Python 3",
   "language": "python",
   "name": "python3"
  },
  "language_info": {
   "codemirror_mode": {
    "name": "ipython",
    "version": 3
   },
   "file_extension": ".py",
   "mimetype": "text/x-python",
   "name": "python",
   "nbconvert_exporter": "python",
   "pygments_lexer": "ipython3",
   "version": "3.8.5"
  }
 },
 "nbformat": 4,
 "nbformat_minor": 5
}
