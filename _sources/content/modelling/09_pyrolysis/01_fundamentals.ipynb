{
 "cells": [
  {
   "cell_type": "markdown",
   "id": "6356862e",
   "metadata": {},
   "source": [
    "# Fundamentals\n",
    "\n",
    "As stated in section 1.1, pyrolysis describes the emission of gases from the solid material. It is the thermal decomposition of materials under inert atmosphere. Whereby thermal decomposition is defined as a process of extesive chemical species change caused by heat. The gases released from the solid may afterwards react with oxygen, this reaction is not part of the pyrolysis. \n",
    "\n",
    "\n",
    "## Studying pyrolysis with the TGA\n",
    "\n",
    "A thermogravimetric analyser (TGA) is often used to study pyrolysis. In a tga the mass of the sample is so small (usually between $\\mf 5~mg$ to $\\mf 10~mg$) that it is assumed that heat and mass transfer can be neglected. A picture of a tga device can be seen in  {numref}`fig-pyrolysis-TGA`.\n",
    "\n",
    ":::{figure-md} fig-pyrolysis-TGA\n",
    "\n",
    "<img src=\"figs/TGA.jpg\" width=\"50%\">\n",
    "\n",
    "TGA\n",
    ":::\n",
    "\n",
    "In a TGA a small amount of sample mass is placed in a crucible. This crucible is placed in the TGA. During the measurement the device will heat with a specified heating rate (e.g. $\\mf 5~K/min$), while the mass loss of the sample is measured. This can be done under different atmospheres, typically experiments are done either under inert atmosphere (e.g. nitrogen or argon) or under synthetic air. The measurement will give the mass loss as function of time. This can be used to determine the massloss rate as function of temperature, which can be used to determine the kinetic parameters of the material. \n",
    "\n",
    "\n",
    ":::{figure-md} fig-pyrolysis-TGA_1\n",
    "\n",
    "<img src=\"figs/TGA1.PNG\" width=\"60%\">\n",
    "\n",
    "Mass loss curve from TGA data.\n",
    ":::\n",
    "\n",
    ":::{figure-md} fig-pyrolysis-TGA_2\n",
    "\n",
    "<img src=\"figs/TGA2.PNG\" width=\"60%\">\n",
    "\n",
    "Mass loss rate curve from TGA data\n",
    ":::"
   ]
  },
  {
   "cell_type": "markdown",
   "id": "bd9641bc",
   "metadata": {},
   "source": [
    "## Arrhenius equation \n",
    "\n",
    "To describe a pyrolysis process Arrhenius equations are usually used. Suppose an amount of one specific material (X) is completly converted to gaseous fuel with one reaction. This pyrolysis reaction can than be described by a rate equation and the Arrhenius equation:\n",
    "\n",
    "$$\\mf \\frac{dX}{dt} = - kX^n$$\n",
    "\n",
    "$$\\mf k = A e^{\\frac{-E_a}{RT}}$$\n",
    "\n",
    "where $\\mf k$ is the rate constant and $\\mf X$ is the amount of material that takes part in the reaction. The kinetic parameters are \n",
    "* $\\mf E_a$: activation energy\n",
    "* $\\mf A$: pre-exponential factor\n",
    "* $\\mf n$: reaction order\n",
    "\n"
   ]
  },
  {
   "cell_type": "markdown",
   "id": "58d4f616",
   "metadata": {},
   "source": [
    "##  Modeling with FDS \n",
    "\n",
    "There are several ways to model pyrolysis in fds. The simplest way is to specify the heat release rate. In this case the pyrolising sample will be modeled as ejection of gaseous fuel from the surface. \n",
    "\n",
    "However fds, also allows for more complex pyrolysis modelling. Every material described in the fds input file can undergo multiple reactions. The amount of reactions should be specified by `N_REACTIONS` for every material. For every single reaction the reaction parameters, the created solid material, the released gas species, and others should be specified in the input file.\n",
    "\n",
    "For each reaction the kinetic parameters need to be specified. The general evolution equation is given by: \n",
    "\n",
    "$$\\mf \\frac{d Y_{s,i}}{d t} = - \\sum^{N_{r,i}}_{j=1} r_{ij} + \\sum^{N_{m}}_{i'=1} \\sum^{N_{r,i'}}_{j=1} \\nu_{s,i'j} r_{i'j} \\;\\;\\;\\;\\; (i' \\neq i) $$\n",
    "\n",
    "$$\\mf r_{ij} = A_{ij}Y_{s,i}^{n_{s,ij}} exp \\left(-\\frac{E_{ij}}{ R T_s} \\right) X_{O_2}^{n_{O_2,ij}}$$\n",
    "\n",
    "$$\\mf Y_{s,i} = \\left( \\frac{\\rho_{s,i}}{\\rho_s(0)}\\right)$$"
   ]
  },
  {
   "cell_type": "markdown",
   "id": "2feb0289",
   "metadata": {},
   "source": [
    "where:\n",
    "* $\\mf r_{ij}$ : rate of reaction at the tempeature T_s of the ith material undergoing the jth reaction\n",
    "* $\\mf \\nu_{s, i'j}$ : yield of production of material i by other reactions\n",
    "* $\\mf \\rho_{s,i}$ : density of the ith matierial of the layer\n",
    "* $\\mf \\rho_s(0)$ : original density of the layer\n",
    "* $\\mf X_{O_2}$ : local oxygen volume fraction\n"
   ]
  },
  {
   "cell_type": "markdown",
   "id": "07136015",
   "metadata": {},
   "source": [
    " "
   ]
  }
 ],
 "metadata": {
  "kernelspec": {
   "display_name": "Python 3",
   "language": "python",
   "name": "python3"
  },
  "language_info": {
   "codemirror_mode": {
    "name": "ipython",
    "version": 3
   },
   "file_extension": ".py",
   "mimetype": "text/x-python",
   "name": "python",
   "nbconvert_exporter": "python",
   "pygments_lexer": "ipython3",
   "version": "3.8.9"
  }
 },
 "nbformat": 4,
 "nbformat_minor": 5
}
